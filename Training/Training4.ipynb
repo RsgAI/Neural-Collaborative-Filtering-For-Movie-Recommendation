{
 "cells": [
  {
   "cell_type": "markdown",
   "metadata": {},
   "source": [
    "# Model will be trained with BinaryLike UnobservedSample Data\n",
    "\n",
    "BinaryLike ObservedOnly dataset contains labeled rows [0, 1] - ['Not Liked', 'Liked'] pairs\n",
    "\n",
    "But also has a small sample of not observed pairs labeled as not liked\n",
    "\n",
    "some researches and scientists consider this as a valid technique \n",
    "\n",
    "(e.g: https://towardsdatascience.com/neural-collaborative-filtering-96cef1009401)\n",
    "\n",
    "But I don't think this is a good approach for recommendation systems\n",
    "\n",
    "For example, if an item that is highly recommended according to the KNN approach is labeled as not liked \n",
    "because it was not observed, the neural network will tend not to recommend this item.\n",
    "\n",
    "Of course, if we consider that the model is only an approximation of ground truth, the method may work.\n",
    "\n",
    "Model will be Trained with this dataset and results will be checked\n",
    "\n",
    "Anyway it is a useful dataset for the recommendation system"
   ]
  },
  {
   "cell_type": "code",
   "execution_count": 1,
   "metadata": {},
   "outputs": [],
   "source": [
    "#Importing libraries\n",
    "import numpy as np\n",
    "import pandas as pd\n",
    "import tensorflow as tf\n",
    "import warnings"
   ]
  },
  {
   "cell_type": "code",
   "execution_count": 2,
   "metadata": {},
   "outputs": [
    {
     "name": "stdout",
     "output_type": "stream",
     "text": [
      "numpy Version: 1.16.5\n",
      "pandas Version: 0.25.1\n",
      "tensorflow Version: 2.0.0\n"
     ]
    }
   ],
   "source": [
    "#Printing library versions\n",
    "print('numpy Version: ' + np.__version__)\n",
    "print('pandas Version: ' + pd.__version__)\n",
    "print('tensorflow Version: ' + tf.__version__)"
   ]
  },
  {
   "cell_type": "code",
   "execution_count": 3,
   "metadata": {},
   "outputs": [
    {
     "name": "stdout",
     "output_type": "stream",
     "text": [
      "/device:GPU:0\n"
     ]
    }
   ],
   "source": [
    "#GPU will be used for training\n",
    "myGPU = tf.test.gpu_device_name()\n",
    "if myGPU:\n",
    "    print(myGPU)\n",
    "else:\n",
    "    print(\"Error\")"
   ]
  },
  {
   "cell_type": "code",
   "execution_count": 4,
   "metadata": {
    "scrolled": false
   },
   "outputs": [
    {
     "data": {
      "text/html": [
       "<div>\n",
       "<style scoped>\n",
       "    .dataframe tbody tr th:only-of-type {\n",
       "        vertical-align: middle;\n",
       "    }\n",
       "\n",
       "    .dataframe tbody tr th {\n",
       "        vertical-align: top;\n",
       "    }\n",
       "\n",
       "    .dataframe thead th {\n",
       "        text-align: right;\n",
       "    }\n",
       "</style>\n",
       "<table border=\"1\" class=\"dataframe\">\n",
       "  <thead>\n",
       "    <tr style=\"text-align: right;\">\n",
       "      <th></th>\n",
       "      <th>UserId</th>\n",
       "      <th>MovieId</th>\n",
       "      <th>Like</th>\n",
       "    </tr>\n",
       "  </thead>\n",
       "  <tbody>\n",
       "    <tr>\n",
       "      <td>0</td>\n",
       "      <td>6741</td>\n",
       "      <td>2320</td>\n",
       "      <td>1</td>\n",
       "    </tr>\n",
       "    <tr>\n",
       "      <td>1</td>\n",
       "      <td>129</td>\n",
       "      <td>777</td>\n",
       "      <td>0</td>\n",
       "    </tr>\n",
       "    <tr>\n",
       "      <td>2</td>\n",
       "      <td>5175</td>\n",
       "      <td>8304</td>\n",
       "      <td>1</td>\n",
       "    </tr>\n",
       "    <tr>\n",
       "      <td>3</td>\n",
       "      <td>1133</td>\n",
       "      <td>1334</td>\n",
       "      <td>1</td>\n",
       "    </tr>\n",
       "    <tr>\n",
       "      <td>4</td>\n",
       "      <td>8109</td>\n",
       "      <td>2270</td>\n",
       "      <td>1</td>\n",
       "    </tr>\n",
       "    <tr>\n",
       "      <td>...</td>\n",
       "      <td>...</td>\n",
       "      <td>...</td>\n",
       "      <td>...</td>\n",
       "    </tr>\n",
       "    <tr>\n",
       "      <td>760748</td>\n",
       "      <td>2386</td>\n",
       "      <td>168</td>\n",
       "      <td>1</td>\n",
       "    </tr>\n",
       "    <tr>\n",
       "      <td>760749</td>\n",
       "      <td>696</td>\n",
       "      <td>1784</td>\n",
       "      <td>1</td>\n",
       "    </tr>\n",
       "    <tr>\n",
       "      <td>760750</td>\n",
       "      <td>9237</td>\n",
       "      <td>105</td>\n",
       "      <td>1</td>\n",
       "    </tr>\n",
       "    <tr>\n",
       "      <td>760751</td>\n",
       "      <td>7232</td>\n",
       "      <td>204</td>\n",
       "      <td>1</td>\n",
       "    </tr>\n",
       "    <tr>\n",
       "      <td>760752</td>\n",
       "      <td>3007</td>\n",
       "      <td>1333</td>\n",
       "      <td>1</td>\n",
       "    </tr>\n",
       "  </tbody>\n",
       "</table>\n",
       "<p>760753 rows × 3 columns</p>\n",
       "</div>"
      ],
      "text/plain": [
       "        UserId  MovieId  Like\n",
       "0         6741     2320     1\n",
       "1          129      777     0\n",
       "2         5175     8304     1\n",
       "3         1133     1334     1\n",
       "4         8109     2270     1\n",
       "...        ...      ...   ...\n",
       "760748    2386      168     1\n",
       "760749     696     1784     1\n",
       "760750    9237      105     1\n",
       "760751    7232      204     1\n",
       "760752    3007     1333     1\n",
       "\n",
       "[760753 rows x 3 columns]"
      ]
     },
     "execution_count": 4,
     "metadata": {},
     "output_type": "execute_result"
    }
   ],
   "source": [
    "#Reading Qualified BinaryLike UnobservedSample training data from pkl file\n",
    "trainingDf = pd.read_pickle(\"../Data/pkl/1M/Qualified/BinaryLike/UnobservedSample/Training.pkl\")\n",
    "trainingDf"
   ]
  },
  {
   "cell_type": "code",
   "execution_count": 5,
   "metadata": {},
   "outputs": [
    {
     "data": {
      "text/plain": [
       "array([6741,  129, 5175, ..., 9237, 7232, 3007])"
      ]
     },
     "execution_count": 5,
     "metadata": {},
     "output_type": "execute_result"
    }
   ],
   "source": [
    "#creating a user array for training input \n",
    "trainingUser = trainingDf[['UserId']].values.astype(np.int32)\n",
    "trainingUser = trainingUser.reshape((trainingUser.shape[0]))\n",
    "trainingUser"
   ]
  },
  {
   "cell_type": "code",
   "execution_count": 6,
   "metadata": {},
   "outputs": [
    {
     "data": {
      "text/plain": [
       "array([2320,  777, 8304, ...,  105,  204, 1333])"
      ]
     },
     "execution_count": 6,
     "metadata": {},
     "output_type": "execute_result"
    }
   ],
   "source": [
    "#creating a movie array for training input \n",
    "trainingMovie = trainingDf[['MovieId']].values.astype(np.int32)\n",
    "trainingMovie = trainingMovie.reshape((trainingMovie.shape[0]))\n",
    "trainingMovie"
   ]
  },
  {
   "cell_type": "code",
   "execution_count": 7,
   "metadata": {},
   "outputs": [
    {
     "data": {
      "text/plain": [
       "[array([6741,  129, 5175, ..., 9237, 7232, 3007]),\n",
       " array([2320,  777, 8304, ...,  105,  204, 1333])]"
      ]
     },
     "execution_count": 7,
     "metadata": {},
     "output_type": "execute_result"
    }
   ],
   "source": [
    "#creating an array for training input \n",
    "trainingX = [trainingUser, trainingMovie]\n",
    "trainingX"
   ]
  },
  {
   "cell_type": "code",
   "execution_count": 8,
   "metadata": {},
   "outputs": [
    {
     "data": {
      "text/plain": [
       "array([1, 0, 1, ..., 1, 1, 1], dtype=int8)"
      ]
     },
     "execution_count": 8,
     "metadata": {},
     "output_type": "execute_result"
    }
   ],
   "source": [
    "#creating an array for training output \n",
    "trainingY = trainingDf[['Like']].values.astype(np.int8)\n",
    "trainingY = trainingY.reshape((trainingY.shape[0]))\n",
    "trainingY"
   ]
  },
  {
   "cell_type": "code",
   "execution_count": 9,
   "metadata": {},
   "outputs": [],
   "source": [
    "#Clearing Memory\n",
    "del trainingDf"
   ]
  },
  {
   "cell_type": "code",
   "execution_count": 10,
   "metadata": {
    "scrolled": true
   },
   "outputs": [
    {
     "data": {
      "text/html": [
       "<div>\n",
       "<style scoped>\n",
       "    .dataframe tbody tr th:only-of-type {\n",
       "        vertical-align: middle;\n",
       "    }\n",
       "\n",
       "    .dataframe tbody tr th {\n",
       "        vertical-align: top;\n",
       "    }\n",
       "\n",
       "    .dataframe thead th {\n",
       "        text-align: right;\n",
       "    }\n",
       "</style>\n",
       "<table border=\"1\" class=\"dataframe\">\n",
       "  <thead>\n",
       "    <tr style=\"text-align: right;\">\n",
       "      <th></th>\n",
       "      <th>UserId</th>\n",
       "      <th>MovieId</th>\n",
       "      <th>Like</th>\n",
       "    </tr>\n",
       "  </thead>\n",
       "  <tbody>\n",
       "    <tr>\n",
       "      <td>0</td>\n",
       "      <td>8039</td>\n",
       "      <td>20761</td>\n",
       "      <td>0</td>\n",
       "    </tr>\n",
       "    <tr>\n",
       "      <td>1</td>\n",
       "      <td>1504</td>\n",
       "      <td>121</td>\n",
       "      <td>1</td>\n",
       "    </tr>\n",
       "    <tr>\n",
       "      <td>2</td>\n",
       "      <td>6126</td>\n",
       "      <td>5947</td>\n",
       "      <td>1</td>\n",
       "    </tr>\n",
       "    <tr>\n",
       "      <td>3</td>\n",
       "      <td>3371</td>\n",
       "      <td>106</td>\n",
       "      <td>1</td>\n",
       "    </tr>\n",
       "    <tr>\n",
       "      <td>4</td>\n",
       "      <td>7280</td>\n",
       "      <td>578</td>\n",
       "      <td>1</td>\n",
       "    </tr>\n",
       "    <tr>\n",
       "      <td>...</td>\n",
       "      <td>...</td>\n",
       "      <td>...</td>\n",
       "      <td>...</td>\n",
       "    </tr>\n",
       "    <tr>\n",
       "      <td>125069</td>\n",
       "      <td>313</td>\n",
       "      <td>885</td>\n",
       "      <td>1</td>\n",
       "    </tr>\n",
       "    <tr>\n",
       "      <td>125070</td>\n",
       "      <td>4108</td>\n",
       "      <td>215</td>\n",
       "      <td>1</td>\n",
       "    </tr>\n",
       "    <tr>\n",
       "      <td>125071</td>\n",
       "      <td>5532</td>\n",
       "      <td>863</td>\n",
       "      <td>1</td>\n",
       "    </tr>\n",
       "    <tr>\n",
       "      <td>125072</td>\n",
       "      <td>4202</td>\n",
       "      <td>4403</td>\n",
       "      <td>1</td>\n",
       "    </tr>\n",
       "    <tr>\n",
       "      <td>125073</td>\n",
       "      <td>8131</td>\n",
       "      <td>190</td>\n",
       "      <td>1</td>\n",
       "    </tr>\n",
       "  </tbody>\n",
       "</table>\n",
       "<p>125074 rows × 3 columns</p>\n",
       "</div>"
      ],
      "text/plain": [
       "        UserId  MovieId  Like\n",
       "0         8039    20761     0\n",
       "1         1504      121     1\n",
       "2         6126     5947     1\n",
       "3         3371      106     1\n",
       "4         7280      578     1\n",
       "...        ...      ...   ...\n",
       "125069     313      885     1\n",
       "125070    4108      215     1\n",
       "125071    5532      863     1\n",
       "125072    4202     4403     1\n",
       "125073    8131      190     1\n",
       "\n",
       "[125074 rows x 3 columns]"
      ]
     },
     "execution_count": 10,
     "metadata": {},
     "output_type": "execute_result"
    }
   ],
   "source": [
    "#Reading Qualified BinaryLike UnobservedSample validation data from pkl file\n",
    "validationDf = pd.read_pickle(\"../Data/pkl/1M/Qualified/BinaryLike/UnobservedSample/Validation.pkl\")\n",
    "validationDf"
   ]
  },
  {
   "cell_type": "code",
   "execution_count": 11,
   "metadata": {},
   "outputs": [
    {
     "data": {
      "text/plain": [
       "array([8039, 1504, 6126, ..., 5532, 4202, 8131])"
      ]
     },
     "execution_count": 11,
     "metadata": {},
     "output_type": "execute_result"
    }
   ],
   "source": [
    "#creating a user array for validation input \n",
    "validationUser = validationDf[['UserId']].values.astype(np.int32)\n",
    "validationUser = validationUser.reshape((validationUser.shape[0]))\n",
    "validationUser"
   ]
  },
  {
   "cell_type": "code",
   "execution_count": 12,
   "metadata": {},
   "outputs": [
    {
     "data": {
      "text/plain": [
       "array([20761,   121,  5947, ...,   863,  4403,   190])"
      ]
     },
     "execution_count": 12,
     "metadata": {},
     "output_type": "execute_result"
    }
   ],
   "source": [
    "#creating a movie array for validation input \n",
    "validationMovie = validationDf[['MovieId']].values.astype(np.int32)\n",
    "validationMovie = validationMovie.reshape((validationMovie.shape[0]))\n",
    "validationMovie"
   ]
  },
  {
   "cell_type": "code",
   "execution_count": 13,
   "metadata": {},
   "outputs": [
    {
     "data": {
      "text/plain": [
       "[array([8039, 1504, 6126, ..., 5532, 4202, 8131]),\n",
       " array([20761,   121,  5947, ...,   863,  4403,   190])]"
      ]
     },
     "execution_count": 13,
     "metadata": {},
     "output_type": "execute_result"
    }
   ],
   "source": [
    "#creating an array for validation input \n",
    "validationX = [validationUser, validationMovie]\n",
    "validationX"
   ]
  },
  {
   "cell_type": "code",
   "execution_count": 14,
   "metadata": {},
   "outputs": [
    {
     "data": {
      "text/plain": [
       "array([0, 1, 1, ..., 1, 1, 1], dtype=int8)"
      ]
     },
     "execution_count": 14,
     "metadata": {},
     "output_type": "execute_result"
    }
   ],
   "source": [
    "#creating an array for validation output \n",
    "validationY = validationDf[['Like']].values.astype(np.int8)\n",
    "validationY = validationY.reshape((validationY.shape[0]))\n",
    "validationY"
   ]
  },
  {
   "cell_type": "code",
   "execution_count": 15,
   "metadata": {},
   "outputs": [],
   "source": [
    "#Clearing Memory\n",
    "del validationDf"
   ]
  },
  {
   "cell_type": "code",
   "execution_count": 16,
   "metadata": {},
   "outputs": [],
   "source": [
    "#Setting model variables\n",
    "userSize = 10073\n",
    "movieSize = 22033\n",
    "latentDimensionMF = 4\n",
    "latentDimensionMLP = 32\n",
    "regMF = 0\n",
    "regMLP = 0.01\n",
    "regDense = 0.01\n",
    "denseActivation = 'relu'"
   ]
  },
  {
   "cell_type": "code",
   "execution_count": 17,
   "metadata": {},
   "outputs": [
    {
     "name": "stdout",
     "output_type": "stream",
     "text": [
      "Model: \"model\"\n",
      "__________________________________________________________________________________________________\n",
      "Layer (type)                    Output Shape         Param #     Connected to                     \n",
      "==================================================================================================\n",
      "userId (InputLayer)             [(None,)]            0                                            \n",
      "__________________________________________________________________________________________________\n",
      "movieId (InputLayer)            [(None,)]            0                                            \n",
      "__________________________________________________________________________________________________\n",
      "userEmbeddingMLP (Embedding)    (None, 32)           322336      userId[0][0]                     \n",
      "__________________________________________________________________________________________________\n",
      "movieEmbeddingMLP (Embedding)   (None, 32)           705056      movieId[0][0]                    \n",
      "__________________________________________________________________________________________________\n",
      "flatten_2 (Flatten)             (None, 32)           0           userEmbeddingMLP[0][0]           \n",
      "__________________________________________________________________________________________________\n",
      "flatten_3 (Flatten)             (None, 32)           0           movieEmbeddingMLP[0][0]          \n",
      "__________________________________________________________________________________________________\n",
      "userEmbeddingMF (Embedding)     (None, 4)            40292       userId[0][0]                     \n",
      "__________________________________________________________________________________________________\n",
      "movieEmbeddingMF (Embedding)    (None, 4)            88132       movieId[0][0]                    \n",
      "__________________________________________________________________________________________________\n",
      "concatenate (Concatenate)       (None, 64)           0           flatten_2[0][0]                  \n",
      "                                                                 flatten_3[0][0]                  \n",
      "__________________________________________________________________________________________________\n",
      "flatten (Flatten)               (None, 4)            0           userEmbeddingMF[0][0]            \n",
      "__________________________________________________________________________________________________\n",
      "flatten_1 (Flatten)             (None, 4)            0           movieEmbeddingMF[0][0]           \n",
      "__________________________________________________________________________________________________\n",
      "Dense1 (Dense)                  (None, 32)           2080        concatenate[0][0]                \n",
      "__________________________________________________________________________________________________\n",
      "multiply (Multiply)             (None, 4)            0           flatten[0][0]                    \n",
      "                                                                 flatten_1[0][0]                  \n",
      "__________________________________________________________________________________________________\n",
      "Dense2 (Dense)                  (None, 16)           528         Dense1[0][0]                     \n",
      "__________________________________________________________________________________________________\n",
      "concatenate_1 (Concatenate)     (None, 20)           0           multiply[0][0]                   \n",
      "                                                                 Dense2[0][0]                     \n",
      "__________________________________________________________________________________________________\n",
      "Like (Dense)                    (None, 1)            21          concatenate_1[0][0]              \n",
      "==================================================================================================\n",
      "Total params: 1,158,445\n",
      "Trainable params: 1,158,445\n",
      "Non-trainable params: 0\n",
      "__________________________________________________________________________________________________\n"
     ]
    }
   ],
   "source": [
    "#Creating Neural Collaborative Filtering(NCF) model\n",
    "\n",
    "#This Neural matrix factorization model based on https://arxiv.org/pdf/1708.05031.pdf\n",
    "#As a result of the researches, it was determined as the most useful architecture\n",
    "#This architecture will be trained with different data types and explanations will be made on the results. \n",
    "\n",
    "\n",
    "# input layer\n",
    "userInput = tf.keras.layers.Input(shape = (), dtype = \"int32\", name = \"userId\")\n",
    "movieInput = tf.keras.layers.Input(shape = (), dtype = \"int32\", name = \"movieId\")\n",
    "\n",
    "# embedding layers\n",
    "userEmbeddingMF = tf.keras.layers.Embedding(\n",
    "    input_dim = userSize,\n",
    "    output_dim = latentDimensionMF,\n",
    "    name = 'userEmbeddingMF',\n",
    "    embeddings_initializer = 'he_normal',\n",
    "    embeddings_regularizer = tf.keras.regularizers.l2(regMF),\n",
    "    input_length = 1,\n",
    ")\n",
    "movieEmbeddingMF = tf.keras.layers.Embedding(\n",
    "    input_dim = movieSize,\n",
    "    output_dim = latentDimensionMF,\n",
    "    name = \"movieEmbeddingMF\",\n",
    "    embeddings_initializer = \"he_normal\",\n",
    "    embeddings_regularizer = tf.keras.regularizers.l2(regMF),\n",
    "    input_length = 1,\n",
    ")\n",
    "\n",
    "userEmbeddingMLP = tf.keras.layers.Embedding(\n",
    "    input_dim = userSize,\n",
    "    output_dim = latentDimensionMLP,\n",
    "    name = \"userEmbeddingMLP\",\n",
    "    embeddings_initializer = \"he_normal\",\n",
    "    embeddings_regularizer = tf.keras.regularizers.l2(regMLP),\n",
    "    input_length = 1,\n",
    ")\n",
    "movieEmbeddingMLP = tf.keras.layers.Embedding(\n",
    "    input_dim = movieSize,\n",
    "    output_dim = latentDimensionMLP,\n",
    "    name=\"movieEmbeddingMLP\",\n",
    "    embeddings_initializer = \"he_normal\",\n",
    "    embeddings_regularizer = tf.keras.regularizers.l2(regMLP),\n",
    "    input_length = 1,\n",
    ")\n",
    "\n",
    "# MF vector\n",
    "userLatentMF = tf.keras.layers.Flatten()(userEmbeddingMF(userInput))\n",
    "movieLatentMF = tf.keras.layers.Flatten()(movieEmbeddingMF(movieInput))\n",
    "catLatentMF = tf.keras.layers.Multiply()([userLatentMF, movieLatentMF])\n",
    "\n",
    "# MLP vector\n",
    "userLatentMLP = tf.keras.layers.Flatten()(userEmbeddingMLP(userInput))\n",
    "movieLatentMLP = tf.keras.layers.Flatten()(movieEmbeddingMLP(movieInput))\n",
    "catLatentMLP = tf.keras.layers.Concatenate()([userLatentMLP, movieLatentMLP])\n",
    "\n",
    "vectorMLP = catLatentMLP\n",
    "\n",
    "layer = tf.keras.layers.Dense(\n",
    "    32,\n",
    "    activity_regularizer = tf.keras.regularizers.l2(regDense),\n",
    "    activation = denseActivation,\n",
    "    name = 'Dense1'\n",
    ")\n",
    "\n",
    "vectorMLP = layer(vectorMLP)\n",
    "\n",
    "layer = tf.keras.layers.Dense(\n",
    "    16,\n",
    "    activity_regularizer = tf.keras.regularizers.l2(regDense),\n",
    "    activation = denseActivation,\n",
    "    name = 'Dense2'\n",
    ")\n",
    "\n",
    "vectorMLP = layer(vectorMLP)\n",
    "\n",
    "predictLayer = tf.keras.layers.Concatenate()([catLatentMF, vectorMLP])\n",
    "\n",
    "result = tf.keras.layers.Dense(1, activation=\"sigmoid\", kernel_initializer=\"lecun_uniform\", name=\"Like\")\n",
    "\n",
    "output = result(predictLayer)\n",
    "\n",
    "model = tf.keras.models.Model(inputs = [userInput, movieInput], outputs = [output])\n",
    "\n",
    "model.summary()"
   ]
  },
  {
   "cell_type": "code",
   "execution_count": 18,
   "metadata": {},
   "outputs": [],
   "source": [
    "#Compile model\n",
    "#Since the dataset has 2 label [0, 1] - ['Not Liked', 'Liked'] binary crossentropy function will be used as loss function\n",
    "model.compile(\n",
    "    optimizer = tf.keras.optimizers.Adam(),\n",
    "    loss=\"binary_crossentropy\",\n",
    "    metrics=[\n",
    "        tf.keras.metrics.TruePositives(name=\"tp\"),\n",
    "        tf.keras.metrics.FalsePositives(name=\"fp\"),\n",
    "        tf.keras.metrics.TrueNegatives(name=\"tn\"),\n",
    "        tf.keras.metrics.FalseNegatives(name=\"fn\"),\n",
    "        tf.keras.metrics.BinaryAccuracy(name=\"accuracy\")\n",
    "    ])"
   ]
  },
  {
   "cell_type": "code",
   "execution_count": 19,
   "metadata": {},
   "outputs": [],
   "source": [
    "#Defining CallBack class for save model\n",
    "class ModelSaver(tf.keras.callbacks.Callback):\n",
    "    def on_epoch_end(self, epoch, logs={}):\n",
    "        #calculation based on epoch + 1 Due to first epoch starts at 0\n",
    "        if (epoch + 1) % 3 == 0:\n",
    "            self.model.save(\"../Model/UnobservedSampleModel/Model{}.h5\".format(epoch + 1))"
   ]
  },
  {
   "cell_type": "code",
   "execution_count": 20,
   "metadata": {},
   "outputs": [
    {
     "name": "stdout",
     "output_type": "stream",
     "text": [
      "Train on 760753 samples, validate on 125074 samples\n",
      "Epoch 1/12\n",
      "760753/760753 [==============================] - 208s 274us/sample - loss: 0.4923 - tp: 606067.0000 - fp: 125650.0000 - tn: 18950.0000 - fn: 10086.0000 - accuracy: 0.8216 - val_loss: 0.4255 - val_tp: 99683.0000 - val_fp: 18515.0000 - val_tn: 4623.0000 - val_fn: 2253.0000 - val_accuracy: 0.8340\n",
      "Epoch 2/12\n",
      "760753/760753 [==============================] - 256s 336us/sample - loss: 0.3976 - tp: 596713.0000 - fp: 102178.0000 - tn: 42422.0000 - fn: 19440.0000 - accuracy: 0.8401 - val_loss: 0.4115 - val_tp: 97760.0000 - val_fp: 15845.0000 - val_tn: 7293.0000 - val_fn: 4176.0000 - val_accuracy: 0.8399\n",
      "Epoch 3/12\n",
      "760753/760753 [==============================] - 255s 335us/sample - loss: 0.3764 - tp: 592246.0000 - fp: 86548.0000 - tn: 58052.0000 - fn: 23907.0000 - accuracy: 0.8548 - val_loss: 0.4204 - val_tp: 97396.0000 - val_fp: 15412.0000 - val_tn: 7726.0000 - val_fn: 4540.0000 - val_accuracy: 0.8405\n",
      "Epoch 4/12\n",
      "760753/760753 [==============================] - 257s 338us/sample - loss: 0.3663 - tp: 590754.0000 - fp: 80389.0000 - tn: 64211.0000 - fn: 25399.0000 - accuracy: 0.8609 - val_loss: 0.3976 - val_tp: 96474.0000 - val_fp: 14465.0000 - val_tn: 8673.0000 - val_fn: 5462.0000 - val_accuracy: 0.8407\n",
      "Epoch 5/12\n",
      "760753/760753 [==============================] - 257s 338us/sample - loss: 0.3569 - tp: 590530.0000 - fp: 77842.0000 - tn: 66758.0000 - fn: 25623.0000 - accuracy: 0.8640 - val_loss: 0.4108 - val_tp: 96255.0000 - val_fp: 14281.0000 - val_tn: 8857.0000 - val_fn: 5681.0000 - val_accuracy: 0.8404\n",
      "Epoch 6/12\n",
      "760753/760753 [==============================] - 258s 339us/sample - loss: 0.3437 - tp: 590620.0000 - fp: 76655.0000 - tn: 67945.0000 - fn: 25533.0000 - accuracy: 0.8657 - val_loss: 0.3851 - val_tp: 96009.0000 - val_fp: 14225.0000 - val_tn: 8913.0000 - val_fn: 5927.0000 - val_accuracy: 0.8389\n",
      "Epoch 7/12\n",
      "760753/760753 [==============================] - 258s 339us/sample - loss: 0.3259 - tp: 590648.0000 - fp: 75844.0000 - tn: 68756.0000 - fn: 25505.0000 - accuracy: 0.8668 - val_loss: 0.3810 - val_tp: 96226.0000 - val_fp: 14382.0000 - val_tn: 8756.0000 - val_fn: 5710.0000 - val_accuracy: 0.8394\n",
      "Epoch 8/12\n",
      "760753/760753 [==============================] - 258s 339us/sample - loss: 0.3178 - tp: 591154.0000 - fp: 75237.0000 - tn: 69363.0000 - fn: 24999.0000 - accuracy: 0.8682 - val_loss: 0.3926 - val_tp: 96316.0000 - val_fp: 14405.0000 - val_tn: 8733.0000 - val_fn: 5620.0000 - val_accuracy: 0.8399\n",
      "Epoch 9/12\n",
      "760753/760753 [==============================] - 258s 340us/sample - loss: 0.3142 - tp: 591228.0000 - fp: 74560.0000 - tn: 70040.0000 - fn: 24925.0000 - accuracy: 0.8692 - val_loss: 0.3830 - val_tp: 96041.0000 - val_fp: 14202.0000 - val_tn: 8936.0000 - val_fn: 5895.0000 - val_accuracy: 0.8393\n",
      "Epoch 10/12\n",
      "760753/760753 [==============================] - 258s 340us/sample - loss: 0.3112 - tp: 591292.0000 - fp: 74254.0000 - tn: 70346.0000 - fn: 24861.0000 - accuracy: 0.8697 - val_loss: 0.3836 - val_tp: 95979.0000 - val_fp: 14139.0000 - val_tn: 8999.0000 - val_fn: 5957.0000 - val_accuracy: 0.8393 - tp: 581897.0000 - fp: 73068.0000 - tn: 69301.0000 - fn: 2447 - ETA: 2s - loss: 0.3112 - tp: 585679.0000 - fp: 73549.0000 - tn: 69744.00\n",
      "Epoch 11/12\n",
      "760753/760753 [==============================] - 259s 341us/sample - loss: 0.3098 - tp: 591404.0000 - fp: 73794.0000 - tn: 70806.0000 - fn: 24749.0000 - accuracy: 0.8705 - val_loss: 0.4056 - val_tp: 95331.0000 - val_fp: 13656.0000 - val_tn: 9482.0000 - val_fn: 6605.0000 - val_accuracy: 0.8380\n",
      "Epoch 12/12\n",
      "760753/760753 [==============================] - 259s 341us/sample - loss: 0.3075 - tp: 591502.0000 - fp: 73677.0000 - tn: 70923.0000 - fn: 24651.0000 - accuracy: 0.8707 - val_loss: 0.3847 - val_tp: 95779.0000 - val_fp: 13986.0000 - val_tn: 9152.0000 - val_fn: 6157.0000 - val_accuracy: 0.8390\n"
     ]
    }
   ],
   "source": [
    "#ignore warnings due to Converting sparse IndexedSlices to a dense Tensor of unknown shape warning\n",
    "warnings.filterwarnings('ignore')\n",
    "\n",
    "#Fit the model\n",
    "#This dataset categorized as liked movies and not liked movies\n",
    "#Our dataset contains observed pairs and sample of unobserved pairs labeled as not like\n",
    "#I dont think BinaryLike UnobservedSample dataset as good as BinaryLike ObservedOnly \n",
    "#But it is usefull for recommendation systems anyway\n",
    "with tf.device('/GPU:0'):\n",
    "    trainingHistory = model.fit(\n",
    "        x = trainingX,\n",
    "        y = trainingY,\n",
    "        batch_size = 64,\n",
    "        shuffle = True,\n",
    "        callbacks=[ModelSaver()],\n",
    "        epochs = 12,\n",
    "        verbose = 1,\n",
    "        validation_data = (validationX, validationY),\n",
    "    )"
   ]
  },
  {
   "cell_type": "code",
   "execution_count": 21,
   "metadata": {},
   "outputs": [
    {
     "data": {
      "text/plain": [
       "{'loss': [0.49232647174534677,\n",
       "  0.39762891259167854,\n",
       "  0.37639177611769825,\n",
       "  0.36626618959353474,\n",
       "  0.35686241214217285,\n",
       "  0.34371944539983873,\n",
       "  0.32586827231764465,\n",
       "  0.317803298554391,\n",
       "  0.3142482790129761,\n",
       "  0.31122686519957143,\n",
       "  0.3098397913599018,\n",
       "  0.30753230578690477],\n",
       " 'tp': [606067.0,\n",
       "  596713.0,\n",
       "  592246.0,\n",
       "  590754.0,\n",
       "  590530.0,\n",
       "  590620.0,\n",
       "  590648.0,\n",
       "  591154.0,\n",
       "  591228.0,\n",
       "  591292.0,\n",
       "  591404.0,\n",
       "  591502.0],\n",
       " 'fp': [125650.0,\n",
       "  102178.0,\n",
       "  86548.0,\n",
       "  80389.0,\n",
       "  77842.0,\n",
       "  76655.0,\n",
       "  75844.0,\n",
       "  75237.0,\n",
       "  74560.0,\n",
       "  74254.0,\n",
       "  73794.0,\n",
       "  73677.0],\n",
       " 'tn': [18950.0,\n",
       "  42422.0,\n",
       "  58052.0,\n",
       "  64211.0,\n",
       "  66758.0,\n",
       "  67945.0,\n",
       "  68756.0,\n",
       "  69363.0,\n",
       "  70040.0,\n",
       "  70346.0,\n",
       "  70806.0,\n",
       "  70923.0],\n",
       " 'fn': [10086.0,\n",
       "  19440.0,\n",
       "  23907.0,\n",
       "  25399.0,\n",
       "  25623.0,\n",
       "  25533.0,\n",
       "  25505.0,\n",
       "  24999.0,\n",
       "  24925.0,\n",
       "  24861.0,\n",
       "  24749.0,\n",
       "  24651.0],\n",
       " 'accuracy': [0.8215768,\n",
       "  0.8401347,\n",
       "  0.85480833,\n",
       "  0.860943,\n",
       "  0.86399657,\n",
       "  0.8656752,\n",
       "  0.8667781,\n",
       "  0.8682411,\n",
       "  0.86922824,\n",
       "  0.8697146,\n",
       "  0.8704665,\n",
       "  0.8707491],\n",
       " 'val_loss': [0.4254854496651898,\n",
       "  0.41147465174855835,\n",
       "  0.42041273445469035,\n",
       "  0.39761828192315024,\n",
       "  0.4107905388434081,\n",
       "  0.3850714097375737,\n",
       "  0.3810422401978015,\n",
       "  0.392596154145033,\n",
       "  0.382978468080667,\n",
       "  0.383643534933333,\n",
       "  0.40557146609560535,\n",
       "  0.38471072836158005],\n",
       " 'val_tp': [99683.0,\n",
       "  97760.0,\n",
       "  97396.0,\n",
       "  96474.0,\n",
       "  96255.0,\n",
       "  96009.0,\n",
       "  96226.0,\n",
       "  96316.0,\n",
       "  96041.0,\n",
       "  95979.0,\n",
       "  95331.0,\n",
       "  95779.0],\n",
       " 'val_fp': [18515.0,\n",
       "  15845.0,\n",
       "  15412.0,\n",
       "  14465.0,\n",
       "  14281.0,\n",
       "  14225.0,\n",
       "  14382.0,\n",
       "  14405.0,\n",
       "  14202.0,\n",
       "  14139.0,\n",
       "  13656.0,\n",
       "  13986.0],\n",
       " 'val_tn': [4623.0,\n",
       "  7293.0,\n",
       "  7726.0,\n",
       "  8673.0,\n",
       "  8857.0,\n",
       "  8913.0,\n",
       "  8756.0,\n",
       "  8733.0,\n",
       "  8936.0,\n",
       "  8999.0,\n",
       "  9482.0,\n",
       "  9152.0],\n",
       " 'val_fn': [2253.0,\n",
       "  4176.0,\n",
       "  4540.0,\n",
       "  5462.0,\n",
       "  5681.0,\n",
       "  5927.0,\n",
       "  5710.0,\n",
       "  5620.0,\n",
       "  5895.0,\n",
       "  5957.0,\n",
       "  6605.0,\n",
       "  6157.0],\n",
       " 'val_accuracy': [0.8339543,\n",
       "  0.8399268,\n",
       "  0.8404784,\n",
       "  0.84067833,\n",
       "  0.8403985,\n",
       "  0.8388794,\n",
       "  0.8393591,\n",
       "  0.8398948,\n",
       "  0.8393191,\n",
       "  0.8393271,\n",
       "  0.8380079,\n",
       "  0.83895135]}"
      ]
     },
     "execution_count": 21,
     "metadata": {},
     "output_type": "execute_result"
    }
   ],
   "source": [
    "#Checking Training history data\n",
    "trainingHistory.history"
   ]
  },
  {
   "cell_type": "code",
   "execution_count": 22,
   "metadata": {},
   "outputs": [],
   "source": [
    "#Import pyplot for graphics\n",
    "from matplotlib import pyplot as plt"
   ]
  },
  {
   "cell_type": "code",
   "execution_count": 23,
   "metadata": {},
   "outputs": [
    {
     "data": {
      "image/png": "[encoded data removed]",
      "text/plain": [
       "<Figure size 432x288 with 1 Axes>"
      ]
     },
     "metadata": {
      "needs_background": "light"
     },
     "output_type": "display_data"
    }
   ],
   "source": [
    "#Loss Graph\n",
    "plt.plot(trainingHistory.history['loss'])\n",
    "plt.plot(trainingHistory.history['val_loss'])\n",
    "plt.title('model loss')\n",
    "plt.ylabel('loss')\n",
    "plt.xlabel('epoch')\n",
    "plt.legend(['train', 'val'], loc='upper left')\n",
    "plt.ticklabel_format(useOffset=False)\n",
    "plt.show()"
   ]
  },
  {
   "cell_type": "code",
   "execution_count": 24,
   "metadata": {},
   "outputs": [
    {
     "data": {
      "image/png": "[encoded data removed]",
      "text/plain": [
       "<Figure size 432x288 with 1 Axes>"
      ]
     },
     "metadata": {
      "needs_background": "light"
     },
     "output_type": "display_data"
    }
   ],
   "source": [
    "#Accuracy Graph\n",
    "plt.plot(trainingHistory.history['accuracy'])\n",
    "plt.plot(trainingHistory.history['val_accuracy'])\n",
    "plt.title('model accuracy')\n",
    "plt.ylabel('accuracy')\n",
    "plt.xlabel('epoch')\n",
    "plt.legend(['train', 'val'], loc='upper left')\n",
    "plt.ticklabel_format(useOffset=False)\n",
    "plt.show()"
   ]
  },
  {
   "cell_type": "code",
   "execution_count": 25,
   "metadata": {},
   "outputs": [
    {
     "data": {
      "text/html": [
       "<div>\n",
       "<style scoped>\n",
       "    .dataframe tbody tr th:only-of-type {\n",
       "        vertical-align: middle;\n",
       "    }\n",
       "\n",
       "    .dataframe tbody tr th {\n",
       "        vertical-align: top;\n",
       "    }\n",
       "\n",
       "    .dataframe thead th {\n",
       "        text-align: right;\n",
       "    }\n",
       "</style>\n",
       "<table border=\"1\" class=\"dataframe\">\n",
       "  <thead>\n",
       "    <tr style=\"text-align: right;\">\n",
       "      <th></th>\n",
       "      <th>UserId</th>\n",
       "      <th>MovieId</th>\n",
       "      <th>Like</th>\n",
       "    </tr>\n",
       "  </thead>\n",
       "  <tbody>\n",
       "    <tr>\n",
       "      <td>0</td>\n",
       "      <td>3969</td>\n",
       "      <td>156</td>\n",
       "      <td>1</td>\n",
       "    </tr>\n",
       "    <tr>\n",
       "      <td>1</td>\n",
       "      <td>6121</td>\n",
       "      <td>18850</td>\n",
       "      <td>1</td>\n",
       "    </tr>\n",
       "    <tr>\n",
       "      <td>2</td>\n",
       "      <td>7735</td>\n",
       "      <td>214</td>\n",
       "      <td>1</td>\n",
       "    </tr>\n",
       "    <tr>\n",
       "      <td>3</td>\n",
       "      <td>5553</td>\n",
       "      <td>1387</td>\n",
       "      <td>1</td>\n",
       "    </tr>\n",
       "    <tr>\n",
       "      <td>4</td>\n",
       "      <td>80</td>\n",
       "      <td>2775</td>\n",
       "      <td>0</td>\n",
       "    </tr>\n",
       "    <tr>\n",
       "      <td>...</td>\n",
       "      <td>...</td>\n",
       "      <td>...</td>\n",
       "      <td>...</td>\n",
       "    </tr>\n",
       "    <tr>\n",
       "      <td>125069</td>\n",
       "      <td>3249</td>\n",
       "      <td>15383</td>\n",
       "      <td>0</td>\n",
       "    </tr>\n",
       "    <tr>\n",
       "      <td>125070</td>\n",
       "      <td>5521</td>\n",
       "      <td>123</td>\n",
       "      <td>1</td>\n",
       "    </tr>\n",
       "    <tr>\n",
       "      <td>125071</td>\n",
       "      <td>6506</td>\n",
       "      <td>10906</td>\n",
       "      <td>1</td>\n",
       "    </tr>\n",
       "    <tr>\n",
       "      <td>125072</td>\n",
       "      <td>9290</td>\n",
       "      <td>2456</td>\n",
       "      <td>1</td>\n",
       "    </tr>\n",
       "    <tr>\n",
       "      <td>125073</td>\n",
       "      <td>1131</td>\n",
       "      <td>7020</td>\n",
       "      <td>1</td>\n",
       "    </tr>\n",
       "  </tbody>\n",
       "</table>\n",
       "<p>125074 rows × 3 columns</p>\n",
       "</div>"
      ],
      "text/plain": [
       "        UserId  MovieId  Like\n",
       "0         3969      156     1\n",
       "1         6121    18850     1\n",
       "2         7735      214     1\n",
       "3         5553     1387     1\n",
       "4           80     2775     0\n",
       "...        ...      ...   ...\n",
       "125069    3249    15383     0\n",
       "125070    5521      123     1\n",
       "125071    6506    10906     1\n",
       "125072    9290     2456     1\n",
       "125073    1131     7020     1\n",
       "\n",
       "[125074 rows x 3 columns]"
      ]
     },
     "execution_count": 25,
     "metadata": {},
     "output_type": "execute_result"
    }
   ],
   "source": [
    "#Reading Qualified BinaryLike UnobservedSample test data from pkl file\n",
    "testDf = pd.read_pickle(\"../Data/pkl/1M/Qualified/BinaryLike/UnobservedSample/Test.pkl\")\n",
    "testDf"
   ]
  },
  {
   "cell_type": "code",
   "execution_count": 26,
   "metadata": {},
   "outputs": [
    {
     "data": {
      "text/plain": [
       "array([3969, 6121, 7735, ..., 6506, 9290, 1131])"
      ]
     },
     "execution_count": 26,
     "metadata": {},
     "output_type": "execute_result"
    }
   ],
   "source": [
    "#creating a user array for test input \n",
    "testUser = testDf[['UserId']].values.astype(np.int32)\n",
    "testUser = testUser.reshape((testUser.shape[0]))\n",
    "testUser"
   ]
  },
  {
   "cell_type": "code",
   "execution_count": 27,
   "metadata": {},
   "outputs": [
    {
     "data": {
      "text/plain": [
       "array([  156, 18850,   214, ..., 10906,  2456,  7020])"
      ]
     },
     "execution_count": 27,
     "metadata": {},
     "output_type": "execute_result"
    }
   ],
   "source": [
    "#creating a movie array for test input \n",
    "testMovie = testDf[['MovieId']].values.astype(np.int32)\n",
    "testMovie = testMovie.reshape((testMovie.shape[0]))\n",
    "testMovie"
   ]
  },
  {
   "cell_type": "code",
   "execution_count": 28,
   "metadata": {},
   "outputs": [
    {
     "data": {
      "text/plain": [
       "[array([3969, 6121, 7735, ..., 6506, 9290, 1131]),\n",
       " array([  156, 18850,   214, ..., 10906,  2456,  7020])]"
      ]
     },
     "execution_count": 28,
     "metadata": {},
     "output_type": "execute_result"
    }
   ],
   "source": [
    "#creating an array for test input \n",
    "testX = [testUser, testMovie]\n",
    "testX"
   ]
  },
  {
   "cell_type": "code",
   "execution_count": 29,
   "metadata": {},
   "outputs": [
    {
     "data": {
      "text/plain": [
       "array([1, 1, 1, ..., 1, 1, 1], dtype=int8)"
      ]
     },
     "execution_count": 29,
     "metadata": {},
     "output_type": "execute_result"
    }
   ],
   "source": [
    "#creating an array for test output \n",
    "testY = testDf[['Like']].values.astype(np.int8)\n",
    "testY = testY.reshape((testY.shape[0]))\n",
    "testY"
   ]
  },
  {
   "cell_type": "code",
   "execution_count": 30,
   "metadata": {},
   "outputs": [],
   "source": [
    "#Clearing Memory\n",
    "del testDf"
   ]
  },
  {
   "cell_type": "code",
   "execution_count": 31,
   "metadata": {},
   "outputs": [],
   "source": [
    "#Model evaluating with test values\n",
    "testResult = model.evaluate(x = testX, y = testY, batch_size = 64, verbose = 0)"
   ]
  },
  {
   "cell_type": "code",
   "execution_count": 32,
   "metadata": {},
   "outputs": [
    {
     "data": {
      "text/plain": [
       "[0.3868436587438811, 95422.0, 14206.0, 9234.0, 6212.0, 0.83675265]"
      ]
     },
     "execution_count": 32,
     "metadata": {},
     "output_type": "execute_result"
    }
   ],
   "source": [
    "#Print testResult\n",
    "testResult"
   ]
  },
  {
   "cell_type": "code",
   "execution_count": 33,
   "metadata": {},
   "outputs": [
    {
     "name": "stdout",
     "output_type": "stream",
     "text": [
      "Test Loss: 0.3868436587438811\n"
     ]
    }
   ],
   "source": [
    "#Print Test Loss\n",
    "print('Test Loss: ' + str(testResult[0]))"
   ]
  },
  {
   "cell_type": "code",
   "execution_count": 34,
   "metadata": {},
   "outputs": [
    {
     "name": "stdout",
     "output_type": "stream",
     "text": [
      "Test Accuracy: 0.83675265\n"
     ]
    }
   ],
   "source": [
    "#Print Test Accuracy\n",
    "print('Test Accuracy: ' + str(testResult[5]))"
   ]
  },
  {
   "cell_type": "code",
   "execution_count": 35,
   "metadata": {},
   "outputs": [
    {
     "data": {
      "image/png": "[encoded data removed]",
      "text/plain": [
       "<Figure size 432x288 with 2 Axes>"
      ]
     },
     "metadata": {
      "needs_background": "light"
     },
     "output_type": "display_data"
    }
   ],
   "source": [
    "#Confusion Matrix\n",
    "#[tp][fp]\n",
    "#[fn][tn]\n",
    "cm = [[testResult[1], testResult[2]],\n",
    "      [testResult[4], testResult[3]]]\n",
    "\n",
    "plt.xlabel('x axis')\n",
    "plt.ylabel('y axis')\n",
    "\n",
    "im = plt.imshow(cm,cmap=plt.cm.RdBu)\n",
    "\n",
    "plt.colorbar(im)\n",
    "plt.show()"
   ]
  },
  {
   "cell_type": "code",
   "execution_count": 36,
   "metadata": {},
   "outputs": [],
   "source": [
    "#When the metric graphs are examined, it is seen that the best model is reached between the 6th and 9th epochs.\n",
    "#After the 6th epoch, the amount of performance does not seem to change much.\n",
    "#So the model in the 6th epoch is determined as the best model.\n",
    "\n",
    "#Model6 Loading from h5 file\n",
    "model = tf.keras.models.load_model(\"../Model/UnobservedSampleModel/Model6.h5\")"
   ]
  },
  {
   "cell_type": "code",
   "execution_count": 37,
   "metadata": {},
   "outputs": [],
   "source": [
    "#Best Model evaluating with test values\n",
    "testResult = model.evaluate(x = testX, y = testY, batch_size = 64, verbose = 0)"
   ]
  },
  {
   "cell_type": "code",
   "execution_count": 38,
   "metadata": {},
   "outputs": [
    {
     "data": {
      "text/plain": [
       "[0.38754332537419417, 95670.0, 14416.0, 9024.0, 5964.0, 0.83705646]"
      ]
     },
     "execution_count": 38,
     "metadata": {},
     "output_type": "execute_result"
    }
   ],
   "source": [
    "#Print testResult for Best Model\n",
    "testResult"
   ]
  },
  {
   "cell_type": "code",
   "execution_count": 39,
   "metadata": {},
   "outputs": [
    {
     "name": "stdout",
     "output_type": "stream",
     "text": [
      "Test Loss: 0.38754332537419417\n"
     ]
    }
   ],
   "source": [
    "#Print Test Loss for Best Model\n",
    "print('Test Loss: ' + str(testResult[0]))"
   ]
  },
  {
   "cell_type": "code",
   "execution_count": 40,
   "metadata": {},
   "outputs": [
    {
     "name": "stdout",
     "output_type": "stream",
     "text": [
      "Test Accuracy: 0.83705646\n"
     ]
    }
   ],
   "source": [
    "#Print Test Accuracy for Best Model\n",
    "print('Test Accuracy: ' + str(testResult[5]))"
   ]
  },
  {
   "cell_type": "code",
   "execution_count": 41,
   "metadata": {},
   "outputs": [
    {
     "data": {
      "image/png": "[encoded data removed]",
      "text/plain": [
       "<Figure size 432x288 with 2 Axes>"
      ]
     },
     "metadata": {
      "needs_background": "light"
     },
     "output_type": "display_data"
    }
   ],
   "source": [
    "#Confusion Matrix for Best Model\n",
    "#[tp][fp]\n",
    "#[fn][tn]\n",
    "cm = [[testResult[1], testResult[2]],\n",
    "      [testResult[4], testResult[3]]]\n",
    "\n",
    "plt.xlabel('x axis')\n",
    "plt.ylabel('y axis')\n",
    "\n",
    "im = plt.imshow(cm,cmap=plt.cm.RdBu)\n",
    "\n",
    "plt.colorbar(im)\n",
    "plt.show()"
   ]
  },
  {
   "cell_type": "markdown",
   "metadata": {},
   "source": [
    "# Analysing Result\n",
    "\n",
    "As can be seen above, the performance of the model obtained at the end of the training and the 6th model that chosen as the best model on the test data is almost equal\n",
    "\n",
    "In this case, it is pointless to train the model further after the 6th epoch\n",
    "\n",
    "Result look good\n",
    "\n",
    "Dataset is usefull for recommendation system\n",
    "\n",
    "Despite this, confusion matrix shows that there is difference between positive and negative sample sizes\n",
    "\n",
    "Producing a positive result reduces the value of the model's loss function\n",
    "\n",
    "Therefore, the model tends to produce positive results\n",
    "\n",
    "As seen in the confusion matrix [tp] > [fp] > [tn] > [fn] this means model tends to produce positive result\n",
    "\n",
    "But still this trained model is valuable"
   ]
  }
 ],
 "metadata": {
  "kernelspec": {
   "display_name": "Python 3",
   "language": "python",
   "name": "python3"
  },
  "language_info": {
   "codemirror_mode": {
    "name": "ipython",
    "version": 3
   },
   "file_extension": ".py",
   "mimetype": "text/x-python",
   "name": "python",
   "nbconvert_exporter": "python",
   "pygments_lexer": "ipython3",
   "version": "3.7.4"
  }
 },
 "nbformat": 4,
 "nbformat_minor": 2
}
