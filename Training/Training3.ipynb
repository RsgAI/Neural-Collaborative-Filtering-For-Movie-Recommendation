{
 "cells": [
  {
   "cell_type": "markdown",
   "metadata": {},
   "source": [
    "# Model will be trained with BinaryLike ObservedOnly Data\n",
    "\n",
    "BinaryLike ObservedOnly dataset contains labeled rows [0, 1] - ['Not Liked', 'Liked'] pairs \n",
    "\n",
    "Since BinaryLike ObservedOnly dataset provides a valid criterion for like\n",
    "\n",
    "It is a useful dataset for the recommendation system"
   ]
  },
  {
   "cell_type": "code",
   "execution_count": 1,
   "metadata": {},
   "outputs": [],
   "source": [
    "#Importing libraries\n",
    "import numpy as np\n",
    "import pandas as pd\n",
    "import tensorflow as tf\n",
    "import warnings"
   ]
  },
  {
   "cell_type": "code",
   "execution_count": 2,
   "metadata": {},
   "outputs": [
    {
     "name": "stdout",
     "output_type": "stream",
     "text": [
      "numpy Version: 1.16.5\n",
      "pandas Version: 0.25.1\n",
      "tensorflow Version: 2.0.0\n"
     ]
    }
   ],
   "source": [
    "#Printing library versions\n",
    "print('numpy Version: ' + np.__version__)\n",
    "print('pandas Version: ' + pd.__version__)\n",
    "print('tensorflow Version: ' + tf.__version__)"
   ]
  },
  {
   "cell_type": "code",
   "execution_count": 3,
   "metadata": {},
   "outputs": [
    {
     "name": "stdout",
     "output_type": "stream",
     "text": [
      "/device:GPU:0\n"
     ]
    }
   ],
   "source": [
    "#GPU will be used for training\n",
    "myGPU = tf.test.gpu_device_name()\n",
    "if myGPU:\n",
    "    print(myGPU)\n",
    "else:\n",
    "    print(\"Error\")"
   ]
  },
  {
   "cell_type": "code",
   "execution_count": 4,
   "metadata": {
    "scrolled": false
   },
   "outputs": [
    {
     "data": {
      "text/html": [
       "<div>\n",
       "<style scoped>\n",
       "    .dataframe tbody tr th:only-of-type {\n",
       "        vertical-align: middle;\n",
       "    }\n",
       "\n",
       "    .dataframe tbody tr th {\n",
       "        vertical-align: top;\n",
       "    }\n",
       "\n",
       "    .dataframe thead th {\n",
       "        text-align: right;\n",
       "    }\n",
       "</style>\n",
       "<table border=\"1\" class=\"dataframe\">\n",
       "  <thead>\n",
       "    <tr style=\"text-align: right;\">\n",
       "      <th></th>\n",
       "      <th>UserId</th>\n",
       "      <th>MovieId</th>\n",
       "      <th>Like</th>\n",
       "    </tr>\n",
       "  </thead>\n",
       "  <tbody>\n",
       "    <tr>\n",
       "      <td>0</td>\n",
       "      <td>30</td>\n",
       "      <td>882</td>\n",
       "      <td>1</td>\n",
       "    </tr>\n",
       "    <tr>\n",
       "      <td>1</td>\n",
       "      <td>2836</td>\n",
       "      <td>119</td>\n",
       "      <td>1</td>\n",
       "    </tr>\n",
       "    <tr>\n",
       "      <td>2</td>\n",
       "      <td>6380</td>\n",
       "      <td>1230</td>\n",
       "      <td>0</td>\n",
       "    </tr>\n",
       "    <tr>\n",
       "      <td>3</td>\n",
       "      <td>9569</td>\n",
       "      <td>1646</td>\n",
       "      <td>1</td>\n",
       "    </tr>\n",
       "    <tr>\n",
       "      <td>4</td>\n",
       "      <td>5301</td>\n",
       "      <td>797</td>\n",
       "      <td>1</td>\n",
       "    </tr>\n",
       "    <tr>\n",
       "      <td>...</td>\n",
       "      <td>...</td>\n",
       "      <td>...</td>\n",
       "      <td>...</td>\n",
       "    </tr>\n",
       "    <tr>\n",
       "      <td>753549</td>\n",
       "      <td>9027</td>\n",
       "      <td>1666</td>\n",
       "      <td>0</td>\n",
       "    </tr>\n",
       "    <tr>\n",
       "      <td>753550</td>\n",
       "      <td>1694</td>\n",
       "      <td>88</td>\n",
       "      <td>1</td>\n",
       "    </tr>\n",
       "    <tr>\n",
       "      <td>753551</td>\n",
       "      <td>8853</td>\n",
       "      <td>42</td>\n",
       "      <td>1</td>\n",
       "    </tr>\n",
       "    <tr>\n",
       "      <td>753552</td>\n",
       "      <td>1756</td>\n",
       "      <td>2598</td>\n",
       "      <td>1</td>\n",
       "    </tr>\n",
       "    <tr>\n",
       "      <td>753553</td>\n",
       "      <td>9135</td>\n",
       "      <td>1834</td>\n",
       "      <td>1</td>\n",
       "    </tr>\n",
       "  </tbody>\n",
       "</table>\n",
       "<p>753554 rows × 3 columns</p>\n",
       "</div>"
      ],
      "text/plain": [
       "        UserId  MovieId  Like\n",
       "0           30      882     1\n",
       "1         2836      119     1\n",
       "2         6380     1230     0\n",
       "3         9569     1646     1\n",
       "4         5301      797     1\n",
       "...        ...      ...   ...\n",
       "753549    9027     1666     0\n",
       "753550    1694       88     1\n",
       "753551    8853       42     1\n",
       "753552    1756     2598     1\n",
       "753553    9135     1834     1\n",
       "\n",
       "[753554 rows x 3 columns]"
      ]
     },
     "execution_count": 4,
     "metadata": {},
     "output_type": "execute_result"
    }
   ],
   "source": [
    "#Reading Qualified BinaryLike ObservedOnly training data from pkl file\n",
    "trainingDf = pd.read_pickle(\"../Data/pkl/1M/Qualified/BinaryLike/ObservedOnly/Training.pkl\")\n",
    "trainingDf"
   ]
  },
  {
   "cell_type": "code",
   "execution_count": 5,
   "metadata": {},
   "outputs": [
    {
     "data": {
      "text/plain": [
       "array([  30, 2836, 6380, ..., 8853, 1756, 9135])"
      ]
     },
     "execution_count": 5,
     "metadata": {},
     "output_type": "execute_result"
    }
   ],
   "source": [
    "#creating a user array for training input \n",
    "trainingUser = trainingDf[['UserId']].values.astype(np.int32)\n",
    "trainingUser = trainingUser.reshape((trainingUser.shape[0]))\n",
    "trainingUser"
   ]
  },
  {
   "cell_type": "code",
   "execution_count": 6,
   "metadata": {},
   "outputs": [
    {
     "data": {
      "text/plain": [
       "array([ 882,  119, 1230, ...,   42, 2598, 1834])"
      ]
     },
     "execution_count": 6,
     "metadata": {},
     "output_type": "execute_result"
    }
   ],
   "source": [
    "#creating a movie array for training input \n",
    "trainingMovie = trainingDf[['MovieId']].values.astype(np.int32)\n",
    "trainingMovie = trainingMovie.reshape((trainingMovie.shape[0]))\n",
    "trainingMovie"
   ]
  },
  {
   "cell_type": "code",
   "execution_count": 7,
   "metadata": {},
   "outputs": [
    {
     "data": {
      "text/plain": [
       "[array([  30, 2836, 6380, ..., 8853, 1756, 9135]),\n",
       " array([ 882,  119, 1230, ...,   42, 2598, 1834])]"
      ]
     },
     "execution_count": 7,
     "metadata": {},
     "output_type": "execute_result"
    }
   ],
   "source": [
    "#creating an array for training input \n",
    "trainingX = [trainingUser, trainingMovie]\n",
    "trainingX"
   ]
  },
  {
   "cell_type": "code",
   "execution_count": 8,
   "metadata": {},
   "outputs": [
    {
     "data": {
      "text/plain": [
       "array([1, 1, 0, ..., 1, 1, 1], dtype=int8)"
      ]
     },
     "execution_count": 8,
     "metadata": {},
     "output_type": "execute_result"
    }
   ],
   "source": [
    "#creating an array for training output \n",
    "trainingY = trainingDf[['Like']].values.astype(np.int8)\n",
    "trainingY = trainingY.reshape((trainingY.shape[0]))\n",
    "trainingY"
   ]
  },
  {
   "cell_type": "code",
   "execution_count": 9,
   "metadata": {},
   "outputs": [],
   "source": [
    "#Clearing Memory\n",
    "del trainingDf"
   ]
  },
  {
   "cell_type": "code",
   "execution_count": 10,
   "metadata": {
    "scrolled": true
   },
   "outputs": [
    {
     "data": {
      "text/html": [
       "<div>\n",
       "<style scoped>\n",
       "    .dataframe tbody tr th:only-of-type {\n",
       "        vertical-align: middle;\n",
       "    }\n",
       "\n",
       "    .dataframe tbody tr th {\n",
       "        vertical-align: top;\n",
       "    }\n",
       "\n",
       "    .dataframe thead th {\n",
       "        text-align: right;\n",
       "    }\n",
       "</style>\n",
       "<table border=\"1\" class=\"dataframe\">\n",
       "  <thead>\n",
       "    <tr style=\"text-align: right;\">\n",
       "      <th></th>\n",
       "      <th>UserId</th>\n",
       "      <th>MovieId</th>\n",
       "      <th>Like</th>\n",
       "    </tr>\n",
       "  </thead>\n",
       "  <tbody>\n",
       "    <tr>\n",
       "      <td>0</td>\n",
       "      <td>2570</td>\n",
       "      <td>197</td>\n",
       "      <td>1</td>\n",
       "    </tr>\n",
       "    <tr>\n",
       "      <td>1</td>\n",
       "      <td>9495</td>\n",
       "      <td>2601</td>\n",
       "      <td>1</td>\n",
       "    </tr>\n",
       "    <tr>\n",
       "      <td>2</td>\n",
       "      <td>4747</td>\n",
       "      <td>658</td>\n",
       "      <td>1</td>\n",
       "    </tr>\n",
       "    <tr>\n",
       "      <td>3</td>\n",
       "      <td>8572</td>\n",
       "      <td>202</td>\n",
       "      <td>0</td>\n",
       "    </tr>\n",
       "    <tr>\n",
       "      <td>4</td>\n",
       "      <td>5334</td>\n",
       "      <td>1178</td>\n",
       "      <td>1</td>\n",
       "    </tr>\n",
       "    <tr>\n",
       "      <td>...</td>\n",
       "      <td>...</td>\n",
       "      <td>...</td>\n",
       "      <td>...</td>\n",
       "    </tr>\n",
       "    <tr>\n",
       "      <td>123664</td>\n",
       "      <td>9721</td>\n",
       "      <td>1914</td>\n",
       "      <td>1</td>\n",
       "    </tr>\n",
       "    <tr>\n",
       "      <td>123665</td>\n",
       "      <td>4293</td>\n",
       "      <td>1472</td>\n",
       "      <td>1</td>\n",
       "    </tr>\n",
       "    <tr>\n",
       "      <td>123666</td>\n",
       "      <td>7198</td>\n",
       "      <td>277</td>\n",
       "      <td>1</td>\n",
       "    </tr>\n",
       "    <tr>\n",
       "      <td>123667</td>\n",
       "      <td>2699</td>\n",
       "      <td>6436</td>\n",
       "      <td>1</td>\n",
       "    </tr>\n",
       "    <tr>\n",
       "      <td>123668</td>\n",
       "      <td>751</td>\n",
       "      <td>285</td>\n",
       "      <td>1</td>\n",
       "    </tr>\n",
       "  </tbody>\n",
       "</table>\n",
       "<p>123669 rows × 3 columns</p>\n",
       "</div>"
      ],
      "text/plain": [
       "        UserId  MovieId  Like\n",
       "0         2570      197     1\n",
       "1         9495     2601     1\n",
       "2         4747      658     1\n",
       "3         8572      202     0\n",
       "4         5334     1178     1\n",
       "...        ...      ...   ...\n",
       "123664    9721     1914     1\n",
       "123665    4293     1472     1\n",
       "123666    7198      277     1\n",
       "123667    2699     6436     1\n",
       "123668     751      285     1\n",
       "\n",
       "[123669 rows x 3 columns]"
      ]
     },
     "execution_count": 10,
     "metadata": {},
     "output_type": "execute_result"
    }
   ],
   "source": [
    "#Reading Qualified BinaryLike ObservedOnly validation data from pkl file\n",
    "validationDf = pd.read_pickle(\"../Data/pkl/1M/Qualified/BinaryLike/ObservedOnly/Validation.pkl\")\n",
    "validationDf"
   ]
  },
  {
   "cell_type": "code",
   "execution_count": 11,
   "metadata": {},
   "outputs": [
    {
     "data": {
      "text/plain": [
       "array([2570, 9495, 4747, ..., 7198, 2699,  751])"
      ]
     },
     "execution_count": 11,
     "metadata": {},
     "output_type": "execute_result"
    }
   ],
   "source": [
    "#creating a user array for validation input \n",
    "validationUser = validationDf[['UserId']].values.astype(np.int32)\n",
    "validationUser = validationUser.reshape((validationUser.shape[0]))\n",
    "validationUser"
   ]
  },
  {
   "cell_type": "code",
   "execution_count": 12,
   "metadata": {},
   "outputs": [
    {
     "data": {
      "text/plain": [
       "array([ 197, 2601,  658, ...,  277, 6436,  285])"
      ]
     },
     "execution_count": 12,
     "metadata": {},
     "output_type": "execute_result"
    }
   ],
   "source": [
    "#creating a movie array for validation input \n",
    "validationMovie = validationDf[['MovieId']].values.astype(np.int32)\n",
    "validationMovie = validationMovie.reshape((validationMovie.shape[0]))\n",
    "validationMovie"
   ]
  },
  {
   "cell_type": "code",
   "execution_count": 13,
   "metadata": {},
   "outputs": [
    {
     "data": {
      "text/plain": [
       "[array([2570, 9495, 4747, ..., 7198, 2699,  751]),\n",
       " array([ 197, 2601,  658, ...,  277, 6436,  285])]"
      ]
     },
     "execution_count": 13,
     "metadata": {},
     "output_type": "execute_result"
    }
   ],
   "source": [
    "#creating an array for validation input \n",
    "validationX = [validationUser, validationMovie]\n",
    "validationX"
   ]
  },
  {
   "cell_type": "code",
   "execution_count": 14,
   "metadata": {},
   "outputs": [
    {
     "data": {
      "text/plain": [
       "array([1, 1, 1, ..., 1, 1, 1], dtype=int8)"
      ]
     },
     "execution_count": 14,
     "metadata": {},
     "output_type": "execute_result"
    }
   ],
   "source": [
    "#creating an array for validation output \n",
    "validationY = validationDf[['Like']].values.astype(np.int8)\n",
    "validationY = validationY.reshape((validationY.shape[0]))\n",
    "validationY"
   ]
  },
  {
   "cell_type": "code",
   "execution_count": 15,
   "metadata": {},
   "outputs": [],
   "source": [
    "#Clearing Memory\n",
    "del validationDf"
   ]
  },
  {
   "cell_type": "code",
   "execution_count": 16,
   "metadata": {},
   "outputs": [],
   "source": [
    "#Setting model variables\n",
    "userSize = 10073\n",
    "movieSize = 22033\n",
    "latentDimensionMF = 4\n",
    "latentDimensionMLP = 32\n",
    "regMF = 0\n",
    "regMLP = 0.01\n",
    "regDense = 0.01\n",
    "denseActivation = 'relu'"
   ]
  },
  {
   "cell_type": "code",
   "execution_count": 17,
   "metadata": {},
   "outputs": [
    {
     "name": "stdout",
     "output_type": "stream",
     "text": [
      "Model: \"model\"\n",
      "__________________________________________________________________________________________________\n",
      "Layer (type)                    Output Shape         Param #     Connected to                     \n",
      "==================================================================================================\n",
      "userId (InputLayer)             [(None,)]            0                                            \n",
      "__________________________________________________________________________________________________\n",
      "movieId (InputLayer)            [(None,)]            0                                            \n",
      "__________________________________________________________________________________________________\n",
      "userEmbeddingMLP (Embedding)    (None, 32)           322336      userId[0][0]                     \n",
      "__________________________________________________________________________________________________\n",
      "movieEmbeddingMLP (Embedding)   (None, 32)           705056      movieId[0][0]                    \n",
      "__________________________________________________________________________________________________\n",
      "flatten_2 (Flatten)             (None, 32)           0           userEmbeddingMLP[0][0]           \n",
      "__________________________________________________________________________________________________\n",
      "flatten_3 (Flatten)             (None, 32)           0           movieEmbeddingMLP[0][0]          \n",
      "__________________________________________________________________________________________________\n",
      "userEmbeddingMF (Embedding)     (None, 4)            40292       userId[0][0]                     \n",
      "__________________________________________________________________________________________________\n",
      "movieEmbeddingMF (Embedding)    (None, 4)            88132       movieId[0][0]                    \n",
      "__________________________________________________________________________________________________\n",
      "concatenate (Concatenate)       (None, 64)           0           flatten_2[0][0]                  \n",
      "                                                                 flatten_3[0][0]                  \n",
      "__________________________________________________________________________________________________\n",
      "flatten (Flatten)               (None, 4)            0           userEmbeddingMF[0][0]            \n",
      "__________________________________________________________________________________________________\n",
      "flatten_1 (Flatten)             (None, 4)            0           movieEmbeddingMF[0][0]           \n",
      "__________________________________________________________________________________________________\n",
      "Dense1 (Dense)                  (None, 32)           2080        concatenate[0][0]                \n",
      "__________________________________________________________________________________________________\n",
      "multiply (Multiply)             (None, 4)            0           flatten[0][0]                    \n",
      "                                                                 flatten_1[0][0]                  \n",
      "__________________________________________________________________________________________________\n",
      "Dense2 (Dense)                  (None, 16)           528         Dense1[0][0]                     \n",
      "__________________________________________________________________________________________________\n",
      "concatenate_1 (Concatenate)     (None, 20)           0           multiply[0][0]                   \n",
      "                                                                 Dense2[0][0]                     \n",
      "__________________________________________________________________________________________________\n",
      "Like (Dense)                    (None, 1)            21          concatenate_1[0][0]              \n",
      "==================================================================================================\n",
      "Total params: 1,158,445\n",
      "Trainable params: 1,158,445\n",
      "Non-trainable params: 0\n",
      "__________________________________________________________________________________________________\n"
     ]
    }
   ],
   "source": [
    "#Creating Neural Collaborative Filtering(NCF) model\n",
    "\n",
    "#This Neural matrix factorization model based on https://arxiv.org/pdf/1708.05031.pdf\n",
    "#As a result of the researches, it was determined as the most useful architecture\n",
    "#This architecture will be trained with different data types and explanations will be made on the results. \n",
    "\n",
    "\n",
    "# input layer\n",
    "userInput = tf.keras.layers.Input(shape = (), dtype = \"int32\", name = \"userId\")\n",
    "movieInput = tf.keras.layers.Input(shape = (), dtype = \"int32\", name = \"movieId\")\n",
    "\n",
    "# embedding layers\n",
    "userEmbeddingMF = tf.keras.layers.Embedding(\n",
    "    input_dim = userSize,\n",
    "    output_dim = latentDimensionMF,\n",
    "    name = 'userEmbeddingMF',\n",
    "    embeddings_initializer = 'he_normal',\n",
    "    embeddings_regularizer = tf.keras.regularizers.l2(regMF),\n",
    "    input_length = 1,\n",
    ")\n",
    "movieEmbeddingMF = tf.keras.layers.Embedding(\n",
    "    input_dim = movieSize,\n",
    "    output_dim = latentDimensionMF,\n",
    "    name = \"movieEmbeddingMF\",\n",
    "    embeddings_initializer = \"he_normal\",\n",
    "    embeddings_regularizer = tf.keras.regularizers.l2(regMF),\n",
    "    input_length = 1,\n",
    ")\n",
    "\n",
    "userEmbeddingMLP = tf.keras.layers.Embedding(\n",
    "    input_dim = userSize,\n",
    "    output_dim = latentDimensionMLP,\n",
    "    name = \"userEmbeddingMLP\",\n",
    "    embeddings_initializer = \"he_normal\",\n",
    "    embeddings_regularizer = tf.keras.regularizers.l2(regMLP),\n",
    "    input_length = 1,\n",
    ")\n",
    "movieEmbeddingMLP = tf.keras.layers.Embedding(\n",
    "    input_dim = movieSize,\n",
    "    output_dim = latentDimensionMLP,\n",
    "    name=\"movieEmbeddingMLP\",\n",
    "    embeddings_initializer = \"he_normal\",\n",
    "    embeddings_regularizer = tf.keras.regularizers.l2(regMLP),\n",
    "    input_length = 1,\n",
    ")\n",
    "\n",
    "# MF vector\n",
    "userLatentMF = tf.keras.layers.Flatten()(userEmbeddingMF(userInput))\n",
    "movieLatentMF = tf.keras.layers.Flatten()(movieEmbeddingMF(movieInput))\n",
    "catLatentMF = tf.keras.layers.Multiply()([userLatentMF, movieLatentMF])\n",
    "\n",
    "# MLP vector\n",
    "userLatentMLP = tf.keras.layers.Flatten()(userEmbeddingMLP(userInput))\n",
    "movieLatentMLP = tf.keras.layers.Flatten()(movieEmbeddingMLP(movieInput))\n",
    "catLatentMLP = tf.keras.layers.Concatenate()([userLatentMLP, movieLatentMLP])\n",
    "\n",
    "vectorMLP = catLatentMLP\n",
    "\n",
    "layer = tf.keras.layers.Dense(\n",
    "    32,\n",
    "    activity_regularizer = tf.keras.regularizers.l2(regDense),\n",
    "    activation = denseActivation,\n",
    "    name = 'Dense1'\n",
    ")\n",
    "\n",
    "vectorMLP = layer(vectorMLP)\n",
    "\n",
    "layer = tf.keras.layers.Dense(\n",
    "    16,\n",
    "    activity_regularizer = tf.keras.regularizers.l2(regDense),\n",
    "    activation = denseActivation,\n",
    "    name = 'Dense2'\n",
    ")\n",
    "\n",
    "vectorMLP = layer(vectorMLP)\n",
    "\n",
    "predictLayer = tf.keras.layers.Concatenate()([catLatentMF, vectorMLP])\n",
    "\n",
    "result = tf.keras.layers.Dense(1, activation=\"sigmoid\", kernel_initializer=\"lecun_uniform\", name=\"Like\")\n",
    "\n",
    "output = result(predictLayer)\n",
    "\n",
    "model = tf.keras.models.Model(inputs = [userInput, movieInput], outputs = [output])\n",
    "\n",
    "model.summary()"
   ]
  },
  {
   "cell_type": "code",
   "execution_count": 18,
   "metadata": {},
   "outputs": [],
   "source": [
    "#Compile model\n",
    "#Since the dataset has 2 label [0, 1] - ['Not Liked', 'Liked'] binary crossentropy function will be used as loss function\n",
    "model.compile(\n",
    "    optimizer = tf.keras.optimizers.Adam(),\n",
    "    loss=\"binary_crossentropy\",\n",
    "    metrics=[\n",
    "        tf.keras.metrics.TruePositives(name=\"tp\"),\n",
    "        tf.keras.metrics.FalsePositives(name=\"fp\"),\n",
    "        tf.keras.metrics.TrueNegatives(name=\"tn\"),\n",
    "        tf.keras.metrics.FalseNegatives(name=\"fn\"),\n",
    "        tf.keras.metrics.BinaryAccuracy(name=\"accuracy\")\n",
    "    ])"
   ]
  },
  {
   "cell_type": "code",
   "execution_count": 19,
   "metadata": {},
   "outputs": [],
   "source": [
    "#Defining CallBack class for save model\n",
    "class ModelSaver(tf.keras.callbacks.Callback):\n",
    "    def on_epoch_end(self, epoch, logs={}):\n",
    "        #calculation based on epoch + 1 Due to first epoch starts at 0\n",
    "        if (epoch + 1) % 3 == 0:\n",
    "            self.model.save(\"../Model/ObservedOnlyModel/Model{}.h5\".format(epoch + 1))"
   ]
  },
  {
   "cell_type": "code",
   "execution_count": 20,
   "metadata": {},
   "outputs": [
    {
     "name": "stdout",
     "output_type": "stream",
     "text": [
      "Train on 753554 samples, validate on 123669 samples\n",
      "Epoch 1/12\n",
      "753554/753554 [==============================] - 253s 335us/sample - loss: 0.4684 - tp: 607295.0000 - fp: 118492.0000 - tn: 18306.0000 - fn: 9461.0000 - accuracy: 0.8302 - val_loss: 0.4112 - val_tp: 99220.0000 - val_fp: 17501.0000 - val_tn: 4664.0000 - val_fn: 2284.0000 - val_accuracy: 0.8400\n",
      "Epoch 2/12\n",
      "753554/753554 [==============================] - 249s 330us/sample - loss: 0.3803 - tp: 598814.0000 - fp: 96542.0000 - tn: 40256.0000 - fn: 17942.0000 - accuracy: 0.8481 - val_loss: 0.3886 - val_tp: 98441.0000 - val_fp: 15946.0000 - val_tn: 6219.0000 - val_fn: 3063.0000 - val_accuracy: 0.8463\n",
      "Epoch 3/12\n",
      "753554/753554 [==============================] - 251s 333us/sample - loss: 0.3524 - tp: 594903.0000 - fp: 84967.0000 - tn: 51831.0000 - fn: 21853.0000 - accuracy: 0.8582 - val_loss: 0.3778 - val_tp: 96976.0000 - val_fp: 14593.0000 - val_tn: 7572.0000 - val_fn: 4528.0000 - val_accuracy: 0.8454\n",
      "Epoch 4/12\n",
      "753554/753554 [==============================] - 253s 335us/sample - loss: 0.3378 - tp: 593724.0000 - fp: 79861.0000 - tn: 56937.0000 - fn: 23032.0000 - accuracy: 0.8635 - val_loss: 0.3790 - val_tp: 96717.0000 - val_fp: 14396.0000 - val_tn: 7769.0000 - val_fn: 4787.0000 - val_accuracy: 0.8449\n",
      "Epoch 5/12\n",
      "753554/753554 [==============================] - 254s 337us/sample - loss: 0.3290 - tp: 593336.0000 - fp: 77510.0000 - tn: 59288.0000 - fn: 23420.0000 - accuracy: 0.8661 - val_loss: 0.3777 - val_tp: 96681.0000 - val_fp: 14472.0000 - val_tn: 7693.0000 - val_fn: 4823.0000 - val_accuracy: 0.8440\n",
      "Epoch 6/12\n",
      "753554/753554 [==============================] - 253s 336us/sample - loss: 0.3234 - tp: 593308.0000 - fp: 76108.0000 - tn: 60690.0000 - fn: 23448.0000 - accuracy: 0.8679 - val_loss: 0.3771 - val_tp: 96051.0000 - val_fp: 13909.0000 - val_tn: 8256.0000 - val_fn: 5453.0000 - val_accuracy: 0.8434: 572838.0000 - fp: 73478.0000 - tn: 58607.0000 - fn: - ETA: 6s - loss: 0.3231 - tp: 577322.0000 - fp: 74052.0000 - tn: 59063.0000 - fn: 22811.0000 - ETA: 5s - loss: 0.3232\n",
      "Epoch 7/12\n",
      "753554/753554 [==============================] - 253s 336us/sample - loss: 0.3175 - tp: 593388.0000 - fp: 75224.0000 - tn: 61574.0000 - fn: 23368.0000 - accuracy: 0.8692 - val_loss: 0.3732 - val_tp: 96353.0000 - val_fp: 14193.0000 - val_tn: 7972.0000 - val_fn: 5151.0000 - val_accuracy: 0.8436 589426.0000 - fp: 74718.0000 - tn: 61138.0000 - fn: 23\n",
      "Epoch 8/12\n",
      "753554/753554 [==============================] - 255s 338us/sample - loss: 0.3111 - tp: 593441.0000 - fp: 74599.0000 - tn: 62199.0000 - fn: 23315.0000 - accuracy: 0.8701 - val_loss: 0.3739 - val_tp: 96148.0000 - val_fp: 14048.0000 - val_tn: 8117.0000 - val_fn: 5356.0000 - val_accuracy: 0.84311126.0000  - ETA: 2s - loss: 0.3111 - tp: 587601.0000 - fp: 73853.0000 - tn: 61629.\n",
      "Epoch 9/12\n",
      "753554/753554 [==============================] - 256s 340us/sample - loss: 0.3087 - tp: 593700.0000 - fp: 74013.0000 - tn: 62785.0000 - fn: 23056.0000 - accuracy: 0.8712 - val_loss: 0.3753 - val_tp: 96258.0000 - val_fp: 14130.0000 - val_tn: 8035.0000 - val_fn: 5246.0000 - val_accuracy: 0.8433\n",
      "Epoch 10/12\n",
      "753554/753554 [==============================] - 255s 339us/sample - loss: 0.3082 - tp: 593573.0000 - fp: 73532.0000 - tn: 63266.0000 - fn: 23183.0000 - accuracy: 0.8717 - val_loss: 0.3799 - val_tp: 96028.0000 - val_fp: 13922.0000 - val_tn: 8243.0000 - val_fn: 5476.0000 - val_accuracy: 0.8431\n",
      "Epoch 11/12\n",
      "753554/753554 [==============================] - 256s 340us/sample - loss: 0.3063 - tp: 593720.0000 - fp: 73206.0000 - tn: 63592.0000 - fn: 23036.0000 - accuracy: 0.8723 - val_loss: 0.3760 - val_tp: 96123.0000 - val_fp: 13970.0000 - val_tn: 8195.0000 - val_fn: 5381.0000 - val_accuracy: 0.8435\n",
      "Epoch 12/12\n",
      "753554/753554 [==============================] - 256s 340us/sample - loss: 0.3045 - tp: 593671.0000 - fp: 72976.0000 - tn: 63822.0000 - fn: 23085.0000 - accuracy: 0.8725 - val_loss: 0.3766 - val_tp: 95915.0000 - val_fp: 13851.0000 - val_tn: 8314.0000 - val_fn: 5589.0000 - val_accuracy: 0.8428\n"
     ]
    }
   ],
   "source": [
    "#ignore warnings due to Converting sparse IndexedSlices to a dense Tensor of unknown shape warning\n",
    "warnings.filterwarnings('ignore')\n",
    "\n",
    "#Fit the model\n",
    "#This dataset categorized as liked movies and not liked movies\n",
    "#Our dataset contains only interacted pairs\n",
    "#Since BinaryLike ObservedOnly dataset provides a valid criterion for like It is a useful dataset for the recommendation system\n",
    "with tf.device('/GPU:0'):\n",
    "    trainingHistory = model.fit(\n",
    "        x = trainingX,\n",
    "        y = trainingY,\n",
    "        batch_size = 64,\n",
    "        shuffle = True,\n",
    "        callbacks=[ModelSaver()],\n",
    "        epochs = 12,\n",
    "        verbose = 1,\n",
    "        validation_data = (validationX, validationY),\n",
    "    )"
   ]
  },
  {
   "cell_type": "code",
   "execution_count": 21,
   "metadata": {},
   "outputs": [
    {
     "data": {
      "text/plain": [
       "{'loss': [0.4684484259639998,\n",
       "  0.3803263645405718,\n",
       "  0.35239988988413806,\n",
       "  0.3378388353650934,\n",
       "  0.3289528313956176,\n",
       "  0.32340299262992817,\n",
       "  0.31752537222857896,\n",
       "  0.3111493999263266,\n",
       "  0.30874846024604297,\n",
       "  0.30818588194131125,\n",
       "  0.30625805159546154,\n",
       "  0.3044532614615324],\n",
       " 'tp': [607295.0,\n",
       "  598814.0,\n",
       "  594903.0,\n",
       "  593724.0,\n",
       "  593336.0,\n",
       "  593308.0,\n",
       "  593388.0,\n",
       "  593441.0,\n",
       "  593700.0,\n",
       "  593573.0,\n",
       "  593720.0,\n",
       "  593671.0],\n",
       " 'fp': [118492.0,\n",
       "  96542.0,\n",
       "  84967.0,\n",
       "  79861.0,\n",
       "  77510.0,\n",
       "  76108.0,\n",
       "  75224.0,\n",
       "  74599.0,\n",
       "  74013.0,\n",
       "  73532.0,\n",
       "  73206.0,\n",
       "  72976.0],\n",
       " 'tn': [18306.0,\n",
       "  40256.0,\n",
       "  51831.0,\n",
       "  56937.0,\n",
       "  59288.0,\n",
       "  60690.0,\n",
       "  61574.0,\n",
       "  62199.0,\n",
       "  62785.0,\n",
       "  63266.0,\n",
       "  63592.0,\n",
       "  63822.0],\n",
       " 'fn': [9461.0,\n",
       "  17942.0,\n",
       "  21853.0,\n",
       "  23032.0,\n",
       "  23420.0,\n",
       "  23448.0,\n",
       "  23368.0,\n",
       "  23315.0,\n",
       "  23056.0,\n",
       "  23183.0,\n",
       "  23036.0,\n",
       "  23085.0],\n",
       " 'accuracy': [0.8302006,\n",
       "  0.8480746,\n",
       "  0.8582451,\n",
       "  0.86345637,\n",
       "  0.86606133,\n",
       "  0.8678847,\n",
       "  0.869164,\n",
       "  0.8700637,\n",
       "  0.87118506,\n",
       "  0.87165487,\n",
       "  0.87228256,\n",
       "  0.8725227],\n",
       " 'val_loss': [0.4111624076881862,\n",
       "  0.3886140861988785,\n",
       "  0.3778040296517007,\n",
       "  0.3790490758820614,\n",
       "  0.37769137090316407,\n",
       "  0.3771415227432252,\n",
       "  0.3731546974889467,\n",
       "  0.3739034832295046,\n",
       "  0.37530371850988337,\n",
       "  0.3799364331830961,\n",
       "  0.37599073015424817,\n",
       "  0.37661292274726477],\n",
       " 'val_tp': [99220.0,\n",
       "  98441.0,\n",
       "  96976.0,\n",
       "  96717.0,\n",
       "  96681.0,\n",
       "  96051.0,\n",
       "  96353.0,\n",
       "  96148.0,\n",
       "  96258.0,\n",
       "  96028.0,\n",
       "  96123.0,\n",
       "  95915.0],\n",
       " 'val_fp': [17501.0,\n",
       "  15946.0,\n",
       "  14593.0,\n",
       "  14396.0,\n",
       "  14472.0,\n",
       "  13909.0,\n",
       "  14193.0,\n",
       "  14048.0,\n",
       "  14130.0,\n",
       "  13922.0,\n",
       "  13970.0,\n",
       "  13851.0],\n",
       " 'val_tn': [4664.0,\n",
       "  6219.0,\n",
       "  7572.0,\n",
       "  7769.0,\n",
       "  7693.0,\n",
       "  8256.0,\n",
       "  7972.0,\n",
       "  8117.0,\n",
       "  8035.0,\n",
       "  8243.0,\n",
       "  8195.0,\n",
       "  8314.0],\n",
       " 'val_fn': [2284.0,\n",
       "  3063.0,\n",
       "  4528.0,\n",
       "  4787.0,\n",
       "  4823.0,\n",
       "  5453.0,\n",
       "  5151.0,\n",
       "  5356.0,\n",
       "  5246.0,\n",
       "  5476.0,\n",
       "  5381.0,\n",
       "  5589.0],\n",
       " 'val_accuracy': [0.8400165,\n",
       "  0.8462913,\n",
       "  0.8453857,\n",
       "  0.84488434,\n",
       "  0.8439787,\n",
       "  0.8434369,\n",
       "  0.84358245,\n",
       "  0.8430973,\n",
       "  0.8433237,\n",
       "  0.8431458,\n",
       "  0.8435259,\n",
       "  0.8428062]}"
      ]
     },
     "execution_count": 21,
     "metadata": {},
     "output_type": "execute_result"
    }
   ],
   "source": [
    "#Checking Training history data\n",
    "trainingHistory.history"
   ]
  },
  {
   "cell_type": "code",
   "execution_count": 22,
   "metadata": {},
   "outputs": [],
   "source": [
    "#Import pyplot for graphics\n",
    "from matplotlib import pyplot as plt"
   ]
  },
  {
   "cell_type": "code",
   "execution_count": 23,
   "metadata": {},
   "outputs": [
    {
     "data": {
      "image/png": "[encoded data removed]",
      "text/plain": [
       "<Figure size 432x288 with 1 Axes>"
      ]
     },
     "metadata": {
      "needs_background": "light"
     },
     "output_type": "display_data"
    }
   ],
   "source": [
    "#Loss Graph\n",
    "plt.plot(trainingHistory.history['loss'])\n",
    "plt.plot(trainingHistory.history['val_loss'])\n",
    "plt.title('model loss')\n",
    "plt.ylabel('loss')\n",
    "plt.xlabel('epoch')\n",
    "plt.legend(['train', 'val'], loc='upper left')\n",
    "plt.ticklabel_format(useOffset=False)\n",
    "plt.show()"
   ]
  },
  {
   "cell_type": "code",
   "execution_count": 24,
   "metadata": {},
   "outputs": [
    {
     "data": {
      "image/png": "[encoded data removed]",
      "text/plain": [
       "<Figure size 432x288 with 1 Axes>"
      ]
     },
     "metadata": {
      "needs_background": "light"
     },
     "output_type": "display_data"
    }
   ],
   "source": [
    "#Accuracy Graph\n",
    "plt.plot(trainingHistory.history['accuracy'])\n",
    "plt.plot(trainingHistory.history['val_accuracy'])\n",
    "plt.title('model accuracy')\n",
    "plt.ylabel('accuracy')\n",
    "plt.xlabel('epoch')\n",
    "plt.legend(['train', 'val'], loc='upper left')\n",
    "plt.ticklabel_format(useOffset=False)\n",
    "plt.show()"
   ]
  },
  {
   "cell_type": "code",
   "execution_count": 25,
   "metadata": {},
   "outputs": [
    {
     "data": {
      "text/html": [
       "<div>\n",
       "<style scoped>\n",
       "    .dataframe tbody tr th:only-of-type {\n",
       "        vertical-align: middle;\n",
       "    }\n",
       "\n",
       "    .dataframe tbody tr th {\n",
       "        vertical-align: top;\n",
       "    }\n",
       "\n",
       "    .dataframe thead th {\n",
       "        text-align: right;\n",
       "    }\n",
       "</style>\n",
       "<table border=\"1\" class=\"dataframe\">\n",
       "  <thead>\n",
       "    <tr style=\"text-align: right;\">\n",
       "      <th></th>\n",
       "      <th>UserId</th>\n",
       "      <th>MovieId</th>\n",
       "      <th>Like</th>\n",
       "    </tr>\n",
       "  </thead>\n",
       "  <tbody>\n",
       "    <tr>\n",
       "      <td>0</td>\n",
       "      <td>8193</td>\n",
       "      <td>163</td>\n",
       "      <td>0</td>\n",
       "    </tr>\n",
       "    <tr>\n",
       "      <td>1</td>\n",
       "      <td>2328</td>\n",
       "      <td>2593</td>\n",
       "      <td>1</td>\n",
       "    </tr>\n",
       "    <tr>\n",
       "      <td>2</td>\n",
       "      <td>457</td>\n",
       "      <td>1796</td>\n",
       "      <td>0</td>\n",
       "    </tr>\n",
       "    <tr>\n",
       "      <td>3</td>\n",
       "      <td>6870</td>\n",
       "      <td>1818</td>\n",
       "      <td>1</td>\n",
       "    </tr>\n",
       "    <tr>\n",
       "      <td>4</td>\n",
       "      <td>600</td>\n",
       "      <td>149</td>\n",
       "      <td>1</td>\n",
       "    </tr>\n",
       "    <tr>\n",
       "      <td>...</td>\n",
       "      <td>...</td>\n",
       "      <td>...</td>\n",
       "      <td>...</td>\n",
       "    </tr>\n",
       "    <tr>\n",
       "      <td>123665</td>\n",
       "      <td>1062</td>\n",
       "      <td>105</td>\n",
       "      <td>1</td>\n",
       "    </tr>\n",
       "    <tr>\n",
       "      <td>123666</td>\n",
       "      <td>3176</td>\n",
       "      <td>2296</td>\n",
       "      <td>1</td>\n",
       "    </tr>\n",
       "    <tr>\n",
       "      <td>123667</td>\n",
       "      <td>7009</td>\n",
       "      <td>376</td>\n",
       "      <td>1</td>\n",
       "    </tr>\n",
       "    <tr>\n",
       "      <td>123668</td>\n",
       "      <td>4864</td>\n",
       "      <td>4898</td>\n",
       "      <td>1</td>\n",
       "    </tr>\n",
       "    <tr>\n",
       "      <td>123669</td>\n",
       "      <td>814</td>\n",
       "      <td>731</td>\n",
       "      <td>1</td>\n",
       "    </tr>\n",
       "  </tbody>\n",
       "</table>\n",
       "<p>123670 rows × 3 columns</p>\n",
       "</div>"
      ],
      "text/plain": [
       "        UserId  MovieId  Like\n",
       "0         8193      163     0\n",
       "1         2328     2593     1\n",
       "2          457     1796     0\n",
       "3         6870     1818     1\n",
       "4          600      149     1\n",
       "...        ...      ...   ...\n",
       "123665    1062      105     1\n",
       "123666    3176     2296     1\n",
       "123667    7009      376     1\n",
       "123668    4864     4898     1\n",
       "123669     814      731     1\n",
       "\n",
       "[123670 rows x 3 columns]"
      ]
     },
     "execution_count": 25,
     "metadata": {},
     "output_type": "execute_result"
    }
   ],
   "source": [
    "#Reading Qualified BinaryLike ObservedOnly test data from pkl file\n",
    "testDf = pd.read_pickle(\"../Data/pkl/1M/Qualified/BinaryLike/ObservedOnly/Test.pkl\")\n",
    "testDf"
   ]
  },
  {
   "cell_type": "code",
   "execution_count": 26,
   "metadata": {},
   "outputs": [
    {
     "data": {
      "text/plain": [
       "array([8193, 2328,  457, ..., 7009, 4864,  814])"
      ]
     },
     "execution_count": 26,
     "metadata": {},
     "output_type": "execute_result"
    }
   ],
   "source": [
    "#creating a user array for test input \n",
    "testUser = testDf[['UserId']].values.astype(np.int32)\n",
    "testUser = testUser.reshape((testUser.shape[0]))\n",
    "testUser"
   ]
  },
  {
   "cell_type": "code",
   "execution_count": 27,
   "metadata": {},
   "outputs": [
    {
     "data": {
      "text/plain": [
       "array([ 163, 2593, 1796, ...,  376, 4898,  731])"
      ]
     },
     "execution_count": 27,
     "metadata": {},
     "output_type": "execute_result"
    }
   ],
   "source": [
    "#creating a movie array for test input \n",
    "testMovie = testDf[['MovieId']].values.astype(np.int32)\n",
    "testMovie = testMovie.reshape((testMovie.shape[0]))\n",
    "testMovie"
   ]
  },
  {
   "cell_type": "code",
   "execution_count": 28,
   "metadata": {},
   "outputs": [
    {
     "data": {
      "text/plain": [
       "[array([8193, 2328,  457, ..., 7009, 4864,  814]),\n",
       " array([ 163, 2593, 1796, ...,  376, 4898,  731])]"
      ]
     },
     "execution_count": 28,
     "metadata": {},
     "output_type": "execute_result"
    }
   ],
   "source": [
    "#creating an array for test input \n",
    "testX = [testUser, testMovie]\n",
    "testX"
   ]
  },
  {
   "cell_type": "code",
   "execution_count": 29,
   "metadata": {},
   "outputs": [
    {
     "data": {
      "text/plain": [
       "array([0, 1, 0, ..., 1, 1, 1], dtype=int8)"
      ]
     },
     "execution_count": 29,
     "metadata": {},
     "output_type": "execute_result"
    }
   ],
   "source": [
    "#creating an array for test output \n",
    "testY = testDf[['Like']].values.astype(np.int8)\n",
    "testY = testY.reshape((testY.shape[0]))\n",
    "testY"
   ]
  },
  {
   "cell_type": "code",
   "execution_count": 30,
   "metadata": {},
   "outputs": [],
   "source": [
    "#Clearing Memory\n",
    "del testDf"
   ]
  },
  {
   "cell_type": "code",
   "execution_count": 31,
   "metadata": {},
   "outputs": [],
   "source": [
    "#Model evaluating with test values\n",
    "testResult = model.evaluate(x = testX, y = testY, batch_size = 64, verbose = 0)"
   ]
  },
  {
   "cell_type": "code",
   "execution_count": 32,
   "metadata": {},
   "outputs": [
    {
     "data": {
      "text/plain": [
       "[0.3754480775688791, 95967.0, 13898.0, 8309.0, 5496.0, 0.8431794]"
      ]
     },
     "execution_count": 32,
     "metadata": {},
     "output_type": "execute_result"
    }
   ],
   "source": [
    "#Print testResult\n",
    "testResult"
   ]
  },
  {
   "cell_type": "code",
   "execution_count": 33,
   "metadata": {},
   "outputs": [
    {
     "name": "stdout",
     "output_type": "stream",
     "text": [
      "Test Loss: 0.3754480775688791\n"
     ]
    }
   ],
   "source": [
    "#Print Test Loss\n",
    "print('Test Loss: ' + str(testResult[0]))"
   ]
  },
  {
   "cell_type": "code",
   "execution_count": 34,
   "metadata": {},
   "outputs": [
    {
     "name": "stdout",
     "output_type": "stream",
     "text": [
      "Test Accuracy: 0.8431794\n"
     ]
    }
   ],
   "source": [
    "#Print Test Accuracy\n",
    "print('Test Accuracy: ' + str(testResult[5]))"
   ]
  },
  {
   "cell_type": "code",
   "execution_count": 35,
   "metadata": {},
   "outputs": [
    {
     "data": {
      "image/png": "[encoded data removed]",
      "text/plain": [
       "<Figure size 432x288 with 2 Axes>"
      ]
     },
     "metadata": {
      "needs_background": "light"
     },
     "output_type": "display_data"
    }
   ],
   "source": [
    "#Confusion Matrix\n",
    "#[tp][fp]\n",
    "#[fn][tn]\n",
    "cm = [[testResult[1], testResult[2]],\n",
    "      [testResult[4], testResult[3]]]\n",
    "\n",
    "plt.xlabel('x axis')\n",
    "plt.ylabel('y axis')\n",
    "\n",
    "im = plt.imshow(cm,cmap=plt.cm.RdBu)\n",
    "\n",
    "plt.colorbar(im)\n",
    "plt.show()"
   ]
  },
  {
   "cell_type": "code",
   "execution_count": 36,
   "metadata": {},
   "outputs": [],
   "source": [
    "#When the metric graphs are examined, it is seen that the best model is reached between the 8th and 12th epochs.\n",
    "#After the 9th epoch, the amount of performance does not seem to change much.\n",
    "#So the model in the 9th epoch is determined as the best model.\n",
    "\n",
    "#Model9 Loading from h5 file\n",
    "model = tf.keras.models.load_model(\"../Model/ObservedOnlyModel/Model9.h5\")"
   ]
  },
  {
   "cell_type": "code",
   "execution_count": 37,
   "metadata": {},
   "outputs": [],
   "source": [
    "#Best Model evaluating with test values\n",
    "testResult = model.evaluate(x = testX, y = testY, batch_size = 64, verbose = 0)"
   ]
  },
  {
   "cell_type": "code",
   "execution_count": 38,
   "metadata": {},
   "outputs": [
    {
     "data": {
      "text/plain": [
       "[0.3741056228624817, 96340.0, 14155.0, 8052.0, 5123.0, 0.8441174]"
      ]
     },
     "execution_count": 38,
     "metadata": {},
     "output_type": "execute_result"
    }
   ],
   "source": [
    "#Print testResult for Best Model\n",
    "testResult"
   ]
  },
  {
   "cell_type": "code",
   "execution_count": 39,
   "metadata": {},
   "outputs": [
    {
     "name": "stdout",
     "output_type": "stream",
     "text": [
      "Test Loss: 0.3741056228624817\n"
     ]
    }
   ],
   "source": [
    "#Print Test Loss for Best Model\n",
    "print('Test Loss: ' + str(testResult[0]))"
   ]
  },
  {
   "cell_type": "code",
   "execution_count": 40,
   "metadata": {},
   "outputs": [
    {
     "name": "stdout",
     "output_type": "stream",
     "text": [
      "Test Accuracy: 0.8441174\n"
     ]
    }
   ],
   "source": [
    "#Print Test Accuracy for Best Model\n",
    "print('Test Accuracy: ' + str(testResult[5]))"
   ]
  },
  {
   "cell_type": "code",
   "execution_count": 41,
   "metadata": {},
   "outputs": [
    {
     "data": {
      "image/png": "[encoded data removed]",
      "text/plain": [
       "<Figure size 432x288 with 2 Axes>"
      ]
     },
     "metadata": {
      "needs_background": "light"
     },
     "output_type": "display_data"
    }
   ],
   "source": [
    "#Confusion Matrix for Best Model\n",
    "#[tp][fp]\n",
    "#[fn][tn]\n",
    "cm = [[testResult[1], testResult[2]],\n",
    "      [testResult[4], testResult[3]]]\n",
    "\n",
    "plt.xlabel('x axis')\n",
    "plt.ylabel('y axis')\n",
    "\n",
    "im = plt.imshow(cm,cmap=plt.cm.RdBu)\n",
    "\n",
    "plt.colorbar(im)\n",
    "plt.show()"
   ]
  },
  {
   "cell_type": "markdown",
   "metadata": {},
   "source": [
    "# Analysing Result\n",
    "\n",
    "As can be seen above, the performance of the model obtained at the end of the training and the 9th model that chosen as the best model on the test data is almost equal\n",
    "\n",
    "In this case, it is pointless to train the model further after the 9th epoch\n",
    "\n",
    "Result look good\n",
    "\n",
    "Dataset is usefull for recommendation system\n",
    "\n",
    "Despite this, confusion matrix shows that there is difference between positive and negative sample sizes\n",
    "\n",
    "Producing a positive result reduces the value of the model's loss function\n",
    "\n",
    "Therefore, the model tends to produce positive results\n",
    "\n",
    "As seen in the confusion matrix [tp] > [fp] > [tn] > [fn] this means model tends to produce positive result\n",
    "\n",
    "But still this trained model is valuable"
   ]
  }
 ],
 "metadata": {
  "kernelspec": {
   "display_name": "Python 3",
   "language": "python",
   "name": "python3"
  },
  "language_info": {
   "codemirror_mode": {
    "name": "ipython",
    "version": 3
   },
   "file_extension": ".py",
   "mimetype": "text/x-python",
   "name": "python",
   "nbconvert_exporter": "python",
   "pygments_lexer": "ipython3",
   "version": "3.7.4"
  }
 },
 "nbformat": 4,
 "nbformat_minor": 2
}
