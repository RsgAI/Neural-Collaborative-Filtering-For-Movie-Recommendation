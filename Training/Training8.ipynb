{
 "cells": [
  {
   "cell_type": "markdown",
   "metadata": {},
   "source": [
    "# Model will be trained with RatingBased UnratedSample Data\n",
    "\n",
    "RatingBased UnratedSample dataset contains continues rating value for each interacted pairs \n",
    "and a small sample of not interacted pairs Rated as 0.0\n",
    "\n",
    "some researches and scientists consider this as a valid technique\n",
    "\n",
    "(e.g: https://towardsdatascience.com/neural-collaborative-filtering-96cef1009401)\n",
    "\n",
    "But I don't think this is a good approach for recommendation systems\n",
    "\n",
    "For example, if an item that is highly recommended according to the KNN approach is Rated as 0.0 because it was not observed, the neural network will tend not to recommend this item.\n",
    "\n",
    "Of course, if we consider that the model is only an approximation of ground truth, the method may work.\n",
    "\n",
    "Model will be Trained with this dataset and results will be checked\n",
    "\n",
    "RatingBased UnratedSample dataset contains continues rating value, this is one of the best criterions for Like\n",
    "\n",
    "Because it contains not only the information whether the movie is liked or not, but also how much it is liked\n",
    "\n",
    "So it is one of the most useful datasets for the recommendation system\n",
    "\n",
    "In this case, the problem turns into a regression problem\n",
    "\n",
    "Therefore, the model to be used will also be converted to a regression model"
   ]
  },
  {
   "cell_type": "code",
   "execution_count": 1,
   "metadata": {},
   "outputs": [],
   "source": [
    "#Importing libraries\n",
    "import numpy as np\n",
    "import pandas as pd\n",
    "import tensorflow as tf\n",
    "import warnings"
   ]
  },
  {
   "cell_type": "code",
   "execution_count": 2,
   "metadata": {},
   "outputs": [
    {
     "name": "stdout",
     "output_type": "stream",
     "text": [
      "numpy Version: 1.16.5\n",
      "pandas Version: 0.25.1\n",
      "tensorflow Version: 2.0.0\n"
     ]
    }
   ],
   "source": [
    "#Printing library versions\n",
    "print('numpy Version: ' + np.__version__)\n",
    "print('pandas Version: ' + pd.__version__)\n",
    "print('tensorflow Version: ' + tf.__version__)"
   ]
  },
  {
   "cell_type": "code",
   "execution_count": 3,
   "metadata": {},
   "outputs": [
    {
     "name": "stdout",
     "output_type": "stream",
     "text": [
      "/device:GPU:0\n"
     ]
    }
   ],
   "source": [
    "#GPU will be used for training\n",
    "myGPU = tf.test.gpu_device_name()\n",
    "if myGPU:\n",
    "    print(myGPU)\n",
    "else:\n",
    "    print(\"Error\")"
   ]
  },
  {
   "cell_type": "code",
   "execution_count": 4,
   "metadata": {
    "scrolled": false
   },
   "outputs": [
    {
     "data": {
      "text/html": [
       "<div>\n",
       "<style scoped>\n",
       "    .dataframe tbody tr th:only-of-type {\n",
       "        vertical-align: middle;\n",
       "    }\n",
       "\n",
       "    .dataframe tbody tr th {\n",
       "        vertical-align: top;\n",
       "    }\n",
       "\n",
       "    .dataframe thead th {\n",
       "        text-align: right;\n",
       "    }\n",
       "</style>\n",
       "<table border=\"1\" class=\"dataframe\">\n",
       "  <thead>\n",
       "    <tr style=\"text-align: right;\">\n",
       "      <th></th>\n",
       "      <th>UserId</th>\n",
       "      <th>MovieId</th>\n",
       "      <th>Rating</th>\n",
       "    </tr>\n",
       "  </thead>\n",
       "  <tbody>\n",
       "    <tr>\n",
       "      <td>0</td>\n",
       "      <td>5567</td>\n",
       "      <td>5871</td>\n",
       "      <td>0.6</td>\n",
       "    </tr>\n",
       "    <tr>\n",
       "      <td>1</td>\n",
       "      <td>8242</td>\n",
       "      <td>9624</td>\n",
       "      <td>0.1</td>\n",
       "    </tr>\n",
       "    <tr>\n",
       "      <td>2</td>\n",
       "      <td>4691</td>\n",
       "      <td>285</td>\n",
       "      <td>0.6</td>\n",
       "    </tr>\n",
       "    <tr>\n",
       "      <td>3</td>\n",
       "      <td>6937</td>\n",
       "      <td>2827</td>\n",
       "      <td>0.6</td>\n",
       "    </tr>\n",
       "    <tr>\n",
       "      <td>4</td>\n",
       "      <td>6948</td>\n",
       "      <td>4235</td>\n",
       "      <td>1.0</td>\n",
       "    </tr>\n",
       "    <tr>\n",
       "      <td>...</td>\n",
       "      <td>...</td>\n",
       "      <td>...</td>\n",
       "      <td>...</td>\n",
       "    </tr>\n",
       "    <tr>\n",
       "      <td>760698</td>\n",
       "      <td>939</td>\n",
       "      <td>838</td>\n",
       "      <td>1.0</td>\n",
       "    </tr>\n",
       "    <tr>\n",
       "      <td>760699</td>\n",
       "      <td>3757</td>\n",
       "      <td>806</td>\n",
       "      <td>0.4</td>\n",
       "    </tr>\n",
       "    <tr>\n",
       "      <td>760700</td>\n",
       "      <td>7723</td>\n",
       "      <td>5315</td>\n",
       "      <td>0.8</td>\n",
       "    </tr>\n",
       "    <tr>\n",
       "      <td>760701</td>\n",
       "      <td>4152</td>\n",
       "      <td>1670</td>\n",
       "      <td>0.8</td>\n",
       "    </tr>\n",
       "    <tr>\n",
       "      <td>760702</td>\n",
       "      <td>3158</td>\n",
       "      <td>247</td>\n",
       "      <td>0.8</td>\n",
       "    </tr>\n",
       "  </tbody>\n",
       "</table>\n",
       "<p>760703 rows × 3 columns</p>\n",
       "</div>"
      ],
      "text/plain": [
       "        UserId  MovieId  Rating\n",
       "0         5567     5871     0.6\n",
       "1         8242     9624     0.1\n",
       "2         4691      285     0.6\n",
       "3         6937     2827     0.6\n",
       "4         6948     4235     1.0\n",
       "...        ...      ...     ...\n",
       "760698     939      838     1.0\n",
       "760699    3757      806     0.4\n",
       "760700    7723     5315     0.8\n",
       "760701    4152     1670     0.8\n",
       "760702    3158      247     0.8\n",
       "\n",
       "[760703 rows x 3 columns]"
      ]
     },
     "execution_count": 4,
     "metadata": {},
     "output_type": "execute_result"
    }
   ],
   "source": [
    "#Reading Qualified RatingBased UnratedSample training data from pkl file\n",
    "trainingDf = pd.read_pickle(\"../Data/pkl/1M/Qualified/RatingBased/UnratedSample/Training.pkl\")\n",
    "trainingDf"
   ]
  },
  {
   "cell_type": "code",
   "execution_count": 5,
   "metadata": {},
   "outputs": [
    {
     "data": {
      "text/plain": [
       "array([5567, 8242, 4691, ..., 7723, 4152, 3158])"
      ]
     },
     "execution_count": 5,
     "metadata": {},
     "output_type": "execute_result"
    }
   ],
   "source": [
    "#creating a user array for training input \n",
    "trainingUser = trainingDf[['UserId']].values.astype(np.int32)\n",
    "trainingUser = trainingUser.reshape((trainingUser.shape[0]))\n",
    "trainingUser"
   ]
  },
  {
   "cell_type": "code",
   "execution_count": 6,
   "metadata": {},
   "outputs": [
    {
     "data": {
      "text/plain": [
       "array([5871, 9624,  285, ..., 5315, 1670,  247])"
      ]
     },
     "execution_count": 6,
     "metadata": {},
     "output_type": "execute_result"
    }
   ],
   "source": [
    "#creating a movie array for training input \n",
    "trainingMovie = trainingDf[['MovieId']].values.astype(np.int32)\n",
    "trainingMovie = trainingMovie.reshape((trainingMovie.shape[0]))\n",
    "trainingMovie"
   ]
  },
  {
   "cell_type": "code",
   "execution_count": 7,
   "metadata": {},
   "outputs": [
    {
     "data": {
      "text/plain": [
       "[array([5567, 8242, 4691, ..., 7723, 4152, 3158]),\n",
       " array([5871, 9624,  285, ..., 5315, 1670,  247])]"
      ]
     },
     "execution_count": 7,
     "metadata": {},
     "output_type": "execute_result"
    }
   ],
   "source": [
    "#creating an array for training input \n",
    "trainingX = [trainingUser, trainingMovie]\n",
    "trainingX"
   ]
  },
  {
   "cell_type": "code",
   "execution_count": 8,
   "metadata": {},
   "outputs": [
    {
     "data": {
      "text/plain": [
       "array([0.6, 0.1, 0.6, ..., 0.8, 0.8, 0.8], dtype=float32)"
      ]
     },
     "execution_count": 8,
     "metadata": {},
     "output_type": "execute_result"
    }
   ],
   "source": [
    "#creating an array for training output \n",
    "trainingY = trainingDf[['Rating']].values.astype(np.float32)\n",
    "trainingY = trainingY.reshape((trainingY.shape[0]))\n",
    "trainingY"
   ]
  },
  {
   "cell_type": "code",
   "execution_count": 9,
   "metadata": {},
   "outputs": [],
   "source": [
    "#Clearing Memory\n",
    "del trainingDf"
   ]
  },
  {
   "cell_type": "code",
   "execution_count": 10,
   "metadata": {
    "scrolled": true
   },
   "outputs": [
    {
     "data": {
      "text/html": [
       "<div>\n",
       "<style scoped>\n",
       "    .dataframe tbody tr th:only-of-type {\n",
       "        vertical-align: middle;\n",
       "    }\n",
       "\n",
       "    .dataframe tbody tr th {\n",
       "        vertical-align: top;\n",
       "    }\n",
       "\n",
       "    .dataframe thead th {\n",
       "        text-align: right;\n",
       "    }\n",
       "</style>\n",
       "<table border=\"1\" class=\"dataframe\">\n",
       "  <thead>\n",
       "    <tr style=\"text-align: right;\">\n",
       "      <th></th>\n",
       "      <th>UserId</th>\n",
       "      <th>MovieId</th>\n",
       "      <th>Rating</th>\n",
       "    </tr>\n",
       "  </thead>\n",
       "  <tbody>\n",
       "    <tr>\n",
       "      <td>0</td>\n",
       "      <td>7411</td>\n",
       "      <td>7484</td>\n",
       "      <td>0.8</td>\n",
       "    </tr>\n",
       "    <tr>\n",
       "      <td>1</td>\n",
       "      <td>2024</td>\n",
       "      <td>6413</td>\n",
       "      <td>0.5</td>\n",
       "    </tr>\n",
       "    <tr>\n",
       "      <td>2</td>\n",
       "      <td>9999</td>\n",
       "      <td>8864</td>\n",
       "      <td>0.8</td>\n",
       "    </tr>\n",
       "    <tr>\n",
       "      <td>3</td>\n",
       "      <td>1522</td>\n",
       "      <td>626</td>\n",
       "      <td>0.7</td>\n",
       "    </tr>\n",
       "    <tr>\n",
       "      <td>4</td>\n",
       "      <td>4208</td>\n",
       "      <td>566</td>\n",
       "      <td>0.9</td>\n",
       "    </tr>\n",
       "    <tr>\n",
       "      <td>...</td>\n",
       "      <td>...</td>\n",
       "      <td>...</td>\n",
       "      <td>...</td>\n",
       "    </tr>\n",
       "    <tr>\n",
       "      <td>125094</td>\n",
       "      <td>3440</td>\n",
       "      <td>224</td>\n",
       "      <td>0.6</td>\n",
       "    </tr>\n",
       "    <tr>\n",
       "      <td>125095</td>\n",
       "      <td>4940</td>\n",
       "      <td>28</td>\n",
       "      <td>0.7</td>\n",
       "    </tr>\n",
       "    <tr>\n",
       "      <td>125096</td>\n",
       "      <td>7697</td>\n",
       "      <td>945</td>\n",
       "      <td>0.8</td>\n",
       "    </tr>\n",
       "    <tr>\n",
       "      <td>125097</td>\n",
       "      <td>4064</td>\n",
       "      <td>139</td>\n",
       "      <td>0.6</td>\n",
       "    </tr>\n",
       "    <tr>\n",
       "      <td>125098</td>\n",
       "      <td>3981</td>\n",
       "      <td>17578</td>\n",
       "      <td>0.0</td>\n",
       "    </tr>\n",
       "  </tbody>\n",
       "</table>\n",
       "<p>125099 rows × 3 columns</p>\n",
       "</div>"
      ],
      "text/plain": [
       "        UserId  MovieId  Rating\n",
       "0         7411     7484     0.8\n",
       "1         2024     6413     0.5\n",
       "2         9999     8864     0.8\n",
       "3         1522      626     0.7\n",
       "4         4208      566     0.9\n",
       "...        ...      ...     ...\n",
       "125094    3440      224     0.6\n",
       "125095    4940       28     0.7\n",
       "125096    7697      945     0.8\n",
       "125097    4064      139     0.6\n",
       "125098    3981    17578     0.0\n",
       "\n",
       "[125099 rows x 3 columns]"
      ]
     },
     "execution_count": 10,
     "metadata": {},
     "output_type": "execute_result"
    }
   ],
   "source": [
    "#Reading Qualified RatingBased UnratedSample validation data from pkl file\n",
    "validationDf = pd.read_pickle(\"../Data/pkl/1M/Qualified/RatingBased/UnratedSample/Validation.pkl\")\n",
    "validationDf"
   ]
  },
  {
   "cell_type": "code",
   "execution_count": 11,
   "metadata": {},
   "outputs": [
    {
     "data": {
      "text/plain": [
       "array([7411, 2024, 9999, ..., 7697, 4064, 3981])"
      ]
     },
     "execution_count": 11,
     "metadata": {},
     "output_type": "execute_result"
    }
   ],
   "source": [
    "#creating a user array for validation input \n",
    "validationUser = validationDf[['UserId']].values.astype(np.int32)\n",
    "validationUser = validationUser.reshape((validationUser.shape[0]))\n",
    "validationUser"
   ]
  },
  {
   "cell_type": "code",
   "execution_count": 12,
   "metadata": {},
   "outputs": [
    {
     "data": {
      "text/plain": [
       "array([ 7484,  6413,  8864, ...,   945,   139, 17578])"
      ]
     },
     "execution_count": 12,
     "metadata": {},
     "output_type": "execute_result"
    }
   ],
   "source": [
    "#creating a movie array for validation input \n",
    "validationMovie = validationDf[['MovieId']].values.astype(np.int32)\n",
    "validationMovie = validationMovie.reshape((validationMovie.shape[0]))\n",
    "validationMovie"
   ]
  },
  {
   "cell_type": "code",
   "execution_count": 13,
   "metadata": {},
   "outputs": [
    {
     "data": {
      "text/plain": [
       "[array([7411, 2024, 9999, ..., 7697, 4064, 3981]),\n",
       " array([ 7484,  6413,  8864, ...,   945,   139, 17578])]"
      ]
     },
     "execution_count": 13,
     "metadata": {},
     "output_type": "execute_result"
    }
   ],
   "source": [
    "#creating an array for validation input \n",
    "validationX = [validationUser, validationMovie]\n",
    "validationX"
   ]
  },
  {
   "cell_type": "code",
   "execution_count": 14,
   "metadata": {},
   "outputs": [
    {
     "data": {
      "text/plain": [
       "array([0.8, 0.5, 0.8, ..., 0.8, 0.6, 0. ], dtype=float32)"
      ]
     },
     "execution_count": 14,
     "metadata": {},
     "output_type": "execute_result"
    }
   ],
   "source": [
    "#creating an array for validation output \n",
    "validationY = validationDf[['Rating']].values.astype(np.float32)\n",
    "validationY = validationY.reshape((validationY.shape[0]))\n",
    "validationY"
   ]
  },
  {
   "cell_type": "code",
   "execution_count": 15,
   "metadata": {},
   "outputs": [],
   "source": [
    "#Clearing Memory\n",
    "del validationDf"
   ]
  },
  {
   "cell_type": "code",
   "execution_count": 16,
   "metadata": {},
   "outputs": [],
   "source": [
    "#Setting model variables\n",
    "userSize = 10073\n",
    "movieSize = 22033\n",
    "latentDimensionMF = 4\n",
    "latentDimensionMLP = 32\n",
    "regMF = 0\n",
    "regMLP = 0.01\n",
    "regDense = 0.01\n",
    "denseActivation = 'relu'"
   ]
  },
  {
   "cell_type": "code",
   "execution_count": 17,
   "metadata": {},
   "outputs": [
    {
     "name": "stdout",
     "output_type": "stream",
     "text": [
      "Model: \"model\"\n",
      "__________________________________________________________________________________________________\n",
      "Layer (type)                    Output Shape         Param #     Connected to                     \n",
      "==================================================================================================\n",
      "userId (InputLayer)             [(None,)]            0                                            \n",
      "__________________________________________________________________________________________________\n",
      "movieId (InputLayer)            [(None,)]            0                                            \n",
      "__________________________________________________________________________________________________\n",
      "userEmbeddingMLP (Embedding)    (None, 32)           322336      userId[0][0]                     \n",
      "__________________________________________________________________________________________________\n",
      "movieEmbeddingMLP (Embedding)   (None, 32)           705056      movieId[0][0]                    \n",
      "__________________________________________________________________________________________________\n",
      "flatten_2 (Flatten)             (None, 32)           0           userEmbeddingMLP[0][0]           \n",
      "__________________________________________________________________________________________________\n",
      "flatten_3 (Flatten)             (None, 32)           0           movieEmbeddingMLP[0][0]          \n",
      "__________________________________________________________________________________________________\n",
      "userEmbeddingMF (Embedding)     (None, 4)            40292       userId[0][0]                     \n",
      "__________________________________________________________________________________________________\n",
      "movieEmbeddingMF (Embedding)    (None, 4)            88132       movieId[0][0]                    \n",
      "__________________________________________________________________________________________________\n",
      "concatenate (Concatenate)       (None, 64)           0           flatten_2[0][0]                  \n",
      "                                                                 flatten_3[0][0]                  \n",
      "__________________________________________________________________________________________________\n",
      "flatten (Flatten)               (None, 4)            0           userEmbeddingMF[0][0]            \n",
      "__________________________________________________________________________________________________\n",
      "flatten_1 (Flatten)             (None, 4)            0           movieEmbeddingMF[0][0]           \n",
      "__________________________________________________________________________________________________\n",
      "Dense1 (Dense)                  (None, 32)           2080        concatenate[0][0]                \n",
      "__________________________________________________________________________________________________\n",
      "multiply (Multiply)             (None, 4)            0           flatten[0][0]                    \n",
      "                                                                 flatten_1[0][0]                  \n",
      "__________________________________________________________________________________________________\n",
      "Dense2 (Dense)                  (None, 16)           528         Dense1[0][0]                     \n",
      "__________________________________________________________________________________________________\n",
      "concatenate_1 (Concatenate)     (None, 20)           0           multiply[0][0]                   \n",
      "                                                                 Dense2[0][0]                     \n",
      "__________________________________________________________________________________________________\n",
      "Like (Dense)                    (None, 1)            21          concatenate_1[0][0]              \n",
      "==================================================================================================\n",
      "Total params: 1,158,445\n",
      "Trainable params: 1,158,445\n",
      "Non-trainable params: 0\n",
      "__________________________________________________________________________________________________\n"
     ]
    }
   ],
   "source": [
    "#Creating Neural Collaborative Filtering(NCF) model\n",
    "\n",
    "#This Neural matrix factorization model based on https://arxiv.org/pdf/1708.05031.pdf\n",
    "#As a result of the researches, it was determined as the most useful architecture\n",
    "#This architecture will be trained with different data types and explanations will be made on the results. \n",
    "\n",
    "\n",
    "# input layer\n",
    "userInput = tf.keras.layers.Input(shape = (), dtype = \"int32\", name = \"userId\")\n",
    "movieInput = tf.keras.layers.Input(shape = (), dtype = \"int32\", name = \"movieId\")\n",
    "\n",
    "# embedding layers\n",
    "userEmbeddingMF = tf.keras.layers.Embedding(\n",
    "    input_dim = userSize,\n",
    "    output_dim = latentDimensionMF,\n",
    "    name = 'userEmbeddingMF',\n",
    "    embeddings_initializer = 'he_normal',\n",
    "    embeddings_regularizer = tf.keras.regularizers.l2(regMF),\n",
    "    input_length = 1,\n",
    ")\n",
    "movieEmbeddingMF = tf.keras.layers.Embedding(\n",
    "    input_dim = movieSize,\n",
    "    output_dim = latentDimensionMF,\n",
    "    name = \"movieEmbeddingMF\",\n",
    "    embeddings_initializer = \"he_normal\",\n",
    "    embeddings_regularizer = tf.keras.regularizers.l2(regMF),\n",
    "    input_length = 1,\n",
    ")\n",
    "\n",
    "userEmbeddingMLP = tf.keras.layers.Embedding(\n",
    "    input_dim = userSize,\n",
    "    output_dim = latentDimensionMLP,\n",
    "    name = \"userEmbeddingMLP\",\n",
    "    embeddings_initializer = \"he_normal\",\n",
    "    embeddings_regularizer = tf.keras.regularizers.l2(regMLP),\n",
    "    input_length = 1,\n",
    ")\n",
    "movieEmbeddingMLP = tf.keras.layers.Embedding(\n",
    "    input_dim = movieSize,\n",
    "    output_dim = latentDimensionMLP,\n",
    "    name=\"movieEmbeddingMLP\",\n",
    "    embeddings_initializer = \"he_normal\",\n",
    "    embeddings_regularizer = tf.keras.regularizers.l2(regMLP),\n",
    "    input_length = 1,\n",
    ")\n",
    "\n",
    "# MF vector\n",
    "userLatentMF = tf.keras.layers.Flatten()(userEmbeddingMF(userInput))\n",
    "movieLatentMF = tf.keras.layers.Flatten()(movieEmbeddingMF(movieInput))\n",
    "catLatentMF = tf.keras.layers.Multiply()([userLatentMF, movieLatentMF])\n",
    "\n",
    "# MLP vector\n",
    "userLatentMLP = tf.keras.layers.Flatten()(userEmbeddingMLP(userInput))\n",
    "movieLatentMLP = tf.keras.layers.Flatten()(movieEmbeddingMLP(movieInput))\n",
    "catLatentMLP = tf.keras.layers.Concatenate()([userLatentMLP, movieLatentMLP])\n",
    "\n",
    "vectorMLP = catLatentMLP\n",
    "\n",
    "layer = tf.keras.layers.Dense(\n",
    "    32,\n",
    "    activity_regularizer = tf.keras.regularizers.l2(regDense),\n",
    "    activation = denseActivation,\n",
    "    name = 'Dense1'\n",
    ")\n",
    "\n",
    "vectorMLP = layer(vectorMLP)\n",
    "\n",
    "layer = tf.keras.layers.Dense(\n",
    "    16,\n",
    "    activity_regularizer = tf.keras.regularizers.l2(regDense),\n",
    "    activation = denseActivation,\n",
    "    name = 'Dense2'\n",
    ")\n",
    "\n",
    "vectorMLP = layer(vectorMLP)\n",
    "\n",
    "predictLayer = tf.keras.layers.Concatenate()([catLatentMF, vectorMLP])\n",
    "\n",
    "result = tf.keras.layers.Dense(1, activation=\"sigmoid\", kernel_initializer=\"lecun_uniform\", name=\"Like\")\n",
    "\n",
    "output = result(predictLayer)\n",
    "\n",
    "model = tf.keras.models.Model(inputs = [userInput, movieInput], outputs = [output])\n",
    "\n",
    "model.summary()"
   ]
  },
  {
   "cell_type": "code",
   "execution_count": 18,
   "metadata": {},
   "outputs": [],
   "source": [
    "#Compile model\n",
    "#Since the dataset has a continuous rating score Mean Squared Error function will be used as loss function\n",
    "#Metrics are also being changed as the problem turns into a regression problem\n",
    "model.compile(\n",
    "    optimizer = tf.keras.optimizers.Adam(),\n",
    "    loss=\"mean_squared_error\",\n",
    "    metrics=[\n",
    "        tf.keras.metrics.MeanSquaredError(name = 'mse'),\n",
    "        tf.keras.metrics.RootMeanSquaredError(name = 'rmse'),\n",
    "        tf.keras.metrics.MeanSquaredLogarithmicError(name = 'msle'),\n",
    "        tf.keras.metrics.MeanAbsoluteError(name = 'mae'),\n",
    "        tf.keras.metrics.MeanAbsolutePercentageError(name = 'mape')\n",
    "    ])"
   ]
  },
  {
   "cell_type": "code",
   "execution_count": 19,
   "metadata": {},
   "outputs": [],
   "source": [
    "#Defining CallBack class for save model\n",
    "class ModelSaver(tf.keras.callbacks.Callback):\n",
    "    def on_epoch_end(self, epoch, logs={}):\n",
    "        if (epoch + 1) % 3 == 0:\n",
    "            self.model.save(\"../Model/UnratedSampleModel/Model{}.h5\".format(epoch + 1))"
   ]
  },
  {
   "cell_type": "code",
   "execution_count": 20,
   "metadata": {},
   "outputs": [
    {
     "name": "stdout",
     "output_type": "stream",
     "text": [
      "Train on 760703 samples, validate on 125099 samples\n",
      "Epoch 1/21\n",
      "760703/760703 [==============================] - 237s 311us/sample - loss: 0.0583 - mse: 0.0412 - rmse: 0.2031 - msle: 0.0171 - mae: 0.1561 - mape: 6780246.5000 - val_loss: 0.0458 - val_mse: 0.0357 - val_rmse: 0.1891 - val_msle: 0.0148 - val_mae: 0.1436 - val_mape: 5696788.5000\n",
      "Epoch 2/21\n",
      "760703/760703 [==============================] - 241s 317us/sample - loss: 0.0394 - mse: 0.0336 - rmse: 0.1833 - msle: 0.0141 - mae: 0.1378 - mape: 6273101.5000 - val_loss: 0.0374 - val_mse: 0.0336 - val_rmse: 0.1834 - val_msle: 0.0140 - val_mae: 0.1380 - val_mape: 5447081.0000\n",
      "Epoch 3/21\n",
      "760703/760703 [==============================] - 242s 318us/sample - loss: 0.0322 - mse: 0.0310 - rmse: 0.1761 - msle: 0.0130 - mae: 0.1320 - mape: 5696421.5000 - val_loss: 0.0336 - val_mse: 0.0332 - val_rmse: 0.1821 - val_msle: 0.0137 - val_mae: 0.1366 - val_mape: 5269773.0000\n",
      "Epoch 4/21\n",
      "760703/760703 [==============================] - 243s 320us/sample - loss: 0.0301 - mse: 0.0296 - rmse: 0.1721 - msle: 0.0123 - mae: 0.1289 - mape: 5181677.0000 - val_loss: 0.0333 - val_mse: 0.0332 - val_rmse: 0.1821 - val_msle: 0.0137 - val_mae: 0.1364 - val_mape: 5150514.5000\n",
      "Epoch 5/21\n",
      "760703/760703 [==============================] - 243s 320us/sample - loss: 0.0289 - mse: 0.0287 - rmse: 0.1694 - msle: 0.0119 - mae: 0.1268 - mape: 4719217.5000 - val_loss: 0.0334 - val_mse: 0.0332 - val_rmse: 0.1823 - val_msle: 0.0138 - val_mae: 0.1363 - val_mape: 5082014.5000\n",
      "Epoch 6/21\n",
      "760703/760703 [==============================] - 245s 322us/sample - loss: 0.0282 - mse: 0.0280 - rmse: 0.1674 - msle: 0.0115 - mae: 0.1253 - mape: 4346213.0000 - val_loss: 0.0335 - val_mse: 0.0334 - val_rmse: 0.1827 - val_msle: 0.0138 - val_mae: 0.1363 - val_mape: 5013961.0000\n",
      "Epoch 7/21\n",
      "760703/760703 [==============================] - 245s 322us/sample - loss: 0.0278 - mse: 0.0276 - rmse: 0.1660 - msle: 0.0113 - mae: 0.1242 - mape: 4028069.0000 - val_loss: 0.0339 - val_mse: 0.0335 - val_rmse: 0.1830 - val_msle: 0.0138 - val_mae: 0.1366 - val_mape: 4955471.0000276 - rmse: 0.1660\n",
      "Epoch 8/21\n",
      "760703/760703 [==============================] - 245s 322us/sample - loss: 0.0274 - mse: 0.0272 - rmse: 0.1649 - msle: 0.0111 - mae: 0.1233 - mape: 3775551.2500 - val_loss: 0.0338 - val_mse: 0.0337 - val_rmse: 0.1836 - val_msle: 0.0139 - val_mae: 0.1366 - val_mape: 4957553.0000\n",
      "Epoch 9/21\n",
      "760703/760703 [==============================] - 246s 324us/sample - loss: 0.0271 - mse: 0.0270 - rmse: 0.1642 - msle: 0.0110 - mae: 0.1227 - mape: 3554967.7500 - val_loss: 0.0340 - val_mse: 0.0339 - val_rmse: 0.1842 - val_msle: 0.0140 - val_mae: 0.1368 - val_mape: 4935205.5000\n",
      "Epoch 10/21\n",
      "760703/760703 [==============================] - 246s 324us/sample - loss: 0.0268 - mse: 0.0267 - rmse: 0.1634 - msle: 0.0109 - mae: 0.1220 - mape: 3383011.0000 - val_loss: 0.0339 - val_mse: 0.0339 - val_rmse: 0.1840 - val_msle: 0.0140 - val_mae: 0.1367 - val_mape: 4907975.5000\n",
      "Epoch 11/21\n",
      "760703/760703 [==============================] - 247s 324us/sample - loss: 0.0266 - mse: 0.0265 - rmse: 0.1627 - msle: 0.0108 - mae: 0.1214 - mape: 3245312.0000 - val_loss: 0.0340 - val_mse: 0.0340 - val_rmse: 0.1843 - val_msle: 0.0140 - val_mae: 0.1369 - val_mape: 4893353.0000\n",
      "Epoch 12/21\n",
      "760703/760703 [==============================] - 247s 324us/sample - loss: 0.0264 - mse: 0.0263 - rmse: 0.1622 - msle: 0.0107 - mae: 0.1209 - mape: 3126349.2500 - val_loss: 0.0340 - val_mse: 0.0340 - val_rmse: 0.1843 - val_msle: 0.0141 - val_mae: 0.1366 - val_mape: 4907244.0000\n",
      "Epoch 13/21\n",
      "760703/760703 [==============================] - 248s 326us/sample - loss: 0.0262 - mse: 0.0262 - rmse: 0.1617 - msle: 0.0106 - mae: 0.1205 - mape: 3037145.0000 - val_loss: 0.0341 - val_mse: 0.0341 - val_rmse: 0.1846 - val_msle: 0.0141 - val_mae: 0.1370 - val_mape: 4865467.5000\n",
      "Epoch 14/21\n",
      "760703/760703 [==============================] - 219s 288us/sample - loss: 0.0261 - mse: 0.0260 - rmse: 0.1613 - msle: 0.0105 - mae: 0.1202 - mape: 2950748.0000 - val_loss: 0.0341 - val_mse: 0.0341 - val_rmse: 0.1846 - val_msle: 0.0141 - val_mae: 0.1368 - val_mape: 4876471.5000\n",
      "Epoch 15/21\n",
      "760703/760703 [==============================] - 183s 241us/sample - loss: 0.0259 - mse: 0.0259 - rmse: 0.1609 - msle: 0.0105 - mae: 0.1198 - mape: 2885584.2500 - val_loss: 0.0342 - val_mse: 0.0342 - val_rmse: 0.1849 - val_msle: 0.0141 - val_mae: 0.1370 - val_mape: 4874009.0000\n",
      "Epoch 16/21\n",
      "760703/760703 [==============================] - 180s 236us/sample - loss: 0.0259 - mse: 0.0259 - rmse: 0.1608 - msle: 0.0105 - mae: 0.1197 - mape: 2809337.5000 - val_loss: 0.0343 - val_mse: 0.0343 - val_rmse: 0.1852 - val_msle: 0.0142 - val_mae: 0.1371 - val_mape: 4856777.5000\n",
      "Epoch 17/21\n",
      "760703/760703 [==============================] - 182s 239us/sample - loss: 0.0258 - mse: 0.0258 - rmse: 0.1605 - msle: 0.0104 - mae: 0.1194 - mape: 2750135.7500 - val_loss: 0.0343 - val_mse: 0.0343 - val_rmse: 0.1852 - val_msle: 0.0142 - val_mae: 0.1370 - val_mape: 4859783.0000\n",
      "Epoch 18/21\n",
      "760703/760703 [==============================] - 185s 243us/sample - loss: 0.0257 - mse: 0.0257 - rmse: 0.1602 - msle: 0.0104 - mae: 0.1192 - mape: 2698677.7500 - val_loss: 0.0344 - val_mse: 0.0344 - val_rmse: 0.1854 - val_msle: 0.0142 - val_mae: 0.1372 - val_mape: 4820973.5000\n",
      "Epoch 19/21\n",
      "760703/760703 [==============================] - 184s 242us/sample - loss: 0.0256 - mse: 0.0256 - rmse: 0.1599 - msle: 0.0103 - mae: 0.1189 - mape: 2656033.5000 - val_loss: 0.0343 - val_mse: 0.0343 - val_rmse: 0.1853 - val_msle: 0.0142 - val_mae: 0.1370 - val_mape: 4846955.0000\n",
      "Epoch 20/21\n",
      "760703/760703 [==============================] - 184s 242us/sample - loss: 0.0255 - mse: 0.0255 - rmse: 0.1597 - msle: 0.0103 - mae: 0.1187 - mape: 2614063.7500 - val_loss: 0.0344 - val_mse: 0.0344 - val_rmse: 0.1854 - val_msle: 0.0142 - val_mae: 0.1371 - val_mape: 4821084.5000\n",
      "Epoch 21/21\n",
      "760703/760703 [==============================] - 190s 249us/sample - loss: 0.0254 - mse: 0.0254 - rmse: 0.1594 - msle: 0.0103 - mae: 0.1185 - mape: 2580001.2500 - val_loss: 0.0344 - val_mse: 0.0344 - val_rmse: 0.1855 - val_msle: 0.0142 - val_mae: 0.1372 - val_mape: 4805347.5000\n"
     ]
    }
   ],
   "source": [
    "#ignore warnings due to Converting sparse IndexedSlices to a dense Tensor of unknown shape warning\n",
    "warnings.filterwarnings('ignore')\n",
    "\n",
    "#Fit the model\n",
    "#RatingBased UnratedSample dataset contains continues rating value for each interacted pair \n",
    "#and a small sample of not interacted pairs Rated as 0.0\n",
    "#In my opinion this is a good way to create prediction system\n",
    "with tf.device('/GPU:0'):\n",
    "    trainingHistory = model.fit(\n",
    "        x = trainingX,\n",
    "        y = trainingY,\n",
    "        batch_size = 64,\n",
    "        shuffle = True,\n",
    "        callbacks=[ModelSaver()],\n",
    "        epochs = 21,\n",
    "        verbose = 1,\n",
    "        validation_data = (validationX, validationY)\n",
    "    )"
   ]
  },
  {
   "cell_type": "code",
   "execution_count": 21,
   "metadata": {},
   "outputs": [
    {
     "data": {
      "text/plain": [
       "{'loss': [0.058273954069047215,\n",
       "  0.039419613422978415,\n",
       "  0.03217409249180357,\n",
       "  0.03006586619842202,\n",
       "  0.028921648784820887,\n",
       "  0.02824529803645667,\n",
       "  0.027785506233960776,\n",
       "  0.027415178824432156,\n",
       "  0.027078266980998276,\n",
       "  0.026799841296943155,\n",
       "  0.02657661488860649,\n",
       "  0.026388856937595156,\n",
       "  0.026219316553380362,\n",
       "  0.026083690083079068,\n",
       "  0.02594544811680599,\n",
       "  0.025861764788190935,\n",
       "  0.0257564011040608,\n",
       "  0.025661723433085232,\n",
       "  0.025579540742223315,\n",
       "  0.025496298962808014,\n",
       "  0.025425573741916785],\n",
       " 'mse': [0.04123712,\n",
       "  0.033597346,\n",
       "  0.031023283,\n",
       "  0.029607622,\n",
       "  0.028692322,\n",
       "  0.028033657,\n",
       "  0.027557448,\n",
       "  0.027200673,\n",
       "  0.02695877,\n",
       "  0.026683474,\n",
       "  0.02646206,\n",
       "  0.02630153,\n",
       "  0.026155578,\n",
       "  0.026025675,\n",
       "  0.025899034,\n",
       "  0.025852272,\n",
       "  0.025753632,\n",
       "  0.025658917,\n",
       "  0.025576701,\n",
       "  0.025493458,\n",
       "  0.025422817],\n",
       " 'rmse': [0.20306925,\n",
       "  0.18329579,\n",
       "  0.17613427,\n",
       "  0.17206866,\n",
       "  0.16938809,\n",
       "  0.16743255,\n",
       "  0.16600436,\n",
       "  0.16492626,\n",
       "  0.16419126,\n",
       "  0.16335078,\n",
       "  0.16267163,\n",
       "  0.16217746,\n",
       "  0.16172686,\n",
       "  0.16132475,\n",
       "  0.16093177,\n",
       "  0.16078642,\n",
       "  0.16047938,\n",
       "  0.16018401,\n",
       "  0.15992717,\n",
       "  0.1596667,\n",
       "  0.15944535],\n",
       " 'msle': [0.01711248,\n",
       "  0.014079916,\n",
       "  0.012963175,\n",
       "  0.01231309,\n",
       "  0.011872256,\n",
       "  0.011547027,\n",
       "  0.011308468,\n",
       "  0.011132296,\n",
       "  0.011009547,\n",
       "  0.010871089,\n",
       "  0.010760428,\n",
       "  0.010682644,\n",
       "  0.010615814,\n",
       "  0.010549966,\n",
       "  0.010492026,\n",
       "  0.010472209,\n",
       "  0.010424416,\n",
       "  0.01038105,\n",
       "  0.010341148,\n",
       "  0.010303525,\n",
       "  0.010268597],\n",
       " 'mae': [0.1560846,\n",
       "  0.1377578,\n",
       "  0.13203451,\n",
       "  0.1289027,\n",
       "  0.12682751,\n",
       "  0.12529443,\n",
       "  0.12416442,\n",
       "  0.12332163,\n",
       "  0.122661196,\n",
       "  0.12197105,\n",
       "  0.12138027,\n",
       "  0.12094927,\n",
       "  0.12053395,\n",
       "  0.12017905,\n",
       "  0.119823,\n",
       "  0.119684145,\n",
       "  0.1194256,\n",
       "  0.119166836,\n",
       "  0.118917085,\n",
       "  0.11870434,\n",
       "  0.11849784],\n",
       " 'mape': [6780246.5,\n",
       "  6273101.5,\n",
       "  5696421.5,\n",
       "  5181677.0,\n",
       "  4719217.5,\n",
       "  4346213.0,\n",
       "  4028069.0,\n",
       "  3775551.2,\n",
       "  3554967.8,\n",
       "  3383011.0,\n",
       "  3245312.0,\n",
       "  3126349.2,\n",
       "  3037145.0,\n",
       "  2950748.0,\n",
       "  2885584.2,\n",
       "  2809337.5,\n",
       "  2750135.8,\n",
       "  2698677.8,\n",
       "  2656033.5,\n",
       "  2614063.8,\n",
       "  2580001.2],\n",
       " 'val_loss': [0.04577495636182569,\n",
       "  0.037397499801149196,\n",
       "  0.03359136160781638,\n",
       "  0.033275545513730374,\n",
       "  0.03335801237987935,\n",
       "  0.03345665339778078,\n",
       "  0.03390879873580471,\n",
       "  0.03375137520143421,\n",
       "  0.03395902040571975,\n",
       "  0.03390977569152532,\n",
       "  0.034008563029993735,\n",
       "  0.03398357063898988,\n",
       "  0.03411911318868384,\n",
       "  0.03410149712575399,\n",
       "  0.034228281864402105,\n",
       "  0.034288181475182165,\n",
       "  0.03431592826876235,\n",
       "  0.03437021891845967,\n",
       "  0.03434706577354505,\n",
       "  0.034386310358056095,\n",
       "  0.03440545096385722],\n",
       " 'val_mse': [0.035747025,\n",
       "  0.033643875,\n",
       "  0.03316297,\n",
       "  0.03317623,\n",
       "  0.033247925,\n",
       "  0.0333718,\n",
       "  0.03350113,\n",
       "  0.03370103,\n",
       "  0.03391503,\n",
       "  0.033850543,\n",
       "  0.033953626,\n",
       "  0.03395751,\n",
       "  0.03409313,\n",
       "  0.034080975,\n",
       "  0.034175944,\n",
       "  0.034285355,\n",
       "  0.034313105,\n",
       "  0.03436743,\n",
       "  0.034344293,\n",
       "  0.034383487,\n",
       "  0.034402646],\n",
       " 'val_rmse': [0.18906884,\n",
       "  0.18342267,\n",
       "  0.18210703,\n",
       "  0.18214343,\n",
       "  0.18234013,\n",
       "  0.1826795,\n",
       "  0.18303314,\n",
       "  0.1835784,\n",
       "  0.18416034,\n",
       "  0.18398517,\n",
       "  0.18426509,\n",
       "  0.18427564,\n",
       "  0.18464325,\n",
       "  0.18461034,\n",
       "  0.18486737,\n",
       "  0.18516305,\n",
       "  0.18523797,\n",
       "  0.18538454,\n",
       "  0.18532214,\n",
       "  0.18542784,\n",
       "  0.1854795],\n",
       " 'val_msle': [0.014773512,\n",
       "  0.0139540555,\n",
       "  0.01373367,\n",
       "  0.013726708,\n",
       "  0.01377842,\n",
       "  0.01379914,\n",
       "  0.013829661,\n",
       "  0.013943822,\n",
       "  0.014048368,\n",
       "  0.013998753,\n",
       "  0.014041985,\n",
       "  0.014063956,\n",
       "  0.014097813,\n",
       "  0.014102388,\n",
       "  0.014140005,\n",
       "  0.014196976,\n",
       "  0.014218213,\n",
       "  0.014225525,\n",
       "  0.014236806,\n",
       "  0.01424069,\n",
       "  0.014237204],\n",
       " 'val_mae': [0.14357851,\n",
       "  0.13797535,\n",
       "  0.13664976,\n",
       "  0.13641728,\n",
       "  0.13626805,\n",
       "  0.1363063,\n",
       "  0.13658924,\n",
       "  0.13659565,\n",
       "  0.13675256,\n",
       "  0.13669139,\n",
       "  0.13689381,\n",
       "  0.13661897,\n",
       "  0.13695437,\n",
       "  0.1368378,\n",
       "  0.13695292,\n",
       "  0.13711332,\n",
       "  0.136966,\n",
       "  0.13724607,\n",
       "  0.13696998,\n",
       "  0.13708614,\n",
       "  0.13721697],\n",
       " 'val_mape': [5696788.5,\n",
       "  5447081.0,\n",
       "  5269773.0,\n",
       "  5150514.5,\n",
       "  5082014.5,\n",
       "  5013961.0,\n",
       "  4955471.0,\n",
       "  4957553.0,\n",
       "  4935205.5,\n",
       "  4907975.5,\n",
       "  4893353.0,\n",
       "  4907244.0,\n",
       "  4865467.5,\n",
       "  4876471.5,\n",
       "  4874009.0,\n",
       "  4856777.5,\n",
       "  4859783.0,\n",
       "  4820973.5,\n",
       "  4846955.0,\n",
       "  4821084.5,\n",
       "  4805347.5]}"
      ]
     },
     "execution_count": 21,
     "metadata": {},
     "output_type": "execute_result"
    }
   ],
   "source": [
    "#Checking Training history data\n",
    "trainingHistory.history"
   ]
  },
  {
   "cell_type": "code",
   "execution_count": 22,
   "metadata": {},
   "outputs": [],
   "source": [
    "#Import pyplot for graphics\n",
    "from matplotlib import pyplot as plt"
   ]
  },
  {
   "cell_type": "code",
   "execution_count": 23,
   "metadata": {},
   "outputs": [
    {
     "data": {
      "image/png": "[encoded data removed]",
      "text/plain": [
       "<Figure size 432x288 with 1 Axes>"
      ]
     },
     "metadata": {
      "needs_background": "light"
     },
     "output_type": "display_data"
    }
   ],
   "source": [
    "#Loss Graph\n",
    "plt.plot(trainingHistory.history['loss'])\n",
    "plt.plot(trainingHistory.history['val_loss'])\n",
    "plt.title('model loss')\n",
    "plt.ylabel('loss')\n",
    "plt.xlabel('epoch')\n",
    "plt.legend(['train', 'val'], loc='upper left')\n",
    "plt.ticklabel_format(useOffset=False)\n",
    "plt.show()"
   ]
  },
  {
   "cell_type": "code",
   "execution_count": 24,
   "metadata": {},
   "outputs": [
    {
     "data": {
      "image/png": "[encoded data removed]",
      "text/plain": [
       "<Figure size 432x288 with 1 Axes>"
      ]
     },
     "metadata": {
      "needs_background": "light"
     },
     "output_type": "display_data"
    }
   ],
   "source": [
    "#MeanSquaredError Graph\n",
    "plt.plot(trainingHistory.history['mse'])\n",
    "plt.plot(trainingHistory.history['val_mse'])\n",
    "plt.title('model Mean Squared Error')\n",
    "plt.ylabel('mse')\n",
    "plt.xlabel('epoch')\n",
    "plt.legend(['train', 'val'], loc='upper left')\n",
    "plt.ticklabel_format(useOffset=False)\n",
    "plt.show()"
   ]
  },
  {
   "cell_type": "code",
   "execution_count": 25,
   "metadata": {},
   "outputs": [
    {
     "data": {
      "image/png": "[encoded data removed]",
      "text/plain": [
       "<Figure size 432x288 with 1 Axes>"
      ]
     },
     "metadata": {
      "needs_background": "light"
     },
     "output_type": "display_data"
    }
   ],
   "source": [
    "#RootMeanSquaredError Graph\n",
    "plt.plot(trainingHistory.history['rmse'])\n",
    "plt.plot(trainingHistory.history['val_rmse'])\n",
    "plt.title('model Root Mean Squared Error')\n",
    "plt.ylabel('rmse')\n",
    "plt.xlabel('epoch')\n",
    "plt.legend(['train', 'val'], loc='upper left')\n",
    "plt.ticklabel_format(useOffset=False)\n",
    "plt.show()"
   ]
  },
  {
   "cell_type": "code",
   "execution_count": 26,
   "metadata": {},
   "outputs": [
    {
     "data": {
      "image/png": "[encoded data removed]",
      "text/plain": [
       "<Figure size 432x288 with 1 Axes>"
      ]
     },
     "metadata": {
      "needs_background": "light"
     },
     "output_type": "display_data"
    }
   ],
   "source": [
    "#MeanSquaredLogarithmicError Graph\n",
    "plt.plot(trainingHistory.history['msle'])\n",
    "plt.plot(trainingHistory.history['val_msle'])\n",
    "plt.title('model Mean Squared Logarithmic Error')\n",
    "plt.ylabel('msle')\n",
    "plt.xlabel('epoch')\n",
    "plt.legend(['train', 'val'], loc='upper left')\n",
    "plt.ticklabel_format(useOffset=False)\n",
    "plt.show()"
   ]
  },
  {
   "cell_type": "code",
   "execution_count": 27,
   "metadata": {},
   "outputs": [
    {
     "data": {
      "image/png": "[encoded data removed]",
      "text/plain": [
       "<Figure size 432x288 with 1 Axes>"
      ]
     },
     "metadata": {
      "needs_background": "light"
     },
     "output_type": "display_data"
    }
   ],
   "source": [
    "#MeanAbsoluteError Graph\n",
    "plt.plot(trainingHistory.history['mae'])\n",
    "plt.plot(trainingHistory.history['val_mae'])\n",
    "plt.title('model Mean Absolute Error')\n",
    "plt.ylabel('mae')\n",
    "plt.xlabel('epoch')\n",
    "plt.legend(['train', 'val'], loc='upper left')\n",
    "plt.ticklabel_format(useOffset=False)\n",
    "plt.show()"
   ]
  },
  {
   "cell_type": "code",
   "execution_count": 28,
   "metadata": {},
   "outputs": [
    {
     "data": {
      "image/png": "[encoded data removed]",
      "text/plain": [
       "<Figure size 432x288 with 1 Axes>"
      ]
     },
     "metadata": {
      "needs_background": "light"
     },
     "output_type": "display_data"
    }
   ],
   "source": [
    "#MeanAbsolutePercentageError Graph\n",
    "plt.plot(trainingHistory.history['mape'])\n",
    "plt.plot(trainingHistory.history['val_mape'])\n",
    "plt.title('model Mean Absolute Percentage Error')\n",
    "plt.ylabel('mape')\n",
    "plt.xlabel('epoch')\n",
    "plt.legend(['train', 'val'], loc='upper left')\n",
    "plt.ticklabel_format(useOffset=False)\n",
    "plt.show()"
   ]
  },
  {
   "cell_type": "code",
   "execution_count": 29,
   "metadata": {},
   "outputs": [
    {
     "data": {
      "text/html": [
       "<div>\n",
       "<style scoped>\n",
       "    .dataframe tbody tr th:only-of-type {\n",
       "        vertical-align: middle;\n",
       "    }\n",
       "\n",
       "    .dataframe tbody tr th {\n",
       "        vertical-align: top;\n",
       "    }\n",
       "\n",
       "    .dataframe thead th {\n",
       "        text-align: right;\n",
       "    }\n",
       "</style>\n",
       "<table border=\"1\" class=\"dataframe\">\n",
       "  <thead>\n",
       "    <tr style=\"text-align: right;\">\n",
       "      <th></th>\n",
       "      <th>UserId</th>\n",
       "      <th>MovieId</th>\n",
       "      <th>Rating</th>\n",
       "    </tr>\n",
       "  </thead>\n",
       "  <tbody>\n",
       "    <tr>\n",
       "      <td>0</td>\n",
       "      <td>2557</td>\n",
       "      <td>168</td>\n",
       "      <td>1.0</td>\n",
       "    </tr>\n",
       "    <tr>\n",
       "      <td>1</td>\n",
       "      <td>7470</td>\n",
       "      <td>242</td>\n",
       "      <td>0.6</td>\n",
       "    </tr>\n",
       "    <tr>\n",
       "      <td>2</td>\n",
       "      <td>6915</td>\n",
       "      <td>1400</td>\n",
       "      <td>0.8</td>\n",
       "    </tr>\n",
       "    <tr>\n",
       "      <td>3</td>\n",
       "      <td>1066</td>\n",
       "      <td>54</td>\n",
       "      <td>0.4</td>\n",
       "    </tr>\n",
       "    <tr>\n",
       "      <td>4</td>\n",
       "      <td>2037</td>\n",
       "      <td>159</td>\n",
       "      <td>0.4</td>\n",
       "    </tr>\n",
       "    <tr>\n",
       "      <td>...</td>\n",
       "      <td>...</td>\n",
       "      <td>...</td>\n",
       "      <td>...</td>\n",
       "    </tr>\n",
       "    <tr>\n",
       "      <td>125094</td>\n",
       "      <td>5060</td>\n",
       "      <td>2460</td>\n",
       "      <td>0.7</td>\n",
       "    </tr>\n",
       "    <tr>\n",
       "      <td>125095</td>\n",
       "      <td>7302</td>\n",
       "      <td>701</td>\n",
       "      <td>0.7</td>\n",
       "    </tr>\n",
       "    <tr>\n",
       "      <td>125096</td>\n",
       "      <td>7724</td>\n",
       "      <td>215</td>\n",
       "      <td>0.1</td>\n",
       "    </tr>\n",
       "    <tr>\n",
       "      <td>125097</td>\n",
       "      <td>718</td>\n",
       "      <td>1117</td>\n",
       "      <td>0.6</td>\n",
       "    </tr>\n",
       "    <tr>\n",
       "      <td>125098</td>\n",
       "      <td>7349</td>\n",
       "      <td>416</td>\n",
       "      <td>1.0</td>\n",
       "    </tr>\n",
       "  </tbody>\n",
       "</table>\n",
       "<p>125099 rows × 3 columns</p>\n",
       "</div>"
      ],
      "text/plain": [
       "        UserId  MovieId  Rating\n",
       "0         2557      168     1.0\n",
       "1         7470      242     0.6\n",
       "2         6915     1400     0.8\n",
       "3         1066       54     0.4\n",
       "4         2037      159     0.4\n",
       "...        ...      ...     ...\n",
       "125094    5060     2460     0.7\n",
       "125095    7302      701     0.7\n",
       "125096    7724      215     0.1\n",
       "125097     718     1117     0.6\n",
       "125098    7349      416     1.0\n",
       "\n",
       "[125099 rows x 3 columns]"
      ]
     },
     "execution_count": 29,
     "metadata": {},
     "output_type": "execute_result"
    }
   ],
   "source": [
    "#Reading Qualified RatingBased UnratedSample test data from pkl file\n",
    "testDf = pd.read_pickle(\"../Data/pkl/1M/Qualified/RatingBased/UnratedSample/Test.pkl\")\n",
    "testDf"
   ]
  },
  {
   "cell_type": "code",
   "execution_count": 30,
   "metadata": {},
   "outputs": [
    {
     "data": {
      "text/plain": [
       "array([2557, 7470, 6915, ..., 7724,  718, 7349])"
      ]
     },
     "execution_count": 30,
     "metadata": {},
     "output_type": "execute_result"
    }
   ],
   "source": [
    "#creating a user array for test input \n",
    "testUser = testDf[['UserId']].values.astype(np.int32)\n",
    "testUser = testUser.reshape((testUser.shape[0]))\n",
    "testUser"
   ]
  },
  {
   "cell_type": "code",
   "execution_count": 31,
   "metadata": {},
   "outputs": [
    {
     "data": {
      "text/plain": [
       "array([ 168,  242, 1400, ...,  215, 1117,  416])"
      ]
     },
     "execution_count": 31,
     "metadata": {},
     "output_type": "execute_result"
    }
   ],
   "source": [
    "#creating a movie array for test input \n",
    "testMovie = testDf[['MovieId']].values.astype(np.int32)\n",
    "testMovie = testMovie.reshape((testMovie.shape[0]))\n",
    "testMovie"
   ]
  },
  {
   "cell_type": "code",
   "execution_count": 32,
   "metadata": {},
   "outputs": [
    {
     "data": {
      "text/plain": [
       "[array([2557, 7470, 6915, ..., 7724,  718, 7349]),\n",
       " array([ 168,  242, 1400, ...,  215, 1117,  416])]"
      ]
     },
     "execution_count": 32,
     "metadata": {},
     "output_type": "execute_result"
    }
   ],
   "source": [
    "#creating an array for test input \n",
    "testX = [testUser, testMovie]\n",
    "testX"
   ]
  },
  {
   "cell_type": "code",
   "execution_count": 33,
   "metadata": {},
   "outputs": [
    {
     "data": {
      "text/plain": [
       "array([1. , 0.6, 0.8, ..., 0.1, 0.6, 1. ], dtype=float32)"
      ]
     },
     "execution_count": 33,
     "metadata": {},
     "output_type": "execute_result"
    }
   ],
   "source": [
    "#creating an array for test output \n",
    "testY = testDf[['Rating']].values.astype(np.float32)\n",
    "testY = testY.reshape((testY.shape[0]))\n",
    "testY"
   ]
  },
  {
   "cell_type": "code",
   "execution_count": 34,
   "metadata": {},
   "outputs": [],
   "source": [
    "#Clearing Memory\n",
    "del testDf"
   ]
  },
  {
   "cell_type": "code",
   "execution_count": 35,
   "metadata": {},
   "outputs": [],
   "source": [
    "#Model evaluating with test values\n",
    "testResult = model.evaluate(x = testX, y = testY, batch_size = 64, verbose = 0)"
   ]
  },
  {
   "cell_type": "code",
   "execution_count": 36,
   "metadata": {},
   "outputs": [
    {
     "data": {
      "text/plain": [
       "[0.03401083828537096,\n",
       " 0.03400798,\n",
       " 0.18441252,\n",
       " 0.01407264,\n",
       " 0.13653128,\n",
       " 4724418.5]"
      ]
     },
     "execution_count": 36,
     "metadata": {},
     "output_type": "execute_result"
    }
   ],
   "source": [
    "#Print testResult\n",
    "testResult"
   ]
  },
  {
   "cell_type": "code",
   "execution_count": 37,
   "metadata": {},
   "outputs": [
    {
     "name": "stdout",
     "output_type": "stream",
     "text": [
      "Test Loss: 0.03401083828537096\n"
     ]
    }
   ],
   "source": [
    "print(\"Test Loss: \" + str(testResult[0]))"
   ]
  },
  {
   "cell_type": "code",
   "execution_count": 38,
   "metadata": {},
   "outputs": [
    {
     "name": "stdout",
     "output_type": "stream",
     "text": [
      "Test Mse: 0.03400798\n"
     ]
    }
   ],
   "source": [
    "print(\"Test Mse: \" + str(testResult[1]))"
   ]
  },
  {
   "cell_type": "code",
   "execution_count": 39,
   "metadata": {},
   "outputs": [
    {
     "name": "stdout",
     "output_type": "stream",
     "text": [
      "Test Rmse: 0.18441252\n"
     ]
    }
   ],
   "source": [
    "print(\"Test Rmse: \" + str(testResult[2]))"
   ]
  },
  {
   "cell_type": "code",
   "execution_count": 40,
   "metadata": {},
   "outputs": [
    {
     "name": "stdout",
     "output_type": "stream",
     "text": [
      "Test Msle: 0.01407264\n"
     ]
    }
   ],
   "source": [
    "print(\"Test Msle: \" + str(testResult[3]))"
   ]
  },
  {
   "cell_type": "code",
   "execution_count": 41,
   "metadata": {},
   "outputs": [
    {
     "name": "stdout",
     "output_type": "stream",
     "text": [
      "Test Mae: 0.13653128\n"
     ]
    }
   ],
   "source": [
    "print(\"Test Mae: \" + str(testResult[4]))"
   ]
  },
  {
   "cell_type": "code",
   "execution_count": 42,
   "metadata": {},
   "outputs": [
    {
     "name": "stdout",
     "output_type": "stream",
     "text": [
      "Test Mape: 4724418.5\n"
     ]
    }
   ],
   "source": [
    "print(\"Test Mape: \" + str(testResult[5]))"
   ]
  },
  {
   "cell_type": "code",
   "execution_count": 43,
   "metadata": {},
   "outputs": [],
   "source": [
    "#When the metric graphs are examined, it is seen that the best model is reached between the 5th and 10th epochs.\n",
    "#After the 10th epoch, the amount of performance does not seem to change much.\n",
    "#After the 10th epoch, the model started to manage overfitting.\n",
    "#So the model in the 9th epoch is determined as the best model.\n",
    "\n",
    "#Model9 Loading from h5 file\n",
    "\n",
    "model = tf.keras.models.load_model(\"../Model/UnratedSampleModel/Model9.h5\")"
   ]
  },
  {
   "cell_type": "code",
   "execution_count": 44,
   "metadata": {},
   "outputs": [],
   "source": [
    "#Best Model evaluating with test values\n",
    "testResultBestModel = model.evaluate(x = testX, y = testY, batch_size = 64, verbose = 0)"
   ]
  },
  {
   "cell_type": "code",
   "execution_count": 45,
   "metadata": {},
   "outputs": [
    {
     "data": {
      "text/plain": [
       "[0.033637687197022134,\n",
       " 0.033593655,\n",
       " 0.18328571,\n",
       " 0.013907214,\n",
       " 0.13622218,\n",
       " 4838788.5]"
      ]
     },
     "execution_count": 45,
     "metadata": {},
     "output_type": "execute_result"
    }
   ],
   "source": [
    "#Print testResult for Best Model\n",
    "testResultBestModel"
   ]
  },
  {
   "cell_type": "code",
   "execution_count": 46,
   "metadata": {},
   "outputs": [
    {
     "name": "stdout",
     "output_type": "stream",
     "text": [
      "Test Loss: 0.033637687197022134\n"
     ]
    }
   ],
   "source": [
    "#Print Test Loss for Best Model\n",
    "print(\"Test Loss: \" + str(testResultBestModel[0]))"
   ]
  },
  {
   "cell_type": "code",
   "execution_count": 47,
   "metadata": {},
   "outputs": [
    {
     "name": "stdout",
     "output_type": "stream",
     "text": [
      "Test Mse: 0.033593655\n"
     ]
    }
   ],
   "source": [
    "#Print Test Mse for Best Model\n",
    "print(\"Test Mse: \" + str(testResultBestModel[1]))"
   ]
  },
  {
   "cell_type": "code",
   "execution_count": 48,
   "metadata": {},
   "outputs": [
    {
     "name": "stdout",
     "output_type": "stream",
     "text": [
      "Test Rmse: 0.18328571\n"
     ]
    }
   ],
   "source": [
    "#Print Test Rmse for Best Model\n",
    "print(\"Test Rmse: \" + str(testResultBestModel[2]))"
   ]
  },
  {
   "cell_type": "code",
   "execution_count": 49,
   "metadata": {},
   "outputs": [
    {
     "name": "stdout",
     "output_type": "stream",
     "text": [
      "Test Msle: 0.013907214\n"
     ]
    }
   ],
   "source": [
    "#Print Test Msle for Best Model\n",
    "print(\"Test Msle: \" + str(testResultBestModel[3]))"
   ]
  },
  {
   "cell_type": "code",
   "execution_count": 50,
   "metadata": {},
   "outputs": [
    {
     "name": "stdout",
     "output_type": "stream",
     "text": [
      "Test Mae: 0.13622218\n"
     ]
    }
   ],
   "source": [
    "#Print Test Mae for Best Model\n",
    "print(\"Test Mae: \" + str(testResultBestModel[4]))"
   ]
  },
  {
   "cell_type": "code",
   "execution_count": 51,
   "metadata": {},
   "outputs": [
    {
     "name": "stdout",
     "output_type": "stream",
     "text": [
      "Test Mape: 4838788.5\n"
     ]
    }
   ],
   "source": [
    "#Print Test Mape for Best Model\n",
    "print(\"Test Mape: \" + str(testResultBestModel[5]))"
   ]
  },
  {
   "cell_type": "markdown",
   "metadata": {},
   "source": [
    "# Analysing Result\n",
    "\n",
    "As can be seen above, the performance of the model obtained at the end of the training and the 9th model that chosen as the best model on the test data is almost equal\n",
    "\n",
    "In this case, it is pointless to train the model further after the 10th epoch\n",
    "\n",
    "Result look good\n",
    "\n",
    "Dataset is usefull for recommendation system\n",
    "\n",
    "But still i am biased towards this dataset and model since unobserved data is assigned 0 rating"
   ]
  }
 ],
 "metadata": {
  "kernelspec": {
   "display_name": "Python 3",
   "language": "python",
   "name": "python3"
  },
  "language_info": {
   "codemirror_mode": {
    "name": "ipython",
    "version": 3
   },
   "file_extension": ".py",
   "mimetype": "text/x-python",
   "name": "python",
   "nbconvert_exporter": "python",
   "pygments_lexer": "ipython3",
   "version": "3.7.4"
  }
 },
 "nbformat": 4,
 "nbformat_minor": 2
}
