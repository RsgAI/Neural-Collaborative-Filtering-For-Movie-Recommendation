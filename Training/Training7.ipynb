{
 "cells": [
  {
   "cell_type": "markdown",
   "metadata": {},
   "source": [
    "# Model will be trained with RatingBased RatedOnly Data\n",
    "\n",
    "RatingBased RatedOnly dataset contains continues rating value for each interacted pair\n",
    "\n",
    "This is one of the best criterions for Like\n",
    "\n",
    "Because it contains not only the information whether the movie is liked or not, but also how much it is liked\n",
    "\n",
    "So it is one of the most useful datasets for the recommendation system\n",
    "\n",
    "In this case, the problem turns into a regression problem\n",
    "\n",
    "Therefore, the model to be used will also be converted to a regression model"
   ]
  },
  {
   "cell_type": "code",
   "execution_count": 1,
   "metadata": {},
   "outputs": [],
   "source": [
    "#Importing libraries\n",
    "import numpy as np\n",
    "import pandas as pd\n",
    "import tensorflow as tf\n",
    "import warnings"
   ]
  },
  {
   "cell_type": "code",
   "execution_count": 2,
   "metadata": {},
   "outputs": [
    {
     "name": "stdout",
     "output_type": "stream",
     "text": [
      "numpy Version: 1.16.5\n",
      "pandas Version: 0.25.1\n",
      "tensorflow Version: 2.0.0\n"
     ]
    }
   ],
   "source": [
    "#Printing library versions\n",
    "print('numpy Version: ' + np.__version__)\n",
    "print('pandas Version: ' + pd.__version__)\n",
    "print('tensorflow Version: ' + tf.__version__)"
   ]
  },
  {
   "cell_type": "code",
   "execution_count": 3,
   "metadata": {},
   "outputs": [
    {
     "name": "stdout",
     "output_type": "stream",
     "text": [
      "/device:GPU:0\n"
     ]
    }
   ],
   "source": [
    "#GPU will be used for training\n",
    "myGPU = tf.test.gpu_device_name()\n",
    "if myGPU:\n",
    "    print(myGPU)\n",
    "else:\n",
    "    print(\"Error\")"
   ]
  },
  {
   "cell_type": "code",
   "execution_count": 4,
   "metadata": {
    "scrolled": false
   },
   "outputs": [
    {
     "data": {
      "text/html": [
       "<div>\n",
       "<style scoped>\n",
       "    .dataframe tbody tr th:only-of-type {\n",
       "        vertical-align: middle;\n",
       "    }\n",
       "\n",
       "    .dataframe tbody tr th {\n",
       "        vertical-align: top;\n",
       "    }\n",
       "\n",
       "    .dataframe thead th {\n",
       "        text-align: right;\n",
       "    }\n",
       "</style>\n",
       "<table border=\"1\" class=\"dataframe\">\n",
       "  <thead>\n",
       "    <tr style=\"text-align: right;\">\n",
       "      <th></th>\n",
       "      <th>UserId</th>\n",
       "      <th>MovieId</th>\n",
       "      <th>Rating</th>\n",
       "    </tr>\n",
       "  </thead>\n",
       "  <tbody>\n",
       "    <tr>\n",
       "      <td>0</td>\n",
       "      <td>3448</td>\n",
       "      <td>1096</td>\n",
       "      <td>0.666667</td>\n",
       "    </tr>\n",
       "    <tr>\n",
       "      <td>1</td>\n",
       "      <td>7042</td>\n",
       "      <td>465</td>\n",
       "      <td>0.777778</td>\n",
       "    </tr>\n",
       "    <tr>\n",
       "      <td>2</td>\n",
       "      <td>4214</td>\n",
       "      <td>3691</td>\n",
       "      <td>0.555556</td>\n",
       "    </tr>\n",
       "    <tr>\n",
       "      <td>3</td>\n",
       "      <td>9967</td>\n",
       "      <td>767</td>\n",
       "      <td>0.888889</td>\n",
       "    </tr>\n",
       "    <tr>\n",
       "      <td>4</td>\n",
       "      <td>324</td>\n",
       "      <td>1410</td>\n",
       "      <td>0.333333</td>\n",
       "    </tr>\n",
       "    <tr>\n",
       "      <td>...</td>\n",
       "      <td>...</td>\n",
       "      <td>...</td>\n",
       "      <td>...</td>\n",
       "    </tr>\n",
       "    <tr>\n",
       "      <td>753677</td>\n",
       "      <td>571</td>\n",
       "      <td>7554</td>\n",
       "      <td>0.333333</td>\n",
       "    </tr>\n",
       "    <tr>\n",
       "      <td>753678</td>\n",
       "      <td>4795</td>\n",
       "      <td>17048</td>\n",
       "      <td>0.333333</td>\n",
       "    </tr>\n",
       "    <tr>\n",
       "      <td>753679</td>\n",
       "      <td>3685</td>\n",
       "      <td>1941</td>\n",
       "      <td>0.555556</td>\n",
       "    </tr>\n",
       "    <tr>\n",
       "      <td>753680</td>\n",
       "      <td>1366</td>\n",
       "      <td>658</td>\n",
       "      <td>0.555556</td>\n",
       "    </tr>\n",
       "    <tr>\n",
       "      <td>753681</td>\n",
       "      <td>8048</td>\n",
       "      <td>865</td>\n",
       "      <td>0.777778</td>\n",
       "    </tr>\n",
       "  </tbody>\n",
       "</table>\n",
       "<p>753682 rows × 3 columns</p>\n",
       "</div>"
      ],
      "text/plain": [
       "        UserId  MovieId    Rating\n",
       "0         3448     1096  0.666667\n",
       "1         7042      465  0.777778\n",
       "2         4214     3691  0.555556\n",
       "3         9967      767  0.888889\n",
       "4          324     1410  0.333333\n",
       "...        ...      ...       ...\n",
       "753677     571     7554  0.333333\n",
       "753678    4795    17048  0.333333\n",
       "753679    3685     1941  0.555556\n",
       "753680    1366      658  0.555556\n",
       "753681    8048      865  0.777778\n",
       "\n",
       "[753682 rows x 3 columns]"
      ]
     },
     "execution_count": 4,
     "metadata": {},
     "output_type": "execute_result"
    }
   ],
   "source": [
    "#Reading Qualified RatingBased RatedOnly training data from pkl file\n",
    "trainingDf = pd.read_pickle(\"../Data/pkl/1M/Qualified/RatingBased/RatedOnly/Training.pkl\")\n",
    "trainingDf"
   ]
  },
  {
   "cell_type": "code",
   "execution_count": 5,
   "metadata": {},
   "outputs": [
    {
     "data": {
      "text/plain": [
       "array([3448, 7042, 4214, ..., 3685, 1366, 8048])"
      ]
     },
     "execution_count": 5,
     "metadata": {},
     "output_type": "execute_result"
    }
   ],
   "source": [
    "#creating a user array for training input \n",
    "trainingUser = trainingDf[['UserId']].values.astype(np.int32)\n",
    "trainingUser = trainingUser.reshape((trainingUser.shape[0]))\n",
    "trainingUser"
   ]
  },
  {
   "cell_type": "code",
   "execution_count": 6,
   "metadata": {},
   "outputs": [
    {
     "data": {
      "text/plain": [
       "array([1096,  465, 3691, ..., 1941,  658,  865])"
      ]
     },
     "execution_count": 6,
     "metadata": {},
     "output_type": "execute_result"
    }
   ],
   "source": [
    "#creating a movie array for training input \n",
    "trainingMovie = trainingDf[['MovieId']].values.astype(np.int32)\n",
    "trainingMovie = trainingMovie.reshape((trainingMovie.shape[0]))\n",
    "trainingMovie"
   ]
  },
  {
   "cell_type": "code",
   "execution_count": 7,
   "metadata": {},
   "outputs": [
    {
     "data": {
      "text/plain": [
       "[array([3448, 7042, 4214, ..., 3685, 1366, 8048]),\n",
       " array([1096,  465, 3691, ..., 1941,  658,  865])]"
      ]
     },
     "execution_count": 7,
     "metadata": {},
     "output_type": "execute_result"
    }
   ],
   "source": [
    "#creating an array for training input \n",
    "trainingX = [trainingUser, trainingMovie]\n",
    "trainingX"
   ]
  },
  {
   "cell_type": "code",
   "execution_count": 8,
   "metadata": {},
   "outputs": [
    {
     "data": {
      "text/plain": [
       "array([0.6666667, 0.7777778, 0.5555556, ..., 0.5555556, 0.5555556,\n",
       "       0.7777778], dtype=float32)"
      ]
     },
     "execution_count": 8,
     "metadata": {},
     "output_type": "execute_result"
    }
   ],
   "source": [
    "#creating an array for training output \n",
    "trainingY = trainingDf[['Rating']].values.astype(np.float32)\n",
    "trainingY = trainingY.reshape((trainingY.shape[0]))\n",
    "trainingY"
   ]
  },
  {
   "cell_type": "code",
   "execution_count": 9,
   "metadata": {},
   "outputs": [],
   "source": [
    "#Clearing Memory\n",
    "del trainingDf"
   ]
  },
  {
   "cell_type": "code",
   "execution_count": 10,
   "metadata": {
    "scrolled": true
   },
   "outputs": [
    {
     "data": {
      "text/html": [
       "<div>\n",
       "<style scoped>\n",
       "    .dataframe tbody tr th:only-of-type {\n",
       "        vertical-align: middle;\n",
       "    }\n",
       "\n",
       "    .dataframe tbody tr th {\n",
       "        vertical-align: top;\n",
       "    }\n",
       "\n",
       "    .dataframe thead th {\n",
       "        text-align: right;\n",
       "    }\n",
       "</style>\n",
       "<table border=\"1\" class=\"dataframe\">\n",
       "  <thead>\n",
       "    <tr style=\"text-align: right;\">\n",
       "      <th></th>\n",
       "      <th>UserId</th>\n",
       "      <th>MovieId</th>\n",
       "      <th>Rating</th>\n",
       "    </tr>\n",
       "  </thead>\n",
       "  <tbody>\n",
       "    <tr>\n",
       "      <td>0</td>\n",
       "      <td>7981</td>\n",
       "      <td>215</td>\n",
       "      <td>0.777778</td>\n",
       "    </tr>\n",
       "    <tr>\n",
       "      <td>1</td>\n",
       "      <td>8165</td>\n",
       "      <td>3195</td>\n",
       "      <td>0.777778</td>\n",
       "    </tr>\n",
       "    <tr>\n",
       "      <td>2</td>\n",
       "      <td>5490</td>\n",
       "      <td>174</td>\n",
       "      <td>0.777778</td>\n",
       "    </tr>\n",
       "    <tr>\n",
       "      <td>3</td>\n",
       "      <td>5080</td>\n",
       "      <td>802</td>\n",
       "      <td>0.888889</td>\n",
       "    </tr>\n",
       "    <tr>\n",
       "      <td>4</td>\n",
       "      <td>7693</td>\n",
       "      <td>344</td>\n",
       "      <td>0.555556</td>\n",
       "    </tr>\n",
       "    <tr>\n",
       "      <td>...</td>\n",
       "      <td>...</td>\n",
       "      <td>...</td>\n",
       "      <td>...</td>\n",
       "    </tr>\n",
       "    <tr>\n",
       "      <td>123600</td>\n",
       "      <td>3821</td>\n",
       "      <td>265</td>\n",
       "      <td>0.888889</td>\n",
       "    </tr>\n",
       "    <tr>\n",
       "      <td>123601</td>\n",
       "      <td>2074</td>\n",
       "      <td>807</td>\n",
       "      <td>1.000000</td>\n",
       "    </tr>\n",
       "    <tr>\n",
       "      <td>123602</td>\n",
       "      <td>3930</td>\n",
       "      <td>1942</td>\n",
       "      <td>0.777778</td>\n",
       "    </tr>\n",
       "    <tr>\n",
       "      <td>123603</td>\n",
       "      <td>8844</td>\n",
       "      <td>1395</td>\n",
       "      <td>0.777778</td>\n",
       "    </tr>\n",
       "    <tr>\n",
       "      <td>123604</td>\n",
       "      <td>9284</td>\n",
       "      <td>5107</td>\n",
       "      <td>0.777778</td>\n",
       "    </tr>\n",
       "  </tbody>\n",
       "</table>\n",
       "<p>123605 rows × 3 columns</p>\n",
       "</div>"
      ],
      "text/plain": [
       "        UserId  MovieId    Rating\n",
       "0         7981      215  0.777778\n",
       "1         8165     3195  0.777778\n",
       "2         5490      174  0.777778\n",
       "3         5080      802  0.888889\n",
       "4         7693      344  0.555556\n",
       "...        ...      ...       ...\n",
       "123600    3821      265  0.888889\n",
       "123601    2074      807  1.000000\n",
       "123602    3930     1942  0.777778\n",
       "123603    8844     1395  0.777778\n",
       "123604    9284     5107  0.777778\n",
       "\n",
       "[123605 rows x 3 columns]"
      ]
     },
     "execution_count": 10,
     "metadata": {},
     "output_type": "execute_result"
    }
   ],
   "source": [
    "#Reading Qualified RatingBased RatedOnly validation data from pkl file\n",
    "validationDf = pd.read_pickle(\"../Data/pkl/1M/Qualified/RatingBased/RatedOnly/Validation.pkl\")\n",
    "validationDf"
   ]
  },
  {
   "cell_type": "code",
   "execution_count": 11,
   "metadata": {},
   "outputs": [
    {
     "data": {
      "text/plain": [
       "array([7981, 8165, 5490, ..., 3930, 8844, 9284])"
      ]
     },
     "execution_count": 11,
     "metadata": {},
     "output_type": "execute_result"
    }
   ],
   "source": [
    "#creating a user array for validation input \n",
    "validationUser = validationDf[['UserId']].values.astype(np.int32)\n",
    "validationUser = validationUser.reshape((validationUser.shape[0]))\n",
    "validationUser"
   ]
  },
  {
   "cell_type": "code",
   "execution_count": 12,
   "metadata": {},
   "outputs": [
    {
     "data": {
      "text/plain": [
       "array([ 215, 3195,  174, ..., 1942, 1395, 5107])"
      ]
     },
     "execution_count": 12,
     "metadata": {},
     "output_type": "execute_result"
    }
   ],
   "source": [
    "#creating a movie array for validation input \n",
    "validationMovie = validationDf[['MovieId']].values.astype(np.int32)\n",
    "validationMovie = validationMovie.reshape((validationMovie.shape[0]))\n",
    "validationMovie"
   ]
  },
  {
   "cell_type": "code",
   "execution_count": 13,
   "metadata": {},
   "outputs": [
    {
     "data": {
      "text/plain": [
       "[array([7981, 8165, 5490, ..., 3930, 8844, 9284]),\n",
       " array([ 215, 3195,  174, ..., 1942, 1395, 5107])]"
      ]
     },
     "execution_count": 13,
     "metadata": {},
     "output_type": "execute_result"
    }
   ],
   "source": [
    "#creating an array for validation input \n",
    "validationX = [validationUser, validationMovie]\n",
    "validationX"
   ]
  },
  {
   "cell_type": "code",
   "execution_count": 14,
   "metadata": {},
   "outputs": [
    {
     "data": {
      "text/plain": [
       "array([0.7777778, 0.7777778, 0.7777778, ..., 0.7777778, 0.7777778,\n",
       "       0.7777778], dtype=float32)"
      ]
     },
     "execution_count": 14,
     "metadata": {},
     "output_type": "execute_result"
    }
   ],
   "source": [
    "#creating an array for validation output \n",
    "validationY = validationDf[['Rating']].values.astype(np.float32)\n",
    "validationY = validationY.reshape((validationY.shape[0]))\n",
    "validationY"
   ]
  },
  {
   "cell_type": "code",
   "execution_count": 15,
   "metadata": {},
   "outputs": [],
   "source": [
    "#Clearing Memory\n",
    "del validationDf"
   ]
  },
  {
   "cell_type": "code",
   "execution_count": 16,
   "metadata": {},
   "outputs": [],
   "source": [
    "#Setting model variables\n",
    "userSize = 10073\n",
    "movieSize = 22033\n",
    "latentDimensionMF = 4\n",
    "latentDimensionMLP = 32\n",
    "regMF = 0\n",
    "regMLP = 0.01\n",
    "regDense = 0.01\n",
    "denseActivation = 'relu'"
   ]
  },
  {
   "cell_type": "code",
   "execution_count": 17,
   "metadata": {},
   "outputs": [
    {
     "name": "stdout",
     "output_type": "stream",
     "text": [
      "Model: \"model\"\n",
      "__________________________________________________________________________________________________\n",
      "Layer (type)                    Output Shape         Param #     Connected to                     \n",
      "==================================================================================================\n",
      "userId (InputLayer)             [(None,)]            0                                            \n",
      "__________________________________________________________________________________________________\n",
      "movieId (InputLayer)            [(None,)]            0                                            \n",
      "__________________________________________________________________________________________________\n",
      "userEmbeddingMLP (Embedding)    (None, 32)           322336      userId[0][0]                     \n",
      "__________________________________________________________________________________________________\n",
      "movieEmbeddingMLP (Embedding)   (None, 32)           705056      movieId[0][0]                    \n",
      "__________________________________________________________________________________________________\n",
      "flatten_2 (Flatten)             (None, 32)           0           userEmbeddingMLP[0][0]           \n",
      "__________________________________________________________________________________________________\n",
      "flatten_3 (Flatten)             (None, 32)           0           movieEmbeddingMLP[0][0]          \n",
      "__________________________________________________________________________________________________\n",
      "userEmbeddingMF (Embedding)     (None, 4)            40292       userId[0][0]                     \n",
      "__________________________________________________________________________________________________\n",
      "movieEmbeddingMF (Embedding)    (None, 4)            88132       movieId[0][0]                    \n",
      "__________________________________________________________________________________________________\n",
      "concatenate (Concatenate)       (None, 64)           0           flatten_2[0][0]                  \n",
      "                                                                 flatten_3[0][0]                  \n",
      "__________________________________________________________________________________________________\n",
      "flatten (Flatten)               (None, 4)            0           userEmbeddingMF[0][0]            \n",
      "__________________________________________________________________________________________________\n",
      "flatten_1 (Flatten)             (None, 4)            0           movieEmbeddingMF[0][0]           \n",
      "__________________________________________________________________________________________________\n",
      "Dense1 (Dense)                  (None, 32)           2080        concatenate[0][0]                \n",
      "__________________________________________________________________________________________________\n",
      "multiply (Multiply)             (None, 4)            0           flatten[0][0]                    \n",
      "                                                                 flatten_1[0][0]                  \n",
      "__________________________________________________________________________________________________\n",
      "Dense2 (Dense)                  (None, 16)           528         Dense1[0][0]                     \n",
      "__________________________________________________________________________________________________\n",
      "concatenate_1 (Concatenate)     (None, 20)           0           multiply[0][0]                   \n",
      "                                                                 Dense2[0][0]                     \n",
      "__________________________________________________________________________________________________\n",
      "Like (Dense)                    (None, 1)            21          concatenate_1[0][0]              \n",
      "==================================================================================================\n",
      "Total params: 1,158,445\n",
      "Trainable params: 1,158,445\n",
      "Non-trainable params: 0\n",
      "__________________________________________________________________________________________________\n"
     ]
    }
   ],
   "source": [
    "#Creating Neural Collaborative Filtering(NCF) model\n",
    "\n",
    "#This Neural matrix factorization model based on https://arxiv.org/pdf/1708.05031.pdf\n",
    "#As a result of the researches, it was determined as the most useful architecture\n",
    "#This architecture will be trained with different data types and explanations will be made on the results. \n",
    "\n",
    "\n",
    "# input layer\n",
    "userInput = tf.keras.layers.Input(shape = (), dtype = \"int32\", name = \"userId\")\n",
    "movieInput = tf.keras.layers.Input(shape = (), dtype = \"int32\", name = \"movieId\")\n",
    "\n",
    "# embedding layers\n",
    "userEmbeddingMF = tf.keras.layers.Embedding(\n",
    "    input_dim = userSize,\n",
    "    output_dim = latentDimensionMF,\n",
    "    name = 'userEmbeddingMF',\n",
    "    embeddings_initializer = 'he_normal',\n",
    "    embeddings_regularizer = tf.keras.regularizers.l2(regMF),\n",
    "    input_length = 1,\n",
    ")\n",
    "movieEmbeddingMF = tf.keras.layers.Embedding(\n",
    "    input_dim = movieSize,\n",
    "    output_dim = latentDimensionMF,\n",
    "    name = \"movieEmbeddingMF\",\n",
    "    embeddings_initializer = \"he_normal\",\n",
    "    embeddings_regularizer = tf.keras.regularizers.l2(regMF),\n",
    "    input_length = 1,\n",
    ")\n",
    "\n",
    "userEmbeddingMLP = tf.keras.layers.Embedding(\n",
    "    input_dim = userSize,\n",
    "    output_dim = latentDimensionMLP,\n",
    "    name = \"userEmbeddingMLP\",\n",
    "    embeddings_initializer = \"he_normal\",\n",
    "    embeddings_regularizer = tf.keras.regularizers.l2(regMLP),\n",
    "    input_length = 1,\n",
    ")\n",
    "movieEmbeddingMLP = tf.keras.layers.Embedding(\n",
    "    input_dim = movieSize,\n",
    "    output_dim = latentDimensionMLP,\n",
    "    name=\"movieEmbeddingMLP\",\n",
    "    embeddings_initializer = \"he_normal\",\n",
    "    embeddings_regularizer = tf.keras.regularizers.l2(regMLP),\n",
    "    input_length = 1,\n",
    ")\n",
    "\n",
    "# MF vector\n",
    "userLatentMF = tf.keras.layers.Flatten()(userEmbeddingMF(userInput))\n",
    "movieLatentMF = tf.keras.layers.Flatten()(movieEmbeddingMF(movieInput))\n",
    "catLatentMF = tf.keras.layers.Multiply()([userLatentMF, movieLatentMF])\n",
    "\n",
    "# MLP vector\n",
    "userLatentMLP = tf.keras.layers.Flatten()(userEmbeddingMLP(userInput))\n",
    "movieLatentMLP = tf.keras.layers.Flatten()(movieEmbeddingMLP(movieInput))\n",
    "catLatentMLP = tf.keras.layers.Concatenate()([userLatentMLP, movieLatentMLP])\n",
    "\n",
    "vectorMLP = catLatentMLP\n",
    "\n",
    "layer = tf.keras.layers.Dense(\n",
    "    32,\n",
    "    activity_regularizer = tf.keras.regularizers.l2(regDense),\n",
    "    activation = denseActivation,\n",
    "    name = 'Dense1'\n",
    ")\n",
    "\n",
    "vectorMLP = layer(vectorMLP)\n",
    "\n",
    "layer = tf.keras.layers.Dense(\n",
    "    16,\n",
    "    activity_regularizer = tf.keras.regularizers.l2(regDense),\n",
    "    activation = denseActivation,\n",
    "    name = 'Dense2'\n",
    ")\n",
    "\n",
    "vectorMLP = layer(vectorMLP)\n",
    "\n",
    "predictLayer = tf.keras.layers.Concatenate()([catLatentMF, vectorMLP])\n",
    "\n",
    "result = tf.keras.layers.Dense(1, activation=\"sigmoid\", kernel_initializer=\"lecun_uniform\", name=\"Like\")\n",
    "\n",
    "output = result(predictLayer)\n",
    "\n",
    "model = tf.keras.models.Model(inputs = [userInput, movieInput], outputs = [output])\n",
    "\n",
    "model.summary()"
   ]
  },
  {
   "cell_type": "code",
   "execution_count": 18,
   "metadata": {},
   "outputs": [],
   "source": [
    "#Compile model\n",
    "#Since the dataset has a continuous rating score Mean Squared Error function will be used as loss function\n",
    "#Metrics are also being changed as the problem turns into a regression problem\n",
    "model.compile(\n",
    "    optimizer = tf.keras.optimizers.Adam(),\n",
    "    loss=\"mean_squared_error\",\n",
    "    metrics=[\n",
    "        tf.keras.metrics.MeanSquaredError(name = 'mse'),\n",
    "        tf.keras.metrics.RootMeanSquaredError(name = 'rmse'),\n",
    "        tf.keras.metrics.MeanSquaredLogarithmicError(name = 'msle'),\n",
    "        tf.keras.metrics.MeanAbsoluteError(name = 'mae'),\n",
    "        tf.keras.metrics.MeanAbsolutePercentageError(name = 'mape')\n",
    "    ])"
   ]
  },
  {
   "cell_type": "code",
   "execution_count": 19,
   "metadata": {},
   "outputs": [],
   "source": [
    "#Defining CallBack class for save model\n",
    "class ModelSaver(tf.keras.callbacks.Callback):\n",
    "    def on_epoch_end(self, epoch, logs={}):\n",
    "        #calculation based on epoch + 1 Due to first epoch starts at 0\n",
    "        if (epoch + 1) % 3 == 0:\n",
    "            self.model.save(\"../Model/RatedOnlyModel/Model{}.h5\".format(epoch + 1))"
   ]
  },
  {
   "cell_type": "code",
   "execution_count": 20,
   "metadata": {},
   "outputs": [
    {
     "name": "stdout",
     "output_type": "stream",
     "text": [
      "Train on 753682 samples, validate on 123605 samples\n",
      "Epoch 1/21\n",
      "753682/753682 [==============================] - 179s 237us/sample - loss: 0.0626 - mse: 0.0461 - rmse: 0.2146 - msle: 0.0195 - mae: 0.1675 - mape: 9847556.0000 - val_loss: 0.0522 - val_mse: 0.0403 - val_rmse: 0.2006 - val_msle: 0.0172 - val_mae: 0.1543 - val_mape: 8619841.0000\n",
      "Epoch 2/21\n",
      "753682/753682 [==============================] - 236s 313us/sample - loss: 0.0431 - mse: 0.0378 - rmse: 0.1943 - msle: 0.0161 - mae: 0.1487 - mape: 8192790.0000 - val_loss: 0.0384 - val_mse: 0.0375 - val_rmse: 0.1938 - val_msle: 0.0159 - val_mae: 0.1480 - val_mape: 7592050.5000\n",
      "Epoch 3/21\n",
      "753682/753682 [==============================] - 240s 319us/sample - loss: 0.0364 - mse: 0.0349 - rmse: 0.1868 - msle: 0.0148 - mae: 0.1421 - mape: 7419713.5000 - val_loss: 0.0432 - val_mse: 0.0380 - val_rmse: 0.1948 - val_msle: 0.0159 - val_mae: 0.1495 - val_mape: 7050082.5000\n",
      "Epoch 4/21\n",
      "753682/753682 [==============================] - 240s 318us/sample - loss: 0.0344 - mse: 0.0335 - rmse: 0.1830 - msle: 0.0142 - mae: 0.1386 - mape: 6989734.5000 - val_loss: 0.0387 - val_mse: 0.0369 - val_rmse: 0.1920 - val_msle: 0.0155 - val_mae: 0.1461 - val_mape: 6929403.5000\n",
      "Epoch 5/21\n",
      "753682/753682 [==============================] - 240s 319us/sample - loss: 0.0332 - mse: 0.0326 - rmse: 0.1806 - msle: 0.0138 - mae: 0.1365 - mape: 6706681.5000 - val_loss: 0.0370 - val_mse: 0.0366 - val_rmse: 0.1912 - val_msle: 0.0155 - val_mae: 0.1449 - val_mape: 7252459.5000\n",
      "Epoch 6/21\n",
      "753682/753682 [==============================] - 241s 320us/sample - loss: 0.0324 - mse: 0.0320 - rmse: 0.1789 - msle: 0.0135 - mae: 0.1350 - mape: 6511581.5000 - val_loss: 0.0372 - val_mse: 0.0367 - val_rmse: 0.1916 - val_msle: 0.0155 - val_mae: 0.1449 - val_mape: 7153861.5000\n",
      "Epoch 7/21\n",
      "753682/753682 [==============================] - 241s 319us/sample - loss: 0.0320 - mse: 0.0316 - rmse: 0.1778 - msle: 0.0133 - mae: 0.1338 - mape: 6362002.0000 - val_loss: 0.0368 - val_mse: 0.0367 - val_rmse: 0.1916 - val_msle: 0.0155 - val_mae: 0.1451 - val_mape: 7153364.5000\n",
      "Epoch 8/21\n",
      "753682/753682 [==============================] - 240s 318us/sample - loss: 0.0316 - mse: 0.0313 - rmse: 0.1769 - msle: 0.0132 - mae: 0.1330 - mape: 6310638.0000 - val_loss: 0.0370 - val_mse: 0.0369 - val_rmse: 0.1920 - val_msle: 0.0156 - val_mae: 0.1450 - val_mape: 7332827.5000\n",
      "Epoch 9/21\n",
      "753682/753682 [==============================] - 240s 318us/sample - loss: 0.0313 - mse: 0.0310 - rmse: 0.1761 - msle: 0.0131 - mae: 0.1323 - mape: 6201479.5000 - val_loss: 0.0369 - val_mse: 0.0368 - val_rmse: 0.1918 - val_msle: 0.0156 - val_mae: 0.1449 - val_mape: 7274081.0000\n",
      "Epoch 10/21\n",
      "753682/753682 [==============================] - 240s 318us/sample - loss: 0.0310 - mse: 0.0308 - rmse: 0.1755 - msle: 0.0130 - mae: 0.1317 - mape: 6132457.5000 - val_loss: 0.0369 - val_mse: 0.0369 - val_rmse: 0.1920 - val_msle: 0.0156 - val_mae: 0.1449 - val_mape: 7226738.5000\n",
      "Epoch 11/21\n",
      "753682/753682 [==============================] - 240s 318us/sample - loss: 0.0308 - mse: 0.0306 - rmse: 0.1750 - msle: 0.0129 - mae: 0.1313 - mape: 6057354.5000 - val_loss: 0.0370 - val_mse: 0.0369 - val_rmse: 0.1921 - val_msle: 0.0156 - val_mae: 0.1451 - val_mape: 7265959.0000\n",
      "Epoch 12/21\n",
      "753682/753682 [==============================] - 239s 318us/sample - loss: 0.0307 - mse: 0.0305 - rmse: 0.1746 - msle: 0.0128 - mae: 0.1309 - mape: 6005888.5000 - val_loss: 0.0369 - val_mse: 0.0369 - val_rmse: 0.1920 - val_msle: 0.0156 - val_mae: 0.1450 - val_mape: 7166200.5000\n",
      "Epoch 13/21\n",
      "753682/753682 [==============================] - 240s 318us/sample - loss: 0.0306 - mse: 0.0304 - rmse: 0.1742 - msle: 0.0128 - mae: 0.1306 - mape: 5985517.0000 - val_loss: 0.0373 - val_mse: 0.0371 - val_rmse: 0.1926 - val_msle: 0.0157 - val_mae: 0.1452 - val_mape: 7323680.5000\n",
      "Epoch 14/21\n",
      "753682/753682 [==============================] - 240s 318us/sample - loss: 0.0304 - mse: 0.0302 - rmse: 0.1739 - msle: 0.0127 - mae: 0.1302 - mape: 5943836.0000 - val_loss: 0.0370 - val_mse: 0.0369 - val_rmse: 0.1921 - val_msle: 0.0156 - val_mae: 0.1447 - val_mape: 7122540.0000\n",
      "Epoch 15/21\n",
      "753682/753682 [==============================] - 240s 318us/sample - loss: 0.0304 - mse: 0.0301 - rmse: 0.1736 - msle: 0.0127 - mae: 0.1299 - mape: 5909547.0000 - val_loss: 0.0370 - val_mse: 0.0369 - val_rmse: 0.1920 - val_msle: 0.0156 - val_mae: 0.1448 - val_mape: 7129178.5000\n",
      "Epoch 16/21\n",
      "753682/753682 [==============================] - 239s 317us/sample - loss: 0.0302 - mse: 0.0300 - rmse: 0.1733 - msle: 0.0126 - mae: 0.1297 - mape: 5893427.0000 - val_loss: 0.0371 - val_mse: 0.0370 - val_rmse: 0.1924 - val_msle: 0.0156 - val_mae: 0.1451 - val_mape: 7168093.5000\n",
      "Epoch 17/21\n",
      "753682/753682 [==============================] - 239s 318us/sample - loss: 0.0301 - mse: 0.0299 - rmse: 0.1731 - msle: 0.0126 - mae: 0.1295 - mape: 5843393.0000 - val_loss: 0.0370 - val_mse: 0.0369 - val_rmse: 0.1922 - val_msle: 0.0156 - val_mae: 0.1448 - val_mape: 7176996.0000\n",
      "Epoch 18/21\n",
      "753682/753682 [==============================] - 239s 318us/sample - loss: 0.0301 - mse: 0.0299 - rmse: 0.1730 - msle: 0.0126 - mae: 0.1293 - mape: 5927016.0000 - val_loss: 0.0372 - val_mse: 0.0371 - val_rmse: 0.1927 - val_msle: 0.0157 - val_mae: 0.1452 - val_mape: 7153657.5000\n",
      "Epoch 19/21\n",
      "753682/753682 [==============================] - 240s 318us/sample - loss: 0.0299 - mse: 0.0298 - rmse: 0.1727 - msle: 0.0126 - mae: 0.1291 - mape: 5883335.0000 - val_loss: 0.0370 - val_mse: 0.0370 - val_rmse: 0.1924 - val_msle: 0.0157 - val_mae: 0.1448 - val_mape: 7195139.5000\n",
      "Epoch 20/21\n",
      "753682/753682 [==============================] - 239s 317us/sample - loss: 0.0298 - mse: 0.0298 - rmse: 0.1726 - msle: 0.0125 - mae: 0.1289 - mape: 5875926.5000 - val_loss: 0.0371 - val_mse: 0.0371 - val_rmse: 0.1927 - val_msle: 0.0157 - val_mae: 0.1449 - val_mape: 7238055.0000\n",
      "Epoch 21/21\n",
      "753682/753682 [==============================] - 240s 318us/sample - loss: 0.0297 - mse: 0.0297 - rmse: 0.1724 - msle: 0.0125 - mae: 0.1287 - mape: 5836309.5000 - val_loss: 0.0372 - val_mse: 0.0372 - val_rmse: 0.1928 - val_msle: 0.0157 - val_mae: 0.1450 - val_mape: 7164516.0000\n"
     ]
    }
   ],
   "source": [
    "#ignore warnings due to Converting sparse IndexedSlices to a dense Tensor of unknown shape warning\n",
    "warnings.filterwarnings('ignore')\n",
    "\n",
    "#Fit the model\n",
    "#RatingBased RatedOnly dataset contains continues rating value for each interacted pair\n",
    "#In my opinion this is the best way to create prediction system\n",
    "#So I will focus improve performance of this regression model\n",
    "with tf.device('/GPU:0'):\n",
    "    trainingHistory = model.fit(\n",
    "        x = trainingX,\n",
    "        y = trainingY,\n",
    "        batch_size = 64,\n",
    "        shuffle = True,\n",
    "        callbacks=[ModelSaver()],\n",
    "        epochs = 21,\n",
    "        verbose = 1,\n",
    "        validation_data = (validationX, validationY)\n",
    "    )"
   ]
  },
  {
   "cell_type": "code",
   "execution_count": 21,
   "metadata": {},
   "outputs": [
    {
     "data": {
      "text/plain": [
       "{'loss': [0.06255025910333872,\n",
       "  0.04311628627064262,\n",
       "  0.03636692983038923,\n",
       "  0.034378259752256606,\n",
       "  0.033151210536908275,\n",
       "  0.032443160696355965,\n",
       "  0.03198245103144829,\n",
       "  0.03160998111261064,\n",
       "  0.03127848928085533,\n",
       "  0.0310305165300723,\n",
       "  0.03080638587189288,\n",
       "  0.03071260213673237,\n",
       "  0.0306035354170187,\n",
       "  0.030414620168536816,\n",
       "  0.030370635602102285,\n",
       "  0.03022443229107803,\n",
       "  0.030135488272432176,\n",
       "  0.030058368174878516,\n",
       "  0.029901288874898384,\n",
       "  0.02979836731500512,\n",
       "  0.02972457422366119],\n",
       " 'mse': [0.04605231,\n",
       "  0.037752666,\n",
       "  0.03489387,\n",
       "  0.0334752,\n",
       "  0.032603364,\n",
       "  0.03201376,\n",
       "  0.031596273,\n",
       "  0.031295195,\n",
       "  0.031019865,\n",
       "  0.030812282,\n",
       "  0.030625537,\n",
       "  0.030486012,\n",
       "  0.030357247,\n",
       "  0.03023473,\n",
       "  0.030137096,\n",
       "  0.030037116,\n",
       "  0.029949773,\n",
       "  0.029928954,\n",
       "  0.029838461,\n",
       "  0.029792387,\n",
       "  0.029720847],\n",
       " 'rmse': [0.21459801,\n",
       "  0.19430046,\n",
       "  0.186799,\n",
       "  0.1829623,\n",
       "  0.18056402,\n",
       "  0.17892389,\n",
       "  0.1777534,\n",
       "  0.17690448,\n",
       "  0.17612457,\n",
       "  0.17553428,\n",
       "  0.17500153,\n",
       "  0.17460243,\n",
       "  0.17423332,\n",
       "  0.17388137,\n",
       "  0.17360039,\n",
       "  0.17331219,\n",
       "  0.17306003,\n",
       "  0.17299987,\n",
       "  0.17273813,\n",
       "  0.17260471,\n",
       "  0.17239735],\n",
       " 'msle': [0.019523766,\n",
       "  0.01607177,\n",
       "  0.014817607,\n",
       "  0.014182093,\n",
       "  0.013789261,\n",
       "  0.01352416,\n",
       "  0.013335013,\n",
       "  0.013201239,\n",
       "  0.013075078,\n",
       "  0.012983247,\n",
       "  0.012897359,\n",
       "  0.012837123,\n",
       "  0.012781561,\n",
       "  0.012725709,\n",
       "  0.012682115,\n",
       "  0.012639658,\n",
       "  0.012597276,\n",
       "  0.012599346,\n",
       "  0.012554904,\n",
       "  0.0125354435,\n",
       "  0.012503109],\n",
       " 'mae': [0.16754556,\n",
       "  0.14867705,\n",
       "  0.1420782,\n",
       "  0.13864414,\n",
       "  0.13645744,\n",
       "  0.13497224,\n",
       "  0.13384232,\n",
       "  0.13303415,\n",
       "  0.13234662,\n",
       "  0.13174173,\n",
       "  0.13127187,\n",
       "  0.1309006,\n",
       "  0.13056159,\n",
       "  0.13022447,\n",
       "  0.12994473,\n",
       "  0.1296791,\n",
       "  0.12946312,\n",
       "  0.1293457,\n",
       "  0.12911852,\n",
       "  0.12893341,\n",
       "  0.12874986],\n",
       " 'mape': [9847556.0,\n",
       "  8192790.0,\n",
       "  7419713.5,\n",
       "  6989734.5,\n",
       "  6706681.5,\n",
       "  6511581.5,\n",
       "  6362002.0,\n",
       "  6310638.0,\n",
       "  6201479.5,\n",
       "  6132457.5,\n",
       "  6057354.5,\n",
       "  6005888.5,\n",
       "  5985517.0,\n",
       "  5943836.0,\n",
       "  5909547.0,\n",
       "  5893427.0,\n",
       "  5843393.0,\n",
       "  5927016.0,\n",
       "  5883335.0,\n",
       "  5875926.5,\n",
       "  5836309.5],\n",
       " 'val_loss': [0.05219334642852685,\n",
       "  0.03842330014235253,\n",
       "  0.043157050569480084,\n",
       "  0.03867228416101595,\n",
       "  0.037019185042428064,\n",
       "  0.037223164371521955,\n",
       "  0.03684910678531036,\n",
       "  0.036972877776421206,\n",
       "  0.036878402101550405,\n",
       "  0.036925347501873984,\n",
       "  0.036959965978896586,\n",
       "  0.036940002650387785,\n",
       "  0.03732033277440624,\n",
       "  0.03701883305681981,\n",
       "  0.03695747918841484,\n",
       "  0.03709062362341938,\n",
       "  0.03698607742633303,\n",
       "  0.03718395076909404,\n",
       "  0.03704292942338051,\n",
       "  0.0371261476975521,\n",
       "  0.03716493127534924],\n",
       " 'val_mse': [0.040250342,\n",
       "  0.03754861,\n",
       "  0.03795519,\n",
       "  0.0368559,\n",
       "  0.036575377,\n",
       "  0.0367018,\n",
       "  0.036720127,\n",
       "  0.03685085,\n",
       "  0.036786076,\n",
       "  0.036858846,\n",
       "  0.03690607,\n",
       "  0.036860608,\n",
       "  0.03708189,\n",
       "  0.036918167,\n",
       "  0.036866788,\n",
       "  0.037006665,\n",
       "  0.036930513,\n",
       "  0.03714767,\n",
       "  0.037028763,\n",
       "  0.037122432,\n",
       "  0.03716118],\n",
       " 'val_rmse': [0.20062488,\n",
       "  0.19377464,\n",
       "  0.19482093,\n",
       "  0.1919789,\n",
       "  0.1912469,\n",
       "  0.19157714,\n",
       "  0.19162497,\n",
       "  0.19196576,\n",
       "  0.19179696,\n",
       "  0.19198658,\n",
       "  0.19210953,\n",
       "  0.19199117,\n",
       "  0.19256659,\n",
       "  0.19214101,\n",
       "  0.19200726,\n",
       "  0.19237116,\n",
       "  0.19217314,\n",
       "  0.19273731,\n",
       "  0.19242859,\n",
       "  0.19267182,\n",
       "  0.19277234],\n",
       " 'val_msle': [0.017153973,\n",
       "  0.01589163,\n",
       "  0.01587229,\n",
       "  0.015506589,\n",
       "  0.015474662,\n",
       "  0.015516807,\n",
       "  0.015500269,\n",
       "  0.015590118,\n",
       "  0.01555969,\n",
       "  0.015582786,\n",
       "  0.015600305,\n",
       "  0.015564909,\n",
       "  0.015685014,\n",
       "  0.015608766,\n",
       "  0.015572578,\n",
       "  0.015627904,\n",
       "  0.015613648,\n",
       "  0.015685769,\n",
       "  0.015664158,\n",
       "  0.01571591,\n",
       "  0.015712801],\n",
       " 'val_mae': [0.15428276,\n",
       "  0.14804807,\n",
       "  0.14946006,\n",
       "  0.14605296,\n",
       "  0.14486459,\n",
       "  0.14487068,\n",
       "  0.14508106,\n",
       "  0.14503212,\n",
       "  0.14485805,\n",
       "  0.14493057,\n",
       "  0.1450636,\n",
       "  0.14499396,\n",
       "  0.14518067,\n",
       "  0.144721,\n",
       "  0.14481673,\n",
       "  0.14506197,\n",
       "  0.1447827,\n",
       "  0.14521563,\n",
       "  0.14480567,\n",
       "  0.14485545,\n",
       "  0.14500202],\n",
       " 'val_mape': [8619841.0,\n",
       "  7592050.5,\n",
       "  7050082.5,\n",
       "  6929403.5,\n",
       "  7252459.5,\n",
       "  7153861.5,\n",
       "  7153364.5,\n",
       "  7332827.5,\n",
       "  7274081.0,\n",
       "  7226738.5,\n",
       "  7265959.0,\n",
       "  7166200.5,\n",
       "  7323680.5,\n",
       "  7122540.0,\n",
       "  7129178.5,\n",
       "  7168093.5,\n",
       "  7176996.0,\n",
       "  7153657.5,\n",
       "  7195139.5,\n",
       "  7238055.0,\n",
       "  7164516.0]}"
      ]
     },
     "execution_count": 21,
     "metadata": {},
     "output_type": "execute_result"
    }
   ],
   "source": [
    "#Checking Training history data\n",
    "trainingHistory.history"
   ]
  },
  {
   "cell_type": "code",
   "execution_count": 22,
   "metadata": {},
   "outputs": [],
   "source": [
    "#Import pyplot for graphics\n",
    "from matplotlib import pyplot as plt"
   ]
  },
  {
   "cell_type": "code",
   "execution_count": 23,
   "metadata": {},
   "outputs": [
    {
     "data": {
      "image/png": "[encoded data removed]",
      "text/plain": [
       "<Figure size 432x288 with 1 Axes>"
      ]
     },
     "metadata": {
      "needs_background": "light"
     },
     "output_type": "display_data"
    }
   ],
   "source": [
    "#Loss Graph\n",
    "plt.plot(trainingHistory.history['loss'])\n",
    "plt.plot(trainingHistory.history['val_loss'])\n",
    "plt.title('model loss')\n",
    "plt.ylabel('loss')\n",
    "plt.xlabel('epoch')\n",
    "plt.legend(['train', 'val'], loc='upper left')\n",
    "plt.ticklabel_format(useOffset=False)\n",
    "plt.show()"
   ]
  },
  {
   "cell_type": "code",
   "execution_count": 24,
   "metadata": {},
   "outputs": [
    {
     "data": {
      "image/png": "[encoded data removed]",
      "text/plain": [
       "<Figure size 432x288 with 1 Axes>"
      ]
     },
     "metadata": {
      "needs_background": "light"
     },
     "output_type": "display_data"
    }
   ],
   "source": [
    "#MeanSquaredError Graph\n",
    "plt.plot(trainingHistory.history['mse'])\n",
    "plt.plot(trainingHistory.history['val_mse'])\n",
    "plt.title('model Mean Squared Error')\n",
    "plt.ylabel('mse')\n",
    "plt.xlabel('epoch')\n",
    "plt.legend(['train', 'val'], loc='upper left')\n",
    "plt.ticklabel_format(useOffset=False)\n",
    "plt.show()"
   ]
  },
  {
   "cell_type": "code",
   "execution_count": 25,
   "metadata": {},
   "outputs": [
    {
     "data": {
      "image/png": "[encoded data removed]",
      "text/plain": [
       "<Figure size 432x288 with 1 Axes>"
      ]
     },
     "metadata": {
      "needs_background": "light"
     },
     "output_type": "display_data"
    }
   ],
   "source": [
    "#RootMeanSquaredError Graph\n",
    "plt.plot(trainingHistory.history['rmse'])\n",
    "plt.plot(trainingHistory.history['val_rmse'])\n",
    "plt.title('model Root Mean Squared Error')\n",
    "plt.ylabel('rmse')\n",
    "plt.xlabel('epoch')\n",
    "plt.legend(['train', 'val'], loc='upper left')\n",
    "plt.ticklabel_format(useOffset=False)\n",
    "plt.show()"
   ]
  },
  {
   "cell_type": "code",
   "execution_count": 26,
   "metadata": {},
   "outputs": [
    {
     "data": {
      "image/png": "[encoded data removed]",
      "text/plain": [
       "<Figure size 432x288 with 1 Axes>"
      ]
     },
     "metadata": {
      "needs_background": "light"
     },
     "output_type": "display_data"
    }
   ],
   "source": [
    "#MeanSquaredLogarithmicError Graph\n",
    "plt.plot(trainingHistory.history['msle'])\n",
    "plt.plot(trainingHistory.history['val_msle'])\n",
    "plt.title('model Mean Squared Logarithmic Error')\n",
    "plt.ylabel('msle')\n",
    "plt.xlabel('epoch')\n",
    "plt.legend(['train', 'val'], loc='upper left')\n",
    "plt.ticklabel_format(useOffset=False)\n",
    "plt.show()"
   ]
  },
  {
   "cell_type": "code",
   "execution_count": 27,
   "metadata": {},
   "outputs": [
    {
     "data": {
      "image/png": "[encoded data removed]",
      "text/plain": [
       "<Figure size 432x288 with 1 Axes>"
      ]
     },
     "metadata": {
      "needs_background": "light"
     },
     "output_type": "display_data"
    }
   ],
   "source": [
    "#MeanAbsoluteError Graph\n",
    "plt.plot(trainingHistory.history['mae'])\n",
    "plt.plot(trainingHistory.history['val_mae'])\n",
    "plt.title('model Mean Absolute Error')\n",
    "plt.ylabel('mae')\n",
    "plt.xlabel('epoch')\n",
    "plt.legend(['train', 'val'], loc='upper left')\n",
    "plt.ticklabel_format(useOffset=False)\n",
    "plt.show()"
   ]
  },
  {
   "cell_type": "code",
   "execution_count": 28,
   "metadata": {},
   "outputs": [
    {
     "data": {
      "image/png": "[encoded data removed]",
      "text/plain": [
       "<Figure size 432x288 with 1 Axes>"
      ]
     },
     "metadata": {
      "needs_background": "light"
     },
     "output_type": "display_data"
    }
   ],
   "source": [
    "#MeanAbsolutePercentageError Graph\n",
    "plt.plot(trainingHistory.history['mape'])\n",
    "plt.plot(trainingHistory.history['val_mape'])\n",
    "plt.title('model Mean Absolute Percentage Error')\n",
    "plt.ylabel('mape')\n",
    "plt.xlabel('epoch')\n",
    "plt.legend(['train', 'val'], loc='upper left')\n",
    "plt.ticklabel_format(useOffset=False)\n",
    "plt.show()"
   ]
  },
  {
   "cell_type": "code",
   "execution_count": 29,
   "metadata": {},
   "outputs": [
    {
     "data": {
      "text/html": [
       "<div>\n",
       "<style scoped>\n",
       "    .dataframe tbody tr th:only-of-type {\n",
       "        vertical-align: middle;\n",
       "    }\n",
       "\n",
       "    .dataframe tbody tr th {\n",
       "        vertical-align: top;\n",
       "    }\n",
       "\n",
       "    .dataframe thead th {\n",
       "        text-align: right;\n",
       "    }\n",
       "</style>\n",
       "<table border=\"1\" class=\"dataframe\">\n",
       "  <thead>\n",
       "    <tr style=\"text-align: right;\">\n",
       "      <th></th>\n",
       "      <th>UserId</th>\n",
       "      <th>MovieId</th>\n",
       "      <th>Rating</th>\n",
       "    </tr>\n",
       "  </thead>\n",
       "  <tbody>\n",
       "    <tr>\n",
       "      <td>0</td>\n",
       "      <td>2092</td>\n",
       "      <td>1440</td>\n",
       "      <td>0.777778</td>\n",
       "    </tr>\n",
       "    <tr>\n",
       "      <td>1</td>\n",
       "      <td>464</td>\n",
       "      <td>4450</td>\n",
       "      <td>0.777778</td>\n",
       "    </tr>\n",
       "    <tr>\n",
       "      <td>2</td>\n",
       "      <td>787</td>\n",
       "      <td>617</td>\n",
       "      <td>0.777778</td>\n",
       "    </tr>\n",
       "    <tr>\n",
       "      <td>3</td>\n",
       "      <td>3980</td>\n",
       "      <td>376</td>\n",
       "      <td>1.000000</td>\n",
       "    </tr>\n",
       "    <tr>\n",
       "      <td>4</td>\n",
       "      <td>3111</td>\n",
       "      <td>165</td>\n",
       "      <td>0.777778</td>\n",
       "    </tr>\n",
       "    <tr>\n",
       "      <td>...</td>\n",
       "      <td>...</td>\n",
       "      <td>...</td>\n",
       "      <td>...</td>\n",
       "    </tr>\n",
       "    <tr>\n",
       "      <td>123601</td>\n",
       "      <td>338</td>\n",
       "      <td>4367</td>\n",
       "      <td>0.000000</td>\n",
       "    </tr>\n",
       "    <tr>\n",
       "      <td>123602</td>\n",
       "      <td>4526</td>\n",
       "      <td>1536</td>\n",
       "      <td>0.777778</td>\n",
       "    </tr>\n",
       "    <tr>\n",
       "      <td>123603</td>\n",
       "      <td>8778</td>\n",
       "      <td>950</td>\n",
       "      <td>0.888889</td>\n",
       "    </tr>\n",
       "    <tr>\n",
       "      <td>123604</td>\n",
       "      <td>9104</td>\n",
       "      <td>674</td>\n",
       "      <td>0.888889</td>\n",
       "    </tr>\n",
       "    <tr>\n",
       "      <td>123605</td>\n",
       "      <td>3898</td>\n",
       "      <td>1336</td>\n",
       "      <td>1.000000</td>\n",
       "    </tr>\n",
       "  </tbody>\n",
       "</table>\n",
       "<p>123606 rows × 3 columns</p>\n",
       "</div>"
      ],
      "text/plain": [
       "        UserId  MovieId    Rating\n",
       "0         2092     1440  0.777778\n",
       "1          464     4450  0.777778\n",
       "2          787      617  0.777778\n",
       "3         3980      376  1.000000\n",
       "4         3111      165  0.777778\n",
       "...        ...      ...       ...\n",
       "123601     338     4367  0.000000\n",
       "123602    4526     1536  0.777778\n",
       "123603    8778      950  0.888889\n",
       "123604    9104      674  0.888889\n",
       "123605    3898     1336  1.000000\n",
       "\n",
       "[123606 rows x 3 columns]"
      ]
     },
     "execution_count": 29,
     "metadata": {},
     "output_type": "execute_result"
    }
   ],
   "source": [
    "#Reading Qualified RatingBased RatedOnly test data from pkl file\n",
    "testDf = pd.read_pickle(\"../Data/pkl/1M/Qualified/RatingBased/RatedOnly/Test.pkl\")\n",
    "testDf"
   ]
  },
  {
   "cell_type": "code",
   "execution_count": 30,
   "metadata": {},
   "outputs": [
    {
     "data": {
      "text/plain": [
       "array([2092,  464,  787, ..., 8778, 9104, 3898])"
      ]
     },
     "execution_count": 30,
     "metadata": {},
     "output_type": "execute_result"
    }
   ],
   "source": [
    "#creating a user array for test input \n",
    "testUser = testDf[['UserId']].values.astype(np.int32)\n",
    "testUser = testUser.reshape((testUser.shape[0]))\n",
    "testUser"
   ]
  },
  {
   "cell_type": "code",
   "execution_count": 31,
   "metadata": {},
   "outputs": [
    {
     "data": {
      "text/plain": [
       "array([1440, 4450,  617, ...,  950,  674, 1336])"
      ]
     },
     "execution_count": 31,
     "metadata": {},
     "output_type": "execute_result"
    }
   ],
   "source": [
    "#creating a movie array for test input \n",
    "testMovie = testDf[['MovieId']].values.astype(np.int32)\n",
    "testMovie = testMovie.reshape((testMovie.shape[0]))\n",
    "testMovie"
   ]
  },
  {
   "cell_type": "code",
   "execution_count": 32,
   "metadata": {},
   "outputs": [
    {
     "data": {
      "text/plain": [
       "[array([2092,  464,  787, ..., 8778, 9104, 3898]),\n",
       " array([1440, 4450,  617, ...,  950,  674, 1336])]"
      ]
     },
     "execution_count": 32,
     "metadata": {},
     "output_type": "execute_result"
    }
   ],
   "source": [
    "#creating an array for test input \n",
    "testX = [testUser, testMovie]\n",
    "testX"
   ]
  },
  {
   "cell_type": "code",
   "execution_count": 33,
   "metadata": {},
   "outputs": [
    {
     "data": {
      "text/plain": [
       "array([0.7777778, 0.7777778, 0.7777778, ..., 0.8888889, 0.8888889,\n",
       "       1.       ], dtype=float32)"
      ]
     },
     "execution_count": 33,
     "metadata": {},
     "output_type": "execute_result"
    }
   ],
   "source": [
    "#creating an array for test output \n",
    "testY = testDf[['Rating']].values.astype(np.float32)\n",
    "testY = testY.reshape((testY.shape[0]))\n",
    "testY"
   ]
  },
  {
   "cell_type": "code",
   "execution_count": 34,
   "metadata": {},
   "outputs": [],
   "source": [
    "#Clearing Memory\n",
    "del testDf"
   ]
  },
  {
   "cell_type": "code",
   "execution_count": 35,
   "metadata": {},
   "outputs": [],
   "source": [
    "#Model evaluating with test values\n",
    "testResult = model.evaluate(x = testX, y = testY, batch_size = 64, verbose = 0)"
   ]
  },
  {
   "cell_type": "code",
   "execution_count": 36,
   "metadata": {},
   "outputs": [
    {
     "data": {
      "text/plain": [
       "[0.0372706268966982,\n",
       " 0.037266865,\n",
       " 0.19304627,\n",
       " 0.015764818,\n",
       " 0.14545813,\n",
       " 7129479.5]"
      ]
     },
     "execution_count": 36,
     "metadata": {},
     "output_type": "execute_result"
    }
   ],
   "source": [
    "#Print testResult for Last Model\n",
    "testResult"
   ]
  },
  {
   "cell_type": "code",
   "execution_count": 37,
   "metadata": {},
   "outputs": [
    {
     "name": "stdout",
     "output_type": "stream",
     "text": [
      "Test Loss: 0.0372706268966982\n"
     ]
    }
   ],
   "source": [
    "#Print Test Loss for Last Model\n",
    "print(\"Test Loss: \" + str(testResult[0]))"
   ]
  },
  {
   "cell_type": "code",
   "execution_count": 38,
   "metadata": {},
   "outputs": [
    {
     "name": "stdout",
     "output_type": "stream",
     "text": [
      "Test Mse: 0.037266865\n"
     ]
    }
   ],
   "source": [
    "#Print Test Mse for Last Model\n",
    "print(\"Test Mse: \" + str(testResult[1]))"
   ]
  },
  {
   "cell_type": "code",
   "execution_count": 39,
   "metadata": {},
   "outputs": [
    {
     "name": "stdout",
     "output_type": "stream",
     "text": [
      "Test Rmse: 0.19304627\n"
     ]
    }
   ],
   "source": [
    "#Print Test Rmse for Last Model\n",
    "print(\"Test Rmse: \" + str(testResult[2]))"
   ]
  },
  {
   "cell_type": "code",
   "execution_count": 40,
   "metadata": {},
   "outputs": [
    {
     "name": "stdout",
     "output_type": "stream",
     "text": [
      "Test Msle: 0.015764818\n"
     ]
    }
   ],
   "source": [
    "#Print Test Msle for Last Model\n",
    "print(\"Test Msle: \" + str(testResult[3]))"
   ]
  },
  {
   "cell_type": "code",
   "execution_count": 41,
   "metadata": {},
   "outputs": [
    {
     "name": "stdout",
     "output_type": "stream",
     "text": [
      "Test Mae: 0.14545813\n"
     ]
    }
   ],
   "source": [
    "#Print Test Mae for Last Model\n",
    "print(\"Test Mae: \" + str(testResult[4]))"
   ]
  },
  {
   "cell_type": "code",
   "execution_count": 42,
   "metadata": {
    "scrolled": false
   },
   "outputs": [
    {
     "name": "stdout",
     "output_type": "stream",
     "text": [
      "Test Mape: 7129479.5\n"
     ]
    }
   ],
   "source": [
    "#Print Test Mape for Last Model\n",
    "print(\"Test Mape: \" + str(testResult[5]))"
   ]
  },
  {
   "cell_type": "code",
   "execution_count": 43,
   "metadata": {},
   "outputs": [],
   "source": [
    "#When the metric graphs are examined, it is seen that the best model is reached between the 10th and 15th epochs.\n",
    "#After the 15th epoch, the amount of performance does not seem to change much.\n",
    "#After the 15th epoch, the model started to manage overfitting.\n",
    "#So the model in the 15th epoch is determined as the best model.\n",
    "\n",
    "#Model15 Loading from h5 file\n",
    "model = tf.keras.models.load_model(\"../Model/RatedOnlyModel/Model15.h5\")"
   ]
  },
  {
   "cell_type": "code",
   "execution_count": 44,
   "metadata": {},
   "outputs": [],
   "source": [
    "#Best Model evaluating with test values\n",
    "testResultBestModel = model.evaluate(x = testX, y = testY, batch_size = 64, verbose = 0)"
   ]
  },
  {
   "cell_type": "code",
   "execution_count": 45,
   "metadata": {},
   "outputs": [
    {
     "data": {
      "text/plain": [
       "[0.03714138613978981,\n",
       " 0.037050717,\n",
       " 0.19248563,\n",
       " 0.015663018,\n",
       " 0.14532414,\n",
       " 7102044.0]"
      ]
     },
     "execution_count": 45,
     "metadata": {},
     "output_type": "execute_result"
    }
   ],
   "source": [
    "#Print testResult for Best Model\n",
    "testResultBestModel"
   ]
  },
  {
   "cell_type": "code",
   "execution_count": 46,
   "metadata": {},
   "outputs": [
    {
     "name": "stdout",
     "output_type": "stream",
     "text": [
      "Test Loss: 0.03714138613978981\n"
     ]
    }
   ],
   "source": [
    "#Print Test Loss for Best Model\n",
    "print(\"Test Loss: \" + str(testResultBestModel[0]))"
   ]
  },
  {
   "cell_type": "code",
   "execution_count": 47,
   "metadata": {},
   "outputs": [
    {
     "name": "stdout",
     "output_type": "stream",
     "text": [
      "Test Mse: 0.037050717\n"
     ]
    }
   ],
   "source": [
    "#Print Test Mse for Best Model\n",
    "print(\"Test Mse: \" + str(testResultBestModel[1]))"
   ]
  },
  {
   "cell_type": "code",
   "execution_count": 48,
   "metadata": {},
   "outputs": [
    {
     "name": "stdout",
     "output_type": "stream",
     "text": [
      "Test Rmse: 0.19248563\n"
     ]
    }
   ],
   "source": [
    "#Print Test Rmse for Best Model\n",
    "print(\"Test Rmse: \" + str(testResultBestModel[2]))"
   ]
  },
  {
   "cell_type": "code",
   "execution_count": 49,
   "metadata": {},
   "outputs": [
    {
     "name": "stdout",
     "output_type": "stream",
     "text": [
      "Test Msle: 0.015663018\n"
     ]
    }
   ],
   "source": [
    "#Print Test Msle for Best Model\n",
    "print(\"Test Msle: \" + str(testResultBestModel[3]))"
   ]
  },
  {
   "cell_type": "code",
   "execution_count": 50,
   "metadata": {},
   "outputs": [
    {
     "name": "stdout",
     "output_type": "stream",
     "text": [
      "Test Mae: 0.14532414\n"
     ]
    }
   ],
   "source": [
    "#Print Test Mae for Best Model\n",
    "print(\"Test Mae: \" + str(testResultBestModel[4]))"
   ]
  },
  {
   "cell_type": "code",
   "execution_count": 51,
   "metadata": {
    "scrolled": false
   },
   "outputs": [
    {
     "name": "stdout",
     "output_type": "stream",
     "text": [
      "Test Mape: 7102044.0\n"
     ]
    }
   ],
   "source": [
    "#Print Test Mape for Best Model\n",
    "print(\"Test Mape: \" + str(testResultBestModel[5]))"
   ]
  },
  {
   "cell_type": "markdown",
   "metadata": {},
   "source": [
    "# Analysing Result\n",
    "\n",
    "As can be seen above, the performance of the model obtained at the end of the trainingand the 15th model that chosen as the best model on the test data is almost equal\n",
    "\n",
    "In this case, it is pointless to train the model further after the 15th epoch\n",
    "\n",
    "Result look good\n",
    "\n",
    "Dataset is usefull for recommendation system"
   ]
  }
 ],
 "metadata": {
  "kernelspec": {
   "display_name": "Python 3",
   "language": "python",
   "name": "python3"
  },
  "language_info": {
   "codemirror_mode": {
    "name": "ipython",
    "version": 3
   },
   "file_extension": ".py",
   "mimetype": "text/x-python",
   "name": "python",
   "nbconvert_exporter": "python",
   "pygments_lexer": "ipython3",
   "version": "3.7.4"
  }
 },
 "nbformat": 4,
 "nbformat_minor": 2
}
