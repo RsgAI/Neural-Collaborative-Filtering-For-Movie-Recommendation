{
 "cells": [
  {
   "cell_type": "markdown",
   "metadata": {},
   "source": [
    "# Model will be trained with BinaryInteraction InteractedOnly Data\n",
    "\n",
    "BinaryInteraction InteractedOnly dataset contains only interacted pairs\n",
    "\n",
    "The model trained with this data will tend to produce a positive output for each input\n",
    "\n",
    "So BinaryInteraction InteractedOnly dataset cannot used for training a recommandation model\n",
    "\n",
    "There is no any expectation from this training"
   ]
  },
  {
   "cell_type": "code",
   "execution_count": 1,
   "metadata": {},
   "outputs": [],
   "source": [
    "#Importing libraries\n",
    "import numpy as np\n",
    "import pandas as pd\n",
    "import tensorflow as tf\n",
    "import warnings"
   ]
  },
  {
   "cell_type": "code",
   "execution_count": 2,
   "metadata": {},
   "outputs": [
    {
     "name": "stdout",
     "output_type": "stream",
     "text": [
      "numpy Version: 1.16.5\n",
      "pandas Version: 0.25.1\n",
      "tensorflow Version: 2.0.0\n"
     ]
    }
   ],
   "source": [
    "#Printing library versions\n",
    "print('numpy Version: ' + np.__version__)\n",
    "print('pandas Version: ' + pd.__version__)\n",
    "print('tensorflow Version: ' + tf.__version__)"
   ]
  },
  {
   "cell_type": "code",
   "execution_count": 3,
   "metadata": {},
   "outputs": [
    {
     "name": "stdout",
     "output_type": "stream",
     "text": [
      "/device:GPU:0\n"
     ]
    }
   ],
   "source": [
    "#GPU will be used for training\n",
    "myGPU = tf.test.gpu_device_name()\n",
    "if myGPU:\n",
    "    print(myGPU)\n",
    "else:\n",
    "    print(\"Error\")"
   ]
  },
  {
   "cell_type": "code",
   "execution_count": 4,
   "metadata": {
    "scrolled": false
   },
   "outputs": [
    {
     "data": {
      "text/html": [
       "<div>\n",
       "<style scoped>\n",
       "    .dataframe tbody tr th:only-of-type {\n",
       "        vertical-align: middle;\n",
       "    }\n",
       "\n",
       "    .dataframe tbody tr th {\n",
       "        vertical-align: top;\n",
       "    }\n",
       "\n",
       "    .dataframe thead th {\n",
       "        text-align: right;\n",
       "    }\n",
       "</style>\n",
       "<table border=\"1\" class=\"dataframe\">\n",
       "  <thead>\n",
       "    <tr style=\"text-align: right;\">\n",
       "      <th></th>\n",
       "      <th>UserId</th>\n",
       "      <th>MovieId</th>\n",
       "      <th>Interaction</th>\n",
       "    </tr>\n",
       "  </thead>\n",
       "  <tbody>\n",
       "    <tr>\n",
       "      <td>0</td>\n",
       "      <td>4356</td>\n",
       "      <td>1027</td>\n",
       "      <td>1</td>\n",
       "    </tr>\n",
       "    <tr>\n",
       "      <td>1</td>\n",
       "      <td>3946</td>\n",
       "      <td>236</td>\n",
       "      <td>1</td>\n",
       "    </tr>\n",
       "    <tr>\n",
       "      <td>2</td>\n",
       "      <td>1399</td>\n",
       "      <td>113</td>\n",
       "      <td>1</td>\n",
       "    </tr>\n",
       "    <tr>\n",
       "      <td>3</td>\n",
       "      <td>3078</td>\n",
       "      <td>1586</td>\n",
       "      <td>1</td>\n",
       "    </tr>\n",
       "    <tr>\n",
       "      <td>4</td>\n",
       "      <td>8244</td>\n",
       "      <td>806</td>\n",
       "      <td>1</td>\n",
       "    </tr>\n",
       "    <tr>\n",
       "      <td>...</td>\n",
       "      <td>...</td>\n",
       "      <td>...</td>\n",
       "      <td>...</td>\n",
       "    </tr>\n",
       "    <tr>\n",
       "      <td>753540</td>\n",
       "      <td>3299</td>\n",
       "      <td>795</td>\n",
       "      <td>1</td>\n",
       "    </tr>\n",
       "    <tr>\n",
       "      <td>753541</td>\n",
       "      <td>4805</td>\n",
       "      <td>3723</td>\n",
       "      <td>1</td>\n",
       "    </tr>\n",
       "    <tr>\n",
       "      <td>753542</td>\n",
       "      <td>8255</td>\n",
       "      <td>94</td>\n",
       "      <td>1</td>\n",
       "    </tr>\n",
       "    <tr>\n",
       "      <td>753543</td>\n",
       "      <td>5854</td>\n",
       "      <td>1077</td>\n",
       "      <td>1</td>\n",
       "    </tr>\n",
       "    <tr>\n",
       "      <td>753544</td>\n",
       "      <td>216</td>\n",
       "      <td>1683</td>\n",
       "      <td>1</td>\n",
       "    </tr>\n",
       "  </tbody>\n",
       "</table>\n",
       "<p>753545 rows × 3 columns</p>\n",
       "</div>"
      ],
      "text/plain": [
       "        UserId  MovieId  Interaction\n",
       "0         4356     1027            1\n",
       "1         3946      236            1\n",
       "2         1399      113            1\n",
       "3         3078     1586            1\n",
       "4         8244      806            1\n",
       "...        ...      ...          ...\n",
       "753540    3299      795            1\n",
       "753541    4805     3723            1\n",
       "753542    8255       94            1\n",
       "753543    5854     1077            1\n",
       "753544     216     1683            1\n",
       "\n",
       "[753545 rows x 3 columns]"
      ]
     },
     "execution_count": 4,
     "metadata": {},
     "output_type": "execute_result"
    }
   ],
   "source": [
    "#Reading Qualified BinaryInteraction InteractedOnly training data from pkl file\n",
    "trainingDf = pd.read_pickle(\"../Data/pkl/1M/Qualified/BinaryInteraction/InteractedOnly/Training.pkl\")\n",
    "trainingDf"
   ]
  },
  {
   "cell_type": "code",
   "execution_count": 5,
   "metadata": {},
   "outputs": [
    {
     "data": {
      "text/plain": [
       "array([4356, 3946, 1399, ..., 8255, 5854,  216])"
      ]
     },
     "execution_count": 5,
     "metadata": {},
     "output_type": "execute_result"
    }
   ],
   "source": [
    "#creating a user array for training input \n",
    "trainingUser = trainingDf[['UserId']].values.astype(np.int32)\n",
    "trainingUser = trainingUser.reshape((trainingUser.shape[0]))\n",
    "trainingUser"
   ]
  },
  {
   "cell_type": "code",
   "execution_count": 6,
   "metadata": {},
   "outputs": [
    {
     "data": {
      "text/plain": [
       "array([1027,  236,  113, ...,   94, 1077, 1683])"
      ]
     },
     "execution_count": 6,
     "metadata": {},
     "output_type": "execute_result"
    }
   ],
   "source": [
    "#creating a movie array for training input \n",
    "trainingMovie = trainingDf[['MovieId']].values.astype(np.int32)\n",
    "trainingMovie = trainingMovie.reshape((trainingMovie.shape[0]))\n",
    "trainingMovie"
   ]
  },
  {
   "cell_type": "code",
   "execution_count": 7,
   "metadata": {},
   "outputs": [
    {
     "data": {
      "text/plain": [
       "[array([4356, 3946, 1399, ..., 8255, 5854,  216]),\n",
       " array([1027,  236,  113, ...,   94, 1077, 1683])]"
      ]
     },
     "execution_count": 7,
     "metadata": {},
     "output_type": "execute_result"
    }
   ],
   "source": [
    "#creating an array for training input \n",
    "trainingX = [trainingUser, trainingMovie]\n",
    "trainingX"
   ]
  },
  {
   "cell_type": "code",
   "execution_count": 8,
   "metadata": {},
   "outputs": [
    {
     "data": {
      "text/plain": [
       "array([1, 1, 1, ..., 1, 1, 1], dtype=int8)"
      ]
     },
     "execution_count": 8,
     "metadata": {},
     "output_type": "execute_result"
    }
   ],
   "source": [
    "#creating an array for training output \n",
    "trainingY = trainingDf[['Interaction']].values.astype(np.int8)\n",
    "trainingY = trainingY.reshape((trainingY.shape[0]))\n",
    "trainingY"
   ]
  },
  {
   "cell_type": "code",
   "execution_count": 9,
   "metadata": {},
   "outputs": [],
   "source": [
    "#Clearing Memory\n",
    "del trainingDf"
   ]
  },
  {
   "cell_type": "code",
   "execution_count": 10,
   "metadata": {
    "scrolled": true
   },
   "outputs": [
    {
     "data": {
      "text/html": [
       "<div>\n",
       "<style scoped>\n",
       "    .dataframe tbody tr th:only-of-type {\n",
       "        vertical-align: middle;\n",
       "    }\n",
       "\n",
       "    .dataframe tbody tr th {\n",
       "        vertical-align: top;\n",
       "    }\n",
       "\n",
       "    .dataframe thead th {\n",
       "        text-align: right;\n",
       "    }\n",
       "</style>\n",
       "<table border=\"1\" class=\"dataframe\">\n",
       "  <thead>\n",
       "    <tr style=\"text-align: right;\">\n",
       "      <th></th>\n",
       "      <th>UserId</th>\n",
       "      <th>MovieId</th>\n",
       "      <th>Interaction</th>\n",
       "    </tr>\n",
       "  </thead>\n",
       "  <tbody>\n",
       "    <tr>\n",
       "      <td>0</td>\n",
       "      <td>7693</td>\n",
       "      <td>399</td>\n",
       "      <td>1</td>\n",
       "    </tr>\n",
       "    <tr>\n",
       "      <td>1</td>\n",
       "      <td>9590</td>\n",
       "      <td>1096</td>\n",
       "      <td>1</td>\n",
       "    </tr>\n",
       "    <tr>\n",
       "      <td>2</td>\n",
       "      <td>8546</td>\n",
       "      <td>285</td>\n",
       "      <td>1</td>\n",
       "    </tr>\n",
       "    <tr>\n",
       "      <td>3</td>\n",
       "      <td>9622</td>\n",
       "      <td>588</td>\n",
       "      <td>1</td>\n",
       "    </tr>\n",
       "    <tr>\n",
       "      <td>4</td>\n",
       "      <td>3870</td>\n",
       "      <td>1342</td>\n",
       "      <td>1</td>\n",
       "    </tr>\n",
       "    <tr>\n",
       "      <td>...</td>\n",
       "      <td>...</td>\n",
       "      <td>...</td>\n",
       "      <td>...</td>\n",
       "    </tr>\n",
       "    <tr>\n",
       "      <td>123669</td>\n",
       "      <td>8317</td>\n",
       "      <td>517</td>\n",
       "      <td>1</td>\n",
       "    </tr>\n",
       "    <tr>\n",
       "      <td>123670</td>\n",
       "      <td>2133</td>\n",
       "      <td>25</td>\n",
       "      <td>1</td>\n",
       "    </tr>\n",
       "    <tr>\n",
       "      <td>123671</td>\n",
       "      <td>8927</td>\n",
       "      <td>694</td>\n",
       "      <td>1</td>\n",
       "    </tr>\n",
       "    <tr>\n",
       "      <td>123672</td>\n",
       "      <td>9450</td>\n",
       "      <td>88</td>\n",
       "      <td>1</td>\n",
       "    </tr>\n",
       "    <tr>\n",
       "      <td>123673</td>\n",
       "      <td>2806</td>\n",
       "      <td>61</td>\n",
       "      <td>1</td>\n",
       "    </tr>\n",
       "  </tbody>\n",
       "</table>\n",
       "<p>123674 rows × 3 columns</p>\n",
       "</div>"
      ],
      "text/plain": [
       "        UserId  MovieId  Interaction\n",
       "0         7693      399            1\n",
       "1         9590     1096            1\n",
       "2         8546      285            1\n",
       "3         9622      588            1\n",
       "4         3870     1342            1\n",
       "...        ...      ...          ...\n",
       "123669    8317      517            1\n",
       "123670    2133       25            1\n",
       "123671    8927      694            1\n",
       "123672    9450       88            1\n",
       "123673    2806       61            1\n",
       "\n",
       "[123674 rows x 3 columns]"
      ]
     },
     "execution_count": 10,
     "metadata": {},
     "output_type": "execute_result"
    }
   ],
   "source": [
    "#Reading Qualified BinaryInteraction InteractedOnly validation data from pkl file\n",
    "validationDf = pd.read_pickle(\"../Data/pkl/1M/Qualified/BinaryInteraction/InteractedOnly/Validation.pkl\")\n",
    "validationDf"
   ]
  },
  {
   "cell_type": "code",
   "execution_count": 11,
   "metadata": {},
   "outputs": [
    {
     "data": {
      "text/plain": [
       "array([7693, 9590, 8546, ..., 8927, 9450, 2806])"
      ]
     },
     "execution_count": 11,
     "metadata": {},
     "output_type": "execute_result"
    }
   ],
   "source": [
    "#creating a user array for validation input \n",
    "validationUser = validationDf[['UserId']].values.astype(np.int32)\n",
    "validationUser = validationUser.reshape((validationUser.shape[0]))\n",
    "validationUser"
   ]
  },
  {
   "cell_type": "code",
   "execution_count": 12,
   "metadata": {},
   "outputs": [
    {
     "data": {
      "text/plain": [
       "array([ 399, 1096,  285, ...,  694,   88,   61])"
      ]
     },
     "execution_count": 12,
     "metadata": {},
     "output_type": "execute_result"
    }
   ],
   "source": [
    "#creating a movie array for validation input \n",
    "validationMovie = validationDf[['MovieId']].values.astype(np.int32)\n",
    "validationMovie = validationMovie.reshape((validationMovie.shape[0]))\n",
    "validationMovie"
   ]
  },
  {
   "cell_type": "code",
   "execution_count": 13,
   "metadata": {},
   "outputs": [
    {
     "data": {
      "text/plain": [
       "[array([7693, 9590, 8546, ..., 8927, 9450, 2806]),\n",
       " array([ 399, 1096,  285, ...,  694,   88,   61])]"
      ]
     },
     "execution_count": 13,
     "metadata": {},
     "output_type": "execute_result"
    }
   ],
   "source": [
    "#creating an array for validation input \n",
    "validationX = [validationUser, validationMovie]\n",
    "validationX"
   ]
  },
  {
   "cell_type": "code",
   "execution_count": 14,
   "metadata": {},
   "outputs": [
    {
     "data": {
      "text/plain": [
       "array([1, 1, 1, ..., 1, 1, 1], dtype=int8)"
      ]
     },
     "execution_count": 14,
     "metadata": {},
     "output_type": "execute_result"
    }
   ],
   "source": [
    "#creating an array for validation output \n",
    "validationY = validationDf[['Interaction']].values.astype(np.int8)\n",
    "validationY = validationY.reshape((validationY.shape[0]))\n",
    "validationY"
   ]
  },
  {
   "cell_type": "code",
   "execution_count": 15,
   "metadata": {},
   "outputs": [],
   "source": [
    "#Clearing Memory\n",
    "del validationDf"
   ]
  },
  {
   "cell_type": "code",
   "execution_count": 16,
   "metadata": {},
   "outputs": [],
   "source": [
    "#Setting model variables\n",
    "userSize = 10073\n",
    "movieSize = 22033\n",
    "latentDimensionMF = 4\n",
    "latentDimensionMLP = 32\n",
    "regMF = 0\n",
    "regMLP = 0.01\n",
    "regDense = 0.01\n",
    "denseActivation = 'relu'"
   ]
  },
  {
   "cell_type": "code",
   "execution_count": 17,
   "metadata": {},
   "outputs": [
    {
     "name": "stdout",
     "output_type": "stream",
     "text": [
      "Model: \"model\"\n",
      "__________________________________________________________________________________________________\n",
      "Layer (type)                    Output Shape         Param #     Connected to                     \n",
      "==================================================================================================\n",
      "userId (InputLayer)             [(None,)]            0                                            \n",
      "__________________________________________________________________________________________________\n",
      "movieId (InputLayer)            [(None,)]            0                                            \n",
      "__________________________________________________________________________________________________\n",
      "userEmbeddingMLP (Embedding)    (None, 32)           322336      userId[0][0]                     \n",
      "__________________________________________________________________________________________________\n",
      "movieEmbeddingMLP (Embedding)   (None, 32)           705056      movieId[0][0]                    \n",
      "__________________________________________________________________________________________________\n",
      "flatten_2 (Flatten)             (None, 32)           0           userEmbeddingMLP[0][0]           \n",
      "__________________________________________________________________________________________________\n",
      "flatten_3 (Flatten)             (None, 32)           0           movieEmbeddingMLP[0][0]          \n",
      "__________________________________________________________________________________________________\n",
      "userEmbeddingMF (Embedding)     (None, 4)            40292       userId[0][0]                     \n",
      "__________________________________________________________________________________________________\n",
      "movieEmbeddingMF (Embedding)    (None, 4)            88132       movieId[0][0]                    \n",
      "__________________________________________________________________________________________________\n",
      "concatenate (Concatenate)       (None, 64)           0           flatten_2[0][0]                  \n",
      "                                                                 flatten_3[0][0]                  \n",
      "__________________________________________________________________________________________________\n",
      "flatten (Flatten)               (None, 4)            0           userEmbeddingMF[0][0]            \n",
      "__________________________________________________________________________________________________\n",
      "flatten_1 (Flatten)             (None, 4)            0           movieEmbeddingMF[0][0]           \n",
      "__________________________________________________________________________________________________\n",
      "Dense1 (Dense)                  (None, 32)           2080        concatenate[0][0]                \n",
      "__________________________________________________________________________________________________\n",
      "multiply (Multiply)             (None, 4)            0           flatten[0][0]                    \n",
      "                                                                 flatten_1[0][0]                  \n",
      "__________________________________________________________________________________________________\n",
      "Dense2 (Dense)                  (None, 16)           528         Dense1[0][0]                     \n",
      "__________________________________________________________________________________________________\n",
      "concatenate_1 (Concatenate)     (None, 20)           0           multiply[0][0]                   \n",
      "                                                                 Dense2[0][0]                     \n",
      "__________________________________________________________________________________________________\n",
      "Interaction (Dense)             (None, 1)            21          concatenate_1[0][0]              \n",
      "==================================================================================================\n",
      "Total params: 1,158,445\n",
      "Trainable params: 1,158,445\n",
      "Non-trainable params: 0\n",
      "__________________________________________________________________________________________________\n"
     ]
    }
   ],
   "source": [
    "#Creating Neural Collaborative Filtering(NCF) model\n",
    "\n",
    "#This Neural matrix factorization model based on https://arxiv.org/pdf/1708.05031.pdf\n",
    "#As a result of the researches, it was determined as the most useful architecture\n",
    "#This architecture will be trained with different data types and explanations will be made on the results. \n",
    "\n",
    "\n",
    "# input layer\n",
    "userInput = tf.keras.layers.Input(shape = (), dtype = \"int32\", name = \"userId\")\n",
    "movieInput = tf.keras.layers.Input(shape = (), dtype = \"int32\", name = \"movieId\")\n",
    "\n",
    "# embedding layers\n",
    "userEmbeddingMF = tf.keras.layers.Embedding(\n",
    "    input_dim = userSize,\n",
    "    output_dim = latentDimensionMF,\n",
    "    name = 'userEmbeddingMF',\n",
    "    embeddings_initializer = 'he_normal',\n",
    "    embeddings_regularizer = tf.keras.regularizers.l2(regMF),\n",
    "    input_length = 1,\n",
    ")\n",
    "movieEmbeddingMF = tf.keras.layers.Embedding(\n",
    "    input_dim = movieSize,\n",
    "    output_dim = latentDimensionMF,\n",
    "    name = \"movieEmbeddingMF\",\n",
    "    embeddings_initializer = \"he_normal\",\n",
    "    embeddings_regularizer = tf.keras.regularizers.l2(regMF),\n",
    "    input_length = 1,\n",
    ")\n",
    "\n",
    "userEmbeddingMLP = tf.keras.layers.Embedding(\n",
    "    input_dim = userSize,\n",
    "    output_dim = latentDimensionMLP,\n",
    "    name = \"userEmbeddingMLP\",\n",
    "    embeddings_initializer = \"he_normal\",\n",
    "    embeddings_regularizer = tf.keras.regularizers.l2(regMLP),\n",
    "    input_length = 1,\n",
    ")\n",
    "movieEmbeddingMLP = tf.keras.layers.Embedding(\n",
    "    input_dim = movieSize,\n",
    "    output_dim = latentDimensionMLP,\n",
    "    name=\"movieEmbeddingMLP\",\n",
    "    embeddings_initializer = \"he_normal\",\n",
    "    embeddings_regularizer = tf.keras.regularizers.l2(regMLP),\n",
    "    input_length = 1,\n",
    ")\n",
    "\n",
    "# MF vector\n",
    "userLatentMF = tf.keras.layers.Flatten()(userEmbeddingMF(userInput))\n",
    "movieLatentMF = tf.keras.layers.Flatten()(movieEmbeddingMF(movieInput))\n",
    "catLatentMF = tf.keras.layers.Multiply()([userLatentMF, movieLatentMF])\n",
    "\n",
    "# MLP vector\n",
    "userLatentMLP = tf.keras.layers.Flatten()(userEmbeddingMLP(userInput))\n",
    "movieLatentMLP = tf.keras.layers.Flatten()(movieEmbeddingMLP(movieInput))\n",
    "catLatentMLP = tf.keras.layers.Concatenate()([userLatentMLP, movieLatentMLP])\n",
    "\n",
    "vectorMLP = catLatentMLP\n",
    "\n",
    "layer = tf.keras.layers.Dense(\n",
    "    32,\n",
    "    activity_regularizer = tf.keras.regularizers.l2(regDense),\n",
    "    activation = denseActivation,\n",
    "    name = 'Dense1'\n",
    ")\n",
    "\n",
    "vectorMLP = layer(vectorMLP)\n",
    "\n",
    "layer = tf.keras.layers.Dense(\n",
    "    16,\n",
    "    activity_regularizer = tf.keras.regularizers.l2(regDense),\n",
    "    activation = denseActivation,\n",
    "    name = 'Dense2'\n",
    ")\n",
    "\n",
    "vectorMLP = layer(vectorMLP)\n",
    "\n",
    "predictLayer = tf.keras.layers.Concatenate()([catLatentMF, vectorMLP])\n",
    "\n",
    "result = tf.keras.layers.Dense(1, activation=\"sigmoid\", kernel_initializer=\"lecun_uniform\", name=\"Interaction\")\n",
    "\n",
    "output = result(predictLayer)\n",
    "\n",
    "model = tf.keras.models.Model(inputs = [userInput, movieInput], outputs = [output])\n",
    "\n",
    "model.summary()"
   ]
  },
  {
   "cell_type": "code",
   "execution_count": 18,
   "metadata": {},
   "outputs": [],
   "source": [
    "#Compile model\n",
    "#Since the dataset has 2 label [0, 1] - ['Not Interacted', 'Interacted'] binary crossentropy function will be used as loss function\n",
    "model.compile(\n",
    "    optimizer = tf.keras.optimizers.Adam(),\n",
    "    loss=\"binary_crossentropy\",\n",
    "    metrics=[\n",
    "        tf.keras.metrics.TruePositives(name=\"tp\"),\n",
    "        tf.keras.metrics.FalsePositives(name=\"fp\"),\n",
    "        tf.keras.metrics.TrueNegatives(name=\"tn\"),\n",
    "        tf.keras.metrics.FalseNegatives(name=\"fn\"),\n",
    "        tf.keras.metrics.BinaryAccuracy(name=\"accuracy\")\n",
    "    ])"
   ]
  },
  {
   "cell_type": "code",
   "execution_count": 19,
   "metadata": {},
   "outputs": [],
   "source": [
    "#Defining CallBack class for save model\n",
    "class ModelSaver(tf.keras.callbacks.Callback):\n",
    "    def on_epoch_end(self, epoch, logs={}):\n",
    "        #calculation based on epoch + 1 Due to first epoch starts at 0\n",
    "        if (epoch + 1) % 3 == 0:\n",
    "            self.model.save(\"../Model/InteractedOnlyModel/Model{}.h5\".format(epoch + 1))"
   ]
  },
  {
   "cell_type": "code",
   "execution_count": 20,
   "metadata": {},
   "outputs": [
    {
     "name": "stdout",
     "output_type": "stream",
     "text": [
      "Train on 753545 samples, validate on 123674 samples\n",
      "Epoch 1/6\n",
      "753545/753545 [==============================] - 197s 261us/sample - loss: 0.0237 - tp: 753407.0000 - fp: 0.0000e+00 - tn: 0.0000e+00 - fn: 138.0000 - accuracy: 0.9998 - val_loss: 0.0015 - val_tp: 123674.0000 - val_fp: 0.0000e+00 - val_tn: 0.0000e+00 - val_fn: 0.0000e+00 - val_accuracy: 1.0000\n",
      "Epoch 2/6\n",
      "753545/753545 [==============================] - 256s 340us/sample - loss: 1.8250e-04 - tp: 753545.0000 - fp: 0.0000e+00 - tn: 0.0000e+00 - fn: 0.0000e+00 - accuracy: 1.0000 - val_loss: 1.8030e-06 - val_tp: 123674.0000 - val_fp: 0.0000e+00 - val_tn: 0.0000e+00 - val_fn: 0.0000e+00 - val_accuracy: 1.0000\n",
      "Epoch 3/6\n",
      "753545/753545 [==============================] - 255s 338us/sample - loss: 1.3622e-06 - tp: 753545.0000 - fp: 0.0000e+00 - tn: 0.0000e+00 - fn: 0.0000e+00 - accuracy: 1.0000 - val_loss: 1.0800e-06 - val_tp: 123674.0000 - val_fp: 0.0000e+00 - val_tn: 0.0000e+00 - val_fn: 0.0000e+00 - val_accuracy: 1.0000\n",
      "Epoch 4/6\n",
      "753545/753545 [==============================] - 253s 335us/sample - loss: 1.0361e-06 - tp: 753545.0000 - fp: 0.0000e+00 - tn: 0.0000e+00 - fn: 0.0000e+00 - accuracy: 1.0000 - val_loss: 1.0301e-06 - val_tp: 123674.0000 - val_fp: 0.0000e+00 - val_tn: 0.0000e+00 - val_fn: 0.0000e+00 - val_accuracy: 1.0000\n",
      "Epoch 5/6\n",
      "753545/753545 [==============================] - 260s 344us/sample - loss: 1.0241e-06 - tp: 753545.0000 - fp: 0.0000e+00 - tn: 0.0000e+00 - fn: 0.0000e+00 - accuracy: 1.0000 - val_loss: 1.0242e-06 - val_tp: 123674.0000 - val_fp: 0.0000e+00 - val_tn: 0.0000e+00 - val_fn: 0.0000e+00 - val_accuracy: 1.0000\n",
      "Epoch 6/6\n",
      "753545/753545 [==============================] - 257s 340us/sample - loss: 1.0214e-06 - tp: 753545.0000 - fp: 0.0000e+00 - tn: 0.0000e+00 - fn: 0.0000e+00 - accuracy: 1.0000 - val_loss: 1.0264e-06 - val_tp: 123674.0000 - val_fp: 0.0000e+00 - val_tn: 0.0000e+00 - val_fn: 0.0000e+00 - val_accuracy: 1.0000\n"
     ]
    }
   ],
   "source": [
    "#ignore warnings due to Converting sparse IndexedSlices to a dense Tensor of unknown shape warning\n",
    "warnings.filterwarnings('ignore')\n",
    "\n",
    "#Fit the model\n",
    "#This dataset categorized as interacted movies and not interacted movies\n",
    "#Our dataset contains only interacted pairs\n",
    "#Since trainingY and validationY only contains 1 values the model will tend to result in 1 for each input\n",
    "#Since this data actually cannot use for recommendation model just fitting with small epoch size\n",
    "#There is no any expectations from this training\n",
    "with tf.device('/GPU:0'):\n",
    "    trainingHistory = model.fit(\n",
    "        x = trainingX,\n",
    "        y = trainingY,\n",
    "        batch_size = 64,\n",
    "        shuffle = True,\n",
    "        callbacks=[ModelSaver()],\n",
    "        epochs = 6,\n",
    "        verbose = 1,\n",
    "        validation_data = (validationX, validationY),\n",
    "    )"
   ]
  },
  {
   "cell_type": "code",
   "execution_count": 21,
   "metadata": {},
   "outputs": [
    {
     "data": {
      "text/plain": [
       "{'loss': [0.023691206236229178,\n",
       "  0.00018249728173862952,\n",
       "  1.3621651638189278e-06,\n",
       "  1.0361283266496035e-06,\n",
       "  1.024063197783591e-06,\n",
       "  1.0213929672547607e-06],\n",
       " 'tp': [753407.0, 753545.0, 753545.0, 753545.0, 753545.0, 753545.0],\n",
       " 'fp': [0.0, 0.0, 0.0, 0.0, 0.0, 0.0],\n",
       " 'tn': [0.0, 0.0, 0.0, 0.0, 0.0, 0.0],\n",
       " 'fn': [138.0, 0.0, 0.0, 0.0, 0.0, 0.0],\n",
       " 'accuracy': [0.9998169, 1.0, 1.0, 1.0, 1.0, 1.0],\n",
       " 'val_loss': [0.0014686738958218772,\n",
       "  1.8030130112839392e-06,\n",
       "  1.0800193643569693e-06,\n",
       "  1.0300896404165249e-06,\n",
       "  1.024238849454289e-06,\n",
       "  1.0264058228161334e-06],\n",
       " 'val_tp': [123674.0, 123674.0, 123674.0, 123674.0, 123674.0, 123674.0],\n",
       " 'val_fp': [0.0, 0.0, 0.0, 0.0, 0.0, 0.0],\n",
       " 'val_tn': [0.0, 0.0, 0.0, 0.0, 0.0, 0.0],\n",
       " 'val_fn': [0.0, 0.0, 0.0, 0.0, 0.0, 0.0],\n",
       " 'val_accuracy': [1.0, 1.0, 1.0, 1.0, 1.0, 1.0]}"
      ]
     },
     "execution_count": 21,
     "metadata": {},
     "output_type": "execute_result"
    }
   ],
   "source": [
    "#Checking Training history data\n",
    "trainingHistory.history"
   ]
  },
  {
   "cell_type": "code",
   "execution_count": 22,
   "metadata": {},
   "outputs": [],
   "source": [
    "#Import pyplot for graphics\n",
    "from matplotlib import pyplot as plt"
   ]
  },
  {
   "cell_type": "code",
   "execution_count": 23,
   "metadata": {},
   "outputs": [
    {
     "data": {
      "image/png": "[encoded data removed]",
      "text/plain": [
       "<Figure size 432x288 with 1 Axes>"
      ]
     },
     "metadata": {
      "needs_background": "light"
     },
     "output_type": "display_data"
    }
   ],
   "source": [
    "#Loss Graph\n",
    "plt.plot(trainingHistory.history['loss'])\n",
    "plt.plot(trainingHistory.history['val_loss'])\n",
    "plt.title('model loss')\n",
    "plt.ylabel('loss')\n",
    "plt.xlabel('epoch')\n",
    "plt.legend(['train', 'val'], loc='upper left')\n",
    "plt.ticklabel_format(useOffset=False)\n",
    "plt.show()"
   ]
  },
  {
   "cell_type": "code",
   "execution_count": 24,
   "metadata": {},
   "outputs": [
    {
     "data": {
      "image/png": "[encoded data removed]",
      "text/plain": [
       "<Figure size 432x288 with 1 Axes>"
      ]
     },
     "metadata": {
      "needs_background": "light"
     },
     "output_type": "display_data"
    }
   ],
   "source": [
    "#Accuracy Graph\n",
    "plt.plot(trainingHistory.history['accuracy'])\n",
    "plt.plot(trainingHistory.history['val_accuracy'])\n",
    "plt.title('model accuracy')\n",
    "plt.ylabel('accuracy')\n",
    "plt.xlabel('epoch')\n",
    "plt.legend(['train', 'val'], loc='upper left')\n",
    "plt.ticklabel_format(useOffset=False)\n",
    "plt.show()"
   ]
  },
  {
   "cell_type": "code",
   "execution_count": 25,
   "metadata": {},
   "outputs": [
    {
     "data": {
      "text/html": [
       "<div>\n",
       "<style scoped>\n",
       "    .dataframe tbody tr th:only-of-type {\n",
       "        vertical-align: middle;\n",
       "    }\n",
       "\n",
       "    .dataframe tbody tr th {\n",
       "        vertical-align: top;\n",
       "    }\n",
       "\n",
       "    .dataframe thead th {\n",
       "        text-align: right;\n",
       "    }\n",
       "</style>\n",
       "<table border=\"1\" class=\"dataframe\">\n",
       "  <thead>\n",
       "    <tr style=\"text-align: right;\">\n",
       "      <th></th>\n",
       "      <th>UserId</th>\n",
       "      <th>MovieId</th>\n",
       "      <th>Interaction</th>\n",
       "    </tr>\n",
       "  </thead>\n",
       "  <tbody>\n",
       "    <tr>\n",
       "      <td>0</td>\n",
       "      <td>6731</td>\n",
       "      <td>149</td>\n",
       "      <td>1</td>\n",
       "    </tr>\n",
       "    <tr>\n",
       "      <td>1</td>\n",
       "      <td>3630</td>\n",
       "      <td>626</td>\n",
       "      <td>1</td>\n",
       "    </tr>\n",
       "    <tr>\n",
       "      <td>2</td>\n",
       "      <td>205</td>\n",
       "      <td>387</td>\n",
       "      <td>1</td>\n",
       "    </tr>\n",
       "    <tr>\n",
       "      <td>3</td>\n",
       "      <td>6673</td>\n",
       "      <td>2122</td>\n",
       "      <td>1</td>\n",
       "    </tr>\n",
       "    <tr>\n",
       "      <td>4</td>\n",
       "      <td>9225</td>\n",
       "      <td>3848</td>\n",
       "      <td>1</td>\n",
       "    </tr>\n",
       "    <tr>\n",
       "      <td>...</td>\n",
       "      <td>...</td>\n",
       "      <td>...</td>\n",
       "      <td>...</td>\n",
       "    </tr>\n",
       "    <tr>\n",
       "      <td>123669</td>\n",
       "      <td>8043</td>\n",
       "      <td>446</td>\n",
       "      <td>1</td>\n",
       "    </tr>\n",
       "    <tr>\n",
       "      <td>123670</td>\n",
       "      <td>2928</td>\n",
       "      <td>3526</td>\n",
       "      <td>1</td>\n",
       "    </tr>\n",
       "    <tr>\n",
       "      <td>123671</td>\n",
       "      <td>7986</td>\n",
       "      <td>1796</td>\n",
       "      <td>1</td>\n",
       "    </tr>\n",
       "    <tr>\n",
       "      <td>123672</td>\n",
       "      <td>2024</td>\n",
       "      <td>2730</td>\n",
       "      <td>1</td>\n",
       "    </tr>\n",
       "    <tr>\n",
       "      <td>123673</td>\n",
       "      <td>3251</td>\n",
       "      <td>1782</td>\n",
       "      <td>1</td>\n",
       "    </tr>\n",
       "  </tbody>\n",
       "</table>\n",
       "<p>123674 rows × 3 columns</p>\n",
       "</div>"
      ],
      "text/plain": [
       "        UserId  MovieId  Interaction\n",
       "0         6731      149            1\n",
       "1         3630      626            1\n",
       "2          205      387            1\n",
       "3         6673     2122            1\n",
       "4         9225     3848            1\n",
       "...        ...      ...          ...\n",
       "123669    8043      446            1\n",
       "123670    2928     3526            1\n",
       "123671    7986     1796            1\n",
       "123672    2024     2730            1\n",
       "123673    3251     1782            1\n",
       "\n",
       "[123674 rows x 3 columns]"
      ]
     },
     "execution_count": 25,
     "metadata": {},
     "output_type": "execute_result"
    }
   ],
   "source": [
    "#Reading Qualified BinaryInteraction InteractedOnly test data from pkl file\n",
    "testDf = pd.read_pickle(\"../Data/pkl/1M/Qualified/BinaryInteraction/InteractedOnly/Test.pkl\")\n",
    "testDf"
   ]
  },
  {
   "cell_type": "code",
   "execution_count": 26,
   "metadata": {},
   "outputs": [
    {
     "data": {
      "text/plain": [
       "array([6731, 3630,  205, ..., 7986, 2024, 3251])"
      ]
     },
     "execution_count": 26,
     "metadata": {},
     "output_type": "execute_result"
    }
   ],
   "source": [
    "#creating a user array for test input \n",
    "testUser = testDf[['UserId']].values.astype(np.int32)\n",
    "testUser = testUser.reshape((testUser.shape[0]))\n",
    "testUser"
   ]
  },
  {
   "cell_type": "code",
   "execution_count": 27,
   "metadata": {},
   "outputs": [
    {
     "data": {
      "text/plain": [
       "array([ 149,  626,  387, ..., 1796, 2730, 1782])"
      ]
     },
     "execution_count": 27,
     "metadata": {},
     "output_type": "execute_result"
    }
   ],
   "source": [
    "#creating a movie array for test input \n",
    "testMovie = testDf[['MovieId']].values.astype(np.int32)\n",
    "testMovie = testMovie.reshape((testMovie.shape[0]))\n",
    "testMovie"
   ]
  },
  {
   "cell_type": "code",
   "execution_count": 28,
   "metadata": {},
   "outputs": [
    {
     "data": {
      "text/plain": [
       "[array([6731, 3630,  205, ..., 7986, 2024, 3251]),\n",
       " array([ 149,  626,  387, ..., 1796, 2730, 1782])]"
      ]
     },
     "execution_count": 28,
     "metadata": {},
     "output_type": "execute_result"
    }
   ],
   "source": [
    "#creating an array for test input \n",
    "testX = [testUser, testMovie]\n",
    "testX"
   ]
  },
  {
   "cell_type": "code",
   "execution_count": 29,
   "metadata": {},
   "outputs": [
    {
     "data": {
      "text/plain": [
       "array([1, 1, 1, ..., 1, 1, 1], dtype=int8)"
      ]
     },
     "execution_count": 29,
     "metadata": {},
     "output_type": "execute_result"
    }
   ],
   "source": [
    "#creating an array for test output \n",
    "testY = testDf[['Interaction']].values.astype(np.int8)\n",
    "testY = testY.reshape((testY.shape[0]))\n",
    "testY"
   ]
  },
  {
   "cell_type": "code",
   "execution_count": 30,
   "metadata": {},
   "outputs": [],
   "source": [
    "#Clearing Memory\n",
    "del testDf"
   ]
  },
  {
   "cell_type": "code",
   "execution_count": 31,
   "metadata": {},
   "outputs": [],
   "source": [
    "#Model evaluating with test values\n",
    "testResult = model.evaluate(x = testX, y = testY, batch_size = 64, verbose = 0)"
   ]
  },
  {
   "cell_type": "code",
   "execution_count": 32,
   "metadata": {},
   "outputs": [
    {
     "data": {
      "text/plain": [
       "[1.0263342611554997e-06, 123674.0, 0.0, 0.0, 0.0, 1.0]"
      ]
     },
     "execution_count": 32,
     "metadata": {},
     "output_type": "execute_result"
    }
   ],
   "source": [
    "#Print testResult\n",
    "testResult"
   ]
  },
  {
   "cell_type": "code",
   "execution_count": 33,
   "metadata": {},
   "outputs": [
    {
     "name": "stdout",
     "output_type": "stream",
     "text": [
      "Test Loss: 1.0263342611554997e-06\n"
     ]
    }
   ],
   "source": [
    "#Print Test Loss\n",
    "print('Test Loss: ' + str(testResult[0]))"
   ]
  },
  {
   "cell_type": "code",
   "execution_count": 34,
   "metadata": {},
   "outputs": [
    {
     "name": "stdout",
     "output_type": "stream",
     "text": [
      "Test Accuracy: 1.0\n"
     ]
    }
   ],
   "source": [
    "#Print Test Accuracy\n",
    "print('Test Accuracy: ' + str(testResult[5]))"
   ]
  },
  {
   "cell_type": "code",
   "execution_count": 35,
   "metadata": {},
   "outputs": [
    {
     "data": {
      "image/png": "[encoded data removed]",
      "text/plain": [
       "<Figure size 432x288 with 2 Axes>"
      ]
     },
     "metadata": {
      "needs_background": "light"
     },
     "output_type": "display_data"
    }
   ],
   "source": [
    "#Confusion Matrix\n",
    "#[tp][fp]\n",
    "#[fn][tn]\n",
    "cm = [[testResult[1], testResult[2]],\n",
    "      [testResult[4], testResult[3]]]\n",
    "\n",
    "plt.xlabel('x axis')\n",
    "plt.ylabel('y axis')\n",
    "\n",
    "im = plt.imshow(cm,cmap=plt.cm.RdBu)\n",
    "\n",
    "plt.colorbar(im)\n",
    "plt.show()"
   ]
  },
  {
   "cell_type": "code",
   "execution_count": 36,
   "metadata": {},
   "outputs": [],
   "source": [
    "#When the metric graphs are examined, it is seen that the best model is reached between the 1th and 3th epochs.\n",
    "#After the 3th epoch, the amount of performance does not seem to change much.\n",
    "#So the model in the 3th epoch is determined as the best model.\n",
    "\n",
    "#Model3 Loading from h5 file\n",
    "model = tf.keras.models.load_model(\"../Model/InteractedOnlyModel/Model3.h5\")"
   ]
  },
  {
   "cell_type": "code",
   "execution_count": 37,
   "metadata": {},
   "outputs": [],
   "source": [
    "#Best Model evaluating with test values\n",
    "testResult = model.evaluate(x = testX, y = testY, batch_size = 64, verbose = 0)"
   ]
  },
  {
   "cell_type": "code",
   "execution_count": 38,
   "metadata": {},
   "outputs": [
    {
     "data": {
      "text/plain": [
       "[1.0791889657176365e-06, 123674.0, 0.0, 0.0, 0.0, 1.0]"
      ]
     },
     "execution_count": 38,
     "metadata": {},
     "output_type": "execute_result"
    }
   ],
   "source": [
    "#Print testResult for Best Model\n",
    "testResult"
   ]
  },
  {
   "cell_type": "code",
   "execution_count": 39,
   "metadata": {},
   "outputs": [
    {
     "name": "stdout",
     "output_type": "stream",
     "text": [
      "Test Loss: 1.0791889657176365e-06\n"
     ]
    }
   ],
   "source": [
    "#Print Test Loss for Best Model\n",
    "print('Test Loss: ' + str(testResult[0]))"
   ]
  },
  {
   "cell_type": "code",
   "execution_count": 40,
   "metadata": {},
   "outputs": [
    {
     "name": "stdout",
     "output_type": "stream",
     "text": [
      "Test Accuracy: 1.0\n"
     ]
    }
   ],
   "source": [
    "#Print Test Accuracy for Best Model\n",
    "print('Test Accuracy: ' + str(testResult[5]))"
   ]
  },
  {
   "cell_type": "code",
   "execution_count": 41,
   "metadata": {},
   "outputs": [
    {
     "data": {
      "image/png": "[encoded data removed]",
      "text/plain": [
       "<Figure size 432x288 with 2 Axes>"
      ]
     },
     "metadata": {
      "needs_background": "light"
     },
     "output_type": "display_data"
    }
   ],
   "source": [
    "#Confusion Matrix for Best Model\n",
    "#[tp][fp]\n",
    "#[fn][tn]\n",
    "cm = [[testResult[1], testResult[2]],\n",
    "      [testResult[4], testResult[3]]]\n",
    "\n",
    "plt.xlabel('x axis')\n",
    "plt.ylabel('y axis')\n",
    "\n",
    "im = plt.imshow(cm,cmap=plt.cm.RdBu)\n",
    "\n",
    "plt.colorbar(im)\n",
    "plt.show()"
   ]
  },
  {
   "cell_type": "markdown",
   "metadata": {},
   "source": [
    "# Analysing Result\n",
    "\n",
    "As can be seen above, the performance of the model obtained at the end of the training and the 3th model that chosen as the best model on the test data is almost equal\n",
    "\n",
    "In this case, it is pointless to train the model further after the 3th epoch\n",
    "\n",
    "Graphics look too great to be real for a neural network\n",
    "\n",
    "This is becouse of this dataset has no negative sample\n",
    "\n",
    "This is a kind of overfitting\n"
   ]
  }
 ],
 "metadata": {
  "kernelspec": {
   "display_name": "Python 3",
   "language": "python",
   "name": "python3"
  },
  "language_info": {
   "codemirror_mode": {
    "name": "ipython",
    "version": 3
   },
   "file_extension": ".py",
   "mimetype": "text/x-python",
   "name": "python",
   "nbconvert_exporter": "python",
   "pygments_lexer": "ipython3",
   "version": "3.7.4"
  }
 },
 "nbformat": 4,
 "nbformat_minor": 2
}
