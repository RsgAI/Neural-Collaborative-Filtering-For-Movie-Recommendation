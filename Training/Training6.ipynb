{
 "cells": [
  {
   "cell_type": "markdown",
   "metadata": {},
   "source": [
    "# Model will be trained with CategoricalLike NotCategorizedSample Data\n",
    "\n",
    "CategoricalLike CategorizedOnly dataset contains labeled rows [0, 1, 2] - ['Hated', 'Not Liked', 'Liked'] pairs\n",
    "\n",
    "But also has a small sample of not categorized pairs labeled as Hated\n",
    "\n",
    "some researches and scientists consider this as a valid technique \n",
    "\n",
    "(e.g: https://towardsdatascience.com/neural-collaborative-filtering-96cef1009401)\n",
    "\n",
    "But I don't think this is a good approach for recommendation systems\n",
    "\n",
    "For example, if an item that is highly recommended according to the KNN approach is labeled as Hated\n",
    "because it was not categorized, the neural network will tend not to recommend this item.\n",
    "\n",
    "Of course, if we consider that the model is only an approximation of ground truth, the method may work.\n",
    "\n",
    "Model will be Trained with this dataset and results will be checked\n",
    "\n",
    "CategoricalLike NotCategorizedSample dataset provides a valid criterion for like\n",
    "\n",
    "Because it contains not only the information whether the movie is liked or not, but also how much it is liked\n",
    "\n",
    "So it is one of the most useful datasets for the recommendation system"
   ]
  },
  {
   "cell_type": "code",
   "execution_count": 1,
   "metadata": {},
   "outputs": [],
   "source": [
    "#Importing libraries\n",
    "import numpy as np\n",
    "import pandas as pd\n",
    "import tensorflow as tf\n",
    "import warnings"
   ]
  },
  {
   "cell_type": "code",
   "execution_count": 2,
   "metadata": {},
   "outputs": [
    {
     "name": "stdout",
     "output_type": "stream",
     "text": [
      "numpy Version: 1.16.5\n",
      "pandas Version: 0.25.1\n",
      "tensorflow Version: 2.0.0\n"
     ]
    }
   ],
   "source": [
    "#Printing library versions\n",
    "print('numpy Version: ' + np.__version__)\n",
    "print('pandas Version: ' + pd.__version__)\n",
    "print('tensorflow Version: ' + tf.__version__)"
   ]
  },
  {
   "cell_type": "code",
   "execution_count": 3,
   "metadata": {},
   "outputs": [
    {
     "name": "stdout",
     "output_type": "stream",
     "text": [
      "/device:GPU:0\n"
     ]
    }
   ],
   "source": [
    "#GPU will be used for training\n",
    "myGPU = tf.test.gpu_device_name()\n",
    "if myGPU:\n",
    "    print(myGPU)\n",
    "else:\n",
    "    print(\"Error\")"
   ]
  },
  {
   "cell_type": "code",
   "execution_count": 4,
   "metadata": {
    "scrolled": false
   },
   "outputs": [
    {
     "data": {
      "text/html": [
       "<div>\n",
       "<style scoped>\n",
       "    .dataframe tbody tr th:only-of-type {\n",
       "        vertical-align: middle;\n",
       "    }\n",
       "\n",
       "    .dataframe tbody tr th {\n",
       "        vertical-align: top;\n",
       "    }\n",
       "\n",
       "    .dataframe thead th {\n",
       "        text-align: right;\n",
       "    }\n",
       "</style>\n",
       "<table border=\"1\" class=\"dataframe\">\n",
       "  <thead>\n",
       "    <tr style=\"text-align: right;\">\n",
       "      <th></th>\n",
       "      <th>UserId</th>\n",
       "      <th>MovieId</th>\n",
       "      <th>Category</th>\n",
       "    </tr>\n",
       "  </thead>\n",
       "  <tbody>\n",
       "    <tr>\n",
       "      <td>0</td>\n",
       "      <td>2628</td>\n",
       "      <td>195</td>\n",
       "      <td>2</td>\n",
       "    </tr>\n",
       "    <tr>\n",
       "      <td>1</td>\n",
       "      <td>4474</td>\n",
       "      <td>565</td>\n",
       "      <td>2</td>\n",
       "    </tr>\n",
       "    <tr>\n",
       "      <td>2</td>\n",
       "      <td>5175</td>\n",
       "      <td>9476</td>\n",
       "      <td>2</td>\n",
       "    </tr>\n",
       "    <tr>\n",
       "      <td>3</td>\n",
       "      <td>9268</td>\n",
       "      <td>1308</td>\n",
       "      <td>2</td>\n",
       "    </tr>\n",
       "    <tr>\n",
       "      <td>4</td>\n",
       "      <td>9210</td>\n",
       "      <td>117</td>\n",
       "      <td>2</td>\n",
       "    </tr>\n",
       "    <tr>\n",
       "      <td>...</td>\n",
       "      <td>...</td>\n",
       "      <td>...</td>\n",
       "      <td>...</td>\n",
       "    </tr>\n",
       "    <tr>\n",
       "      <td>760794</td>\n",
       "      <td>3289</td>\n",
       "      <td>1326</td>\n",
       "      <td>2</td>\n",
       "    </tr>\n",
       "    <tr>\n",
       "      <td>760795</td>\n",
       "      <td>4730</td>\n",
       "      <td>309</td>\n",
       "      <td>1</td>\n",
       "    </tr>\n",
       "    <tr>\n",
       "      <td>760796</td>\n",
       "      <td>3821</td>\n",
       "      <td>15052</td>\n",
       "      <td>2</td>\n",
       "    </tr>\n",
       "    <tr>\n",
       "      <td>760797</td>\n",
       "      <td>6935</td>\n",
       "      <td>174</td>\n",
       "      <td>1</td>\n",
       "    </tr>\n",
       "    <tr>\n",
       "      <td>760798</td>\n",
       "      <td>2019</td>\n",
       "      <td>12688</td>\n",
       "      <td>0</td>\n",
       "    </tr>\n",
       "  </tbody>\n",
       "</table>\n",
       "<p>760799 rows × 3 columns</p>\n",
       "</div>"
      ],
      "text/plain": [
       "        UserId  MovieId  Category\n",
       "0         2628      195         2\n",
       "1         4474      565         2\n",
       "2         5175     9476         2\n",
       "3         9268     1308         2\n",
       "4         9210      117         2\n",
       "...        ...      ...       ...\n",
       "760794    3289     1326         2\n",
       "760795    4730      309         1\n",
       "760796    3821    15052         2\n",
       "760797    6935      174         1\n",
       "760798    2019    12688         0\n",
       "\n",
       "[760799 rows x 3 columns]"
      ]
     },
     "execution_count": 4,
     "metadata": {},
     "output_type": "execute_result"
    }
   ],
   "source": [
    "#Reading Qualified CategoricalLike NotCategorizedSample training data from pkl file\n",
    "trainingDf = pd.read_pickle(\"../Data/pkl/1M/Qualified/CategoricalLike/NotCategorizedSample/Training.pkl\")\n",
    "trainingDf"
   ]
  },
  {
   "cell_type": "code",
   "execution_count": 5,
   "metadata": {},
   "outputs": [
    {
     "data": {
      "text/plain": [
       "array([2628, 4474, 5175, ..., 3821, 6935, 2019])"
      ]
     },
     "execution_count": 5,
     "metadata": {},
     "output_type": "execute_result"
    }
   ],
   "source": [
    "#creating a user array for training input \n",
    "trainingUser = trainingDf[['UserId']].values.astype(np.int32)\n",
    "trainingUser = trainingUser.reshape((trainingUser.shape[0]))\n",
    "trainingUser"
   ]
  },
  {
   "cell_type": "code",
   "execution_count": 6,
   "metadata": {},
   "outputs": [
    {
     "data": {
      "text/plain": [
       "array([  195,   565,  9476, ..., 15052,   174, 12688])"
      ]
     },
     "execution_count": 6,
     "metadata": {},
     "output_type": "execute_result"
    }
   ],
   "source": [
    "#creating a movie array for training input \n",
    "trainingMovie = trainingDf[['MovieId']].values.astype(np.int32)\n",
    "trainingMovie = trainingMovie.reshape((trainingMovie.shape[0]))\n",
    "trainingMovie"
   ]
  },
  {
   "cell_type": "code",
   "execution_count": 7,
   "metadata": {},
   "outputs": [
    {
     "data": {
      "text/plain": [
       "[array([2628, 4474, 5175, ..., 3821, 6935, 2019]),\n",
       " array([  195,   565,  9476, ..., 15052,   174, 12688])]"
      ]
     },
     "execution_count": 7,
     "metadata": {},
     "output_type": "execute_result"
    }
   ],
   "source": [
    "#creating an array for training input \n",
    "trainingX = [trainingUser, trainingMovie]\n",
    "trainingX"
   ]
  },
  {
   "cell_type": "code",
   "execution_count": 8,
   "metadata": {},
   "outputs": [
    {
     "data": {
      "text/plain": [
       "array([[0, 0, 1],\n",
       "       [0, 0, 1],\n",
       "       [0, 0, 1],\n",
       "       ...,\n",
       "       [0, 0, 1],\n",
       "       [0, 1, 0],\n",
       "       [1, 0, 0]], dtype=int8)"
      ]
     },
     "execution_count": 8,
     "metadata": {},
     "output_type": "execute_result"
    }
   ],
   "source": [
    "#Output is converted to One-Hot Encoding and creating an array for training output \n",
    "trainingY = []\n",
    "for i in trainingDf[['Category']].values:\n",
    "    current = np.zeros(3)\n",
    "    current[i] = 1\n",
    "    trainingY.append(current)\n",
    "trainingY = np.array(trainingY).astype(np.int8)\n",
    "trainingY"
   ]
  },
  {
   "cell_type": "code",
   "execution_count": 9,
   "metadata": {},
   "outputs": [],
   "source": [
    "#Clearing Memory\n",
    "del trainingDf"
   ]
  },
  {
   "cell_type": "code",
   "execution_count": 10,
   "metadata": {
    "scrolled": true
   },
   "outputs": [
    {
     "data": {
      "text/html": [
       "<div>\n",
       "<style scoped>\n",
       "    .dataframe tbody tr th:only-of-type {\n",
       "        vertical-align: middle;\n",
       "    }\n",
       "\n",
       "    .dataframe tbody tr th {\n",
       "        vertical-align: top;\n",
       "    }\n",
       "\n",
       "    .dataframe thead th {\n",
       "        text-align: right;\n",
       "    }\n",
       "</style>\n",
       "<table border=\"1\" class=\"dataframe\">\n",
       "  <thead>\n",
       "    <tr style=\"text-align: right;\">\n",
       "      <th></th>\n",
       "      <th>UserId</th>\n",
       "      <th>MovieId</th>\n",
       "      <th>Category</th>\n",
       "    </tr>\n",
       "  </thead>\n",
       "  <tbody>\n",
       "    <tr>\n",
       "      <td>0</td>\n",
       "      <td>7160</td>\n",
       "      <td>1089</td>\n",
       "      <td>2</td>\n",
       "    </tr>\n",
       "    <tr>\n",
       "      <td>1</td>\n",
       "      <td>3734</td>\n",
       "      <td>466</td>\n",
       "      <td>2</td>\n",
       "    </tr>\n",
       "    <tr>\n",
       "      <td>2</td>\n",
       "      <td>8077</td>\n",
       "      <td>315</td>\n",
       "      <td>1</td>\n",
       "    </tr>\n",
       "    <tr>\n",
       "      <td>3</td>\n",
       "      <td>8888</td>\n",
       "      <td>5353</td>\n",
       "      <td>1</td>\n",
       "    </tr>\n",
       "    <tr>\n",
       "      <td>4</td>\n",
       "      <td>7588</td>\n",
       "      <td>382</td>\n",
       "      <td>1</td>\n",
       "    </tr>\n",
       "    <tr>\n",
       "      <td>...</td>\n",
       "      <td>...</td>\n",
       "      <td>...</td>\n",
       "      <td>...</td>\n",
       "    </tr>\n",
       "    <tr>\n",
       "      <td>125046</td>\n",
       "      <td>5175</td>\n",
       "      <td>2366</td>\n",
       "      <td>1</td>\n",
       "    </tr>\n",
       "    <tr>\n",
       "      <td>125047</td>\n",
       "      <td>4289</td>\n",
       "      <td>246</td>\n",
       "      <td>2</td>\n",
       "    </tr>\n",
       "    <tr>\n",
       "      <td>125048</td>\n",
       "      <td>9167</td>\n",
       "      <td>4305</td>\n",
       "      <td>1</td>\n",
       "    </tr>\n",
       "    <tr>\n",
       "      <td>125049</td>\n",
       "      <td>490</td>\n",
       "      <td>1128</td>\n",
       "      <td>1</td>\n",
       "    </tr>\n",
       "    <tr>\n",
       "      <td>125050</td>\n",
       "      <td>3711</td>\n",
       "      <td>922</td>\n",
       "      <td>2</td>\n",
       "    </tr>\n",
       "  </tbody>\n",
       "</table>\n",
       "<p>125051 rows × 3 columns</p>\n",
       "</div>"
      ],
      "text/plain": [
       "        UserId  MovieId  Category\n",
       "0         7160     1089         2\n",
       "1         3734      466         2\n",
       "2         8077      315         1\n",
       "3         8888     5353         1\n",
       "4         7588      382         1\n",
       "...        ...      ...       ...\n",
       "125046    5175     2366         1\n",
       "125047    4289      246         2\n",
       "125048    9167     4305         1\n",
       "125049     490     1128         1\n",
       "125050    3711      922         2\n",
       "\n",
       "[125051 rows x 3 columns]"
      ]
     },
     "execution_count": 10,
     "metadata": {},
     "output_type": "execute_result"
    }
   ],
   "source": [
    "#Reading Qualified CategoricalLike NotCategorizedSample validation data from pkl file\n",
    "validationDf = pd.read_pickle(\"../Data/pkl/1M/Qualified/CategoricalLike/NotCategorizedSample/Validation.pkl\")\n",
    "validationDf"
   ]
  },
  {
   "cell_type": "code",
   "execution_count": 11,
   "metadata": {},
   "outputs": [
    {
     "data": {
      "text/plain": [
       "array([7160, 3734, 8077, ..., 9167,  490, 3711])"
      ]
     },
     "execution_count": 11,
     "metadata": {},
     "output_type": "execute_result"
    }
   ],
   "source": [
    "#creating a user array for validation input \n",
    "validationUser = validationDf[['UserId']].values.astype(np.int32)\n",
    "validationUser = validationUser.reshape((validationUser.shape[0]))\n",
    "validationUser"
   ]
  },
  {
   "cell_type": "code",
   "execution_count": 12,
   "metadata": {},
   "outputs": [
    {
     "data": {
      "text/plain": [
       "array([1089,  466,  315, ..., 4305, 1128,  922])"
      ]
     },
     "execution_count": 12,
     "metadata": {},
     "output_type": "execute_result"
    }
   ],
   "source": [
    "#creating a movie array for validation input \n",
    "validationMovie = validationDf[['MovieId']].values.astype(np.int32)\n",
    "validationMovie = validationMovie.reshape((validationMovie.shape[0]))\n",
    "validationMovie"
   ]
  },
  {
   "cell_type": "code",
   "execution_count": 13,
   "metadata": {},
   "outputs": [
    {
     "data": {
      "text/plain": [
       "[array([7160, 3734, 8077, ..., 9167,  490, 3711]),\n",
       " array([1089,  466,  315, ..., 4305, 1128,  922])]"
      ]
     },
     "execution_count": 13,
     "metadata": {},
     "output_type": "execute_result"
    }
   ],
   "source": [
    "#creating an array for validation input \n",
    "validationX = [validationUser, validationMovie]\n",
    "validationX"
   ]
  },
  {
   "cell_type": "code",
   "execution_count": 14,
   "metadata": {},
   "outputs": [
    {
     "data": {
      "text/plain": [
       "array([[0, 0, 1],\n",
       "       [0, 0, 1],\n",
       "       [0, 1, 0],\n",
       "       ...,\n",
       "       [0, 1, 0],\n",
       "       [0, 1, 0],\n",
       "       [0, 0, 1]], dtype=int8)"
      ]
     },
     "execution_count": 14,
     "metadata": {},
     "output_type": "execute_result"
    }
   ],
   "source": [
    "#Output is converted to One-Hot Encoding and creating an array for validation output \n",
    "validationY = []\n",
    "for i in validationDf[['Category']].values:\n",
    "    current = np.zeros(3)\n",
    "    current[i] = 1\n",
    "    validationY.append(current)\n",
    "validationY = np.array(validationY).astype(np.int8)\n",
    "validationY"
   ]
  },
  {
   "cell_type": "code",
   "execution_count": 15,
   "metadata": {},
   "outputs": [],
   "source": [
    "#Clearing Memory\n",
    "del validationDf"
   ]
  },
  {
   "cell_type": "code",
   "execution_count": 16,
   "metadata": {},
   "outputs": [],
   "source": [
    "#Setting model variables\n",
    "userSize = 10073\n",
    "movieSize = 22033\n",
    "latentDimensionMF = 4\n",
    "latentDimensionMLP = 32\n",
    "regMF = 0\n",
    "regMLP = 0.01\n",
    "regDense = 0.01\n",
    "denseActivation = 'relu'"
   ]
  },
  {
   "cell_type": "code",
   "execution_count": 17,
   "metadata": {},
   "outputs": [
    {
     "name": "stdout",
     "output_type": "stream",
     "text": [
      "Model: \"model\"\n",
      "__________________________________________________________________________________________________\n",
      "Layer (type)                    Output Shape         Param #     Connected to                     \n",
      "==================================================================================================\n",
      "userId (InputLayer)             [(None,)]            0                                            \n",
      "__________________________________________________________________________________________________\n",
      "movieId (InputLayer)            [(None,)]            0                                            \n",
      "__________________________________________________________________________________________________\n",
      "userEmbeddingMLP (Embedding)    (None, 32)           322336      userId[0][0]                     \n",
      "__________________________________________________________________________________________________\n",
      "movieEmbeddingMLP (Embedding)   (None, 32)           705056      movieId[0][0]                    \n",
      "__________________________________________________________________________________________________\n",
      "flatten_2 (Flatten)             (None, 32)           0           userEmbeddingMLP[0][0]           \n",
      "__________________________________________________________________________________________________\n",
      "flatten_3 (Flatten)             (None, 32)           0           movieEmbeddingMLP[0][0]          \n",
      "__________________________________________________________________________________________________\n",
      "userEmbeddingMF (Embedding)     (None, 4)            40292       userId[0][0]                     \n",
      "__________________________________________________________________________________________________\n",
      "movieEmbeddingMF (Embedding)    (None, 4)            88132       movieId[0][0]                    \n",
      "__________________________________________________________________________________________________\n",
      "concatenate (Concatenate)       (None, 64)           0           flatten_2[0][0]                  \n",
      "                                                                 flatten_3[0][0]                  \n",
      "__________________________________________________________________________________________________\n",
      "flatten (Flatten)               (None, 4)            0           userEmbeddingMF[0][0]            \n",
      "__________________________________________________________________________________________________\n",
      "flatten_1 (Flatten)             (None, 4)            0           movieEmbeddingMF[0][0]           \n",
      "__________________________________________________________________________________________________\n",
      "Dense1 (Dense)                  (None, 32)           2080        concatenate[0][0]                \n",
      "__________________________________________________________________________________________________\n",
      "multiply (Multiply)             (None, 4)            0           flatten[0][0]                    \n",
      "                                                                 flatten_1[0][0]                  \n",
      "__________________________________________________________________________________________________\n",
      "Dense2 (Dense)                  (None, 16)           528         Dense1[0][0]                     \n",
      "__________________________________________________________________________________________________\n",
      "concatenate_1 (Concatenate)     (None, 20)           0           multiply[0][0]                   \n",
      "                                                                 Dense2[0][0]                     \n",
      "__________________________________________________________________________________________________\n",
      "Like (Dense)                    (None, 3)            63          concatenate_1[0][0]              \n",
      "==================================================================================================\n",
      "Total params: 1,158,487\n",
      "Trainable params: 1,158,487\n",
      "Non-trainable params: 0\n",
      "__________________________________________________________________________________________________\n"
     ]
    }
   ],
   "source": [
    "#Creating Neural Collaborative Filtering(NCF) model\n",
    "\n",
    "#This Neural matrix factorization model based on https://arxiv.org/pdf/1708.05031.pdf\n",
    "#As a result of the researches, it was determined as the most useful architecture\n",
    "#This architecture will be trained with different data types and explanations will be made on the results. \n",
    "\n",
    "\n",
    "# input layer\n",
    "userInput = tf.keras.layers.Input(shape = (), dtype = \"int32\", name = \"userId\")\n",
    "movieInput = tf.keras.layers.Input(shape = (), dtype = \"int32\", name = \"movieId\")\n",
    "\n",
    "# embedding layers\n",
    "userEmbeddingMF = tf.keras.layers.Embedding(\n",
    "    input_dim = userSize,\n",
    "    output_dim = latentDimensionMF,\n",
    "    name = 'userEmbeddingMF',\n",
    "    embeddings_initializer = 'he_normal',\n",
    "    embeddings_regularizer = tf.keras.regularizers.l2(regMF),\n",
    "    input_length = 1,\n",
    ")\n",
    "movieEmbeddingMF = tf.keras.layers.Embedding(\n",
    "    input_dim = movieSize,\n",
    "    output_dim = latentDimensionMF,\n",
    "    name = \"movieEmbeddingMF\",\n",
    "    embeddings_initializer = \"he_normal\",\n",
    "    embeddings_regularizer = tf.keras.regularizers.l2(regMF),\n",
    "    input_length = 1,\n",
    ")\n",
    "\n",
    "userEmbeddingMLP = tf.keras.layers.Embedding(\n",
    "    input_dim = userSize,\n",
    "    output_dim = latentDimensionMLP,\n",
    "    name = \"userEmbeddingMLP\",\n",
    "    embeddings_initializer = \"he_normal\",\n",
    "    embeddings_regularizer = tf.keras.regularizers.l2(regMLP),\n",
    "    input_length = 1,\n",
    ")\n",
    "movieEmbeddingMLP = tf.keras.layers.Embedding(\n",
    "    input_dim = movieSize,\n",
    "    output_dim = latentDimensionMLP,\n",
    "    name=\"movieEmbeddingMLP\",\n",
    "    embeddings_initializer = \"he_normal\",\n",
    "    embeddings_regularizer = tf.keras.regularizers.l2(regMLP),\n",
    "    input_length = 1,\n",
    ")\n",
    "\n",
    "# MF vector\n",
    "userLatentMF = tf.keras.layers.Flatten()(userEmbeddingMF(userInput))\n",
    "movieLatentMF = tf.keras.layers.Flatten()(movieEmbeddingMF(movieInput))\n",
    "catLatentMF = tf.keras.layers.Multiply()([userLatentMF, movieLatentMF])\n",
    "\n",
    "# MLP vector\n",
    "userLatentMLP = tf.keras.layers.Flatten()(userEmbeddingMLP(userInput))\n",
    "movieLatentMLP = tf.keras.layers.Flatten()(movieEmbeddingMLP(movieInput))\n",
    "catLatentMLP = tf.keras.layers.Concatenate()([userLatentMLP, movieLatentMLP])\n",
    "\n",
    "vectorMLP = catLatentMLP\n",
    "\n",
    "layer = tf.keras.layers.Dense(\n",
    "    32,\n",
    "    activity_regularizer = tf.keras.regularizers.l2(regDense),\n",
    "    activation = denseActivation,\n",
    "    name = 'Dense1'\n",
    ")\n",
    "\n",
    "vectorMLP = layer(vectorMLP)\n",
    "\n",
    "layer = tf.keras.layers.Dense(\n",
    "    16,\n",
    "    activity_regularizer = tf.keras.regularizers.l2(regDense),\n",
    "    activation = denseActivation,\n",
    "    name = 'Dense2'\n",
    ")\n",
    "\n",
    "vectorMLP = layer(vectorMLP)\n",
    "\n",
    "predictLayer = tf.keras.layers.Concatenate()([catLatentMF, vectorMLP])\n",
    "\n",
    "#Since dataset has 3 labels result layer turns into 3 softmax perceptron\n",
    "result = tf.keras.layers.Dense(3, activation=\"softmax\", name=\"Like\")\n",
    "\n",
    "output = result(predictLayer)\n",
    "\n",
    "model = tf.keras.models.Model(inputs = [userInput, movieInput], outputs = [output])\n",
    "\n",
    "model.summary()"
   ]
  },
  {
   "cell_type": "code",
   "execution_count": 18,
   "metadata": {},
   "outputs": [],
   "source": [
    "#Compile model\n",
    "#Since the dataset has 3 label [0, 1, 2] - ['Hated', 'Not Liked', 'Liked'] \n",
    "#Categorical crossentropy function will be used as loss function\n",
    "model.compile(\n",
    "    optimizer = tf.keras.optimizers.Adam(),\n",
    "    loss=\"categorical_crossentropy\",\n",
    "    metrics=[\n",
    "        tf.keras.metrics.BinaryAccuracy(name=\"accuracy\")\n",
    "    ])"
   ]
  },
  {
   "cell_type": "code",
   "execution_count": 19,
   "metadata": {},
   "outputs": [],
   "source": [
    "#Defining CallBack class for save model\n",
    "class ModelSaver(tf.keras.callbacks.Callback):\n",
    "    def on_epoch_end(self, epoch, logs={}):\n",
    "        #calculation based on epoch + 1 Due to first epoch starts at 0\n",
    "        if (epoch + 1) % 3 == 0:\n",
    "            self.model.save(\"../Model/NotCategorizedSampleModel/Model{}.h5\".format(epoch + 1))"
   ]
  },
  {
   "cell_type": "code",
   "execution_count": 20,
   "metadata": {},
   "outputs": [
    {
     "name": "stdout",
     "output_type": "stream",
     "text": [
      "Train on 760799 samples, validate on 125051 samples\n",
      "Epoch 1/24\n",
      "760799/760799 [==============================] - 160s 210us/sample - loss: 0.9203 - accuracy: 0.7489 - val_loss: 0.8874 - val_accuracy: 0.7640\n",
      "Epoch 2/24\n",
      "760799/760799 [==============================] - 220s 289us/sample - loss: 0.8411 - accuracy: 0.7791 - val_loss: 0.8416 - val_accuracy: 0.7717\n",
      "Epoch 3/24\n",
      "760799/760799 [==============================] - 221s 291us/sample - loss: 0.7921 - accuracy: 0.7908 - val_loss: 0.8248 - val_accuracy: 0.7743\n",
      "Epoch 4/24\n",
      "760799/760799 [==============================] - 223s 294us/sample - loss: 0.7653 - accuracy: 0.7954 - val_loss: 0.8118 - val_accuracy: 0.7752\n",
      "Epoch 5/24\n",
      "760799/760799 [==============================] - 223s 294us/sample - loss: 0.7447 - accuracy: 0.7980 - val_loss: 0.8099 - val_accuracy: 0.7758\n",
      "Epoch 6/24\n",
      "760799/760799 [==============================] - 225s 295us/sample - loss: 0.7297 - accuracy: 0.8001 - val_loss: 0.7971 - val_accuracy: 0.7764\n",
      "Epoch 7/24\n",
      "760799/760799 [==============================] - 224s 294us/sample - loss: 0.7192 - accuracy: 0.8020 - val_loss: 0.7959 - val_accuracy: 0.7769\n",
      "Epoch 8/24\n",
      "760799/760799 [==============================] - 224s 294us/sample - loss: 0.7083 - accuracy: 0.8034 - val_loss: 0.7889 - val_accuracy: 0.7765\n",
      "Epoch 9/24\n",
      "760799/760799 [==============================] - 223s 294us/sample - loss: 0.7023 - accuracy: 0.8049 - val_loss: 0.7876 - val_accuracy: 0.7762\n",
      "Epoch 10/24\n",
      "760799/760799 [==============================] - 224s 295us/sample - loss: 0.6973 - accuracy: 0.8061 - val_loss: 0.7978 - val_accuracy: 0.7769\n",
      "Epoch 11/24\n",
      "760799/760799 [==============================] - 224s 294us/sample - loss: 0.6939 - accuracy: 0.8071 - val_loss: 0.7902 - val_accuracy: 0.7766\n",
      "Epoch 12/24\n",
      "760799/760799 [==============================] - 224s 294us/sample - loss: 0.6906 - accuracy: 0.8081 - val_loss: 0.7987 - val_accuracy: 0.7771\n",
      "Epoch 13/24\n",
      "760799/760799 [==============================] - 224s 295us/sample - loss: 0.6869 - accuracy: 0.8090 - val_loss: 0.7888 - val_accuracy: 0.7768\n",
      "Epoch 14/24\n",
      "760799/760799 [==============================] - 223s 293us/sample - loss: 0.6834 - accuracy: 0.8097 - val_loss: 0.7925 - val_accuracy: 0.7770\n",
      "Epoch 15/24\n",
      "760799/760799 [==============================] - 224s 294us/sample - loss: 0.6795 - accuracy: 0.8104 - val_loss: 0.7907 - val_accuracy: 0.7771\n",
      "Epoch 16/24\n",
      "760799/760799 [==============================] - 224s 295us/sample - loss: 0.6763 - accuracy: 0.8108 - val_loss: 0.7933 - val_accuracy: 0.7772\n",
      "Epoch 17/24\n",
      "760799/760799 [==============================] - 224s 294us/sample - loss: 0.6764 - accuracy: 0.8115 - val_loss: 0.7995 - val_accuracy: 0.7776\n",
      "Epoch 18/24\n",
      "760799/760799 [==============================] - 226s 297us/sample - loss: 0.6770 - accuracy: 0.8118 - val_loss: 0.7951 - val_accuracy: 0.7772\n",
      "Epoch 19/24\n",
      "760799/760799 [==============================] - 224s 294us/sample - loss: 0.6738 - accuracy: 0.8123 - val_loss: 0.7936 - val_accuracy: 0.7771\n",
      "Epoch 20/24\n",
      "760799/760799 [==============================] - 225s 296us/sample - loss: 0.6710 - accuracy: 0.8127 - val_loss: 0.7925 - val_accuracy: 0.7775\n",
      "Epoch 21/24\n",
      "760799/760799 [==============================] - 225s 296us/sample - loss: 0.6687 - accuracy: 0.8132 - val_loss: 0.7924 - val_accuracy: 0.7772\n",
      "Epoch 22/24\n",
      "760799/760799 [==============================] - 226s 297us/sample - loss: 0.6673 - accuracy: 0.8136 - val_loss: 0.7918 - val_accuracy: 0.7774\n",
      "Epoch 23/24\n",
      "760799/760799 [==============================] - 226s 297us/sample - loss: 0.6647 - accuracy: 0.8136 - val_loss: 0.7913 - val_accuracy: 0.7772\n",
      "Epoch 24/24\n",
      "760799/760799 [==============================] - 225s 295us/sample - loss: 0.6615 - accuracy: 0.8141 - val_loss: 0.7931 - val_accuracy: 0.7772\n"
     ]
    }
   ],
   "source": [
    "#ignore warnings due to Converting sparse IndexedSlices to a dense Tensor of unknown shape warning\n",
    "warnings.filterwarnings('ignore')\n",
    "\n",
    "#Fit the model\n",
    "#This dataset categorized as Hated, Not Liked and Liked movies\n",
    "#Our dataset contains categorized pairs and a small sample of not categorized pairs labeled as Hated\n",
    "#In my opinion this is a good way to create prediction system\n",
    "with tf.device('/GPU:0'):\n",
    "    trainingHistory = model.fit(\n",
    "        x = trainingX,\n",
    "        y = trainingY,\n",
    "        batch_size = 64,\n",
    "        shuffle = True,\n",
    "        callbacks=[ModelSaver()],\n",
    "        epochs = 24,\n",
    "        verbose = 1,\n",
    "        validation_data = (validationX, validationY),\n",
    "    )"
   ]
  },
  {
   "cell_type": "code",
   "execution_count": 21,
   "metadata": {},
   "outputs": [
    {
     "data": {
      "text/plain": [
       "{'loss': [0.9202993013765537,\n",
       "  0.8411276781549385,\n",
       "  0.7920923821605363,\n",
       "  0.7653342889135473,\n",
       "  0.7446843892662472,\n",
       "  0.7297266521310066,\n",
       "  0.7192332775110554,\n",
       "  0.7082941144149628,\n",
       "  0.7022793027766084,\n",
       "  0.6972870564599863,\n",
       "  0.6938738170422767,\n",
       "  0.6905964592310694,\n",
       "  0.6868889054035957,\n",
       "  0.6833646221689146,\n",
       "  0.6795377144853663,\n",
       "  0.6763468814496865,\n",
       "  0.6763808830333256,\n",
       "  0.6769868417409718,\n",
       "  0.6738069084144921,\n",
       "  0.6709903498955262,\n",
       "  0.6686966988769424,\n",
       "  0.6672582915525962,\n",
       "  0.6647371699579604,\n",
       "  0.6615358396448511],\n",
       " 'accuracy': [0.7488904,\n",
       "  0.77909505,\n",
       "  0.7908494,\n",
       "  0.7953505,\n",
       "  0.79797035,\n",
       "  0.80010104,\n",
       "  0.8019671,\n",
       "  0.80338776,\n",
       "  0.8048506,\n",
       "  0.8060733,\n",
       "  0.8071065,\n",
       "  0.8081043,\n",
       "  0.8089824,\n",
       "  0.80969137,\n",
       "  0.8103742,\n",
       "  0.8107564,\n",
       "  0.8114695,\n",
       "  0.81176835,\n",
       "  0.81233543,\n",
       "  0.8126763,\n",
       "  0.8131517,\n",
       "  0.8135939,\n",
       "  0.81355655,\n",
       "  0.81413776],\n",
       " 'val_loss': [0.8873877836000528,\n",
       "  0.8415937915367754,\n",
       "  0.8248120173110652,\n",
       "  0.8117757888014951,\n",
       "  0.8098779760333942,\n",
       "  0.7970613338726306,\n",
       "  0.7958542332781852,\n",
       "  0.7889223224769677,\n",
       "  0.787614935577941,\n",
       "  0.79784456161462,\n",
       "  0.7902269682591863,\n",
       "  0.7987472521652564,\n",
       "  0.7887509568691952,\n",
       "  0.7924838314274623,\n",
       "  0.7907064883175362,\n",
       "  0.7932906883236558,\n",
       "  0.799458496385707,\n",
       "  0.7951336762613244,\n",
       "  0.7935511341633653,\n",
       "  0.7925189014871068,\n",
       "  0.7924330554421561,\n",
       "  0.7917772243016646,\n",
       "  0.7912927324392035,\n",
       "  0.7930895575134749],\n",
       " 'val_accuracy': [0.76402193,\n",
       "  0.77167994,\n",
       "  0.7743372,\n",
       "  0.77517456,\n",
       "  0.7758005,\n",
       "  0.7763577,\n",
       "  0.7768721,\n",
       "  0.77646226,\n",
       "  0.7761523,\n",
       "  0.7769368,\n",
       "  0.77662176,\n",
       "  0.77707756,\n",
       "  0.77676576,\n",
       "  0.7769759,\n",
       "  0.7771169,\n",
       "  0.7772241,\n",
       "  0.7775849,\n",
       "  0.77715254,\n",
       "  0.77706105,\n",
       "  0.777532,\n",
       "  0.777213,\n",
       "  0.77738625,\n",
       "  0.7772009,\n",
       "  0.77720803]}"
      ]
     },
     "execution_count": 21,
     "metadata": {},
     "output_type": "execute_result"
    }
   ],
   "source": [
    "#Checking Training history data\n",
    "trainingHistory.history"
   ]
  },
  {
   "cell_type": "code",
   "execution_count": 22,
   "metadata": {},
   "outputs": [],
   "source": [
    "#Import pyplot for graphics\n",
    "from matplotlib import pyplot as plt"
   ]
  },
  {
   "cell_type": "code",
   "execution_count": 23,
   "metadata": {},
   "outputs": [
    {
     "data": {
      "image/png": "[encoded data removed]",
      "text/plain": [
       "<Figure size 432x288 with 1 Axes>"
      ]
     },
     "metadata": {
      "needs_background": "light"
     },
     "output_type": "display_data"
    }
   ],
   "source": [
    "#Loss Graph\n",
    "plt.plot(trainingHistory.history['loss'])\n",
    "plt.plot(trainingHistory.history['val_loss'])\n",
    "plt.title('model loss')\n",
    "plt.ylabel('loss')\n",
    "plt.xlabel('epoch')\n",
    "plt.legend(['train', 'val'], loc='upper left')\n",
    "plt.ticklabel_format(useOffset=False)\n",
    "plt.show()"
   ]
  },
  {
   "cell_type": "code",
   "execution_count": 24,
   "metadata": {},
   "outputs": [
    {
     "data": {
      "image/png": "[encoded data removed]",
      "text/plain": [
       "<Figure size 432x288 with 1 Axes>"
      ]
     },
     "metadata": {
      "needs_background": "light"
     },
     "output_type": "display_data"
    }
   ],
   "source": [
    "#Accuracy Graph\n",
    "plt.plot(trainingHistory.history['accuracy'])\n",
    "plt.plot(trainingHistory.history['val_accuracy'])\n",
    "plt.title('model accuracy')\n",
    "plt.ylabel('accuracy')\n",
    "plt.xlabel('epoch')\n",
    "plt.legend(['train', 'val'], loc='upper left')\n",
    "plt.ticklabel_format(useOffset=False)\n",
    "plt.show()"
   ]
  },
  {
   "cell_type": "code",
   "execution_count": 25,
   "metadata": {},
   "outputs": [
    {
     "data": {
      "text/html": [
       "<div>\n",
       "<style scoped>\n",
       "    .dataframe tbody tr th:only-of-type {\n",
       "        vertical-align: middle;\n",
       "    }\n",
       "\n",
       "    .dataframe tbody tr th {\n",
       "        vertical-align: top;\n",
       "    }\n",
       "\n",
       "    .dataframe thead th {\n",
       "        text-align: right;\n",
       "    }\n",
       "</style>\n",
       "<table border=\"1\" class=\"dataframe\">\n",
       "  <thead>\n",
       "    <tr style=\"text-align: right;\">\n",
       "      <th></th>\n",
       "      <th>UserId</th>\n",
       "      <th>MovieId</th>\n",
       "      <th>Category</th>\n",
       "    </tr>\n",
       "  </thead>\n",
       "  <tbody>\n",
       "    <tr>\n",
       "      <td>0</td>\n",
       "      <td>2462</td>\n",
       "      <td>2321</td>\n",
       "      <td>1</td>\n",
       "    </tr>\n",
       "    <tr>\n",
       "      <td>1</td>\n",
       "      <td>6121</td>\n",
       "      <td>2859</td>\n",
       "      <td>1</td>\n",
       "    </tr>\n",
       "    <tr>\n",
       "      <td>2</td>\n",
       "      <td>6835</td>\n",
       "      <td>2574</td>\n",
       "      <td>0</td>\n",
       "    </tr>\n",
       "    <tr>\n",
       "      <td>3</td>\n",
       "      <td>4628</td>\n",
       "      <td>1167</td>\n",
       "      <td>1</td>\n",
       "    </tr>\n",
       "    <tr>\n",
       "      <td>4</td>\n",
       "      <td>8252</td>\n",
       "      <td>2558</td>\n",
       "      <td>1</td>\n",
       "    </tr>\n",
       "    <tr>\n",
       "      <td>...</td>\n",
       "      <td>...</td>\n",
       "      <td>...</td>\n",
       "      <td>...</td>\n",
       "    </tr>\n",
       "    <tr>\n",
       "      <td>125046</td>\n",
       "      <td>221</td>\n",
       "      <td>1027</td>\n",
       "      <td>1</td>\n",
       "    </tr>\n",
       "    <tr>\n",
       "      <td>125047</td>\n",
       "      <td>7845</td>\n",
       "      <td>75</td>\n",
       "      <td>1</td>\n",
       "    </tr>\n",
       "    <tr>\n",
       "      <td>125048</td>\n",
       "      <td>8340</td>\n",
       "      <td>1370</td>\n",
       "      <td>2</td>\n",
       "    </tr>\n",
       "    <tr>\n",
       "      <td>125049</td>\n",
       "      <td>10072</td>\n",
       "      <td>344</td>\n",
       "      <td>1</td>\n",
       "    </tr>\n",
       "    <tr>\n",
       "      <td>125050</td>\n",
       "      <td>2149</td>\n",
       "      <td>5635</td>\n",
       "      <td>1</td>\n",
       "    </tr>\n",
       "  </tbody>\n",
       "</table>\n",
       "<p>125051 rows × 3 columns</p>\n",
       "</div>"
      ],
      "text/plain": [
       "        UserId  MovieId  Category\n",
       "0         2462     2321         1\n",
       "1         6121     2859         1\n",
       "2         6835     2574         0\n",
       "3         4628     1167         1\n",
       "4         8252     2558         1\n",
       "...        ...      ...       ...\n",
       "125046     221     1027         1\n",
       "125047    7845       75         1\n",
       "125048    8340     1370         2\n",
       "125049   10072      344         1\n",
       "125050    2149     5635         1\n",
       "\n",
       "[125051 rows x 3 columns]"
      ]
     },
     "execution_count": 25,
     "metadata": {},
     "output_type": "execute_result"
    }
   ],
   "source": [
    "#Reading Qualified CategoricalLike NotCategorizedSample test data from pkl file\n",
    "testDf = pd.read_pickle(\"../Data/pkl/1M/Qualified/CategoricalLike/NotCategorizedSample/Test.pkl\")\n",
    "testDf"
   ]
  },
  {
   "cell_type": "code",
   "execution_count": 26,
   "metadata": {},
   "outputs": [
    {
     "data": {
      "text/plain": [
       "array([ 2462,  6121,  6835, ...,  8340, 10072,  2149])"
      ]
     },
     "execution_count": 26,
     "metadata": {},
     "output_type": "execute_result"
    }
   ],
   "source": [
    "#creating a user array for test input \n",
    "testUser = testDf[['UserId']].values.astype(np.int32)\n",
    "testUser = testUser.reshape((testUser.shape[0]))\n",
    "testUser"
   ]
  },
  {
   "cell_type": "code",
   "execution_count": 27,
   "metadata": {},
   "outputs": [
    {
     "data": {
      "text/plain": [
       "array([2321, 2859, 2574, ..., 1370,  344, 5635])"
      ]
     },
     "execution_count": 27,
     "metadata": {},
     "output_type": "execute_result"
    }
   ],
   "source": [
    "#creating a movie array for test input \n",
    "testMovie = testDf[['MovieId']].values.astype(np.int32)\n",
    "testMovie = testMovie.reshape((testMovie.shape[0]))\n",
    "testMovie"
   ]
  },
  {
   "cell_type": "code",
   "execution_count": 28,
   "metadata": {},
   "outputs": [
    {
     "data": {
      "text/plain": [
       "[array([ 2462,  6121,  6835, ...,  8340, 10072,  2149]),\n",
       " array([2321, 2859, 2574, ..., 1370,  344, 5635])]"
      ]
     },
     "execution_count": 28,
     "metadata": {},
     "output_type": "execute_result"
    }
   ],
   "source": [
    "#creating an array for test input \n",
    "testX = [testUser, testMovie]\n",
    "testX"
   ]
  },
  {
   "cell_type": "code",
   "execution_count": 29,
   "metadata": {},
   "outputs": [
    {
     "data": {
      "text/plain": [
       "array([[0, 1, 0],\n",
       "       [0, 1, 0],\n",
       "       [1, 0, 0],\n",
       "       ...,\n",
       "       [0, 0, 1],\n",
       "       [0, 1, 0],\n",
       "       [0, 1, 0]], dtype=int8)"
      ]
     },
     "execution_count": 29,
     "metadata": {},
     "output_type": "execute_result"
    }
   ],
   "source": [
    "#Output is converted to One-Hot encoding and creating an array for test output \n",
    "testY = []\n",
    "for i in testDf[['Category']].values:\n",
    "    current = np.zeros(3)\n",
    "    current[i] = 1\n",
    "    testY.append(current)\n",
    "testY = np.array(testY).astype(np.int8)\n",
    "testY"
   ]
  },
  {
   "cell_type": "code",
   "execution_count": 30,
   "metadata": {},
   "outputs": [],
   "source": [
    "#Clearing Memory\n",
    "del testDf"
   ]
  },
  {
   "cell_type": "code",
   "execution_count": 31,
   "metadata": {},
   "outputs": [],
   "source": [
    "#Model evaluating with test values\n",
    "testResult = model.evaluate(x = testX, y = testY, batch_size = 64, verbose = 0)"
   ]
  },
  {
   "cell_type": "code",
   "execution_count": 32,
   "metadata": {},
   "outputs": [
    {
     "data": {
      "text/plain": [
       "[0.7918291906682423, 0.7786902]"
      ]
     },
     "execution_count": 32,
     "metadata": {},
     "output_type": "execute_result"
    }
   ],
   "source": [
    "#Print testResult\n",
    "testResult"
   ]
  },
  {
   "cell_type": "code",
   "execution_count": 33,
   "metadata": {},
   "outputs": [
    {
     "name": "stdout",
     "output_type": "stream",
     "text": [
      "Test Loss: 0.7918291906682423\n"
     ]
    }
   ],
   "source": [
    "#Print Test Loss\n",
    "print('Test Loss: ' + str(testResult[0]))"
   ]
  },
  {
   "cell_type": "code",
   "execution_count": 34,
   "metadata": {},
   "outputs": [
    {
     "name": "stdout",
     "output_type": "stream",
     "text": [
      "Test Accuracy: 0.7786902\n"
     ]
    }
   ],
   "source": [
    "#Print Test Accuracy\n",
    "print('Test Accuracy: ' + str(testResult[1]))"
   ]
  },
  {
   "cell_type": "code",
   "execution_count": 35,
   "metadata": {},
   "outputs": [],
   "source": [
    "#When the metric graphs are examined, it is seen that the best model is reached between the 15th and 20th epochs.\n",
    "#After the 18th epoch, the amount of performance does not seem to change much.\n",
    "#So the model in the 18th epoch is determined as the best model.\n",
    "\n",
    "#Model18 Loading from h5 file\n",
    "model = tf.keras.models.load_model(\"../Model/NotCategorizedSampleModel/Model18.h5\")"
   ]
  },
  {
   "cell_type": "code",
   "execution_count": 36,
   "metadata": {},
   "outputs": [],
   "source": [
    "#Best Model evaluating with test values\n",
    "testResult = model.evaluate(x = testX, y = testY, batch_size = 64, verbose = 0)"
   ]
  },
  {
   "cell_type": "code",
   "execution_count": 37,
   "metadata": {},
   "outputs": [
    {
     "data": {
      "text/plain": [
       "[0.7944960329917007, 0.77834356]"
      ]
     },
     "execution_count": 37,
     "metadata": {},
     "output_type": "execute_result"
    }
   ],
   "source": [
    "#Print testResult for Best Model\n",
    "testResult"
   ]
  },
  {
   "cell_type": "code",
   "execution_count": 38,
   "metadata": {},
   "outputs": [
    {
     "name": "stdout",
     "output_type": "stream",
     "text": [
      "Test Loss: 0.7944960329917007\n"
     ]
    }
   ],
   "source": [
    "#Print Test Loss for Best Model\n",
    "print('Test Loss: ' + str(testResult[0]))"
   ]
  },
  {
   "cell_type": "code",
   "execution_count": 39,
   "metadata": {},
   "outputs": [
    {
     "name": "stdout",
     "output_type": "stream",
     "text": [
      "Test Accuracy: 0.77834356\n"
     ]
    }
   ],
   "source": [
    "#Print Test Accuracy for Best Model\n",
    "print('Test Accuracy: ' + str(testResult[1]))"
   ]
  },
  {
   "cell_type": "markdown",
   "metadata": {},
   "source": [
    "# Analysing Result\n",
    "\n",
    "As can be seen above, the performance of the model obtained at the end of the training and the 18th model that chosen as the best model on the test data is almost equal\n",
    "\n",
    "In this case, it is pointless to train the model further after the 18th epoch\n",
    "\n",
    "Result look good\n",
    "\n",
    "Dataset is usefull for recommendation system\n",
    "\n",
    "But still i am biased towards this dataset and model since some uncategorized data is labeled as Hated"
   ]
  }
 ],
 "metadata": {
  "kernelspec": {
   "display_name": "Python 3",
   "language": "python",
   "name": "python3"
  },
  "language_info": {
   "codemirror_mode": {
    "name": "ipython",
    "version": 3
   },
   "file_extension": ".py",
   "mimetype": "text/x-python",
   "name": "python",
   "nbconvert_exporter": "python",
   "pygments_lexer": "ipython3",
   "version": "3.7.4"
  }
 },
 "nbformat": 4,
 "nbformat_minor": 2
}
