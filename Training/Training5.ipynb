{
 "cells": [
  {
   "cell_type": "markdown",
   "metadata": {},
   "source": [
    "# Model will be trained with CategoricalLike CategorizedOnly Data\n",
    "\n",
    "CategoricalLike CategorizedOnly dataset contains labeled rows [0, 1, 2] - ['Hated', 'Not Liked', 'Liked'] pairs\n",
    "\n",
    "CategoricalLike CategorizedOnly dataset provides a valid criterion for like\n",
    "\n",
    "Because it contains not only the information whether the movie is liked or not, but also how much it is liked\n",
    "\n",
    "So it is one of the most useful datasets for the recommendation system"
   ]
  },
  {
   "cell_type": "code",
   "execution_count": 1,
   "metadata": {},
   "outputs": [],
   "source": [
    "#Importing libraries\n",
    "import numpy as np\n",
    "import pandas as pd\n",
    "import tensorflow as tf\n",
    "import warnings"
   ]
  },
  {
   "cell_type": "code",
   "execution_count": 2,
   "metadata": {},
   "outputs": [
    {
     "name": "stdout",
     "output_type": "stream",
     "text": [
      "numpy Version: 1.16.5\n",
      "pandas Version: 0.25.1\n",
      "tensorflow Version: 2.0.0\n"
     ]
    }
   ],
   "source": [
    "#Printing library versions\n",
    "print('numpy Version: ' + np.__version__)\n",
    "print('pandas Version: ' + pd.__version__)\n",
    "print('tensorflow Version: ' + tf.__version__)"
   ]
  },
  {
   "cell_type": "code",
   "execution_count": 3,
   "metadata": {},
   "outputs": [
    {
     "name": "stdout",
     "output_type": "stream",
     "text": [
      "/device:GPU:0\n"
     ]
    }
   ],
   "source": [
    "#GPU will be used for training\n",
    "myGPU = tf.test.gpu_device_name()\n",
    "if myGPU:\n",
    "    print(myGPU)\n",
    "else:\n",
    "    print(\"Error\")"
   ]
  },
  {
   "cell_type": "code",
   "execution_count": 4,
   "metadata": {
    "scrolled": false
   },
   "outputs": [
    {
     "data": {
      "text/html": [
       "<div>\n",
       "<style scoped>\n",
       "    .dataframe tbody tr th:only-of-type {\n",
       "        vertical-align: middle;\n",
       "    }\n",
       "\n",
       "    .dataframe tbody tr th {\n",
       "        vertical-align: top;\n",
       "    }\n",
       "\n",
       "    .dataframe thead th {\n",
       "        text-align: right;\n",
       "    }\n",
       "</style>\n",
       "<table border=\"1\" class=\"dataframe\">\n",
       "  <thead>\n",
       "    <tr style=\"text-align: right;\">\n",
       "      <th></th>\n",
       "      <th>UserId</th>\n",
       "      <th>MovieId</th>\n",
       "      <th>Category</th>\n",
       "    </tr>\n",
       "  </thead>\n",
       "  <tbody>\n",
       "    <tr>\n",
       "      <td>0</td>\n",
       "      <td>9999</td>\n",
       "      <td>690</td>\n",
       "      <td>1</td>\n",
       "    </tr>\n",
       "    <tr>\n",
       "      <td>1</td>\n",
       "      <td>4532</td>\n",
       "      <td>1007</td>\n",
       "      <td>2</td>\n",
       "    </tr>\n",
       "    <tr>\n",
       "      <td>2</td>\n",
       "      <td>3969</td>\n",
       "      <td>726</td>\n",
       "      <td>2</td>\n",
       "    </tr>\n",
       "    <tr>\n",
       "      <td>3</td>\n",
       "      <td>1271</td>\n",
       "      <td>9157</td>\n",
       "      <td>1</td>\n",
       "    </tr>\n",
       "    <tr>\n",
       "      <td>4</td>\n",
       "      <td>7932</td>\n",
       "      <td>1201</td>\n",
       "      <td>1</td>\n",
       "    </tr>\n",
       "    <tr>\n",
       "      <td>...</td>\n",
       "      <td>...</td>\n",
       "      <td>...</td>\n",
       "      <td>...</td>\n",
       "    </tr>\n",
       "    <tr>\n",
       "      <td>753628</td>\n",
       "      <td>9556</td>\n",
       "      <td>1403</td>\n",
       "      <td>1</td>\n",
       "    </tr>\n",
       "    <tr>\n",
       "      <td>753629</td>\n",
       "      <td>4795</td>\n",
       "      <td>17453</td>\n",
       "      <td>1</td>\n",
       "    </tr>\n",
       "    <tr>\n",
       "      <td>753630</td>\n",
       "      <td>2116</td>\n",
       "      <td>434</td>\n",
       "      <td>1</td>\n",
       "    </tr>\n",
       "    <tr>\n",
       "      <td>753631</td>\n",
       "      <td>1910</td>\n",
       "      <td>4512</td>\n",
       "      <td>1</td>\n",
       "    </tr>\n",
       "    <tr>\n",
       "      <td>753632</td>\n",
       "      <td>6015</td>\n",
       "      <td>110</td>\n",
       "      <td>2</td>\n",
       "    </tr>\n",
       "  </tbody>\n",
       "</table>\n",
       "<p>753633 rows × 3 columns</p>\n",
       "</div>"
      ],
      "text/plain": [
       "        UserId  MovieId  Category\n",
       "0         9999      690         1\n",
       "1         4532     1007         2\n",
       "2         3969      726         2\n",
       "3         1271     9157         1\n",
       "4         7932     1201         1\n",
       "...        ...      ...       ...\n",
       "753628    9556     1403         1\n",
       "753629    4795    17453         1\n",
       "753630    2116      434         1\n",
       "753631    1910     4512         1\n",
       "753632    6015      110         2\n",
       "\n",
       "[753633 rows x 3 columns]"
      ]
     },
     "execution_count": 4,
     "metadata": {},
     "output_type": "execute_result"
    }
   ],
   "source": [
    "#Reading Qualified CategoricalLike CategorizedOnly training data from pkl file\n",
    "trainingDf = pd.read_pickle(\"../Data/pkl/1M/Qualified/CategoricalLike/CategorizedOnly/Training.pkl\")\n",
    "trainingDf"
   ]
  },
  {
   "cell_type": "code",
   "execution_count": 5,
   "metadata": {},
   "outputs": [
    {
     "data": {
      "text/plain": [
       "array([9999, 4532, 3969, ..., 2116, 1910, 6015])"
      ]
     },
     "execution_count": 5,
     "metadata": {},
     "output_type": "execute_result"
    }
   ],
   "source": [
    "#creating a user array for training input \n",
    "trainingUser = trainingDf[['UserId']].values.astype(np.int32)\n",
    "trainingUser = trainingUser.reshape((trainingUser.shape[0]))\n",
    "trainingUser"
   ]
  },
  {
   "cell_type": "code",
   "execution_count": 6,
   "metadata": {},
   "outputs": [
    {
     "data": {
      "text/plain": [
       "array([ 690, 1007,  726, ...,  434, 4512,  110])"
      ]
     },
     "execution_count": 6,
     "metadata": {},
     "output_type": "execute_result"
    }
   ],
   "source": [
    "#creating a movie array for training input \n",
    "trainingMovie = trainingDf[['MovieId']].values.astype(np.int32)\n",
    "trainingMovie = trainingMovie.reshape((trainingMovie.shape[0]))\n",
    "trainingMovie"
   ]
  },
  {
   "cell_type": "code",
   "execution_count": 7,
   "metadata": {},
   "outputs": [
    {
     "data": {
      "text/plain": [
       "[array([9999, 4532, 3969, ..., 2116, 1910, 6015]),\n",
       " array([ 690, 1007,  726, ...,  434, 4512,  110])]"
      ]
     },
     "execution_count": 7,
     "metadata": {},
     "output_type": "execute_result"
    }
   ],
   "source": [
    "#creating an array for training input \n",
    "trainingX = [trainingUser, trainingMovie]\n",
    "trainingX"
   ]
  },
  {
   "cell_type": "code",
   "execution_count": 8,
   "metadata": {},
   "outputs": [
    {
     "data": {
      "text/plain": [
       "array([[0, 1, 0],\n",
       "       [0, 0, 1],\n",
       "       [0, 0, 1],\n",
       "       ...,\n",
       "       [0, 1, 0],\n",
       "       [0, 1, 0],\n",
       "       [0, 0, 1]], dtype=int8)"
      ]
     },
     "execution_count": 8,
     "metadata": {},
     "output_type": "execute_result"
    }
   ],
   "source": [
    "#Output is converted to One-Hot Encoding and creating an array for training output \n",
    "trainingY = []\n",
    "for i in trainingDf[['Category']].values:\n",
    "    current = np.zeros(3)\n",
    "    current[i] = 1\n",
    "    trainingY.append(current)\n",
    "trainingY = np.array(trainingY).astype(np.int8)\n",
    "trainingY"
   ]
  },
  {
   "cell_type": "code",
   "execution_count": 9,
   "metadata": {},
   "outputs": [],
   "source": [
    "#Clearing Memory\n",
    "del trainingDf"
   ]
  },
  {
   "cell_type": "code",
   "execution_count": 10,
   "metadata": {
    "scrolled": true
   },
   "outputs": [
    {
     "data": {
      "text/html": [
       "<div>\n",
       "<style scoped>\n",
       "    .dataframe tbody tr th:only-of-type {\n",
       "        vertical-align: middle;\n",
       "    }\n",
       "\n",
       "    .dataframe tbody tr th {\n",
       "        vertical-align: top;\n",
       "    }\n",
       "\n",
       "    .dataframe thead th {\n",
       "        text-align: right;\n",
       "    }\n",
       "</style>\n",
       "<table border=\"1\" class=\"dataframe\">\n",
       "  <thead>\n",
       "    <tr style=\"text-align: right;\">\n",
       "      <th></th>\n",
       "      <th>UserId</th>\n",
       "      <th>MovieId</th>\n",
       "      <th>Category</th>\n",
       "    </tr>\n",
       "  </thead>\n",
       "  <tbody>\n",
       "    <tr>\n",
       "      <td>0</td>\n",
       "      <td>238</td>\n",
       "      <td>315</td>\n",
       "      <td>1</td>\n",
       "    </tr>\n",
       "    <tr>\n",
       "      <td>1</td>\n",
       "      <td>2311</td>\n",
       "      <td>933</td>\n",
       "      <td>1</td>\n",
       "    </tr>\n",
       "    <tr>\n",
       "      <td>2</td>\n",
       "      <td>9877</td>\n",
       "      <td>866</td>\n",
       "      <td>2</td>\n",
       "    </tr>\n",
       "    <tr>\n",
       "      <td>3</td>\n",
       "      <td>234</td>\n",
       "      <td>424</td>\n",
       "      <td>2</td>\n",
       "    </tr>\n",
       "    <tr>\n",
       "      <td>4</td>\n",
       "      <td>8066</td>\n",
       "      <td>1669</td>\n",
       "      <td>2</td>\n",
       "    </tr>\n",
       "    <tr>\n",
       "      <td>...</td>\n",
       "      <td>...</td>\n",
       "      <td>...</td>\n",
       "      <td>...</td>\n",
       "    </tr>\n",
       "    <tr>\n",
       "      <td>123625</td>\n",
       "      <td>2038</td>\n",
       "      <td>280</td>\n",
       "      <td>1</td>\n",
       "    </tr>\n",
       "    <tr>\n",
       "      <td>123626</td>\n",
       "      <td>8717</td>\n",
       "      <td>154</td>\n",
       "      <td>2</td>\n",
       "    </tr>\n",
       "    <tr>\n",
       "      <td>123627</td>\n",
       "      <td>7348</td>\n",
       "      <td>1068</td>\n",
       "      <td>1</td>\n",
       "    </tr>\n",
       "    <tr>\n",
       "      <td>123628</td>\n",
       "      <td>1932</td>\n",
       "      <td>12061</td>\n",
       "      <td>1</td>\n",
       "    </tr>\n",
       "    <tr>\n",
       "      <td>123629</td>\n",
       "      <td>7604</td>\n",
       "      <td>303</td>\n",
       "      <td>1</td>\n",
       "    </tr>\n",
       "  </tbody>\n",
       "</table>\n",
       "<p>123630 rows × 3 columns</p>\n",
       "</div>"
      ],
      "text/plain": [
       "        UserId  MovieId  Category\n",
       "0          238      315         1\n",
       "1         2311      933         1\n",
       "2         9877      866         2\n",
       "3          234      424         2\n",
       "4         8066     1669         2\n",
       "...        ...      ...       ...\n",
       "123625    2038      280         1\n",
       "123626    8717      154         2\n",
       "123627    7348     1068         1\n",
       "123628    1932    12061         1\n",
       "123629    7604      303         1\n",
       "\n",
       "[123630 rows x 3 columns]"
      ]
     },
     "execution_count": 10,
     "metadata": {},
     "output_type": "execute_result"
    }
   ],
   "source": [
    "#Reading Qualified CategoricalLike CategorizedOnly validation data from pkl file\n",
    "validationDf = pd.read_pickle(\"../Data/pkl/1M/Qualified/CategoricalLike/CategorizedOnly/Validation.pkl\")\n",
    "validationDf"
   ]
  },
  {
   "cell_type": "code",
   "execution_count": 11,
   "metadata": {},
   "outputs": [
    {
     "data": {
      "text/plain": [
       "array([ 238, 2311, 9877, ..., 7348, 1932, 7604])"
      ]
     },
     "execution_count": 11,
     "metadata": {},
     "output_type": "execute_result"
    }
   ],
   "source": [
    "#creating a user array for validation input \n",
    "validationUser = validationDf[['UserId']].values.astype(np.int32)\n",
    "validationUser = validationUser.reshape((validationUser.shape[0]))\n",
    "validationUser"
   ]
  },
  {
   "cell_type": "code",
   "execution_count": 12,
   "metadata": {},
   "outputs": [
    {
     "data": {
      "text/plain": [
       "array([  315,   933,   866, ...,  1068, 12061,   303])"
      ]
     },
     "execution_count": 12,
     "metadata": {},
     "output_type": "execute_result"
    }
   ],
   "source": [
    "#creating a movie array for validation input \n",
    "validationMovie = validationDf[['MovieId']].values.astype(np.int32)\n",
    "validationMovie = validationMovie.reshape((validationMovie.shape[0]))\n",
    "validationMovie"
   ]
  },
  {
   "cell_type": "code",
   "execution_count": 13,
   "metadata": {},
   "outputs": [
    {
     "data": {
      "text/plain": [
       "[array([ 238, 2311, 9877, ..., 7348, 1932, 7604]),\n",
       " array([  315,   933,   866, ...,  1068, 12061,   303])]"
      ]
     },
     "execution_count": 13,
     "metadata": {},
     "output_type": "execute_result"
    }
   ],
   "source": [
    "#creating an array for validation input \n",
    "validationX = [validationUser, validationMovie]\n",
    "validationX"
   ]
  },
  {
   "cell_type": "code",
   "execution_count": 14,
   "metadata": {},
   "outputs": [
    {
     "data": {
      "text/plain": [
       "array([[0, 1, 0],\n",
       "       [0, 1, 0],\n",
       "       [0, 0, 1],\n",
       "       ...,\n",
       "       [0, 1, 0],\n",
       "       [0, 1, 0],\n",
       "       [0, 1, 0]], dtype=int8)"
      ]
     },
     "execution_count": 14,
     "metadata": {},
     "output_type": "execute_result"
    }
   ],
   "source": [
    "#Output is converted to One-Hot Encoding and creating an array for validation output \n",
    "validationY = []\n",
    "for i in validationDf[['Category']].values:\n",
    "    current = np.zeros(3)\n",
    "    current[i] = 1\n",
    "    validationY.append(current)\n",
    "validationY = np.array(validationY).astype(np.int8)\n",
    "validationY"
   ]
  },
  {
   "cell_type": "code",
   "execution_count": 15,
   "metadata": {},
   "outputs": [],
   "source": [
    "#Clearing Memory\n",
    "del validationDf"
   ]
  },
  {
   "cell_type": "code",
   "execution_count": 16,
   "metadata": {},
   "outputs": [],
   "source": [
    "#Setting model variables\n",
    "userSize = 10073\n",
    "movieSize = 22033\n",
    "latentDimensionMF = 4\n",
    "latentDimensionMLP = 32\n",
    "regMF = 0\n",
    "regMLP = 0.01\n",
    "regDense = 0.01\n",
    "denseActivation = 'relu'"
   ]
  },
  {
   "cell_type": "code",
   "execution_count": 17,
   "metadata": {},
   "outputs": [
    {
     "name": "stdout",
     "output_type": "stream",
     "text": [
      "Model: \"model\"\n",
      "__________________________________________________________________________________________________\n",
      "Layer (type)                    Output Shape         Param #     Connected to                     \n",
      "==================================================================================================\n",
      "userId (InputLayer)             [(None,)]            0                                            \n",
      "__________________________________________________________________________________________________\n",
      "movieId (InputLayer)            [(None,)]            0                                            \n",
      "__________________________________________________________________________________________________\n",
      "userEmbeddingMLP (Embedding)    (None, 32)           322336      userId[0][0]                     \n",
      "__________________________________________________________________________________________________\n",
      "movieEmbeddingMLP (Embedding)   (None, 32)           705056      movieId[0][0]                    \n",
      "__________________________________________________________________________________________________\n",
      "flatten_2 (Flatten)             (None, 32)           0           userEmbeddingMLP[0][0]           \n",
      "__________________________________________________________________________________________________\n",
      "flatten_3 (Flatten)             (None, 32)           0           movieEmbeddingMLP[0][0]          \n",
      "__________________________________________________________________________________________________\n",
      "userEmbeddingMF (Embedding)     (None, 4)            40292       userId[0][0]                     \n",
      "__________________________________________________________________________________________________\n",
      "movieEmbeddingMF (Embedding)    (None, 4)            88132       movieId[0][0]                    \n",
      "__________________________________________________________________________________________________\n",
      "concatenate (Concatenate)       (None, 64)           0           flatten_2[0][0]                  \n",
      "                                                                 flatten_3[0][0]                  \n",
      "__________________________________________________________________________________________________\n",
      "flatten (Flatten)               (None, 4)            0           userEmbeddingMF[0][0]            \n",
      "__________________________________________________________________________________________________\n",
      "flatten_1 (Flatten)             (None, 4)            0           movieEmbeddingMF[0][0]           \n",
      "__________________________________________________________________________________________________\n",
      "Dense1 (Dense)                  (None, 32)           2080        concatenate[0][0]                \n",
      "__________________________________________________________________________________________________\n",
      "multiply (Multiply)             (None, 4)            0           flatten[0][0]                    \n",
      "                                                                 flatten_1[0][0]                  \n",
      "__________________________________________________________________________________________________\n",
      "Dense2 (Dense)                  (None, 16)           528         Dense1[0][0]                     \n",
      "__________________________________________________________________________________________________\n",
      "concatenate_1 (Concatenate)     (None, 20)           0           multiply[0][0]                   \n",
      "                                                                 Dense2[0][0]                     \n",
      "__________________________________________________________________________________________________\n",
      "Like (Dense)                    (None, 3)            63          concatenate_1[0][0]              \n",
      "==================================================================================================\n",
      "Total params: 1,158,487\n",
      "Trainable params: 1,158,487\n",
      "Non-trainable params: 0\n",
      "__________________________________________________________________________________________________\n"
     ]
    }
   ],
   "source": [
    "#Creating Neural Collaborative Filtering(NCF) model\n",
    "\n",
    "#This Neural matrix factorization model based on https://arxiv.org/pdf/1708.05031.pdf\n",
    "#As a result of the researches, it was determined as the most useful architecture\n",
    "#This architecture will be trained with different data types and explanations will be made on the results. \n",
    "\n",
    "\n",
    "# input layer\n",
    "userInput = tf.keras.layers.Input(shape = (), dtype = \"int32\", name = \"userId\")\n",
    "movieInput = tf.keras.layers.Input(shape = (), dtype = \"int32\", name = \"movieId\")\n",
    "\n",
    "# embedding layers\n",
    "userEmbeddingMF = tf.keras.layers.Embedding(\n",
    "    input_dim = userSize,\n",
    "    output_dim = latentDimensionMF,\n",
    "    name = 'userEmbeddingMF',\n",
    "    embeddings_initializer = 'he_normal',\n",
    "    embeddings_regularizer = tf.keras.regularizers.l2(regMF),\n",
    "    input_length = 1,\n",
    ")\n",
    "movieEmbeddingMF = tf.keras.layers.Embedding(\n",
    "    input_dim = movieSize,\n",
    "    output_dim = latentDimensionMF,\n",
    "    name = \"movieEmbeddingMF\",\n",
    "    embeddings_initializer = \"he_normal\",\n",
    "    embeddings_regularizer = tf.keras.regularizers.l2(regMF),\n",
    "    input_length = 1,\n",
    ")\n",
    "\n",
    "userEmbeddingMLP = tf.keras.layers.Embedding(\n",
    "    input_dim = userSize,\n",
    "    output_dim = latentDimensionMLP,\n",
    "    name = \"userEmbeddingMLP\",\n",
    "    embeddings_initializer = \"he_normal\",\n",
    "    embeddings_regularizer = tf.keras.regularizers.l2(regMLP),\n",
    "    input_length = 1,\n",
    ")\n",
    "movieEmbeddingMLP = tf.keras.layers.Embedding(\n",
    "    input_dim = movieSize,\n",
    "    output_dim = latentDimensionMLP,\n",
    "    name=\"movieEmbeddingMLP\",\n",
    "    embeddings_initializer = \"he_normal\",\n",
    "    embeddings_regularizer = tf.keras.regularizers.l2(regMLP),\n",
    "    input_length = 1,\n",
    ")\n",
    "\n",
    "# MF vector\n",
    "userLatentMF = tf.keras.layers.Flatten()(userEmbeddingMF(userInput))\n",
    "movieLatentMF = tf.keras.layers.Flatten()(movieEmbeddingMF(movieInput))\n",
    "catLatentMF = tf.keras.layers.Multiply()([userLatentMF, movieLatentMF])\n",
    "\n",
    "# MLP vector\n",
    "userLatentMLP = tf.keras.layers.Flatten()(userEmbeddingMLP(userInput))\n",
    "movieLatentMLP = tf.keras.layers.Flatten()(movieEmbeddingMLP(movieInput))\n",
    "catLatentMLP = tf.keras.layers.Concatenate()([userLatentMLP, movieLatentMLP])\n",
    "\n",
    "vectorMLP = catLatentMLP\n",
    "\n",
    "layer = tf.keras.layers.Dense(\n",
    "    32,\n",
    "    activity_regularizer = tf.keras.regularizers.l2(regDense),\n",
    "    activation = denseActivation,\n",
    "    name = 'Dense1'\n",
    ")\n",
    "\n",
    "vectorMLP = layer(vectorMLP)\n",
    "\n",
    "layer = tf.keras.layers.Dense(\n",
    "    16,\n",
    "    activity_regularizer = tf.keras.regularizers.l2(regDense),\n",
    "    activation = denseActivation,\n",
    "    name = 'Dense2'\n",
    ")\n",
    "\n",
    "vectorMLP = layer(vectorMLP)\n",
    "\n",
    "predictLayer = tf.keras.layers.Concatenate()([catLatentMF, vectorMLP])\n",
    "\n",
    "#Since dataset has 3 labels result layer turns into 3 softmax perceptron\n",
    "result = tf.keras.layers.Dense(3, activation=\"softmax\", name=\"Like\")\n",
    "\n",
    "output = result(predictLayer)\n",
    "\n",
    "model = tf.keras.models.Model(inputs = [userInput, movieInput], outputs = [output])\n",
    "\n",
    "model.summary()"
   ]
  },
  {
   "cell_type": "code",
   "execution_count": 18,
   "metadata": {},
   "outputs": [],
   "source": [
    "#Compile model\n",
    "#Since the dataset has 3 label [0, 1, 2] - ['Hated', 'Not Liked', 'Liked'] \n",
    "#Categorical crossentropy function will be used as loss function\n",
    "model.compile(\n",
    "    optimizer = tf.keras.optimizers.Adam(),\n",
    "    loss=\"categorical_crossentropy\",\n",
    "    metrics=[\n",
    "        tf.keras.metrics.BinaryAccuracy(name=\"accuracy\")\n",
    "    ])"
   ]
  },
  {
   "cell_type": "code",
   "execution_count": 19,
   "metadata": {},
   "outputs": [],
   "source": [
    "#Defining CallBack class for save model\n",
    "class ModelSaver(tf.keras.callbacks.Callback):\n",
    "    def on_epoch_end(self, epoch, logs={}):\n",
    "        #calculation based on epoch + 1 Due to first epoch starts at 0\n",
    "        if (epoch + 1) % 3 == 0:\n",
    "            self.model.save(\"../Model/CategorizedOnlyModel/Model{}.h5\".format(epoch + 1))"
   ]
  },
  {
   "cell_type": "code",
   "execution_count": 20,
   "metadata": {},
   "outputs": [
    {
     "name": "stdout",
     "output_type": "stream",
     "text": [
      "Train on 753633 samples, validate on 123630 samples\n",
      "Epoch 1/24\n",
      "753633/753633 [==============================] - 165s 219us/sample - loss: 0.8945 - accuracy: 0.7489 - val_loss: 0.8284 - val_accuracy: 0.7693\n",
      "Epoch 2/24\n",
      "753633/753633 [==============================] - 222s 295us/sample - loss: 0.7857 - accuracy: 0.7839 - val_loss: 0.7844 - val_accuracy: 0.7760\n",
      "Epoch 3/24\n",
      "753633/753633 [==============================] - 223s 296us/sample - loss: 0.7379 - accuracy: 0.7940 - val_loss: 0.7692 - val_accuracy: 0.7772\n",
      "Epoch 4/24\n",
      "753633/753633 [==============================] - 220s 291us/sample - loss: 0.7171 - accuracy: 0.7987 - val_loss: 0.7645 - val_accuracy: 0.7782\n",
      "Epoch 5/24\n",
      "753633/753633 [==============================] - 220s 292us/sample - loss: 0.7032 - accuracy: 0.8019 - val_loss: 0.7562 - val_accuracy: 0.7777\n",
      "Epoch 6/24\n",
      "753633/753633 [==============================] - 223s 296us/sample - loss: 0.6920 - accuracy: 0.8042 - val_loss: 0.7554 - val_accuracy: 0.7781\n",
      "Epoch 7/24\n",
      "753633/753633 [==============================] - 226s 300us/sample - loss: 0.6855 - accuracy: 0.8054 - val_loss: 0.7596 - val_accuracy: 0.7782\n",
      "Epoch 8/24\n",
      "753633/753633 [==============================] - 220s 292us/sample - loss: 0.6821 - accuracy: 0.8071 - val_loss: 0.7558 - val_accuracy: 0.7791\n",
      "Epoch 9/24\n",
      "753633/753633 [==============================] - 195s 258us/sample - loss: 0.6746 - accuracy: 0.8079 - val_loss: 0.7560 - val_accuracy: 0.7789\n",
      "Epoch 10/24\n",
      "753633/753633 [==============================] - 162s 215us/sample - loss: 0.6715 - accuracy: 0.8089 - val_loss: 0.7556 - val_accuracy: 0.7793\n",
      "Epoch 11/24\n",
      "753633/753633 [==============================] - 161s 214us/sample - loss: 0.6678 - accuracy: 0.8096 - val_loss: 0.7481 - val_accuracy: 0.7789\n",
      "Epoch 12/24\n",
      "753633/753633 [==============================] - 163s 216us/sample - loss: 0.6649 - accuracy: 0.8102 - val_loss: 0.7550 - val_accuracy: 0.7798\n",
      "Epoch 13/24\n",
      "753633/753633 [==============================] - 162s 214us/sample - loss: 0.6620 - accuracy: 0.8109 - val_loss: 0.7539 - val_accuracy: 0.7787\n",
      "Epoch 14/24\n",
      "753633/753633 [==============================] - 164s 218us/sample - loss: 0.6603 - accuracy: 0.8116 - val_loss: 0.7506 - val_accuracy: 0.7795\n",
      "Epoch 15/24\n",
      "753633/753633 [==============================] - 168s 223us/sample - loss: 0.6581 - accuracy: 0.8118 - val_loss: 0.7599 - val_accuracy: 0.7794\n",
      "Epoch 16/24\n",
      "753633/753633 [==============================] - 166s 220us/sample - loss: 0.6570 - accuracy: 0.8122 - val_loss: 0.7523 - val_accuracy: 0.7797\n",
      "Epoch 17/24\n",
      "753633/753633 [==============================] - 167s 221us/sample - loss: 0.6537 - accuracy: 0.8126 - val_loss: 0.7506 - val_accuracy: 0.7797\n",
      "Epoch 18/24\n",
      "753633/753633 [==============================] - 165s 219us/sample - loss: 0.6519 - accuracy: 0.8129 - val_loss: 0.7514 - val_accuracy: 0.7802\n",
      "Epoch 19/24\n",
      "753633/753633 [==============================] - 166s 220us/sample - loss: 0.6530 - accuracy: 0.8131 - val_loss: 0.7501 - val_accuracy: 0.7802\n",
      "Epoch 20/24\n",
      "753633/753633 [==============================] - 166s 220us/sample - loss: 0.6488 - accuracy: 0.8136 - val_loss: 0.7451 - val_accuracy: 0.7804\n",
      "Epoch 21/24\n",
      "753633/753633 [==============================] - 166s 220us/sample - loss: 0.6481 - accuracy: 0.8139 - val_loss: 0.7538 - val_accuracy: 0.7803\n",
      "Epoch 22/24\n",
      "753633/753633 [==============================] - 166s 221us/sample - loss: 0.6450 - accuracy: 0.8143 - val_loss: 0.7492 - val_accuracy: 0.7806\n",
      "Epoch 23/24\n",
      "753633/753633 [==============================] - 167s 222us/sample - loss: 0.6444 - accuracy: 0.8145 - val_loss: 0.7448 - val_accuracy: 0.7805\n",
      "Epoch 24/24\n",
      "753633/753633 [==============================] - 165s 220us/sample - loss: 0.6435 - accuracy: 0.8148 - val_loss: 0.7562 - val_accuracy: 0.7807\n"
     ]
    }
   ],
   "source": [
    "#ignore warnings due to Converting sparse IndexedSlices to a dense Tensor of unknown shape warning\n",
    "warnings.filterwarnings('ignore')\n",
    "\n",
    "#Fit the model\n",
    "#This dataset categorized as Hated, Not Liked and Liked movies\n",
    "#Our dataset contains only interacted pairs\n",
    "#Since CategoricalLike CategorizedOnly dataset provides a real good valid criterion for like \n",
    "#It is one of the most useful dataset for the recommendation system\n",
    "#So I will focus improve performance of this model\n",
    "with tf.device('/GPU:0'):\n",
    "    trainingHistory = model.fit(\n",
    "        x = trainingX,\n",
    "        y = trainingY,\n",
    "        batch_size = 64,\n",
    "        shuffle = True,\n",
    "        callbacks=[ModelSaver()],\n",
    "        epochs = 24,\n",
    "        verbose = 1,\n",
    "        validation_data = (validationX, validationY),\n",
    "    )"
   ]
  },
  {
   "cell_type": "code",
   "execution_count": 21,
   "metadata": {},
   "outputs": [
    {
     "data": {
      "text/plain": [
       "{'loss': [0.8945498350810287,\n",
       "  0.7856982745139354,\n",
       "  0.7379271417138358,\n",
       "  0.7171355055130884,\n",
       "  0.7031886094912764,\n",
       "  0.6919913215516219,\n",
       "  0.6854876380739962,\n",
       "  0.6821419369682106,\n",
       "  0.6745973346645372,\n",
       "  0.671509567116368,\n",
       "  0.6678102224679234,\n",
       "  0.6648911040021566,\n",
       "  0.6620265852447491,\n",
       "  0.6602871324017314,\n",
       "  0.658132487646226,\n",
       "  0.6570445786285259,\n",
       "  0.6536785488460314,\n",
       "  0.6518691670147968,\n",
       "  0.6529885447824596,\n",
       "  0.6487544995286365,\n",
       "  0.6481045671337016,\n",
       "  0.6449911987043,\n",
       "  0.6444272468641765,\n",
       "  0.6434558821228638],\n",
       " 'accuracy': [0.7488769,\n",
       "  0.7839479,\n",
       "  0.7939621,\n",
       "  0.7987022,\n",
       "  0.8018869,\n",
       "  0.8041558,\n",
       "  0.8054313,\n",
       "  0.8070767,\n",
       "  0.8079491,\n",
       "  0.80887175,\n",
       "  0.8096294,\n",
       "  0.8102229,\n",
       "  0.8109482,\n",
       "  0.81163245,\n",
       "  0.81181705,\n",
       "  0.8121902,\n",
       "  0.8126147,\n",
       "  0.8128707,\n",
       "  0.81313735,\n",
       "  0.81363964,\n",
       "  0.8139338,\n",
       "  0.81428444,\n",
       "  0.8144867,\n",
       "  0.81477696],\n",
       " 'val_loss': [0.8284148158846207,\n",
       "  0.784430738433823,\n",
       "  0.7691702830119397,\n",
       "  0.7644924097410984,\n",
       "  0.7562158031784909,\n",
       "  0.7553905794027119,\n",
       "  0.7595746835043908,\n",
       "  0.7557503874070685,\n",
       "  0.7560445523402803,\n",
       "  0.7555855884758735,\n",
       "  0.7481066326334052,\n",
       "  0.7549616573659731,\n",
       "  0.7538723516173033,\n",
       "  0.7506118180922857,\n",
       "  0.7598635711658737,\n",
       "  0.7522852256239632,\n",
       "  0.7506397043820734,\n",
       "  0.7514301483351311,\n",
       "  0.7501067593116393,\n",
       "  0.7451009347573228,\n",
       "  0.7538010394882734,\n",
       "  0.7492429144693156,\n",
       "  0.744847659430033,\n",
       "  0.7561744908843719],\n",
       " 'val_accuracy': [0.7693385,\n",
       "  0.7759819,\n",
       "  0.7771609,\n",
       "  0.77818453,\n",
       "  0.777686,\n",
       "  0.778123,\n",
       "  0.778175,\n",
       "  0.77913105,\n",
       "  0.7789419,\n",
       "  0.77930886,\n",
       "  0.7789391,\n",
       "  0.77978927,\n",
       "  0.7786887,\n",
       "  0.77946025,\n",
       "  0.7794118,\n",
       "  0.7797055,\n",
       "  0.7796726,\n",
       "  0.78019893,\n",
       "  0.7802119,\n",
       "  0.7804331,\n",
       "  0.78033394,\n",
       "  0.78061146,\n",
       "  0.7805383,\n",
       "  0.78071135]}"
      ]
     },
     "execution_count": 21,
     "metadata": {},
     "output_type": "execute_result"
    }
   ],
   "source": [
    "#Checking Training history data\n",
    "trainingHistory.history"
   ]
  },
  {
   "cell_type": "code",
   "execution_count": 22,
   "metadata": {},
   "outputs": [],
   "source": [
    "#Import pyplot for graphics\n",
    "from matplotlib import pyplot as plt"
   ]
  },
  {
   "cell_type": "code",
   "execution_count": 23,
   "metadata": {},
   "outputs": [
    {
     "data": {
      "image/png": "[encoded data removed]",
      "text/plain": [
       "<Figure size 432x288 with 1 Axes>"
      ]
     },
     "metadata": {
      "needs_background": "light"
     },
     "output_type": "display_data"
    }
   ],
   "source": [
    "#Loss Graph\n",
    "plt.plot(trainingHistory.history['loss'])\n",
    "plt.plot(trainingHistory.history['val_loss'])\n",
    "plt.title('model loss')\n",
    "plt.ylabel('loss')\n",
    "plt.xlabel('epoch')\n",
    "plt.legend(['train', 'val'], loc='upper left')\n",
    "plt.ticklabel_format(useOffset=False)\n",
    "plt.show()"
   ]
  },
  {
   "cell_type": "code",
   "execution_count": 24,
   "metadata": {},
   "outputs": [
    {
     "data": {
      "image/png": "[encoded data removed]",
      "text/plain": [
       "<Figure size 432x288 with 1 Axes>"
      ]
     },
     "metadata": {
      "needs_background": "light"
     },
     "output_type": "display_data"
    }
   ],
   "source": [
    "#Accuracy Graph\n",
    "plt.plot(trainingHistory.history['accuracy'])\n",
    "plt.plot(trainingHistory.history['val_accuracy'])\n",
    "plt.title('model accuracy')\n",
    "plt.ylabel('accuracy')\n",
    "plt.xlabel('epoch')\n",
    "plt.legend(['train', 'val'], loc='upper left')\n",
    "plt.ticklabel_format(useOffset=False)\n",
    "plt.show()"
   ]
  },
  {
   "cell_type": "code",
   "execution_count": 25,
   "metadata": {},
   "outputs": [
    {
     "data": {
      "text/html": [
       "<div>\n",
       "<style scoped>\n",
       "    .dataframe tbody tr th:only-of-type {\n",
       "        vertical-align: middle;\n",
       "    }\n",
       "\n",
       "    .dataframe tbody tr th {\n",
       "        vertical-align: top;\n",
       "    }\n",
       "\n",
       "    .dataframe thead th {\n",
       "        text-align: right;\n",
       "    }\n",
       "</style>\n",
       "<table border=\"1\" class=\"dataframe\">\n",
       "  <thead>\n",
       "    <tr style=\"text-align: right;\">\n",
       "      <th></th>\n",
       "      <th>UserId</th>\n",
       "      <th>MovieId</th>\n",
       "      <th>Category</th>\n",
       "    </tr>\n",
       "  </thead>\n",
       "  <tbody>\n",
       "    <tr>\n",
       "      <td>0</td>\n",
       "      <td>1470</td>\n",
       "      <td>861</td>\n",
       "      <td>2</td>\n",
       "    </tr>\n",
       "    <tr>\n",
       "      <td>1</td>\n",
       "      <td>2736</td>\n",
       "      <td>789</td>\n",
       "      <td>2</td>\n",
       "    </tr>\n",
       "    <tr>\n",
       "      <td>2</td>\n",
       "      <td>8041</td>\n",
       "      <td>1101</td>\n",
       "      <td>2</td>\n",
       "    </tr>\n",
       "    <tr>\n",
       "      <td>3</td>\n",
       "      <td>3317</td>\n",
       "      <td>336</td>\n",
       "      <td>1</td>\n",
       "    </tr>\n",
       "    <tr>\n",
       "      <td>4</td>\n",
       "      <td>5490</td>\n",
       "      <td>2359</td>\n",
       "      <td>1</td>\n",
       "    </tr>\n",
       "    <tr>\n",
       "      <td>...</td>\n",
       "      <td>...</td>\n",
       "      <td>...</td>\n",
       "      <td>...</td>\n",
       "    </tr>\n",
       "    <tr>\n",
       "      <td>123625</td>\n",
       "      <td>3246</td>\n",
       "      <td>983</td>\n",
       "      <td>1</td>\n",
       "    </tr>\n",
       "    <tr>\n",
       "      <td>123626</td>\n",
       "      <td>8886</td>\n",
       "      <td>2413</td>\n",
       "      <td>2</td>\n",
       "    </tr>\n",
       "    <tr>\n",
       "      <td>123627</td>\n",
       "      <td>1487</td>\n",
       "      <td>776</td>\n",
       "      <td>0</td>\n",
       "    </tr>\n",
       "    <tr>\n",
       "      <td>123628</td>\n",
       "      <td>7680</td>\n",
       "      <td>97</td>\n",
       "      <td>1</td>\n",
       "    </tr>\n",
       "    <tr>\n",
       "      <td>123629</td>\n",
       "      <td>9080</td>\n",
       "      <td>4385</td>\n",
       "      <td>2</td>\n",
       "    </tr>\n",
       "  </tbody>\n",
       "</table>\n",
       "<p>123630 rows × 3 columns</p>\n",
       "</div>"
      ],
      "text/plain": [
       "        UserId  MovieId  Category\n",
       "0         1470      861         2\n",
       "1         2736      789         2\n",
       "2         8041     1101         2\n",
       "3         3317      336         1\n",
       "4         5490     2359         1\n",
       "...        ...      ...       ...\n",
       "123625    3246      983         1\n",
       "123626    8886     2413         2\n",
       "123627    1487      776         0\n",
       "123628    7680       97         1\n",
       "123629    9080     4385         2\n",
       "\n",
       "[123630 rows x 3 columns]"
      ]
     },
     "execution_count": 25,
     "metadata": {},
     "output_type": "execute_result"
    }
   ],
   "source": [
    "#Reading Qualified CategoricalLike CategorizedOnly test data from pkl file\n",
    "testDf = pd.read_pickle(\"../Data/pkl/1M/Qualified/CategoricalLike/CategorizedOnly/Test.pkl\")\n",
    "testDf"
   ]
  },
  {
   "cell_type": "code",
   "execution_count": 26,
   "metadata": {},
   "outputs": [
    {
     "data": {
      "text/plain": [
       "array([1470, 2736, 8041, ..., 1487, 7680, 9080])"
      ]
     },
     "execution_count": 26,
     "metadata": {},
     "output_type": "execute_result"
    }
   ],
   "source": [
    "#creating a user array for test input \n",
    "testUser = testDf[['UserId']].values.astype(np.int32)\n",
    "testUser = testUser.reshape((testUser.shape[0]))\n",
    "testUser"
   ]
  },
  {
   "cell_type": "code",
   "execution_count": 27,
   "metadata": {},
   "outputs": [
    {
     "data": {
      "text/plain": [
       "array([ 861,  789, 1101, ...,  776,   97, 4385])"
      ]
     },
     "execution_count": 27,
     "metadata": {},
     "output_type": "execute_result"
    }
   ],
   "source": [
    "#creating a movie array for test input \n",
    "testMovie = testDf[['MovieId']].values.astype(np.int32)\n",
    "testMovie = testMovie.reshape((testMovie.shape[0]))\n",
    "testMovie"
   ]
  },
  {
   "cell_type": "code",
   "execution_count": 28,
   "metadata": {},
   "outputs": [
    {
     "data": {
      "text/plain": [
       "[array([1470, 2736, 8041, ..., 1487, 7680, 9080]),\n",
       " array([ 861,  789, 1101, ...,  776,   97, 4385])]"
      ]
     },
     "execution_count": 28,
     "metadata": {},
     "output_type": "execute_result"
    }
   ],
   "source": [
    "#creating an array for test input \n",
    "testX = [testUser, testMovie]\n",
    "testX"
   ]
  },
  {
   "cell_type": "code",
   "execution_count": 29,
   "metadata": {},
   "outputs": [
    {
     "data": {
      "text/plain": [
       "array([[0, 0, 1],\n",
       "       [0, 0, 1],\n",
       "       [0, 0, 1],\n",
       "       ...,\n",
       "       [1, 0, 0],\n",
       "       [0, 1, 0],\n",
       "       [0, 0, 1]], dtype=int8)"
      ]
     },
     "execution_count": 29,
     "metadata": {},
     "output_type": "execute_result"
    }
   ],
   "source": [
    "#Output is converted to One-Hot encoding and creating an array for test output \n",
    "testY = []\n",
    "for i in testDf[['Category']].values:\n",
    "    current = np.zeros(3)\n",
    "    current[i] = 1\n",
    "    testY.append(current)\n",
    "testY = np.array(testY).astype(np.int8)\n",
    "testY"
   ]
  },
  {
   "cell_type": "code",
   "execution_count": 30,
   "metadata": {},
   "outputs": [],
   "source": [
    "#Clearing Memory\n",
    "del testDf"
   ]
  },
  {
   "cell_type": "code",
   "execution_count": 31,
   "metadata": {},
   "outputs": [],
   "source": [
    "#Model evaluating with test values\n",
    "testResult = model.evaluate(x = testX, y = testY, batch_size = 64, verbose = 0)"
   ]
  },
  {
   "cell_type": "code",
   "execution_count": 32,
   "metadata": {},
   "outputs": [
    {
     "data": {
      "text/plain": [
       "[0.7551415860262405, 0.7828817]"
      ]
     },
     "execution_count": 32,
     "metadata": {},
     "output_type": "execute_result"
    }
   ],
   "source": [
    "#Print testResult\n",
    "testResult"
   ]
  },
  {
   "cell_type": "code",
   "execution_count": 33,
   "metadata": {},
   "outputs": [
    {
     "name": "stdout",
     "output_type": "stream",
     "text": [
      "Test Loss: 0.7551415860262405\n"
     ]
    }
   ],
   "source": [
    "#Print Test Loss\n",
    "print('Test Loss: ' + str(testResult[0]))"
   ]
  },
  {
   "cell_type": "code",
   "execution_count": 34,
   "metadata": {},
   "outputs": [
    {
     "name": "stdout",
     "output_type": "stream",
     "text": [
      "Test Accuracy: 0.7828817\n"
     ]
    }
   ],
   "source": [
    "#Print Test Accuracy\n",
    "print('Test Accuracy: ' + str(testResult[1]))"
   ]
  },
  {
   "cell_type": "code",
   "execution_count": 35,
   "metadata": {},
   "outputs": [],
   "source": [
    "#When the metric graphs are examined, it is seen that the best model is reached between the 15th and 20th epochs.\n",
    "#After the 18th epoch, the amount of performance does not seem to change much.\n",
    "#So the model in the 18th epoch is determined as the best model.\n",
    "\n",
    "#Model18 Loading from h5 file\n",
    "model = tf.keras.models.load_model(\"../Model/CategorizedOnlyModel/Model18.h5\")"
   ]
  },
  {
   "cell_type": "code",
   "execution_count": 36,
   "metadata": {},
   "outputs": [],
   "source": [
    "#Best Model evaluating with test values\n",
    "testResult = model.evaluate(x = testX, y = testY, batch_size = 64, verbose = 0)"
   ]
  },
  {
   "cell_type": "code",
   "execution_count": 37,
   "metadata": {},
   "outputs": [
    {
     "data": {
      "text/plain": [
       "[0.7505836447224613, 0.78219926]"
      ]
     },
     "execution_count": 37,
     "metadata": {},
     "output_type": "execute_result"
    }
   ],
   "source": [
    "#Print testResult for Best Model\n",
    "testResult"
   ]
  },
  {
   "cell_type": "code",
   "execution_count": 38,
   "metadata": {},
   "outputs": [
    {
     "name": "stdout",
     "output_type": "stream",
     "text": [
      "Test Loss: 0.7505836447224613\n"
     ]
    }
   ],
   "source": [
    "#Print Test Loss for Best Model\n",
    "print('Test Loss: ' + str(testResult[0]))"
   ]
  },
  {
   "cell_type": "code",
   "execution_count": 39,
   "metadata": {},
   "outputs": [
    {
     "name": "stdout",
     "output_type": "stream",
     "text": [
      "Test Accuracy: 0.78219926\n"
     ]
    }
   ],
   "source": [
    "#Print Test Accuracy for Best Model\n",
    "print('Test Accuracy: ' + str(testResult[1]))"
   ]
  },
  {
   "cell_type": "markdown",
   "metadata": {},
   "source": [
    "# Analysing Result\n",
    "\n",
    "As can be seen above, the performance of the model obtained at the end of the training and the 18th model that chosen as the best model on the test data is almost equal\n",
    "\n",
    "In this case, it is pointless to train the model further after the 18th epoch\n",
    "\n",
    "Result look good\n",
    "\n",
    "Dataset is usefull for recommendation system"
   ]
  }
 ],
 "metadata": {
  "kernelspec": {
   "display_name": "Python 3",
   "language": "python",
   "name": "python3"
  },
  "language_info": {
   "codemirror_mode": {
    "name": "ipython",
    "version": 3
   },
   "file_extension": ".py",
   "mimetype": "text/x-python",
   "name": "python",
   "nbconvert_exporter": "python",
   "pygments_lexer": "ipython3",
   "version": "3.7.4"
  }
 },
 "nbformat": 4,
 "nbformat_minor": 2
}
