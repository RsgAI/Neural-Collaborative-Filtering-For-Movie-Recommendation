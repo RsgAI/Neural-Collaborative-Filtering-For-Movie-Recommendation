{
 "cells": [
  {
   "cell_type": "markdown",
   "metadata": {},
   "source": [
    "# BinaryLike ObservedOnly Model Prediction Preparation\n",
    "\n",
    "BinaryLike ObservedOnly Model Table will be prepared for use in Prediction Notebook\n",
    "\n",
    "This table will be used for supply extra information about recommendation"
   ]
  },
  {
   "cell_type": "code",
   "execution_count": 1,
   "metadata": {},
   "outputs": [],
   "source": [
    "#Importing libraries\n",
    "import numpy as np\n",
    "import pandas as pd\n",
    "import tensorflow as tf\n",
    "import warnings"
   ]
  },
  {
   "cell_type": "code",
   "execution_count": 2,
   "metadata": {},
   "outputs": [
    {
     "name": "stdout",
     "output_type": "stream",
     "text": [
      "numpy Version: 1.16.5\n",
      "pandas Version: 0.25.1\n",
      "tensorflow Version: 2.0.0\n"
     ]
    }
   ],
   "source": [
    "#Printing library versions\n",
    "print('numpy Version: ' + np.__version__)\n",
    "print('pandas Version: ' + pd.__version__)\n",
    "print('tensorflow Version: ' + tf.__version__)"
   ]
  },
  {
   "cell_type": "code",
   "execution_count": 3,
   "metadata": {},
   "outputs": [
    {
     "name": "stdout",
     "output_type": "stream",
     "text": [
      "/device:GPU:0\n"
     ]
    }
   ],
   "source": [
    "#GPU will be used for Prediction and Evaluation\n",
    "myGPU = tf.test.gpu_device_name()\n",
    "if myGPU:\n",
    "    print(myGPU)\n",
    "else:\n",
    "    print(\"Error\")"
   ]
  },
  {
   "cell_type": "code",
   "execution_count": 4,
   "metadata": {
    "scrolled": false
   },
   "outputs": [
    {
     "data": {
      "text/html": [
       "<div>\n",
       "<style scoped>\n",
       "    .dataframe tbody tr th:only-of-type {\n",
       "        vertical-align: middle;\n",
       "    }\n",
       "\n",
       "    .dataframe tbody tr th {\n",
       "        vertical-align: top;\n",
       "    }\n",
       "\n",
       "    .dataframe thead th {\n",
       "        text-align: right;\n",
       "    }\n",
       "</style>\n",
       "<table border=\"1\" class=\"dataframe\">\n",
       "  <thead>\n",
       "    <tr style=\"text-align: right;\">\n",
       "      <th></th>\n",
       "      <th>UserId</th>\n",
       "      <th>MovieId</th>\n",
       "      <th>Like</th>\n",
       "    </tr>\n",
       "  </thead>\n",
       "  <tbody>\n",
       "    <tr>\n",
       "      <td>0</td>\n",
       "      <td>30</td>\n",
       "      <td>882</td>\n",
       "      <td>1</td>\n",
       "    </tr>\n",
       "    <tr>\n",
       "      <td>1</td>\n",
       "      <td>2836</td>\n",
       "      <td>119</td>\n",
       "      <td>1</td>\n",
       "    </tr>\n",
       "    <tr>\n",
       "      <td>2</td>\n",
       "      <td>6380</td>\n",
       "      <td>1230</td>\n",
       "      <td>0</td>\n",
       "    </tr>\n",
       "    <tr>\n",
       "      <td>3</td>\n",
       "      <td>9569</td>\n",
       "      <td>1646</td>\n",
       "      <td>1</td>\n",
       "    </tr>\n",
       "    <tr>\n",
       "      <td>4</td>\n",
       "      <td>5301</td>\n",
       "      <td>797</td>\n",
       "      <td>1</td>\n",
       "    </tr>\n",
       "    <tr>\n",
       "      <td>...</td>\n",
       "      <td>...</td>\n",
       "      <td>...</td>\n",
       "      <td>...</td>\n",
       "    </tr>\n",
       "    <tr>\n",
       "      <td>753549</td>\n",
       "      <td>9027</td>\n",
       "      <td>1666</td>\n",
       "      <td>0</td>\n",
       "    </tr>\n",
       "    <tr>\n",
       "      <td>753550</td>\n",
       "      <td>1694</td>\n",
       "      <td>88</td>\n",
       "      <td>1</td>\n",
       "    </tr>\n",
       "    <tr>\n",
       "      <td>753551</td>\n",
       "      <td>8853</td>\n",
       "      <td>42</td>\n",
       "      <td>1</td>\n",
       "    </tr>\n",
       "    <tr>\n",
       "      <td>753552</td>\n",
       "      <td>1756</td>\n",
       "      <td>2598</td>\n",
       "      <td>1</td>\n",
       "    </tr>\n",
       "    <tr>\n",
       "      <td>753553</td>\n",
       "      <td>9135</td>\n",
       "      <td>1834</td>\n",
       "      <td>1</td>\n",
       "    </tr>\n",
       "  </tbody>\n",
       "</table>\n",
       "<p>753554 rows × 3 columns</p>\n",
       "</div>"
      ],
      "text/plain": [
       "        UserId  MovieId  Like\n",
       "0           30      882     1\n",
       "1         2836      119     1\n",
       "2         6380     1230     0\n",
       "3         9569     1646     1\n",
       "4         5301      797     1\n",
       "...        ...      ...   ...\n",
       "753549    9027     1666     0\n",
       "753550    1694       88     1\n",
       "753551    8853       42     1\n",
       "753552    1756     2598     1\n",
       "753553    9135     1834     1\n",
       "\n",
       "[753554 rows x 3 columns]"
      ]
     },
     "execution_count": 4,
     "metadata": {},
     "output_type": "execute_result"
    }
   ],
   "source": [
    "#Reading Qualified BinaryLike ObservedOnly training data from pkl file\n",
    "trainingDf = pd.read_pickle(\"../Data/pkl/1M/Qualified/BinaryLike/ObservedOnly/Training.pkl\")\n",
    "trainingDf"
   ]
  },
  {
   "cell_type": "code",
   "execution_count": 5,
   "metadata": {},
   "outputs": [
    {
     "data": {
      "text/plain": [
       "array([  30, 2836, 6380, ..., 8853, 1756, 9135])"
      ]
     },
     "execution_count": 5,
     "metadata": {},
     "output_type": "execute_result"
    }
   ],
   "source": [
    "#creating a user array for training input \n",
    "trainingUser = trainingDf[['UserId']].values.astype(np.int32)\n",
    "trainingUser = trainingUser.reshape((trainingUser.shape[0]))\n",
    "trainingUser"
   ]
  },
  {
   "cell_type": "code",
   "execution_count": 6,
   "metadata": {},
   "outputs": [
    {
     "data": {
      "text/plain": [
       "array([ 882,  119, 1230, ...,   42, 2598, 1834])"
      ]
     },
     "execution_count": 6,
     "metadata": {},
     "output_type": "execute_result"
    }
   ],
   "source": [
    "#creating a movie array for training input \n",
    "trainingMovie = trainingDf[['MovieId']].values.astype(np.int32)\n",
    "trainingMovie = trainingMovie.reshape((trainingMovie.shape[0]))\n",
    "trainingMovie"
   ]
  },
  {
   "cell_type": "code",
   "execution_count": 7,
   "metadata": {},
   "outputs": [
    {
     "data": {
      "text/plain": [
       "[array([  30, 2836, 6380, ..., 8853, 1756, 9135]),\n",
       " array([ 882,  119, 1230, ...,   42, 2598, 1834])]"
      ]
     },
     "execution_count": 7,
     "metadata": {},
     "output_type": "execute_result"
    }
   ],
   "source": [
    "#creating an array for training input \n",
    "trainingX = [trainingUser, trainingMovie]\n",
    "trainingX"
   ]
  },
  {
   "cell_type": "code",
   "execution_count": 8,
   "metadata": {},
   "outputs": [
    {
     "data": {
      "text/plain": [
       "array([1, 1, 0, ..., 1, 1, 1], dtype=int8)"
      ]
     },
     "execution_count": 8,
     "metadata": {},
     "output_type": "execute_result"
    }
   ],
   "source": [
    "#creating an array for training output \n",
    "trainingY = trainingDf[['Like']].values.astype(np.int8)\n",
    "trainingY = trainingY.reshape((trainingY.shape[0]))\n",
    "trainingY"
   ]
  },
  {
   "cell_type": "code",
   "execution_count": 9,
   "metadata": {
    "scrolled": true
   },
   "outputs": [
    {
     "data": {
      "text/html": [
       "<div>\n",
       "<style scoped>\n",
       "    .dataframe tbody tr th:only-of-type {\n",
       "        vertical-align: middle;\n",
       "    }\n",
       "\n",
       "    .dataframe tbody tr th {\n",
       "        vertical-align: top;\n",
       "    }\n",
       "\n",
       "    .dataframe thead th {\n",
       "        text-align: right;\n",
       "    }\n",
       "</style>\n",
       "<table border=\"1\" class=\"dataframe\">\n",
       "  <thead>\n",
       "    <tr style=\"text-align: right;\">\n",
       "      <th></th>\n",
       "      <th>UserId</th>\n",
       "      <th>MovieId</th>\n",
       "      <th>Like</th>\n",
       "    </tr>\n",
       "  </thead>\n",
       "  <tbody>\n",
       "    <tr>\n",
       "      <td>0</td>\n",
       "      <td>2570</td>\n",
       "      <td>197</td>\n",
       "      <td>1</td>\n",
       "    </tr>\n",
       "    <tr>\n",
       "      <td>1</td>\n",
       "      <td>9495</td>\n",
       "      <td>2601</td>\n",
       "      <td>1</td>\n",
       "    </tr>\n",
       "    <tr>\n",
       "      <td>2</td>\n",
       "      <td>4747</td>\n",
       "      <td>658</td>\n",
       "      <td>1</td>\n",
       "    </tr>\n",
       "    <tr>\n",
       "      <td>3</td>\n",
       "      <td>8572</td>\n",
       "      <td>202</td>\n",
       "      <td>0</td>\n",
       "    </tr>\n",
       "    <tr>\n",
       "      <td>4</td>\n",
       "      <td>5334</td>\n",
       "      <td>1178</td>\n",
       "      <td>1</td>\n",
       "    </tr>\n",
       "    <tr>\n",
       "      <td>...</td>\n",
       "      <td>...</td>\n",
       "      <td>...</td>\n",
       "      <td>...</td>\n",
       "    </tr>\n",
       "    <tr>\n",
       "      <td>123664</td>\n",
       "      <td>9721</td>\n",
       "      <td>1914</td>\n",
       "      <td>1</td>\n",
       "    </tr>\n",
       "    <tr>\n",
       "      <td>123665</td>\n",
       "      <td>4293</td>\n",
       "      <td>1472</td>\n",
       "      <td>1</td>\n",
       "    </tr>\n",
       "    <tr>\n",
       "      <td>123666</td>\n",
       "      <td>7198</td>\n",
       "      <td>277</td>\n",
       "      <td>1</td>\n",
       "    </tr>\n",
       "    <tr>\n",
       "      <td>123667</td>\n",
       "      <td>2699</td>\n",
       "      <td>6436</td>\n",
       "      <td>1</td>\n",
       "    </tr>\n",
       "    <tr>\n",
       "      <td>123668</td>\n",
       "      <td>751</td>\n",
       "      <td>285</td>\n",
       "      <td>1</td>\n",
       "    </tr>\n",
       "  </tbody>\n",
       "</table>\n",
       "<p>123669 rows × 3 columns</p>\n",
       "</div>"
      ],
      "text/plain": [
       "        UserId  MovieId  Like\n",
       "0         2570      197     1\n",
       "1         9495     2601     1\n",
       "2         4747      658     1\n",
       "3         8572      202     0\n",
       "4         5334     1178     1\n",
       "...        ...      ...   ...\n",
       "123664    9721     1914     1\n",
       "123665    4293     1472     1\n",
       "123666    7198      277     1\n",
       "123667    2699     6436     1\n",
       "123668     751      285     1\n",
       "\n",
       "[123669 rows x 3 columns]"
      ]
     },
     "execution_count": 9,
     "metadata": {},
     "output_type": "execute_result"
    }
   ],
   "source": [
    "#Reading Qualified BinaryLike ObservedOnly validation data from pkl file\n",
    "validationDf = pd.read_pickle(\"../Data/pkl/1M/Qualified/BinaryLike/ObservedOnly/Validation.pkl\")\n",
    "validationDf"
   ]
  },
  {
   "cell_type": "code",
   "execution_count": 10,
   "metadata": {},
   "outputs": [
    {
     "data": {
      "text/plain": [
       "array([2570, 9495, 4747, ..., 7198, 2699,  751])"
      ]
     },
     "execution_count": 10,
     "metadata": {},
     "output_type": "execute_result"
    }
   ],
   "source": [
    "#creating a user array for validation input \n",
    "validationUser = validationDf[['UserId']].values.astype(np.int32)\n",
    "validationUser = validationUser.reshape((validationUser.shape[0]))\n",
    "validationUser"
   ]
  },
  {
   "cell_type": "code",
   "execution_count": 11,
   "metadata": {},
   "outputs": [
    {
     "data": {
      "text/plain": [
       "array([ 197, 2601,  658, ...,  277, 6436,  285])"
      ]
     },
     "execution_count": 11,
     "metadata": {},
     "output_type": "execute_result"
    }
   ],
   "source": [
    "#creating a movie array for validation input \n",
    "validationMovie = validationDf[['MovieId']].values.astype(np.int32)\n",
    "validationMovie = validationMovie.reshape((validationMovie.shape[0]))\n",
    "validationMovie"
   ]
  },
  {
   "cell_type": "code",
   "execution_count": 12,
   "metadata": {},
   "outputs": [
    {
     "data": {
      "text/plain": [
       "[array([2570, 9495, 4747, ..., 7198, 2699,  751]),\n",
       " array([ 197, 2601,  658, ...,  277, 6436,  285])]"
      ]
     },
     "execution_count": 12,
     "metadata": {},
     "output_type": "execute_result"
    }
   ],
   "source": [
    "#creating an array for validation input \n",
    "validationX = [validationUser, validationMovie]\n",
    "validationX"
   ]
  },
  {
   "cell_type": "code",
   "execution_count": 13,
   "metadata": {},
   "outputs": [
    {
     "data": {
      "text/plain": [
       "array([1, 1, 1, ..., 1, 1, 1], dtype=int8)"
      ]
     },
     "execution_count": 13,
     "metadata": {},
     "output_type": "execute_result"
    }
   ],
   "source": [
    "#creating an array for validation output \n",
    "validationY = validationDf[['Like']].values.astype(np.int8)\n",
    "validationY = validationY.reshape((validationY.shape[0]))\n",
    "validationY"
   ]
  },
  {
   "cell_type": "code",
   "execution_count": 14,
   "metadata": {},
   "outputs": [
    {
     "data": {
      "text/html": [
       "<div>\n",
       "<style scoped>\n",
       "    .dataframe tbody tr th:only-of-type {\n",
       "        vertical-align: middle;\n",
       "    }\n",
       "\n",
       "    .dataframe tbody tr th {\n",
       "        vertical-align: top;\n",
       "    }\n",
       "\n",
       "    .dataframe thead th {\n",
       "        text-align: right;\n",
       "    }\n",
       "</style>\n",
       "<table border=\"1\" class=\"dataframe\">\n",
       "  <thead>\n",
       "    <tr style=\"text-align: right;\">\n",
       "      <th></th>\n",
       "      <th>UserId</th>\n",
       "      <th>MovieId</th>\n",
       "      <th>Like</th>\n",
       "    </tr>\n",
       "  </thead>\n",
       "  <tbody>\n",
       "    <tr>\n",
       "      <td>0</td>\n",
       "      <td>8193</td>\n",
       "      <td>163</td>\n",
       "      <td>0</td>\n",
       "    </tr>\n",
       "    <tr>\n",
       "      <td>1</td>\n",
       "      <td>2328</td>\n",
       "      <td>2593</td>\n",
       "      <td>1</td>\n",
       "    </tr>\n",
       "    <tr>\n",
       "      <td>2</td>\n",
       "      <td>457</td>\n",
       "      <td>1796</td>\n",
       "      <td>0</td>\n",
       "    </tr>\n",
       "    <tr>\n",
       "      <td>3</td>\n",
       "      <td>6870</td>\n",
       "      <td>1818</td>\n",
       "      <td>1</td>\n",
       "    </tr>\n",
       "    <tr>\n",
       "      <td>4</td>\n",
       "      <td>600</td>\n",
       "      <td>149</td>\n",
       "      <td>1</td>\n",
       "    </tr>\n",
       "    <tr>\n",
       "      <td>...</td>\n",
       "      <td>...</td>\n",
       "      <td>...</td>\n",
       "      <td>...</td>\n",
       "    </tr>\n",
       "    <tr>\n",
       "      <td>123665</td>\n",
       "      <td>1062</td>\n",
       "      <td>105</td>\n",
       "      <td>1</td>\n",
       "    </tr>\n",
       "    <tr>\n",
       "      <td>123666</td>\n",
       "      <td>3176</td>\n",
       "      <td>2296</td>\n",
       "      <td>1</td>\n",
       "    </tr>\n",
       "    <tr>\n",
       "      <td>123667</td>\n",
       "      <td>7009</td>\n",
       "      <td>376</td>\n",
       "      <td>1</td>\n",
       "    </tr>\n",
       "    <tr>\n",
       "      <td>123668</td>\n",
       "      <td>4864</td>\n",
       "      <td>4898</td>\n",
       "      <td>1</td>\n",
       "    </tr>\n",
       "    <tr>\n",
       "      <td>123669</td>\n",
       "      <td>814</td>\n",
       "      <td>731</td>\n",
       "      <td>1</td>\n",
       "    </tr>\n",
       "  </tbody>\n",
       "</table>\n",
       "<p>123670 rows × 3 columns</p>\n",
       "</div>"
      ],
      "text/plain": [
       "        UserId  MovieId  Like\n",
       "0         8193      163     0\n",
       "1         2328     2593     1\n",
       "2          457     1796     0\n",
       "3         6870     1818     1\n",
       "4          600      149     1\n",
       "...        ...      ...   ...\n",
       "123665    1062      105     1\n",
       "123666    3176     2296     1\n",
       "123667    7009      376     1\n",
       "123668    4864     4898     1\n",
       "123669     814      731     1\n",
       "\n",
       "[123670 rows x 3 columns]"
      ]
     },
     "execution_count": 14,
     "metadata": {},
     "output_type": "execute_result"
    }
   ],
   "source": [
    "#Reading Qualified BinaryLike ObservedOnly test data from pkl file\n",
    "testDf = pd.read_pickle(\"../Data/pkl/1M/Qualified/BinaryLike/ObservedOnly/Test.pkl\")\n",
    "testDf"
   ]
  },
  {
   "cell_type": "code",
   "execution_count": 15,
   "metadata": {},
   "outputs": [
    {
     "data": {
      "text/plain": [
       "array([8193, 2328,  457, ..., 7009, 4864,  814])"
      ]
     },
     "execution_count": 15,
     "metadata": {},
     "output_type": "execute_result"
    }
   ],
   "source": [
    "#creating a user array for test input \n",
    "testUser = testDf[['UserId']].values.astype(np.int32)\n",
    "testUser = testUser.reshape((testUser.shape[0]))\n",
    "testUser"
   ]
  },
  {
   "cell_type": "code",
   "execution_count": 16,
   "metadata": {},
   "outputs": [
    {
     "data": {
      "text/plain": [
       "array([ 163, 2593, 1796, ...,  376, 4898,  731])"
      ]
     },
     "execution_count": 16,
     "metadata": {},
     "output_type": "execute_result"
    }
   ],
   "source": [
    "#creating a movie array for test input \n",
    "testMovie = testDf[['MovieId']].values.astype(np.int32)\n",
    "testMovie = testMovie.reshape((testMovie.shape[0]))\n",
    "testMovie"
   ]
  },
  {
   "cell_type": "code",
   "execution_count": 17,
   "metadata": {},
   "outputs": [
    {
     "data": {
      "text/plain": [
       "[array([8193, 2328,  457, ..., 7009, 4864,  814]),\n",
       " array([ 163, 2593, 1796, ...,  376, 4898,  731])]"
      ]
     },
     "execution_count": 17,
     "metadata": {},
     "output_type": "execute_result"
    }
   ],
   "source": [
    "#creating an array for test input \n",
    "testX = [testUser, testMovie]\n",
    "testX"
   ]
  },
  {
   "cell_type": "code",
   "execution_count": 18,
   "metadata": {},
   "outputs": [
    {
     "data": {
      "text/plain": [
       "array([0, 1, 0, ..., 1, 1, 1], dtype=int8)"
      ]
     },
     "execution_count": 18,
     "metadata": {},
     "output_type": "execute_result"
    }
   ],
   "source": [
    "#creating an array for test output \n",
    "testY = testDf[['Like']].values.astype(np.int8)\n",
    "testY = testY.reshape((testY.shape[0]))\n",
    "testY"
   ]
  },
  {
   "cell_type": "code",
   "execution_count": 19,
   "metadata": {},
   "outputs": [],
   "source": [
    "#ignore warnings due to Converting sparse IndexedSlices to a dense Tensor of unknown shape warning\n",
    "warnings.filterwarnings('ignore')\n",
    "\n",
    "#Best Model For BinaryLike ObservedOnly dataset loading from h5 file\n",
    "#See Training3 notebook for more information\n",
    "model = tf.keras.models.load_model(\"../Model/ObservedOnlyModel/Model9.h5\")"
   ]
  },
  {
   "cell_type": "code",
   "execution_count": 20,
   "metadata": {},
   "outputs": [],
   "source": [
    "#Best Model evaluating with training values\n",
    "with tf.device('/GPU:0'):\n",
    "    trainingResult = model.evaluate(x = trainingX, y = trainingY, batch_size = 64, verbose = 0)"
   ]
  },
  {
   "cell_type": "code",
   "execution_count": 21,
   "metadata": {},
   "outputs": [
    {
     "data": {
      "text/plain": [
       "[0.29805378935653504, 596475.0, 73934.0, 62864.0, 20281.0, 0.87497246]"
      ]
     },
     "execution_count": 21,
     "metadata": {},
     "output_type": "execute_result"
    }
   ],
   "source": [
    "#Print trainingResult\n",
    "trainingResult"
   ]
  },
  {
   "cell_type": "code",
   "execution_count": 22,
   "metadata": {},
   "outputs": [],
   "source": [
    "#Best Model evaluating with validation values\n",
    "with tf.device('/GPU:0'):\n",
    "    validationResult = model.evaluate(x = validationX, y = validationY, batch_size = 64, verbose = 0)"
   ]
  },
  {
   "cell_type": "code",
   "execution_count": 23,
   "metadata": {},
   "outputs": [
    {
     "data": {
      "text/plain": [
       "[0.37530371850988337, 96258.0, 14130.0, 8035.0, 5246.0, 0.8433237]"
      ]
     },
     "execution_count": 23,
     "metadata": {},
     "output_type": "execute_result"
    }
   ],
   "source": [
    "#Print validationResult\n",
    "validationResult"
   ]
  },
  {
   "cell_type": "code",
   "execution_count": 24,
   "metadata": {},
   "outputs": [],
   "source": [
    "#Best Model evaluating with test values\n",
    "with tf.device('/GPU:0'):\n",
    "    testResult = model.evaluate(x = testX, y = testY, batch_size = 64, verbose = 0)"
   ]
  },
  {
   "cell_type": "code",
   "execution_count": 25,
   "metadata": {},
   "outputs": [
    {
     "data": {
      "text/plain": [
       "[0.3741056228624817, 96340.0, 14155.0, 8052.0, 5123.0, 0.8441174]"
      ]
     },
     "execution_count": 25,
     "metadata": {},
     "output_type": "execute_result"
    }
   ],
   "source": [
    "#Print testResult\n",
    "testResult"
   ]
  },
  {
   "cell_type": "code",
   "execution_count": 26,
   "metadata": {},
   "outputs": [
    {
     "data": {
      "text/html": [
       "<div>\n",
       "<style scoped>\n",
       "    .dataframe tbody tr th:only-of-type {\n",
       "        vertical-align: middle;\n",
       "    }\n",
       "\n",
       "    .dataframe tbody tr th {\n",
       "        vertical-align: top;\n",
       "    }\n",
       "\n",
       "    .dataframe thead th {\n",
       "        text-align: right;\n",
       "    }\n",
       "</style>\n",
       "<table border=\"1\" class=\"dataframe\">\n",
       "  <thead>\n",
       "    <tr style=\"text-align: right;\">\n",
       "      <th></th>\n",
       "      <th>ModelData</th>\n",
       "      <th>Negative</th>\n",
       "      <th>Positive</th>\n",
       "      <th>Loss</th>\n",
       "      <th>TP</th>\n",
       "      <th>FP</th>\n",
       "      <th>TN</th>\n",
       "      <th>FN</th>\n",
       "      <th>Accuracy</th>\n",
       "    </tr>\n",
       "  </thead>\n",
       "  <tbody>\n",
       "    <tr>\n",
       "      <td>0</td>\n",
       "      <td>Training</td>\n",
       "      <td>136798</td>\n",
       "      <td>616756</td>\n",
       "      <td>0.298054</td>\n",
       "      <td>596475</td>\n",
       "      <td>73934</td>\n",
       "      <td>62864</td>\n",
       "      <td>20281</td>\n",
       "      <td>0.874972</td>\n",
       "    </tr>\n",
       "    <tr>\n",
       "      <td>1</td>\n",
       "      <td>Validation</td>\n",
       "      <td>22165</td>\n",
       "      <td>101504</td>\n",
       "      <td>0.375304</td>\n",
       "      <td>96258</td>\n",
       "      <td>14130</td>\n",
       "      <td>8035</td>\n",
       "      <td>5246</td>\n",
       "      <td>0.843324</td>\n",
       "    </tr>\n",
       "    <tr>\n",
       "      <td>2</td>\n",
       "      <td>Test</td>\n",
       "      <td>22207</td>\n",
       "      <td>101463</td>\n",
       "      <td>0.374106</td>\n",
       "      <td>96340</td>\n",
       "      <td>14155</td>\n",
       "      <td>8052</td>\n",
       "      <td>5123</td>\n",
       "      <td>0.844117</td>\n",
       "    </tr>\n",
       "  </tbody>\n",
       "</table>\n",
       "</div>"
      ],
      "text/plain": [
       "    ModelData  Negative  Positive      Loss      TP     FP     TN     FN  \\\n",
       "0    Training    136798    616756  0.298054  596475  73934  62864  20281   \n",
       "1  Validation     22165    101504  0.375304   96258  14130   8035   5246   \n",
       "2        Test     22207    101463  0.374106   96340  14155   8052   5123   \n",
       "\n",
       "   Accuracy  \n",
       "0  0.874972  \n",
       "1  0.843324  \n",
       "2  0.844117  "
      ]
     },
     "execution_count": 26,
     "metadata": {},
     "output_type": "execute_result"
    }
   ],
   "source": [
    "#Creating DataFrame for data and model metrics\n",
    "modelDf = pd.DataFrame(data = {'ModelData': pd.Series(['Training', 'Validation', 'Test'], dtype='str'),\n",
    "                               'Negative' : pd.Series([trainingDf[trainingDf['Like'] == 0].shape[0], validationDf[validationDf['Like'] == 0].shape[0], testDf[testDf['Like'] == 0].shape[0]], dtype='int'),\n",
    "                               'Positive' : pd.Series([trainingDf[trainingDf['Like'] == 1].shape[0], validationDf[validationDf['Like'] == 1].shape[0], testDf[testDf['Like'] == 1].shape[0]], dtype='int'),\n",
    "                               'Loss': pd.Series([trainingResult[0], validationResult[0], testResult[0]], dtype='float'),\n",
    "                               'TP': pd.Series([trainingResult[1], validationResult[1], testResult[1]], dtype='int'),\n",
    "                               'FP': pd.Series([trainingResult[2], validationResult[2], testResult[2]], dtype='int'),\n",
    "                               'TN': pd.Series([trainingResult[3], validationResult[3], testResult[3]], dtype='int'),\n",
    "                               'FN': pd.Series([trainingResult[4], validationResult[4], testResult[4]], dtype='int'),\n",
    "                               'Accuracy': pd.Series([trainingResult[5], validationResult[5], testResult[5]], dtype='float')})\n",
    "modelDf"
   ]
  },
  {
   "cell_type": "code",
   "execution_count": 27,
   "metadata": {},
   "outputs": [],
   "source": [
    "#Saving modeldf and Clearing memory\n",
    "modelDf.to_pickle(\"../PredictData/ModelTable/ObservedOnly.pkl\")\n",
    "del modelDf"
   ]
  },
  {
   "cell_type": "code",
   "execution_count": 28,
   "metadata": {},
   "outputs": [
    {
     "data": {
      "text/plain": [
       "array([[0.99362385],\n",
       "       [0.99790585],\n",
       "       [0.6921729 ],\n",
       "       ...,\n",
       "       [0.9981781 ],\n",
       "       [0.9128264 ],\n",
       "       [0.9987264 ]], dtype=float32)"
      ]
     },
     "execution_count": 28,
     "metadata": {},
     "output_type": "execute_result"
    }
   ],
   "source": [
    "#Best Model predicting training Likes\n",
    "with tf.device('/GPU:0'):\n",
    "    predictTraining = model.predict(x = trainingX)\n",
    "predictTraining"
   ]
  },
  {
   "cell_type": "code",
   "execution_count": 29,
   "metadata": {},
   "outputs": [
    {
     "data": {
      "text/html": [
       "<div>\n",
       "<style scoped>\n",
       "    .dataframe tbody tr th:only-of-type {\n",
       "        vertical-align: middle;\n",
       "    }\n",
       "\n",
       "    .dataframe tbody tr th {\n",
       "        vertical-align: top;\n",
       "    }\n",
       "\n",
       "    .dataframe thead th {\n",
       "        text-align: right;\n",
       "    }\n",
       "</style>\n",
       "<table border=\"1\" class=\"dataframe\">\n",
       "  <thead>\n",
       "    <tr style=\"text-align: right;\">\n",
       "      <th></th>\n",
       "      <th>UserId</th>\n",
       "      <th>MovieId</th>\n",
       "      <th>Like</th>\n",
       "      <th>LikePredict</th>\n",
       "    </tr>\n",
       "  </thead>\n",
       "  <tbody>\n",
       "    <tr>\n",
       "      <td>0</td>\n",
       "      <td>30</td>\n",
       "      <td>882</td>\n",
       "      <td>1</td>\n",
       "      <td>0.993624</td>\n",
       "    </tr>\n",
       "    <tr>\n",
       "      <td>1</td>\n",
       "      <td>2836</td>\n",
       "      <td>119</td>\n",
       "      <td>1</td>\n",
       "      <td>0.997906</td>\n",
       "    </tr>\n",
       "    <tr>\n",
       "      <td>2</td>\n",
       "      <td>6380</td>\n",
       "      <td>1230</td>\n",
       "      <td>0</td>\n",
       "      <td>0.692173</td>\n",
       "    </tr>\n",
       "    <tr>\n",
       "      <td>3</td>\n",
       "      <td>9569</td>\n",
       "      <td>1646</td>\n",
       "      <td>1</td>\n",
       "      <td>0.931085</td>\n",
       "    </tr>\n",
       "    <tr>\n",
       "      <td>4</td>\n",
       "      <td>5301</td>\n",
       "      <td>797</td>\n",
       "      <td>1</td>\n",
       "      <td>0.948660</td>\n",
       "    </tr>\n",
       "    <tr>\n",
       "      <td>...</td>\n",
       "      <td>...</td>\n",
       "      <td>...</td>\n",
       "      <td>...</td>\n",
       "      <td>...</td>\n",
       "    </tr>\n",
       "    <tr>\n",
       "      <td>753549</td>\n",
       "      <td>9027</td>\n",
       "      <td>1666</td>\n",
       "      <td>0</td>\n",
       "      <td>0.786528</td>\n",
       "    </tr>\n",
       "    <tr>\n",
       "      <td>753550</td>\n",
       "      <td>1694</td>\n",
       "      <td>88</td>\n",
       "      <td>1</td>\n",
       "      <td>0.860511</td>\n",
       "    </tr>\n",
       "    <tr>\n",
       "      <td>753551</td>\n",
       "      <td>8853</td>\n",
       "      <td>42</td>\n",
       "      <td>1</td>\n",
       "      <td>0.998178</td>\n",
       "    </tr>\n",
       "    <tr>\n",
       "      <td>753552</td>\n",
       "      <td>1756</td>\n",
       "      <td>2598</td>\n",
       "      <td>1</td>\n",
       "      <td>0.912826</td>\n",
       "    </tr>\n",
       "    <tr>\n",
       "      <td>753553</td>\n",
       "      <td>9135</td>\n",
       "      <td>1834</td>\n",
       "      <td>1</td>\n",
       "      <td>0.998726</td>\n",
       "    </tr>\n",
       "  </tbody>\n",
       "</table>\n",
       "<p>753554 rows × 4 columns</p>\n",
       "</div>"
      ],
      "text/plain": [
       "        UserId  MovieId  Like  LikePredict\n",
       "0           30      882     1     0.993624\n",
       "1         2836      119     1     0.997906\n",
       "2         6380     1230     0     0.692173\n",
       "3         9569     1646     1     0.931085\n",
       "4         5301      797     1     0.948660\n",
       "...        ...      ...   ...          ...\n",
       "753549    9027     1666     0     0.786528\n",
       "753550    1694       88     1     0.860511\n",
       "753551    8853       42     1     0.998178\n",
       "753552    1756     2598     1     0.912826\n",
       "753553    9135     1834     1     0.998726\n",
       "\n",
       "[753554 rows x 4 columns]"
      ]
     },
     "execution_count": 29,
     "metadata": {},
     "output_type": "execute_result"
    }
   ],
   "source": [
    "#Predicted Likes appending trainingDf\n",
    "trainingDf['LikePredict'] = predictTraining\n",
    "trainingDf"
   ]
  },
  {
   "cell_type": "code",
   "execution_count": 30,
   "metadata": {},
   "outputs": [
    {
     "data": {
      "text/plain": [
       "array([[0.98871344],\n",
       "       [0.9938812 ],\n",
       "       [0.9521258 ],\n",
       "       ...,\n",
       "       [0.96491206],\n",
       "       [0.8239964 ],\n",
       "       [0.9452547 ]], dtype=float32)"
      ]
     },
     "execution_count": 30,
     "metadata": {},
     "output_type": "execute_result"
    }
   ],
   "source": [
    "#Best Model predicting validation Likes\n",
    "with tf.device('/GPU:0'):\n",
    "    predictValidation = model.predict(x = validationX)\n",
    "predictValidation"
   ]
  },
  {
   "cell_type": "code",
   "execution_count": 31,
   "metadata": {},
   "outputs": [
    {
     "data": {
      "text/html": [
       "<div>\n",
       "<style scoped>\n",
       "    .dataframe tbody tr th:only-of-type {\n",
       "        vertical-align: middle;\n",
       "    }\n",
       "\n",
       "    .dataframe tbody tr th {\n",
       "        vertical-align: top;\n",
       "    }\n",
       "\n",
       "    .dataframe thead th {\n",
       "        text-align: right;\n",
       "    }\n",
       "</style>\n",
       "<table border=\"1\" class=\"dataframe\">\n",
       "  <thead>\n",
       "    <tr style=\"text-align: right;\">\n",
       "      <th></th>\n",
       "      <th>UserId</th>\n",
       "      <th>MovieId</th>\n",
       "      <th>Like</th>\n",
       "      <th>LikePredict</th>\n",
       "    </tr>\n",
       "  </thead>\n",
       "  <tbody>\n",
       "    <tr>\n",
       "      <td>0</td>\n",
       "      <td>2570</td>\n",
       "      <td>197</td>\n",
       "      <td>1</td>\n",
       "      <td>0.988713</td>\n",
       "    </tr>\n",
       "    <tr>\n",
       "      <td>1</td>\n",
       "      <td>9495</td>\n",
       "      <td>2601</td>\n",
       "      <td>1</td>\n",
       "      <td>0.993881</td>\n",
       "    </tr>\n",
       "    <tr>\n",
       "      <td>2</td>\n",
       "      <td>4747</td>\n",
       "      <td>658</td>\n",
       "      <td>1</td>\n",
       "      <td>0.952126</td>\n",
       "    </tr>\n",
       "    <tr>\n",
       "      <td>3</td>\n",
       "      <td>8572</td>\n",
       "      <td>202</td>\n",
       "      <td>0</td>\n",
       "      <td>0.118017</td>\n",
       "    </tr>\n",
       "    <tr>\n",
       "      <td>4</td>\n",
       "      <td>5334</td>\n",
       "      <td>1178</td>\n",
       "      <td>1</td>\n",
       "      <td>0.700384</td>\n",
       "    </tr>\n",
       "    <tr>\n",
       "      <td>...</td>\n",
       "      <td>...</td>\n",
       "      <td>...</td>\n",
       "      <td>...</td>\n",
       "      <td>...</td>\n",
       "    </tr>\n",
       "    <tr>\n",
       "      <td>123664</td>\n",
       "      <td>9721</td>\n",
       "      <td>1914</td>\n",
       "      <td>1</td>\n",
       "      <td>0.836436</td>\n",
       "    </tr>\n",
       "    <tr>\n",
       "      <td>123665</td>\n",
       "      <td>4293</td>\n",
       "      <td>1472</td>\n",
       "      <td>1</td>\n",
       "      <td>0.843511</td>\n",
       "    </tr>\n",
       "    <tr>\n",
       "      <td>123666</td>\n",
       "      <td>7198</td>\n",
       "      <td>277</td>\n",
       "      <td>1</td>\n",
       "      <td>0.964912</td>\n",
       "    </tr>\n",
       "    <tr>\n",
       "      <td>123667</td>\n",
       "      <td>2699</td>\n",
       "      <td>6436</td>\n",
       "      <td>1</td>\n",
       "      <td>0.823996</td>\n",
       "    </tr>\n",
       "    <tr>\n",
       "      <td>123668</td>\n",
       "      <td>751</td>\n",
       "      <td>285</td>\n",
       "      <td>1</td>\n",
       "      <td>0.945255</td>\n",
       "    </tr>\n",
       "  </tbody>\n",
       "</table>\n",
       "<p>123669 rows × 4 columns</p>\n",
       "</div>"
      ],
      "text/plain": [
       "        UserId  MovieId  Like  LikePredict\n",
       "0         2570      197     1     0.988713\n",
       "1         9495     2601     1     0.993881\n",
       "2         4747      658     1     0.952126\n",
       "3         8572      202     0     0.118017\n",
       "4         5334     1178     1     0.700384\n",
       "...        ...      ...   ...          ...\n",
       "123664    9721     1914     1     0.836436\n",
       "123665    4293     1472     1     0.843511\n",
       "123666    7198      277     1     0.964912\n",
       "123667    2699     6436     1     0.823996\n",
       "123668     751      285     1     0.945255\n",
       "\n",
       "[123669 rows x 4 columns]"
      ]
     },
     "execution_count": 31,
     "metadata": {},
     "output_type": "execute_result"
    }
   ],
   "source": [
    "#Predicted Likes appending validaitonDf\n",
    "validationDf['LikePredict'] = predictValidation\n",
    "validationDf"
   ]
  },
  {
   "cell_type": "code",
   "execution_count": 32,
   "metadata": {},
   "outputs": [
    {
     "data": {
      "text/plain": [
       "array([[0.8570026 ],\n",
       "       [0.9884863 ],\n",
       "       [0.49047133],\n",
       "       ...,\n",
       "       [0.94512653],\n",
       "       [0.6153875 ],\n",
       "       [0.6706204 ]], dtype=float32)"
      ]
     },
     "execution_count": 32,
     "metadata": {},
     "output_type": "execute_result"
    }
   ],
   "source": [
    "#Best Model predicting test Likes\n",
    "with tf.device('/GPU:0'):\n",
    "    predictTest = model.predict(x = testX)\n",
    "predictTest"
   ]
  },
  {
   "cell_type": "code",
   "execution_count": 33,
   "metadata": {},
   "outputs": [
    {
     "data": {
      "text/html": [
       "<div>\n",
       "<style scoped>\n",
       "    .dataframe tbody tr th:only-of-type {\n",
       "        vertical-align: middle;\n",
       "    }\n",
       "\n",
       "    .dataframe tbody tr th {\n",
       "        vertical-align: top;\n",
       "    }\n",
       "\n",
       "    .dataframe thead th {\n",
       "        text-align: right;\n",
       "    }\n",
       "</style>\n",
       "<table border=\"1\" class=\"dataframe\">\n",
       "  <thead>\n",
       "    <tr style=\"text-align: right;\">\n",
       "      <th></th>\n",
       "      <th>UserId</th>\n",
       "      <th>MovieId</th>\n",
       "      <th>Like</th>\n",
       "      <th>LikePredict</th>\n",
       "    </tr>\n",
       "  </thead>\n",
       "  <tbody>\n",
       "    <tr>\n",
       "      <td>0</td>\n",
       "      <td>8193</td>\n",
       "      <td>163</td>\n",
       "      <td>0</td>\n",
       "      <td>0.857003</td>\n",
       "    </tr>\n",
       "    <tr>\n",
       "      <td>1</td>\n",
       "      <td>2328</td>\n",
       "      <td>2593</td>\n",
       "      <td>1</td>\n",
       "      <td>0.988486</td>\n",
       "    </tr>\n",
       "    <tr>\n",
       "      <td>2</td>\n",
       "      <td>457</td>\n",
       "      <td>1796</td>\n",
       "      <td>0</td>\n",
       "      <td>0.490471</td>\n",
       "    </tr>\n",
       "    <tr>\n",
       "      <td>3</td>\n",
       "      <td>6870</td>\n",
       "      <td>1818</td>\n",
       "      <td>1</td>\n",
       "      <td>0.289758</td>\n",
       "    </tr>\n",
       "    <tr>\n",
       "      <td>4</td>\n",
       "      <td>600</td>\n",
       "      <td>149</td>\n",
       "      <td>1</td>\n",
       "      <td>0.529459</td>\n",
       "    </tr>\n",
       "    <tr>\n",
       "      <td>...</td>\n",
       "      <td>...</td>\n",
       "      <td>...</td>\n",
       "      <td>...</td>\n",
       "      <td>...</td>\n",
       "    </tr>\n",
       "    <tr>\n",
       "      <td>123665</td>\n",
       "      <td>1062</td>\n",
       "      <td>105</td>\n",
       "      <td>1</td>\n",
       "      <td>0.986430</td>\n",
       "    </tr>\n",
       "    <tr>\n",
       "      <td>123666</td>\n",
       "      <td>3176</td>\n",
       "      <td>2296</td>\n",
       "      <td>1</td>\n",
       "      <td>0.998414</td>\n",
       "    </tr>\n",
       "    <tr>\n",
       "      <td>123667</td>\n",
       "      <td>7009</td>\n",
       "      <td>376</td>\n",
       "      <td>1</td>\n",
       "      <td>0.945127</td>\n",
       "    </tr>\n",
       "    <tr>\n",
       "      <td>123668</td>\n",
       "      <td>4864</td>\n",
       "      <td>4898</td>\n",
       "      <td>1</td>\n",
       "      <td>0.615387</td>\n",
       "    </tr>\n",
       "    <tr>\n",
       "      <td>123669</td>\n",
       "      <td>814</td>\n",
       "      <td>731</td>\n",
       "      <td>1</td>\n",
       "      <td>0.670620</td>\n",
       "    </tr>\n",
       "  </tbody>\n",
       "</table>\n",
       "<p>123670 rows × 4 columns</p>\n",
       "</div>"
      ],
      "text/plain": [
       "        UserId  MovieId  Like  LikePredict\n",
       "0         8193      163     0     0.857003\n",
       "1         2328     2593     1     0.988486\n",
       "2          457     1796     0     0.490471\n",
       "3         6870     1818     1     0.289758\n",
       "4          600      149     1     0.529459\n",
       "...        ...      ...   ...          ...\n",
       "123665    1062      105     1     0.986430\n",
       "123666    3176     2296     1     0.998414\n",
       "123667    7009      376     1     0.945127\n",
       "123668    4864     4898     1     0.615387\n",
       "123669     814      731     1     0.670620\n",
       "\n",
       "[123670 rows x 4 columns]"
      ]
     },
     "execution_count": 33,
     "metadata": {},
     "output_type": "execute_result"
    }
   ],
   "source": [
    "#Predicted Likes appending testDf\n",
    "testDf['LikePredict'] = predictTest\n",
    "testDf"
   ]
  },
  {
   "cell_type": "code",
   "execution_count": 34,
   "metadata": {},
   "outputs": [
    {
     "data": {
      "text/html": [
       "<div>\n",
       "<style scoped>\n",
       "    .dataframe tbody tr th:only-of-type {\n",
       "        vertical-align: middle;\n",
       "    }\n",
       "\n",
       "    .dataframe tbody tr th {\n",
       "        vertical-align: top;\n",
       "    }\n",
       "\n",
       "    .dataframe thead th {\n",
       "        text-align: right;\n",
       "    }\n",
       "</style>\n",
       "<table border=\"1\" class=\"dataframe\">\n",
       "  <thead>\n",
       "    <tr style=\"text-align: right;\">\n",
       "      <th></th>\n",
       "      <th>UserId</th>\n",
       "      <th>MovieId</th>\n",
       "      <th>Like</th>\n",
       "      <th>LikePredict</th>\n",
       "    </tr>\n",
       "  </thead>\n",
       "  <tbody>\n",
       "    <tr>\n",
       "      <td>0</td>\n",
       "      <td>30</td>\n",
       "      <td>882</td>\n",
       "      <td>1</td>\n",
       "      <td>0.993624</td>\n",
       "    </tr>\n",
       "    <tr>\n",
       "      <td>1</td>\n",
       "      <td>2836</td>\n",
       "      <td>119</td>\n",
       "      <td>1</td>\n",
       "      <td>0.997906</td>\n",
       "    </tr>\n",
       "    <tr>\n",
       "      <td>2</td>\n",
       "      <td>6380</td>\n",
       "      <td>1230</td>\n",
       "      <td>0</td>\n",
       "      <td>0.692173</td>\n",
       "    </tr>\n",
       "    <tr>\n",
       "      <td>3</td>\n",
       "      <td>9569</td>\n",
       "      <td>1646</td>\n",
       "      <td>1</td>\n",
       "      <td>0.931085</td>\n",
       "    </tr>\n",
       "    <tr>\n",
       "      <td>4</td>\n",
       "      <td>5301</td>\n",
       "      <td>797</td>\n",
       "      <td>1</td>\n",
       "      <td>0.948660</td>\n",
       "    </tr>\n",
       "    <tr>\n",
       "      <td>...</td>\n",
       "      <td>...</td>\n",
       "      <td>...</td>\n",
       "      <td>...</td>\n",
       "      <td>...</td>\n",
       "    </tr>\n",
       "    <tr>\n",
       "      <td>1000888</td>\n",
       "      <td>1062</td>\n",
       "      <td>105</td>\n",
       "      <td>1</td>\n",
       "      <td>0.986430</td>\n",
       "    </tr>\n",
       "    <tr>\n",
       "      <td>1000889</td>\n",
       "      <td>3176</td>\n",
       "      <td>2296</td>\n",
       "      <td>1</td>\n",
       "      <td>0.998414</td>\n",
       "    </tr>\n",
       "    <tr>\n",
       "      <td>1000890</td>\n",
       "      <td>7009</td>\n",
       "      <td>376</td>\n",
       "      <td>1</td>\n",
       "      <td>0.945127</td>\n",
       "    </tr>\n",
       "    <tr>\n",
       "      <td>1000891</td>\n",
       "      <td>4864</td>\n",
       "      <td>4898</td>\n",
       "      <td>1</td>\n",
       "      <td>0.615387</td>\n",
       "    </tr>\n",
       "    <tr>\n",
       "      <td>1000892</td>\n",
       "      <td>814</td>\n",
       "      <td>731</td>\n",
       "      <td>1</td>\n",
       "      <td>0.670620</td>\n",
       "    </tr>\n",
       "  </tbody>\n",
       "</table>\n",
       "<p>1000893 rows × 4 columns</p>\n",
       "</div>"
      ],
      "text/plain": [
       "         UserId  MovieId  Like  LikePredict\n",
       "0            30      882     1     0.993624\n",
       "1          2836      119     1     0.997906\n",
       "2          6380     1230     0     0.692173\n",
       "3          9569     1646     1     0.931085\n",
       "4          5301      797     1     0.948660\n",
       "...         ...      ...   ...          ...\n",
       "1000888    1062      105     1     0.986430\n",
       "1000889    3176     2296     1     0.998414\n",
       "1000890    7009      376     1     0.945127\n",
       "1000891    4864     4898     1     0.615387\n",
       "1000892     814      731     1     0.670620\n",
       "\n",
       "[1000893 rows x 4 columns]"
      ]
     },
     "execution_count": 34,
     "metadata": {},
     "output_type": "execute_result"
    }
   ],
   "source": [
    "#Dataframes merging\n",
    "allDataFrame = pd.concat([trainingDf, validationDf, testDf]).reset_index(drop=True)\n",
    "allDataFrame"
   ]
  },
  {
   "cell_type": "code",
   "execution_count": 35,
   "metadata": {},
   "outputs": [
    {
     "data": {
      "text/html": [
       "<div>\n",
       "<style scoped>\n",
       "    .dataframe tbody tr th:only-of-type {\n",
       "        vertical-align: middle;\n",
       "    }\n",
       "\n",
       "    .dataframe tbody tr th {\n",
       "        vertical-align: top;\n",
       "    }\n",
       "\n",
       "    .dataframe thead th {\n",
       "        text-align: right;\n",
       "    }\n",
       "</style>\n",
       "<table border=\"1\" class=\"dataframe\">\n",
       "  <thead>\n",
       "    <tr style=\"text-align: right;\">\n",
       "      <th></th>\n",
       "      <th>User</th>\n",
       "    </tr>\n",
       "  </thead>\n",
       "  <tbody>\n",
       "    <tr>\n",
       "      <td>0</td>\n",
       "      <td>0</td>\n",
       "    </tr>\n",
       "    <tr>\n",
       "      <td>1</td>\n",
       "      <td>1</td>\n",
       "    </tr>\n",
       "    <tr>\n",
       "      <td>2</td>\n",
       "      <td>2</td>\n",
       "    </tr>\n",
       "    <tr>\n",
       "      <td>3</td>\n",
       "      <td>3</td>\n",
       "    </tr>\n",
       "    <tr>\n",
       "      <td>4</td>\n",
       "      <td>4</td>\n",
       "    </tr>\n",
       "    <tr>\n",
       "      <td>...</td>\n",
       "      <td>...</td>\n",
       "    </tr>\n",
       "    <tr>\n",
       "      <td>10068</td>\n",
       "      <td>10068</td>\n",
       "    </tr>\n",
       "    <tr>\n",
       "      <td>10069</td>\n",
       "      <td>10069</td>\n",
       "    </tr>\n",
       "    <tr>\n",
       "      <td>10070</td>\n",
       "      <td>10070</td>\n",
       "    </tr>\n",
       "    <tr>\n",
       "      <td>10071</td>\n",
       "      <td>10071</td>\n",
       "    </tr>\n",
       "    <tr>\n",
       "      <td>10072</td>\n",
       "      <td>10072</td>\n",
       "    </tr>\n",
       "  </tbody>\n",
       "</table>\n",
       "<p>10073 rows × 1 columns</p>\n",
       "</div>"
      ],
      "text/plain": [
       "        User\n",
       "0          0\n",
       "1          1\n",
       "2          2\n",
       "3          3\n",
       "4          4\n",
       "...      ...\n",
       "10068  10068\n",
       "10069  10069\n",
       "10070  10070\n",
       "10071  10071\n",
       "10072  10072\n",
       "\n",
       "[10073 rows x 1 columns]"
      ]
     },
     "execution_count": 35,
     "metadata": {},
     "output_type": "execute_result"
    }
   ],
   "source": [
    "#Getting all unique UserId from allDataFrame and create new Data Frame from this values\n",
    "#This Data frame will used as lookup table for prediction script\n",
    "userRange = range(allDataFrame['UserId'].unique().shape[0])\n",
    "lookupTable = pd.DataFrame(data = {'User' : userRange})\n",
    "lookupTable"
   ]
  },
  {
   "cell_type": "code",
   "execution_count": 36,
   "metadata": {},
   "outputs": [],
   "source": [
    "#Defined function will be checked if prediction is true\n",
    "#rounding prediction returns closest label (0 or 1)\n",
    "def CorrectPrediction(like, prediction):\n",
    "    result = 0\n",
    "    for i in range(len(like)):\n",
    "        if like[i] == int(np.round(prediction[i])):\n",
    "            result += 1\n",
    "    return result"
   ]
  },
  {
   "cell_type": "code",
   "execution_count": 37,
   "metadata": {},
   "outputs": [
    {
     "data": {
      "text/plain": [
       "array([[ 12.,  11.,   9., ...,  23.,  32., 729.],\n",
       "       [ 11.,  11.,   7., ...,  22.,  32., 619.],\n",
       "       [  2.,   2.,   1., ...,   4.,   6., 125.],\n",
       "       ...,\n",
       "       [  2.,   2.,   1., ...,   7.,   3., 112.],\n",
       "       [ 16.,  15.,  11., ...,  34.,  42., 972.],\n",
       "       [ 14.,  15.,   9., ...,  33.,  41., 838.]])"
      ]
     },
     "execution_count": 37,
     "metadata": {},
     "output_type": "execute_result"
    }
   ],
   "source": [
    "#Calculations for each user\n",
    "calculations = np.empty(shape = (8, lookupTable.shape[0]))\n",
    "for i in userRange:\n",
    "    \n",
    "    #Training dataframe calculations\n",
    "    queryFrame = trainingDf[trainingDf['UserId'] == i]\n",
    "    calculations[0][i] = queryFrame.shape[0]\n",
    "    calculations[1][i] = CorrectPrediction(queryFrame['Like'].values, queryFrame['LikePredict'].values)\n",
    "\n",
    "        \n",
    "    #Validaiton dataframe calculations\n",
    "    queryFrame = validationDf[validationDf['UserId'] == i]\n",
    "    calculations[2][i] = queryFrame.shape[0]\n",
    "    calculations[3][i] = CorrectPrediction(queryFrame['Like'].values, queryFrame['LikePredict'].values)\n",
    "    \n",
    "    #Test dataframe calculations\n",
    "    queryFrame = testDf[testDf['UserId'] == i]\n",
    "    calculations[4][i] = queryFrame.shape[0]\n",
    "    calculations[5][i] = CorrectPrediction(queryFrame['Like'].values, queryFrame['LikePredict'].values)\n",
    "\n",
    "    \n",
    "    #All dataframe calculations\n",
    "    #Since All dataframe contains training, validation and test dataframes\n",
    "    #All dataframe results can be calculated by simply summing the training, validation and test results\n",
    "    calculations[6][i] = calculations[0][i] + calculations[2][i] + calculations[4][i]\n",
    "    calculations[7][i] = calculations[1][i] + calculations[3][i] + calculations[5][i]\n",
    "\n",
    "\n",
    "#print\n",
    "calculations"
   ]
  },
  {
   "cell_type": "code",
   "execution_count": 38,
   "metadata": {},
   "outputs": [
    {
     "data": {
      "text/html": [
       "<div>\n",
       "<style scoped>\n",
       "    .dataframe tbody tr th:only-of-type {\n",
       "        vertical-align: middle;\n",
       "    }\n",
       "\n",
       "    .dataframe tbody tr th {\n",
       "        vertical-align: top;\n",
       "    }\n",
       "\n",
       "    .dataframe thead th {\n",
       "        text-align: right;\n",
       "    }\n",
       "</style>\n",
       "<table border=\"1\" class=\"dataframe\">\n",
       "  <thead>\n",
       "    <tr style=\"text-align: right;\">\n",
       "      <th></th>\n",
       "      <th>User</th>\n",
       "      <th>TraingingRep</th>\n",
       "      <th>TrainingCorrect</th>\n",
       "      <th>ValidationRep</th>\n",
       "      <th>ValidationCorrect</th>\n",
       "      <th>TestRep</th>\n",
       "      <th>TestCorrect</th>\n",
       "      <th>AllRep</th>\n",
       "      <th>AllCorrect</th>\n",
       "    </tr>\n",
       "  </thead>\n",
       "  <tbody>\n",
       "    <tr>\n",
       "      <td>0</td>\n",
       "      <td>0</td>\n",
       "      <td>12</td>\n",
       "      <td>11</td>\n",
       "      <td>2</td>\n",
       "      <td>1</td>\n",
       "      <td>2</td>\n",
       "      <td>2</td>\n",
       "      <td>16</td>\n",
       "      <td>14</td>\n",
       "    </tr>\n",
       "    <tr>\n",
       "      <td>1</td>\n",
       "      <td>1</td>\n",
       "      <td>11</td>\n",
       "      <td>11</td>\n",
       "      <td>2</td>\n",
       "      <td>2</td>\n",
       "      <td>2</td>\n",
       "      <td>2</td>\n",
       "      <td>15</td>\n",
       "      <td>15</td>\n",
       "    </tr>\n",
       "    <tr>\n",
       "      <td>2</td>\n",
       "      <td>2</td>\n",
       "      <td>9</td>\n",
       "      <td>7</td>\n",
       "      <td>1</td>\n",
       "      <td>1</td>\n",
       "      <td>1</td>\n",
       "      <td>1</td>\n",
       "      <td>11</td>\n",
       "      <td>9</td>\n",
       "    </tr>\n",
       "    <tr>\n",
       "      <td>3</td>\n",
       "      <td>3</td>\n",
       "      <td>544</td>\n",
       "      <td>456</td>\n",
       "      <td>101</td>\n",
       "      <td>81</td>\n",
       "      <td>91</td>\n",
       "      <td>67</td>\n",
       "      <td>736</td>\n",
       "      <td>604</td>\n",
       "    </tr>\n",
       "    <tr>\n",
       "      <td>4</td>\n",
       "      <td>4</td>\n",
       "      <td>61</td>\n",
       "      <td>60</td>\n",
       "      <td>5</td>\n",
       "      <td>5</td>\n",
       "      <td>6</td>\n",
       "      <td>6</td>\n",
       "      <td>72</td>\n",
       "      <td>71</td>\n",
       "    </tr>\n",
       "    <tr>\n",
       "      <td>...</td>\n",
       "      <td>...</td>\n",
       "      <td>...</td>\n",
       "      <td>...</td>\n",
       "      <td>...</td>\n",
       "      <td>...</td>\n",
       "      <td>...</td>\n",
       "      <td>...</td>\n",
       "      <td>...</td>\n",
       "      <td>...</td>\n",
       "    </tr>\n",
       "    <tr>\n",
       "      <td>10068</td>\n",
       "      <td>10068</td>\n",
       "      <td>13</td>\n",
       "      <td>13</td>\n",
       "      <td>3</td>\n",
       "      <td>3</td>\n",
       "      <td>2</td>\n",
       "      <td>2</td>\n",
       "      <td>18</td>\n",
       "      <td>18</td>\n",
       "    </tr>\n",
       "    <tr>\n",
       "      <td>10069</td>\n",
       "      <td>10069</td>\n",
       "      <td>18</td>\n",
       "      <td>18</td>\n",
       "      <td>6</td>\n",
       "      <td>6</td>\n",
       "      <td>0</td>\n",
       "      <td>0</td>\n",
       "      <td>24</td>\n",
       "      <td>24</td>\n",
       "    </tr>\n",
       "    <tr>\n",
       "      <td>10070</td>\n",
       "      <td>10070</td>\n",
       "      <td>23</td>\n",
       "      <td>22</td>\n",
       "      <td>4</td>\n",
       "      <td>4</td>\n",
       "      <td>7</td>\n",
       "      <td>7</td>\n",
       "      <td>34</td>\n",
       "      <td>33</td>\n",
       "    </tr>\n",
       "    <tr>\n",
       "      <td>10071</td>\n",
       "      <td>10071</td>\n",
       "      <td>32</td>\n",
       "      <td>32</td>\n",
       "      <td>6</td>\n",
       "      <td>6</td>\n",
       "      <td>4</td>\n",
       "      <td>3</td>\n",
       "      <td>42</td>\n",
       "      <td>41</td>\n",
       "    </tr>\n",
       "    <tr>\n",
       "      <td>10072</td>\n",
       "      <td>10072</td>\n",
       "      <td>729</td>\n",
       "      <td>619</td>\n",
       "      <td>125</td>\n",
       "      <td>107</td>\n",
       "      <td>118</td>\n",
       "      <td>112</td>\n",
       "      <td>972</td>\n",
       "      <td>838</td>\n",
       "    </tr>\n",
       "  </tbody>\n",
       "</table>\n",
       "<p>10073 rows × 9 columns</p>\n",
       "</div>"
      ],
      "text/plain": [
       "        User  TraingingRep  TrainingCorrect  ValidationRep  ValidationCorrect  \\\n",
       "0          0            12               11              2                  1   \n",
       "1          1            11               11              2                  2   \n",
       "2          2             9                7              1                  1   \n",
       "3          3           544              456            101                 81   \n",
       "4          4            61               60              5                  5   \n",
       "...      ...           ...              ...            ...                ...   \n",
       "10068  10068            13               13              3                  3   \n",
       "10069  10069            18               18              6                  6   \n",
       "10070  10070            23               22              4                  4   \n",
       "10071  10071            32               32              6                  6   \n",
       "10072  10072           729              619            125                107   \n",
       "\n",
       "       TestRep  TestCorrect  AllRep  AllCorrect  \n",
       "0            2            2      16          14  \n",
       "1            2            2      15          15  \n",
       "2            1            1      11           9  \n",
       "3           91           67     736         604  \n",
       "4            6            6      72          71  \n",
       "...        ...          ...     ...         ...  \n",
       "10068        2            2      18          18  \n",
       "10069        0            0      24          24  \n",
       "10070        7            7      34          33  \n",
       "10071        4            3      42          41  \n",
       "10072      118          112     972         838  \n",
       "\n",
       "[10073 rows x 9 columns]"
      ]
     },
     "execution_count": 38,
     "metadata": {},
     "output_type": "execute_result"
    }
   ],
   "source": [
    "#Calculations adding lookup table\n",
    "\n",
    "#Training data representation count\n",
    "lookupTable['TraingingRep'] = calculations[0].astype(np.int32)\n",
    "#Training data Correct Predictions\n",
    "lookupTable['TrainingCorrect'] = calculations[1].astype(np.int32)\n",
    "\n",
    "#Validation data representation count\n",
    "lookupTable['ValidationRep'] = calculations[2].astype(np.int32)\n",
    "#validation data Correct Predictions\n",
    "lookupTable['ValidationCorrect'] = calculations[3].astype(np.int32)\n",
    "\n",
    "#Test data representation count\n",
    "lookupTable['TestRep'] = calculations[4].astype(np.int32)\n",
    "#test data Correct Predictions\n",
    "lookupTable['TestCorrect'] = calculations[5].astype(np.int32)\n",
    "\n",
    "#All data representation count\n",
    "lookupTable['AllRep'] = calculations[6].astype(np.int32)\n",
    "#all data Correct Predictions\n",
    "lookupTable['AllCorrect'] = calculations[7].astype(np.int32)\n",
    "\n",
    "lookupTable"
   ]
  },
  {
   "cell_type": "code",
   "execution_count": 39,
   "metadata": {},
   "outputs": [],
   "source": [
    "#Lookup table save as pkl file\n",
    "lookupTable.to_pickle(\"../PredictData/LookupTable/ObservedOnly.pkl\")\n",
    "del calculations\n",
    "del trainingDf\n",
    "del validationDf\n",
    "del testDf\n",
    "del allDataFrame\n",
    "del lookupTable"
   ]
  }
 ],
 "metadata": {
  "kernelspec": {
   "display_name": "Python 3",
   "language": "python",
   "name": "python3"
  },
  "language_info": {
   "codemirror_mode": {
    "name": "ipython",
    "version": 3
   },
   "file_extension": ".py",
   "mimetype": "text/x-python",
   "name": "python",
   "nbconvert_exporter": "python",
   "pygments_lexer": "ipython3",
   "version": "3.7.4"
  }
 },
 "nbformat": 4,
 "nbformat_minor": 2
}
