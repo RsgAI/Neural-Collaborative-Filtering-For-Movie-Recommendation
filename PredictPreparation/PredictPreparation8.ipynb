{
 "cells": [
  {
   "cell_type": "markdown",
   "metadata": {},
   "source": [
    "# RatingBased UnratedSample Model Prediction Preparation\n",
    "\n",
    "RatingBased UnratedSample Model Table will be prepared for use in Prediction Notebook\n",
    "\n",
    "This table will be used for supply extra information about recommendation"
   ]
  },
  {
   "cell_type": "code",
   "execution_count": 1,
   "metadata": {},
   "outputs": [],
   "source": [
    "#Importing libraries\n",
    "import numpy as np\n",
    "import pandas as pd\n",
    "import tensorflow as tf\n",
    "import warnings\n",
    "from sklearn.metrics import mean_squared_error as CalculateMSE"
   ]
  },
  {
   "cell_type": "code",
   "execution_count": 2,
   "metadata": {},
   "outputs": [
    {
     "name": "stdout",
     "output_type": "stream",
     "text": [
      "numpy Version: 1.16.5\n",
      "pandas Version: 0.25.1\n",
      "tensorflow Version: 2.0.0\n"
     ]
    }
   ],
   "source": [
    "#Printing library versions\n",
    "print('numpy Version: ' + np.__version__)\n",
    "print('pandas Version: ' + pd.__version__)\n",
    "print('tensorflow Version: ' + tf.__version__)"
   ]
  },
  {
   "cell_type": "code",
   "execution_count": 3,
   "metadata": {},
   "outputs": [
    {
     "name": "stdout",
     "output_type": "stream",
     "text": [
      "/device:GPU:0\n"
     ]
    }
   ],
   "source": [
    "#GPU will be used for Prediction and Evaluation\n",
    "myGPU = tf.test.gpu_device_name()\n",
    "if myGPU:\n",
    "    print(myGPU)\n",
    "else:\n",
    "    print(\"Error\")"
   ]
  },
  {
   "cell_type": "code",
   "execution_count": 4,
   "metadata": {
    "scrolled": false
   },
   "outputs": [
    {
     "data": {
      "text/html": [
       "<div>\n",
       "<style scoped>\n",
       "    .dataframe tbody tr th:only-of-type {\n",
       "        vertical-align: middle;\n",
       "    }\n",
       "\n",
       "    .dataframe tbody tr th {\n",
       "        vertical-align: top;\n",
       "    }\n",
       "\n",
       "    .dataframe thead th {\n",
       "        text-align: right;\n",
       "    }\n",
       "</style>\n",
       "<table border=\"1\" class=\"dataframe\">\n",
       "  <thead>\n",
       "    <tr style=\"text-align: right;\">\n",
       "      <th></th>\n",
       "      <th>UserId</th>\n",
       "      <th>MovieId</th>\n",
       "      <th>Rating</th>\n",
       "    </tr>\n",
       "  </thead>\n",
       "  <tbody>\n",
       "    <tr>\n",
       "      <td>0</td>\n",
       "      <td>5567</td>\n",
       "      <td>5871</td>\n",
       "      <td>0.6</td>\n",
       "    </tr>\n",
       "    <tr>\n",
       "      <td>1</td>\n",
       "      <td>8242</td>\n",
       "      <td>9624</td>\n",
       "      <td>0.1</td>\n",
       "    </tr>\n",
       "    <tr>\n",
       "      <td>2</td>\n",
       "      <td>4691</td>\n",
       "      <td>285</td>\n",
       "      <td>0.6</td>\n",
       "    </tr>\n",
       "    <tr>\n",
       "      <td>3</td>\n",
       "      <td>6937</td>\n",
       "      <td>2827</td>\n",
       "      <td>0.6</td>\n",
       "    </tr>\n",
       "    <tr>\n",
       "      <td>4</td>\n",
       "      <td>6948</td>\n",
       "      <td>4235</td>\n",
       "      <td>1.0</td>\n",
       "    </tr>\n",
       "    <tr>\n",
       "      <td>...</td>\n",
       "      <td>...</td>\n",
       "      <td>...</td>\n",
       "      <td>...</td>\n",
       "    </tr>\n",
       "    <tr>\n",
       "      <td>760698</td>\n",
       "      <td>939</td>\n",
       "      <td>838</td>\n",
       "      <td>1.0</td>\n",
       "    </tr>\n",
       "    <tr>\n",
       "      <td>760699</td>\n",
       "      <td>3757</td>\n",
       "      <td>806</td>\n",
       "      <td>0.4</td>\n",
       "    </tr>\n",
       "    <tr>\n",
       "      <td>760700</td>\n",
       "      <td>7723</td>\n",
       "      <td>5315</td>\n",
       "      <td>0.8</td>\n",
       "    </tr>\n",
       "    <tr>\n",
       "      <td>760701</td>\n",
       "      <td>4152</td>\n",
       "      <td>1670</td>\n",
       "      <td>0.8</td>\n",
       "    </tr>\n",
       "    <tr>\n",
       "      <td>760702</td>\n",
       "      <td>3158</td>\n",
       "      <td>247</td>\n",
       "      <td>0.8</td>\n",
       "    </tr>\n",
       "  </tbody>\n",
       "</table>\n",
       "<p>760703 rows × 3 columns</p>\n",
       "</div>"
      ],
      "text/plain": [
       "        UserId  MovieId  Rating\n",
       "0         5567     5871     0.6\n",
       "1         8242     9624     0.1\n",
       "2         4691      285     0.6\n",
       "3         6937     2827     0.6\n",
       "4         6948     4235     1.0\n",
       "...        ...      ...     ...\n",
       "760698     939      838     1.0\n",
       "760699    3757      806     0.4\n",
       "760700    7723     5315     0.8\n",
       "760701    4152     1670     0.8\n",
       "760702    3158      247     0.8\n",
       "\n",
       "[760703 rows x 3 columns]"
      ]
     },
     "execution_count": 4,
     "metadata": {},
     "output_type": "execute_result"
    }
   ],
   "source": [
    "#Reading Qualified RatingBased UnratedSample training data from pkl file\n",
    "trainingDf = pd.read_pickle(\"../Data/pkl/1M/Qualified/RatingBased/UnratedSample/Training.pkl\")\n",
    "trainingDf"
   ]
  },
  {
   "cell_type": "code",
   "execution_count": 5,
   "metadata": {},
   "outputs": [
    {
     "data": {
      "text/plain": [
       "array([5567, 8242, 4691, ..., 7723, 4152, 3158])"
      ]
     },
     "execution_count": 5,
     "metadata": {},
     "output_type": "execute_result"
    }
   ],
   "source": [
    "#creating a user array for training input \n",
    "trainingUser = trainingDf[['UserId']].values.astype(np.int32)\n",
    "trainingUser = trainingUser.reshape((trainingUser.shape[0]))\n",
    "trainingUser"
   ]
  },
  {
   "cell_type": "code",
   "execution_count": 6,
   "metadata": {},
   "outputs": [
    {
     "data": {
      "text/plain": [
       "array([5871, 9624,  285, ..., 5315, 1670,  247])"
      ]
     },
     "execution_count": 6,
     "metadata": {},
     "output_type": "execute_result"
    }
   ],
   "source": [
    "#creating a movie array for training input \n",
    "trainingMovie = trainingDf[['MovieId']].values.astype(np.int32)\n",
    "trainingMovie = trainingMovie.reshape((trainingMovie.shape[0]))\n",
    "trainingMovie"
   ]
  },
  {
   "cell_type": "code",
   "execution_count": 7,
   "metadata": {},
   "outputs": [
    {
     "data": {
      "text/plain": [
       "[array([5567, 8242, 4691, ..., 7723, 4152, 3158]),\n",
       " array([5871, 9624,  285, ..., 5315, 1670,  247])]"
      ]
     },
     "execution_count": 7,
     "metadata": {},
     "output_type": "execute_result"
    }
   ],
   "source": [
    "#creating an array for training input \n",
    "trainingX = [trainingUser, trainingMovie]\n",
    "trainingX"
   ]
  },
  {
   "cell_type": "code",
   "execution_count": 8,
   "metadata": {},
   "outputs": [
    {
     "data": {
      "text/plain": [
       "array([0.6, 0.1, 0.6, ..., 0.8, 0.8, 0.8], dtype=float32)"
      ]
     },
     "execution_count": 8,
     "metadata": {},
     "output_type": "execute_result"
    }
   ],
   "source": [
    "#creating an array for training output \n",
    "trainingY = trainingDf[['Rating']].values.astype(np.float32)\n",
    "trainingY = trainingY.reshape((trainingY.shape[0]))\n",
    "trainingY"
   ]
  },
  {
   "cell_type": "code",
   "execution_count": 9,
   "metadata": {
    "scrolled": true
   },
   "outputs": [
    {
     "data": {
      "text/html": [
       "<div>\n",
       "<style scoped>\n",
       "    .dataframe tbody tr th:only-of-type {\n",
       "        vertical-align: middle;\n",
       "    }\n",
       "\n",
       "    .dataframe tbody tr th {\n",
       "        vertical-align: top;\n",
       "    }\n",
       "\n",
       "    .dataframe thead th {\n",
       "        text-align: right;\n",
       "    }\n",
       "</style>\n",
       "<table border=\"1\" class=\"dataframe\">\n",
       "  <thead>\n",
       "    <tr style=\"text-align: right;\">\n",
       "      <th></th>\n",
       "      <th>UserId</th>\n",
       "      <th>MovieId</th>\n",
       "      <th>Rating</th>\n",
       "    </tr>\n",
       "  </thead>\n",
       "  <tbody>\n",
       "    <tr>\n",
       "      <td>0</td>\n",
       "      <td>7411</td>\n",
       "      <td>7484</td>\n",
       "      <td>0.8</td>\n",
       "    </tr>\n",
       "    <tr>\n",
       "      <td>1</td>\n",
       "      <td>2024</td>\n",
       "      <td>6413</td>\n",
       "      <td>0.5</td>\n",
       "    </tr>\n",
       "    <tr>\n",
       "      <td>2</td>\n",
       "      <td>9999</td>\n",
       "      <td>8864</td>\n",
       "      <td>0.8</td>\n",
       "    </tr>\n",
       "    <tr>\n",
       "      <td>3</td>\n",
       "      <td>1522</td>\n",
       "      <td>626</td>\n",
       "      <td>0.7</td>\n",
       "    </tr>\n",
       "    <tr>\n",
       "      <td>4</td>\n",
       "      <td>4208</td>\n",
       "      <td>566</td>\n",
       "      <td>0.9</td>\n",
       "    </tr>\n",
       "    <tr>\n",
       "      <td>...</td>\n",
       "      <td>...</td>\n",
       "      <td>...</td>\n",
       "      <td>...</td>\n",
       "    </tr>\n",
       "    <tr>\n",
       "      <td>125094</td>\n",
       "      <td>3440</td>\n",
       "      <td>224</td>\n",
       "      <td>0.6</td>\n",
       "    </tr>\n",
       "    <tr>\n",
       "      <td>125095</td>\n",
       "      <td>4940</td>\n",
       "      <td>28</td>\n",
       "      <td>0.7</td>\n",
       "    </tr>\n",
       "    <tr>\n",
       "      <td>125096</td>\n",
       "      <td>7697</td>\n",
       "      <td>945</td>\n",
       "      <td>0.8</td>\n",
       "    </tr>\n",
       "    <tr>\n",
       "      <td>125097</td>\n",
       "      <td>4064</td>\n",
       "      <td>139</td>\n",
       "      <td>0.6</td>\n",
       "    </tr>\n",
       "    <tr>\n",
       "      <td>125098</td>\n",
       "      <td>3981</td>\n",
       "      <td>17578</td>\n",
       "      <td>0.0</td>\n",
       "    </tr>\n",
       "  </tbody>\n",
       "</table>\n",
       "<p>125099 rows × 3 columns</p>\n",
       "</div>"
      ],
      "text/plain": [
       "        UserId  MovieId  Rating\n",
       "0         7411     7484     0.8\n",
       "1         2024     6413     0.5\n",
       "2         9999     8864     0.8\n",
       "3         1522      626     0.7\n",
       "4         4208      566     0.9\n",
       "...        ...      ...     ...\n",
       "125094    3440      224     0.6\n",
       "125095    4940       28     0.7\n",
       "125096    7697      945     0.8\n",
       "125097    4064      139     0.6\n",
       "125098    3981    17578     0.0\n",
       "\n",
       "[125099 rows x 3 columns]"
      ]
     },
     "execution_count": 9,
     "metadata": {},
     "output_type": "execute_result"
    }
   ],
   "source": [
    "#Reading Qualified RatingBased UnratedSample validation data from pkl file\n",
    "validationDf = pd.read_pickle(\"../Data/pkl/1M/Qualified/RatingBased/UnratedSample/Validation.pkl\")\n",
    "validationDf"
   ]
  },
  {
   "cell_type": "code",
   "execution_count": 10,
   "metadata": {},
   "outputs": [
    {
     "data": {
      "text/plain": [
       "array([7411, 2024, 9999, ..., 7697, 4064, 3981])"
      ]
     },
     "execution_count": 10,
     "metadata": {},
     "output_type": "execute_result"
    }
   ],
   "source": [
    "#creating a user array for validation input \n",
    "validationUser = validationDf[['UserId']].values.astype(np.int32)\n",
    "validationUser = validationUser.reshape((validationUser.shape[0]))\n",
    "validationUser"
   ]
  },
  {
   "cell_type": "code",
   "execution_count": 11,
   "metadata": {},
   "outputs": [
    {
     "data": {
      "text/plain": [
       "array([ 7484,  6413,  8864, ...,   945,   139, 17578])"
      ]
     },
     "execution_count": 11,
     "metadata": {},
     "output_type": "execute_result"
    }
   ],
   "source": [
    "#creating a movie array for validation input \n",
    "validationMovie = validationDf[['MovieId']].values.astype(np.int32)\n",
    "validationMovie = validationMovie.reshape((validationMovie.shape[0]))\n",
    "validationMovie"
   ]
  },
  {
   "cell_type": "code",
   "execution_count": 12,
   "metadata": {},
   "outputs": [
    {
     "data": {
      "text/plain": [
       "[array([7411, 2024, 9999, ..., 7697, 4064, 3981]),\n",
       " array([ 7484,  6413,  8864, ...,   945,   139, 17578])]"
      ]
     },
     "execution_count": 12,
     "metadata": {},
     "output_type": "execute_result"
    }
   ],
   "source": [
    "#creating an array for validation input \n",
    "validationX = [validationUser, validationMovie]\n",
    "validationX"
   ]
  },
  {
   "cell_type": "code",
   "execution_count": 13,
   "metadata": {},
   "outputs": [
    {
     "data": {
      "text/plain": [
       "array([0.8, 0.5, 0.8, ..., 0.8, 0.6, 0. ], dtype=float32)"
      ]
     },
     "execution_count": 13,
     "metadata": {},
     "output_type": "execute_result"
    }
   ],
   "source": [
    "#creating an array for validation output \n",
    "validationY = validationDf[['Rating']].values.astype(np.float32)\n",
    "validationY = validationY.reshape((validationY.shape[0]))\n",
    "validationY"
   ]
  },
  {
   "cell_type": "code",
   "execution_count": 14,
   "metadata": {},
   "outputs": [
    {
     "data": {
      "text/html": [
       "<div>\n",
       "<style scoped>\n",
       "    .dataframe tbody tr th:only-of-type {\n",
       "        vertical-align: middle;\n",
       "    }\n",
       "\n",
       "    .dataframe tbody tr th {\n",
       "        vertical-align: top;\n",
       "    }\n",
       "\n",
       "    .dataframe thead th {\n",
       "        text-align: right;\n",
       "    }\n",
       "</style>\n",
       "<table border=\"1\" class=\"dataframe\">\n",
       "  <thead>\n",
       "    <tr style=\"text-align: right;\">\n",
       "      <th></th>\n",
       "      <th>UserId</th>\n",
       "      <th>MovieId</th>\n",
       "      <th>Rating</th>\n",
       "    </tr>\n",
       "  </thead>\n",
       "  <tbody>\n",
       "    <tr>\n",
       "      <td>0</td>\n",
       "      <td>2557</td>\n",
       "      <td>168</td>\n",
       "      <td>1.0</td>\n",
       "    </tr>\n",
       "    <tr>\n",
       "      <td>1</td>\n",
       "      <td>7470</td>\n",
       "      <td>242</td>\n",
       "      <td>0.6</td>\n",
       "    </tr>\n",
       "    <tr>\n",
       "      <td>2</td>\n",
       "      <td>6915</td>\n",
       "      <td>1400</td>\n",
       "      <td>0.8</td>\n",
       "    </tr>\n",
       "    <tr>\n",
       "      <td>3</td>\n",
       "      <td>1066</td>\n",
       "      <td>54</td>\n",
       "      <td>0.4</td>\n",
       "    </tr>\n",
       "    <tr>\n",
       "      <td>4</td>\n",
       "      <td>2037</td>\n",
       "      <td>159</td>\n",
       "      <td>0.4</td>\n",
       "    </tr>\n",
       "    <tr>\n",
       "      <td>...</td>\n",
       "      <td>...</td>\n",
       "      <td>...</td>\n",
       "      <td>...</td>\n",
       "    </tr>\n",
       "    <tr>\n",
       "      <td>125094</td>\n",
       "      <td>5060</td>\n",
       "      <td>2460</td>\n",
       "      <td>0.7</td>\n",
       "    </tr>\n",
       "    <tr>\n",
       "      <td>125095</td>\n",
       "      <td>7302</td>\n",
       "      <td>701</td>\n",
       "      <td>0.7</td>\n",
       "    </tr>\n",
       "    <tr>\n",
       "      <td>125096</td>\n",
       "      <td>7724</td>\n",
       "      <td>215</td>\n",
       "      <td>0.1</td>\n",
       "    </tr>\n",
       "    <tr>\n",
       "      <td>125097</td>\n",
       "      <td>718</td>\n",
       "      <td>1117</td>\n",
       "      <td>0.6</td>\n",
       "    </tr>\n",
       "    <tr>\n",
       "      <td>125098</td>\n",
       "      <td>7349</td>\n",
       "      <td>416</td>\n",
       "      <td>1.0</td>\n",
       "    </tr>\n",
       "  </tbody>\n",
       "</table>\n",
       "<p>125099 rows × 3 columns</p>\n",
       "</div>"
      ],
      "text/plain": [
       "        UserId  MovieId  Rating\n",
       "0         2557      168     1.0\n",
       "1         7470      242     0.6\n",
       "2         6915     1400     0.8\n",
       "3         1066       54     0.4\n",
       "4         2037      159     0.4\n",
       "...        ...      ...     ...\n",
       "125094    5060     2460     0.7\n",
       "125095    7302      701     0.7\n",
       "125096    7724      215     0.1\n",
       "125097     718     1117     0.6\n",
       "125098    7349      416     1.0\n",
       "\n",
       "[125099 rows x 3 columns]"
      ]
     },
     "execution_count": 14,
     "metadata": {},
     "output_type": "execute_result"
    }
   ],
   "source": [
    "#Reading Qualified RatingBased UnratedSample test data from pkl file\n",
    "testDf = pd.read_pickle(\"../Data/pkl/1M/Qualified/RatingBased/UnratedSample/Test.pkl\")\n",
    "testDf"
   ]
  },
  {
   "cell_type": "code",
   "execution_count": 15,
   "metadata": {},
   "outputs": [
    {
     "data": {
      "text/plain": [
       "array([2557, 7470, 6915, ..., 7724,  718, 7349])"
      ]
     },
     "execution_count": 15,
     "metadata": {},
     "output_type": "execute_result"
    }
   ],
   "source": [
    "#creating a user array for test input \n",
    "testUser = testDf[['UserId']].values.astype(np.int32)\n",
    "testUser = testUser.reshape((testUser.shape[0]))\n",
    "testUser"
   ]
  },
  {
   "cell_type": "code",
   "execution_count": 16,
   "metadata": {},
   "outputs": [
    {
     "data": {
      "text/plain": [
       "array([ 168,  242, 1400, ...,  215, 1117,  416])"
      ]
     },
     "execution_count": 16,
     "metadata": {},
     "output_type": "execute_result"
    }
   ],
   "source": [
    "#creating a movie array for test input \n",
    "testMovie = testDf[['MovieId']].values.astype(np.int32)\n",
    "testMovie = testMovie.reshape((testMovie.shape[0]))\n",
    "testMovie"
   ]
  },
  {
   "cell_type": "code",
   "execution_count": 17,
   "metadata": {},
   "outputs": [
    {
     "data": {
      "text/plain": [
       "[array([2557, 7470, 6915, ..., 7724,  718, 7349]),\n",
       " array([ 168,  242, 1400, ...,  215, 1117,  416])]"
      ]
     },
     "execution_count": 17,
     "metadata": {},
     "output_type": "execute_result"
    }
   ],
   "source": [
    "#creating an array for test input \n",
    "testX = [testUser, testMovie]\n",
    "testX"
   ]
  },
  {
   "cell_type": "code",
   "execution_count": 18,
   "metadata": {},
   "outputs": [
    {
     "data": {
      "text/plain": [
       "array([1. , 0.6, 0.8, ..., 0.1, 0.6, 1. ], dtype=float32)"
      ]
     },
     "execution_count": 18,
     "metadata": {},
     "output_type": "execute_result"
    }
   ],
   "source": [
    "#creating an array for test output \n",
    "testY = testDf[['Rating']].values.astype(np.float32)\n",
    "testY = testY.reshape((testY.shape[0]))\n",
    "testY"
   ]
  },
  {
   "cell_type": "code",
   "execution_count": 19,
   "metadata": {},
   "outputs": [],
   "source": [
    "#ignore warnings due to Converting sparse IndexedSlices to a dense Tensor of unknown shape warning\n",
    "warnings.filterwarnings('ignore')\n",
    "\n",
    "#Best Model For RatingBased UnratedSample dataset loading from h5 file\n",
    "#See Training8 notebook for more information\n",
    "model = tf.keras.models.load_model(\"../Model/UnratedSampleModel/Model9.h5\")"
   ]
  },
  {
   "cell_type": "code",
   "execution_count": 20,
   "metadata": {},
   "outputs": [],
   "source": [
    "#Best Model evaluating with training values\n",
    "with tf.device('/GPU:0'):\n",
    "    trainingResult = model.evaluate(x = trainingX, y = trainingY, batch_size = 64, verbose = 0)"
   ]
  },
  {
   "cell_type": "code",
   "execution_count": 21,
   "metadata": {},
   "outputs": [
    {
     "data": {
      "text/plain": [
       "[0.025242622517412397,\n",
       " 0.025198441,\n",
       " 0.15874016,\n",
       " 0.010300158,\n",
       " 0.11821742,\n",
       " 3273819.8]"
      ]
     },
     "execution_count": 21,
     "metadata": {},
     "output_type": "execute_result"
    }
   ],
   "source": [
    "#Print trainingResult\n",
    "trainingResult"
   ]
  },
  {
   "cell_type": "code",
   "execution_count": 22,
   "metadata": {},
   "outputs": [],
   "source": [
    "#Best Model evaluating with validation values\n",
    "with tf.device('/GPU:0'):\n",
    "    validationResult = model.evaluate(x = validationX, y = validationY, batch_size = 64, verbose = 0)"
   ]
  },
  {
   "cell_type": "code",
   "execution_count": 23,
   "metadata": {},
   "outputs": [
    {
     "data": {
      "text/plain": [
       "[0.03395902040571975,\n",
       " 0.03391503,\n",
       " 0.18416034,\n",
       " 0.014048368,\n",
       " 0.13675256,\n",
       " 4935205.5]"
      ]
     },
     "execution_count": 23,
     "metadata": {},
     "output_type": "execute_result"
    }
   ],
   "source": [
    "#Print validationResult\n",
    "validationResult"
   ]
  },
  {
   "cell_type": "code",
   "execution_count": 24,
   "metadata": {},
   "outputs": [],
   "source": [
    "#Best Model evaluating with test values\n",
    "with tf.device('/GPU:0'):\n",
    "    testResult = model.evaluate(x = testX, y = testY, batch_size = 64, verbose = 0)"
   ]
  },
  {
   "cell_type": "code",
   "execution_count": 25,
   "metadata": {},
   "outputs": [
    {
     "data": {
      "text/plain": [
       "[0.033637687197022134,\n",
       " 0.033593655,\n",
       " 0.18328571,\n",
       " 0.013907214,\n",
       " 0.13622218,\n",
       " 4838788.5]"
      ]
     },
     "execution_count": 25,
     "metadata": {},
     "output_type": "execute_result"
    }
   ],
   "source": [
    "#Print testResult\n",
    "testResult"
   ]
  },
  {
   "cell_type": "code",
   "execution_count": 26,
   "metadata": {},
   "outputs": [
    {
     "data": {
      "text/html": [
       "<div>\n",
       "<style scoped>\n",
       "    .dataframe tbody tr th:only-of-type {\n",
       "        vertical-align: middle;\n",
       "    }\n",
       "\n",
       "    .dataframe tbody tr th {\n",
       "        vertical-align: top;\n",
       "    }\n",
       "\n",
       "    .dataframe thead th {\n",
       "        text-align: right;\n",
       "    }\n",
       "</style>\n",
       "<table border=\"1\" class=\"dataframe\">\n",
       "  <thead>\n",
       "    <tr style=\"text-align: right;\">\n",
       "      <th></th>\n",
       "      <th>ModelData</th>\n",
       "      <th>Loss</th>\n",
       "      <th>Mse</th>\n",
       "      <th>Rmse</th>\n",
       "      <th>Msle</th>\n",
       "      <th>Mae</th>\n",
       "      <th>Mape</th>\n",
       "    </tr>\n",
       "  </thead>\n",
       "  <tbody>\n",
       "    <tr>\n",
       "      <td>0</td>\n",
       "      <td>Training</td>\n",
       "      <td>0.025243</td>\n",
       "      <td>0.025198</td>\n",
       "      <td>0.158740</td>\n",
       "      <td>0.010300</td>\n",
       "      <td>0.118217</td>\n",
       "      <td>3273819.75</td>\n",
       "    </tr>\n",
       "    <tr>\n",
       "      <td>1</td>\n",
       "      <td>Validation</td>\n",
       "      <td>0.033959</td>\n",
       "      <td>0.033915</td>\n",
       "      <td>0.184160</td>\n",
       "      <td>0.014048</td>\n",
       "      <td>0.136753</td>\n",
       "      <td>4935205.50</td>\n",
       "    </tr>\n",
       "    <tr>\n",
       "      <td>2</td>\n",
       "      <td>Test</td>\n",
       "      <td>0.033638</td>\n",
       "      <td>0.033594</td>\n",
       "      <td>0.183286</td>\n",
       "      <td>0.013907</td>\n",
       "      <td>0.136222</td>\n",
       "      <td>4838788.50</td>\n",
       "    </tr>\n",
       "  </tbody>\n",
       "</table>\n",
       "</div>"
      ],
      "text/plain": [
       "    ModelData      Loss       Mse      Rmse      Msle       Mae        Mape\n",
       "0    Training  0.025243  0.025198  0.158740  0.010300  0.118217  3273819.75\n",
       "1  Validation  0.033959  0.033915  0.184160  0.014048  0.136753  4935205.50\n",
       "2        Test  0.033638  0.033594  0.183286  0.013907  0.136222  4838788.50"
      ]
     },
     "execution_count": 26,
     "metadata": {},
     "output_type": "execute_result"
    }
   ],
   "source": [
    "#Creating DataFrame for data and model metrics\n",
    "modelDf = pd.DataFrame(data = {'ModelData': pd.Series(['Training', 'Validation', 'Test'], dtype='str'),\n",
    "                               'Loss': pd.Series([trainingResult[0], validationResult[0], testResult[0]], dtype='float'),\n",
    "                               'Mse': pd.Series([trainingResult[1], validationResult[1], testResult[1]], dtype='float'),\n",
    "                               'Rmse': pd.Series([trainingResult[2], validationResult[2], testResult[2]], dtype='float'),\n",
    "                               'Msle': pd.Series([trainingResult[3], validationResult[3], testResult[3]], dtype='float'),\n",
    "                               'Mae': pd.Series([trainingResult[4], validationResult[4], testResult[4]], dtype='float'),\n",
    "                               'Mape': pd.Series([trainingResult[5], validationResult[5], testResult[5]], dtype='float')})\n",
    "modelDf"
   ]
  },
  {
   "cell_type": "code",
   "execution_count": 27,
   "metadata": {},
   "outputs": [],
   "source": [
    "#Saving modeldf and Clearing memory\n",
    "modelDf.to_pickle(\"../PredictData/ModelTable/UnratedSample.pkl\")\n",
    "del modelDf"
   ]
  },
  {
   "cell_type": "code",
   "execution_count": 28,
   "metadata": {},
   "outputs": [
    {
     "data": {
      "text/plain": [
       "array([[0.48662102],\n",
       "       [0.27478498],\n",
       "       [0.62577933],\n",
       "       ...,\n",
       "       [0.7395843 ],\n",
       "       [0.8074235 ],\n",
       "       [0.71187705]], dtype=float32)"
      ]
     },
     "execution_count": 28,
     "metadata": {},
     "output_type": "execute_result"
    }
   ],
   "source": [
    "#Best Model predicting training Ratings\n",
    "with tf.device('/GPU:0'):\n",
    "    predictTraining = model.predict(x = trainingX)\n",
    "predictTraining"
   ]
  },
  {
   "cell_type": "code",
   "execution_count": 29,
   "metadata": {},
   "outputs": [
    {
     "data": {
      "text/html": [
       "<div>\n",
       "<style scoped>\n",
       "    .dataframe tbody tr th:only-of-type {\n",
       "        vertical-align: middle;\n",
       "    }\n",
       "\n",
       "    .dataframe tbody tr th {\n",
       "        vertical-align: top;\n",
       "    }\n",
       "\n",
       "    .dataframe thead th {\n",
       "        text-align: right;\n",
       "    }\n",
       "</style>\n",
       "<table border=\"1\" class=\"dataframe\">\n",
       "  <thead>\n",
       "    <tr style=\"text-align: right;\">\n",
       "      <th></th>\n",
       "      <th>UserId</th>\n",
       "      <th>MovieId</th>\n",
       "      <th>Rating</th>\n",
       "      <th>RatingPredict</th>\n",
       "    </tr>\n",
       "  </thead>\n",
       "  <tbody>\n",
       "    <tr>\n",
       "      <td>0</td>\n",
       "      <td>5567</td>\n",
       "      <td>5871</td>\n",
       "      <td>0.6</td>\n",
       "      <td>0.486621</td>\n",
       "    </tr>\n",
       "    <tr>\n",
       "      <td>1</td>\n",
       "      <td>8242</td>\n",
       "      <td>9624</td>\n",
       "      <td>0.1</td>\n",
       "      <td>0.274785</td>\n",
       "    </tr>\n",
       "    <tr>\n",
       "      <td>2</td>\n",
       "      <td>4691</td>\n",
       "      <td>285</td>\n",
       "      <td>0.6</td>\n",
       "      <td>0.625779</td>\n",
       "    </tr>\n",
       "    <tr>\n",
       "      <td>3</td>\n",
       "      <td>6937</td>\n",
       "      <td>2827</td>\n",
       "      <td>0.6</td>\n",
       "      <td>0.774741</td>\n",
       "    </tr>\n",
       "    <tr>\n",
       "      <td>4</td>\n",
       "      <td>6948</td>\n",
       "      <td>4235</td>\n",
       "      <td>1.0</td>\n",
       "      <td>0.411200</td>\n",
       "    </tr>\n",
       "    <tr>\n",
       "      <td>...</td>\n",
       "      <td>...</td>\n",
       "      <td>...</td>\n",
       "      <td>...</td>\n",
       "      <td>...</td>\n",
       "    </tr>\n",
       "    <tr>\n",
       "      <td>760698</td>\n",
       "      <td>939</td>\n",
       "      <td>838</td>\n",
       "      <td>1.0</td>\n",
       "      <td>0.745899</td>\n",
       "    </tr>\n",
       "    <tr>\n",
       "      <td>760699</td>\n",
       "      <td>3757</td>\n",
       "      <td>806</td>\n",
       "      <td>0.4</td>\n",
       "      <td>0.702293</td>\n",
       "    </tr>\n",
       "    <tr>\n",
       "      <td>760700</td>\n",
       "      <td>7723</td>\n",
       "      <td>5315</td>\n",
       "      <td>0.8</td>\n",
       "      <td>0.739584</td>\n",
       "    </tr>\n",
       "    <tr>\n",
       "      <td>760701</td>\n",
       "      <td>4152</td>\n",
       "      <td>1670</td>\n",
       "      <td>0.8</td>\n",
       "      <td>0.807423</td>\n",
       "    </tr>\n",
       "    <tr>\n",
       "      <td>760702</td>\n",
       "      <td>3158</td>\n",
       "      <td>247</td>\n",
       "      <td>0.8</td>\n",
       "      <td>0.711877</td>\n",
       "    </tr>\n",
       "  </tbody>\n",
       "</table>\n",
       "<p>760703 rows × 4 columns</p>\n",
       "</div>"
      ],
      "text/plain": [
       "        UserId  MovieId  Rating  RatingPredict\n",
       "0         5567     5871     0.6       0.486621\n",
       "1         8242     9624     0.1       0.274785\n",
       "2         4691      285     0.6       0.625779\n",
       "3         6937     2827     0.6       0.774741\n",
       "4         6948     4235     1.0       0.411200\n",
       "...        ...      ...     ...            ...\n",
       "760698     939      838     1.0       0.745899\n",
       "760699    3757      806     0.4       0.702293\n",
       "760700    7723     5315     0.8       0.739584\n",
       "760701    4152     1670     0.8       0.807423\n",
       "760702    3158      247     0.8       0.711877\n",
       "\n",
       "[760703 rows x 4 columns]"
      ]
     },
     "execution_count": 29,
     "metadata": {},
     "output_type": "execute_result"
    }
   ],
   "source": [
    "#Predicted Ratings appending trainingDf\n",
    "trainingDf['RatingPredict'] = predictTraining\n",
    "trainingDf"
   ]
  },
  {
   "cell_type": "code",
   "execution_count": 30,
   "metadata": {},
   "outputs": [
    {
     "data": {
      "text/plain": [
       "array([[0.508759  ],\n",
       "       [0.28457737],\n",
       "       [0.7178873 ],\n",
       "       ...,\n",
       "       [0.60232294],\n",
       "       [0.6699574 ],\n",
       "       [0.5437133 ]], dtype=float32)"
      ]
     },
     "execution_count": 30,
     "metadata": {},
     "output_type": "execute_result"
    }
   ],
   "source": [
    "#Best Model predicting validation Ratings\n",
    "with tf.device('/GPU:0'):\n",
    "    predictValidation = model.predict(x = validationX)\n",
    "predictValidation"
   ]
  },
  {
   "cell_type": "code",
   "execution_count": 31,
   "metadata": {},
   "outputs": [
    {
     "data": {
      "text/html": [
       "<div>\n",
       "<style scoped>\n",
       "    .dataframe tbody tr th:only-of-type {\n",
       "        vertical-align: middle;\n",
       "    }\n",
       "\n",
       "    .dataframe tbody tr th {\n",
       "        vertical-align: top;\n",
       "    }\n",
       "\n",
       "    .dataframe thead th {\n",
       "        text-align: right;\n",
       "    }\n",
       "</style>\n",
       "<table border=\"1\" class=\"dataframe\">\n",
       "  <thead>\n",
       "    <tr style=\"text-align: right;\">\n",
       "      <th></th>\n",
       "      <th>UserId</th>\n",
       "      <th>MovieId</th>\n",
       "      <th>Rating</th>\n",
       "      <th>RatingPredict</th>\n",
       "    </tr>\n",
       "  </thead>\n",
       "  <tbody>\n",
       "    <tr>\n",
       "      <td>0</td>\n",
       "      <td>7411</td>\n",
       "      <td>7484</td>\n",
       "      <td>0.8</td>\n",
       "      <td>0.508759</td>\n",
       "    </tr>\n",
       "    <tr>\n",
       "      <td>1</td>\n",
       "      <td>2024</td>\n",
       "      <td>6413</td>\n",
       "      <td>0.5</td>\n",
       "      <td>0.284577</td>\n",
       "    </tr>\n",
       "    <tr>\n",
       "      <td>2</td>\n",
       "      <td>9999</td>\n",
       "      <td>8864</td>\n",
       "      <td>0.8</td>\n",
       "      <td>0.717887</td>\n",
       "    </tr>\n",
       "    <tr>\n",
       "      <td>3</td>\n",
       "      <td>1522</td>\n",
       "      <td>626</td>\n",
       "      <td>0.7</td>\n",
       "      <td>0.735836</td>\n",
       "    </tr>\n",
       "    <tr>\n",
       "      <td>4</td>\n",
       "      <td>4208</td>\n",
       "      <td>566</td>\n",
       "      <td>0.9</td>\n",
       "      <td>0.721125</td>\n",
       "    </tr>\n",
       "    <tr>\n",
       "      <td>...</td>\n",
       "      <td>...</td>\n",
       "      <td>...</td>\n",
       "      <td>...</td>\n",
       "      <td>...</td>\n",
       "    </tr>\n",
       "    <tr>\n",
       "      <td>125094</td>\n",
       "      <td>3440</td>\n",
       "      <td>224</td>\n",
       "      <td>0.6</td>\n",
       "      <td>0.713267</td>\n",
       "    </tr>\n",
       "    <tr>\n",
       "      <td>125095</td>\n",
       "      <td>4940</td>\n",
       "      <td>28</td>\n",
       "      <td>0.7</td>\n",
       "      <td>0.728433</td>\n",
       "    </tr>\n",
       "    <tr>\n",
       "      <td>125096</td>\n",
       "      <td>7697</td>\n",
       "      <td>945</td>\n",
       "      <td>0.8</td>\n",
       "      <td>0.602323</td>\n",
       "    </tr>\n",
       "    <tr>\n",
       "      <td>125097</td>\n",
       "      <td>4064</td>\n",
       "      <td>139</td>\n",
       "      <td>0.6</td>\n",
       "      <td>0.669957</td>\n",
       "    </tr>\n",
       "    <tr>\n",
       "      <td>125098</td>\n",
       "      <td>3981</td>\n",
       "      <td>17578</td>\n",
       "      <td>0.0</td>\n",
       "      <td>0.543713</td>\n",
       "    </tr>\n",
       "  </tbody>\n",
       "</table>\n",
       "<p>125099 rows × 4 columns</p>\n",
       "</div>"
      ],
      "text/plain": [
       "        UserId  MovieId  Rating  RatingPredict\n",
       "0         7411     7484     0.8       0.508759\n",
       "1         2024     6413     0.5       0.284577\n",
       "2         9999     8864     0.8       0.717887\n",
       "3         1522      626     0.7       0.735836\n",
       "4         4208      566     0.9       0.721125\n",
       "...        ...      ...     ...            ...\n",
       "125094    3440      224     0.6       0.713267\n",
       "125095    4940       28     0.7       0.728433\n",
       "125096    7697      945     0.8       0.602323\n",
       "125097    4064      139     0.6       0.669957\n",
       "125098    3981    17578     0.0       0.543713\n",
       "\n",
       "[125099 rows x 4 columns]"
      ]
     },
     "execution_count": 31,
     "metadata": {},
     "output_type": "execute_result"
    }
   ],
   "source": [
    "#Predicted Ratings appending validationDf\n",
    "validationDf['RatingPredict'] = predictValidation\n",
    "validationDf"
   ]
  },
  {
   "cell_type": "code",
   "execution_count": 32,
   "metadata": {},
   "outputs": [
    {
     "data": {
      "text/plain": [
       "array([[0.96827376],\n",
       "       [0.5825507 ],\n",
       "       [0.8801249 ],\n",
       "       ...,\n",
       "       [0.5020613 ],\n",
       "       [0.73383987],\n",
       "       [0.9608302 ]], dtype=float32)"
      ]
     },
     "execution_count": 32,
     "metadata": {},
     "output_type": "execute_result"
    }
   ],
   "source": [
    "#Best Model predicting test Ratings\n",
    "with tf.device('/GPU:0'):\n",
    "    predictTest = model.predict(x = testX)\n",
    "predictTest"
   ]
  },
  {
   "cell_type": "code",
   "execution_count": 33,
   "metadata": {},
   "outputs": [
    {
     "data": {
      "text/html": [
       "<div>\n",
       "<style scoped>\n",
       "    .dataframe tbody tr th:only-of-type {\n",
       "        vertical-align: middle;\n",
       "    }\n",
       "\n",
       "    .dataframe tbody tr th {\n",
       "        vertical-align: top;\n",
       "    }\n",
       "\n",
       "    .dataframe thead th {\n",
       "        text-align: right;\n",
       "    }\n",
       "</style>\n",
       "<table border=\"1\" class=\"dataframe\">\n",
       "  <thead>\n",
       "    <tr style=\"text-align: right;\">\n",
       "      <th></th>\n",
       "      <th>UserId</th>\n",
       "      <th>MovieId</th>\n",
       "      <th>Rating</th>\n",
       "      <th>RatingPredict</th>\n",
       "    </tr>\n",
       "  </thead>\n",
       "  <tbody>\n",
       "    <tr>\n",
       "      <td>0</td>\n",
       "      <td>2557</td>\n",
       "      <td>168</td>\n",
       "      <td>1.0</td>\n",
       "      <td>0.968274</td>\n",
       "    </tr>\n",
       "    <tr>\n",
       "      <td>1</td>\n",
       "      <td>7470</td>\n",
       "      <td>242</td>\n",
       "      <td>0.6</td>\n",
       "      <td>0.582551</td>\n",
       "    </tr>\n",
       "    <tr>\n",
       "      <td>2</td>\n",
       "      <td>6915</td>\n",
       "      <td>1400</td>\n",
       "      <td>0.8</td>\n",
       "      <td>0.880125</td>\n",
       "    </tr>\n",
       "    <tr>\n",
       "      <td>3</td>\n",
       "      <td>1066</td>\n",
       "      <td>54</td>\n",
       "      <td>0.4</td>\n",
       "      <td>0.824237</td>\n",
       "    </tr>\n",
       "    <tr>\n",
       "      <td>4</td>\n",
       "      <td>2037</td>\n",
       "      <td>159</td>\n",
       "      <td>0.4</td>\n",
       "      <td>0.549943</td>\n",
       "    </tr>\n",
       "    <tr>\n",
       "      <td>...</td>\n",
       "      <td>...</td>\n",
       "      <td>...</td>\n",
       "      <td>...</td>\n",
       "      <td>...</td>\n",
       "    </tr>\n",
       "    <tr>\n",
       "      <td>125094</td>\n",
       "      <td>5060</td>\n",
       "      <td>2460</td>\n",
       "      <td>0.7</td>\n",
       "      <td>0.694268</td>\n",
       "    </tr>\n",
       "    <tr>\n",
       "      <td>125095</td>\n",
       "      <td>7302</td>\n",
       "      <td>701</td>\n",
       "      <td>0.7</td>\n",
       "      <td>0.790328</td>\n",
       "    </tr>\n",
       "    <tr>\n",
       "      <td>125096</td>\n",
       "      <td>7724</td>\n",
       "      <td>215</td>\n",
       "      <td>0.1</td>\n",
       "      <td>0.502061</td>\n",
       "    </tr>\n",
       "    <tr>\n",
       "      <td>125097</td>\n",
       "      <td>718</td>\n",
       "      <td>1117</td>\n",
       "      <td>0.6</td>\n",
       "      <td>0.733840</td>\n",
       "    </tr>\n",
       "    <tr>\n",
       "      <td>125098</td>\n",
       "      <td>7349</td>\n",
       "      <td>416</td>\n",
       "      <td>1.0</td>\n",
       "      <td>0.960830</td>\n",
       "    </tr>\n",
       "  </tbody>\n",
       "</table>\n",
       "<p>125099 rows × 4 columns</p>\n",
       "</div>"
      ],
      "text/plain": [
       "        UserId  MovieId  Rating  RatingPredict\n",
       "0         2557      168     1.0       0.968274\n",
       "1         7470      242     0.6       0.582551\n",
       "2         6915     1400     0.8       0.880125\n",
       "3         1066       54     0.4       0.824237\n",
       "4         2037      159     0.4       0.549943\n",
       "...        ...      ...     ...            ...\n",
       "125094    5060     2460     0.7       0.694268\n",
       "125095    7302      701     0.7       0.790328\n",
       "125096    7724      215     0.1       0.502061\n",
       "125097     718     1117     0.6       0.733840\n",
       "125098    7349      416     1.0       0.960830\n",
       "\n",
       "[125099 rows x 4 columns]"
      ]
     },
     "execution_count": 33,
     "metadata": {},
     "output_type": "execute_result"
    }
   ],
   "source": [
    "#Predicted Ratings appending testDf\n",
    "testDf['RatingPredict'] = predictTest\n",
    "testDf"
   ]
  },
  {
   "cell_type": "code",
   "execution_count": 34,
   "metadata": {},
   "outputs": [
    {
     "data": {
      "text/html": [
       "<div>\n",
       "<style scoped>\n",
       "    .dataframe tbody tr th:only-of-type {\n",
       "        vertical-align: middle;\n",
       "    }\n",
       "\n",
       "    .dataframe tbody tr th {\n",
       "        vertical-align: top;\n",
       "    }\n",
       "\n",
       "    .dataframe thead th {\n",
       "        text-align: right;\n",
       "    }\n",
       "</style>\n",
       "<table border=\"1\" class=\"dataframe\">\n",
       "  <thead>\n",
       "    <tr style=\"text-align: right;\">\n",
       "      <th></th>\n",
       "      <th>UserId</th>\n",
       "      <th>MovieId</th>\n",
       "      <th>Rating</th>\n",
       "      <th>RatingPredict</th>\n",
       "    </tr>\n",
       "  </thead>\n",
       "  <tbody>\n",
       "    <tr>\n",
       "      <td>0</td>\n",
       "      <td>5567</td>\n",
       "      <td>5871</td>\n",
       "      <td>0.6</td>\n",
       "      <td>0.486621</td>\n",
       "    </tr>\n",
       "    <tr>\n",
       "      <td>1</td>\n",
       "      <td>8242</td>\n",
       "      <td>9624</td>\n",
       "      <td>0.1</td>\n",
       "      <td>0.274785</td>\n",
       "    </tr>\n",
       "    <tr>\n",
       "      <td>2</td>\n",
       "      <td>4691</td>\n",
       "      <td>285</td>\n",
       "      <td>0.6</td>\n",
       "      <td>0.625779</td>\n",
       "    </tr>\n",
       "    <tr>\n",
       "      <td>3</td>\n",
       "      <td>6937</td>\n",
       "      <td>2827</td>\n",
       "      <td>0.6</td>\n",
       "      <td>0.774741</td>\n",
       "    </tr>\n",
       "    <tr>\n",
       "      <td>4</td>\n",
       "      <td>6948</td>\n",
       "      <td>4235</td>\n",
       "      <td>1.0</td>\n",
       "      <td>0.411200</td>\n",
       "    </tr>\n",
       "    <tr>\n",
       "      <td>...</td>\n",
       "      <td>...</td>\n",
       "      <td>...</td>\n",
       "      <td>...</td>\n",
       "      <td>...</td>\n",
       "    </tr>\n",
       "    <tr>\n",
       "      <td>1010896</td>\n",
       "      <td>5060</td>\n",
       "      <td>2460</td>\n",
       "      <td>0.7</td>\n",
       "      <td>0.694268</td>\n",
       "    </tr>\n",
       "    <tr>\n",
       "      <td>1010897</td>\n",
       "      <td>7302</td>\n",
       "      <td>701</td>\n",
       "      <td>0.7</td>\n",
       "      <td>0.790328</td>\n",
       "    </tr>\n",
       "    <tr>\n",
       "      <td>1010898</td>\n",
       "      <td>7724</td>\n",
       "      <td>215</td>\n",
       "      <td>0.1</td>\n",
       "      <td>0.502061</td>\n",
       "    </tr>\n",
       "    <tr>\n",
       "      <td>1010899</td>\n",
       "      <td>718</td>\n",
       "      <td>1117</td>\n",
       "      <td>0.6</td>\n",
       "      <td>0.733840</td>\n",
       "    </tr>\n",
       "    <tr>\n",
       "      <td>1010900</td>\n",
       "      <td>7349</td>\n",
       "      <td>416</td>\n",
       "      <td>1.0</td>\n",
       "      <td>0.960830</td>\n",
       "    </tr>\n",
       "  </tbody>\n",
       "</table>\n",
       "<p>1010901 rows × 4 columns</p>\n",
       "</div>"
      ],
      "text/plain": [
       "         UserId  MovieId  Rating  RatingPredict\n",
       "0          5567     5871     0.6       0.486621\n",
       "1          8242     9624     0.1       0.274785\n",
       "2          4691      285     0.6       0.625779\n",
       "3          6937     2827     0.6       0.774741\n",
       "4          6948     4235     1.0       0.411200\n",
       "...         ...      ...     ...            ...\n",
       "1010896    5060     2460     0.7       0.694268\n",
       "1010897    7302      701     0.7       0.790328\n",
       "1010898    7724      215     0.1       0.502061\n",
       "1010899     718     1117     0.6       0.733840\n",
       "1010900    7349      416     1.0       0.960830\n",
       "\n",
       "[1010901 rows x 4 columns]"
      ]
     },
     "execution_count": 34,
     "metadata": {},
     "output_type": "execute_result"
    }
   ],
   "source": [
    "#Dataframes merging\n",
    "allDataFrame = pd.concat([trainingDf, validationDf, testDf]).reset_index(drop=True)\n",
    "allDataFrame"
   ]
  },
  {
   "cell_type": "code",
   "execution_count": 35,
   "metadata": {},
   "outputs": [
    {
     "data": {
      "text/html": [
       "<div>\n",
       "<style scoped>\n",
       "    .dataframe tbody tr th:only-of-type {\n",
       "        vertical-align: middle;\n",
       "    }\n",
       "\n",
       "    .dataframe tbody tr th {\n",
       "        vertical-align: top;\n",
       "    }\n",
       "\n",
       "    .dataframe thead th {\n",
       "        text-align: right;\n",
       "    }\n",
       "</style>\n",
       "<table border=\"1\" class=\"dataframe\">\n",
       "  <thead>\n",
       "    <tr style=\"text-align: right;\">\n",
       "      <th></th>\n",
       "      <th>User</th>\n",
       "    </tr>\n",
       "  </thead>\n",
       "  <tbody>\n",
       "    <tr>\n",
       "      <td>0</td>\n",
       "      <td>0</td>\n",
       "    </tr>\n",
       "    <tr>\n",
       "      <td>1</td>\n",
       "      <td>1</td>\n",
       "    </tr>\n",
       "    <tr>\n",
       "      <td>2</td>\n",
       "      <td>2</td>\n",
       "    </tr>\n",
       "    <tr>\n",
       "      <td>3</td>\n",
       "      <td>3</td>\n",
       "    </tr>\n",
       "    <tr>\n",
       "      <td>4</td>\n",
       "      <td>4</td>\n",
       "    </tr>\n",
       "    <tr>\n",
       "      <td>...</td>\n",
       "      <td>...</td>\n",
       "    </tr>\n",
       "    <tr>\n",
       "      <td>10068</td>\n",
       "      <td>10068</td>\n",
       "    </tr>\n",
       "    <tr>\n",
       "      <td>10069</td>\n",
       "      <td>10069</td>\n",
       "    </tr>\n",
       "    <tr>\n",
       "      <td>10070</td>\n",
       "      <td>10070</td>\n",
       "    </tr>\n",
       "    <tr>\n",
       "      <td>10071</td>\n",
       "      <td>10071</td>\n",
       "    </tr>\n",
       "    <tr>\n",
       "      <td>10072</td>\n",
       "      <td>10072</td>\n",
       "    </tr>\n",
       "  </tbody>\n",
       "</table>\n",
       "<p>10073 rows × 1 columns</p>\n",
       "</div>"
      ],
      "text/plain": [
       "        User\n",
       "0          0\n",
       "1          1\n",
       "2          2\n",
       "3          3\n",
       "4          4\n",
       "...      ...\n",
       "10068  10068\n",
       "10069  10069\n",
       "10070  10070\n",
       "10071  10071\n",
       "10072  10072\n",
       "\n",
       "[10073 rows x 1 columns]"
      ]
     },
     "execution_count": 35,
     "metadata": {},
     "output_type": "execute_result"
    }
   ],
   "source": [
    "#Getting all unique UserId from allDataFrame and create new Data Frame from this values\n",
    "#This Data frame will used as lookup table for prediction script\n",
    "userRange = range(allDataFrame['UserId'].unique().shape[0])\n",
    "lookupTable = pd.DataFrame(data = {'User' : userRange})\n",
    "lookupTable"
   ]
  },
  {
   "cell_type": "code",
   "execution_count": 36,
   "metadata": {},
   "outputs": [
    {
     "data": {
      "text/plain": [
       "array([[1.40000000e+01, 9.00000000e+00, 7.00000000e+00, ...,\n",
       "        2.90000000e+01, 3.60000000e+01, 7.21000000e+02],\n",
       "       [3.94168120e-02, 7.00260498e-03, 5.23153031e-03, ...,\n",
       "        2.37067217e-02, 2.15041978e-02, 1.09779607e-02],\n",
       "       [3.00000000e+00, 3.00000000e+00, 3.00000000e+00, ...,\n",
       "        3.00000000e+00, 4.00000000e+00, 1.38000000e+02],\n",
       "       ...,\n",
       "       [1.27656424e-02, 6.88059285e-02, 3.37427079e-02, ...,\n",
       "        1.94778854e-02, 1.56523457e-02, 1.05406352e-02],\n",
       "       [1.90000000e+01, 1.60000000e+01, 1.10000000e+01, ...,\n",
       "        3.80000000e+01, 4.30000000e+01, 9.73000000e+02],\n",
       "       [3.65914463e-02, 2.32352559e-02, 2.78204336e-02, ...,\n",
       "        4.90352643e-02, 2.23597922e-02, 1.05265103e-02]])"
      ]
     },
     "execution_count": 36,
     "metadata": {},
     "output_type": "execute_result"
    }
   ],
   "source": [
    "#Calculations for each user\n",
    "calculations = np.empty(shape = (8, lookupTable.shape[0]))\n",
    "for i in userRange:\n",
    "    \n",
    "    #Training dataframe calculations\n",
    "    queryFrame = trainingDf[trainingDf['UserId'] == i]\n",
    "    calculations[0][i] = queryFrame.shape[0]\n",
    "    if calculations[0][i] > 0:\n",
    "        calculations[1][i] = CalculateMSE(queryFrame['Rating'].values, queryFrame['RatingPredict'].values)\n",
    "    else:\n",
    "        calculations[1][i] = np.nan\n",
    "        \n",
    "    #Validaiton dataframe calculations\n",
    "    queryFrame = validationDf[validationDf['UserId'] == i]\n",
    "    calculations[2][i] = queryFrame.shape[0]\n",
    "    if calculations[2][i] > 0:\n",
    "        calculations[3][i] = CalculateMSE(queryFrame['Rating'].values, queryFrame['RatingPredict'].values)\n",
    "    else:\n",
    "        calculations[3][i] = np.nan\n",
    "    \n",
    "    #test dataframe calculations\n",
    "    queryFrame = testDf[testDf['UserId'] == i]\n",
    "    calculations[4][i] = queryFrame.shape[0]\n",
    "    if calculations[4][i] > 0:\n",
    "        calculations[5][i] = CalculateMSE(queryFrame['Rating'].values, queryFrame['RatingPredict'].values)\n",
    "    else:\n",
    "        calculations[5][i] = np.nan\n",
    "    \n",
    "    #all dataframe calculations\n",
    "    queryFrame = allDataFrame[allDataFrame['UserId'] == i]\n",
    "    calculations[6][i] = queryFrame.shape[0]\n",
    "    if calculations[6][i] > 0:\n",
    "        calculations[7][i] = CalculateMSE(queryFrame['Rating'].values, queryFrame['RatingPredict'].values)\n",
    "    else:\n",
    "        calculations[7][i] = np.nan\n",
    "\n",
    "#print\n",
    "calculations"
   ]
  },
  {
   "cell_type": "code",
   "execution_count": 37,
   "metadata": {},
   "outputs": [
    {
     "data": {
      "text/html": [
       "<div>\n",
       "<style scoped>\n",
       "    .dataframe tbody tr th:only-of-type {\n",
       "        vertical-align: middle;\n",
       "    }\n",
       "\n",
       "    .dataframe tbody tr th {\n",
       "        vertical-align: top;\n",
       "    }\n",
       "\n",
       "    .dataframe thead th {\n",
       "        text-align: right;\n",
       "    }\n",
       "</style>\n",
       "<table border=\"1\" class=\"dataframe\">\n",
       "  <thead>\n",
       "    <tr style=\"text-align: right;\">\n",
       "      <th></th>\n",
       "      <th>User</th>\n",
       "      <th>TraingingRep</th>\n",
       "      <th>TrainingMSE</th>\n",
       "      <th>ValidationRep</th>\n",
       "      <th>ValidationMSE</th>\n",
       "      <th>TestRep</th>\n",
       "      <th>TestMSE</th>\n",
       "      <th>AllRep</th>\n",
       "      <th>AllMSE</th>\n",
       "    </tr>\n",
       "  </thead>\n",
       "  <tbody>\n",
       "    <tr>\n",
       "      <td>0</td>\n",
       "      <td>0</td>\n",
       "      <td>14</td>\n",
       "      <td>0.039417</td>\n",
       "      <td>3</td>\n",
       "      <td>0.039290</td>\n",
       "      <td>2</td>\n",
       "      <td>0.012766</td>\n",
       "      <td>19</td>\n",
       "      <td>0.036591</td>\n",
       "    </tr>\n",
       "    <tr>\n",
       "      <td>1</td>\n",
       "      <td>1</td>\n",
       "      <td>9</td>\n",
       "      <td>0.007003</td>\n",
       "      <td>3</td>\n",
       "      <td>0.011172</td>\n",
       "      <td>4</td>\n",
       "      <td>0.068806</td>\n",
       "      <td>16</td>\n",
       "      <td>0.023235</td>\n",
       "    </tr>\n",
       "    <tr>\n",
       "      <td>2</td>\n",
       "      <td>2</td>\n",
       "      <td>7</td>\n",
       "      <td>0.005232</td>\n",
       "      <td>3</td>\n",
       "      <td>0.078554</td>\n",
       "      <td>1</td>\n",
       "      <td>0.033743</td>\n",
       "      <td>11</td>\n",
       "      <td>0.027820</td>\n",
       "    </tr>\n",
       "    <tr>\n",
       "      <td>3</td>\n",
       "      <td>3</td>\n",
       "      <td>534</td>\n",
       "      <td>0.032893</td>\n",
       "      <td>97</td>\n",
       "      <td>0.038765</td>\n",
       "      <td>107</td>\n",
       "      <td>0.032661</td>\n",
       "      <td>738</td>\n",
       "      <td>0.033631</td>\n",
       "    </tr>\n",
       "    <tr>\n",
       "      <td>4</td>\n",
       "      <td>4</td>\n",
       "      <td>61</td>\n",
       "      <td>0.007558</td>\n",
       "      <td>5</td>\n",
       "      <td>0.002593</td>\n",
       "      <td>7</td>\n",
       "      <td>0.009588</td>\n",
       "      <td>73</td>\n",
       "      <td>0.007413</td>\n",
       "    </tr>\n",
       "    <tr>\n",
       "      <td>...</td>\n",
       "      <td>...</td>\n",
       "      <td>...</td>\n",
       "      <td>...</td>\n",
       "      <td>...</td>\n",
       "      <td>...</td>\n",
       "      <td>...</td>\n",
       "      <td>...</td>\n",
       "      <td>...</td>\n",
       "      <td>...</td>\n",
       "    </tr>\n",
       "    <tr>\n",
       "      <td>10068</td>\n",
       "      <td>10068</td>\n",
       "      <td>12</td>\n",
       "      <td>0.017094</td>\n",
       "      <td>4</td>\n",
       "      <td>0.003066</td>\n",
       "      <td>3</td>\n",
       "      <td>0.081436</td>\n",
       "      <td>19</td>\n",
       "      <td>0.024300</td>\n",
       "    </tr>\n",
       "    <tr>\n",
       "      <td>10069</td>\n",
       "      <td>10069</td>\n",
       "      <td>18</td>\n",
       "      <td>0.018858</td>\n",
       "      <td>3</td>\n",
       "      <td>0.012827</td>\n",
       "      <td>4</td>\n",
       "      <td>0.015387</td>\n",
       "      <td>25</td>\n",
       "      <td>0.017579</td>\n",
       "    </tr>\n",
       "    <tr>\n",
       "      <td>10070</td>\n",
       "      <td>10070</td>\n",
       "      <td>29</td>\n",
       "      <td>0.023707</td>\n",
       "      <td>3</td>\n",
       "      <td>0.352993</td>\n",
       "      <td>6</td>\n",
       "      <td>0.019478</td>\n",
       "      <td>38</td>\n",
       "      <td>0.049035</td>\n",
       "    </tr>\n",
       "    <tr>\n",
       "      <td>10071</td>\n",
       "      <td>10071</td>\n",
       "      <td>36</td>\n",
       "      <td>0.021504</td>\n",
       "      <td>4</td>\n",
       "      <td>0.035091</td>\n",
       "      <td>3</td>\n",
       "      <td>0.015652</td>\n",
       "      <td>43</td>\n",
       "      <td>0.022360</td>\n",
       "    </tr>\n",
       "    <tr>\n",
       "      <td>10072</td>\n",
       "      <td>10072</td>\n",
       "      <td>721</td>\n",
       "      <td>0.010978</td>\n",
       "      <td>138</td>\n",
       "      <td>0.008156</td>\n",
       "      <td>114</td>\n",
       "      <td>0.010541</td>\n",
       "      <td>973</td>\n",
       "      <td>0.010527</td>\n",
       "    </tr>\n",
       "  </tbody>\n",
       "</table>\n",
       "<p>10073 rows × 9 columns</p>\n",
       "</div>"
      ],
      "text/plain": [
       "        User  TraingingRep  TrainingMSE  ValidationRep  ValidationMSE  \\\n",
       "0          0            14     0.039417              3       0.039290   \n",
       "1          1             9     0.007003              3       0.011172   \n",
       "2          2             7     0.005232              3       0.078554   \n",
       "3          3           534     0.032893             97       0.038765   \n",
       "4          4            61     0.007558              5       0.002593   \n",
       "...      ...           ...          ...            ...            ...   \n",
       "10068  10068            12     0.017094              4       0.003066   \n",
       "10069  10069            18     0.018858              3       0.012827   \n",
       "10070  10070            29     0.023707              3       0.352993   \n",
       "10071  10071            36     0.021504              4       0.035091   \n",
       "10072  10072           721     0.010978            138       0.008156   \n",
       "\n",
       "       TestRep   TestMSE  AllRep    AllMSE  \n",
       "0            2  0.012766      19  0.036591  \n",
       "1            4  0.068806      16  0.023235  \n",
       "2            1  0.033743      11  0.027820  \n",
       "3          107  0.032661     738  0.033631  \n",
       "4            7  0.009588      73  0.007413  \n",
       "...        ...       ...     ...       ...  \n",
       "10068        3  0.081436      19  0.024300  \n",
       "10069        4  0.015387      25  0.017579  \n",
       "10070        6  0.019478      38  0.049035  \n",
       "10071        3  0.015652      43  0.022360  \n",
       "10072      114  0.010541     973  0.010527  \n",
       "\n",
       "[10073 rows x 9 columns]"
      ]
     },
     "execution_count": 37,
     "metadata": {},
     "output_type": "execute_result"
    }
   ],
   "source": [
    "#Calculations adding lookup table\n",
    "\n",
    "#Training data representation count\n",
    "lookupTable['TraingingRep'] = calculations[0].astype(np.int32)\n",
    "#Training data Correct Predictions\n",
    "lookupTable['TrainingMSE'] = calculations[1]\n",
    "\n",
    "#Validation data representation count\n",
    "lookupTable['ValidationRep'] = calculations[2].astype(np.int32)\n",
    "#validation data Correct Predictions\n",
    "lookupTable['ValidationMSE'] = calculations[3]\n",
    "\n",
    "#Test data representation count\n",
    "lookupTable['TestRep'] = calculations[4].astype(np.int32)\n",
    "#test data Correct Predictions\n",
    "lookupTable['TestMSE'] = calculations[5]\n",
    "\n",
    "#All data representation count\n",
    "lookupTable['AllRep'] = calculations[6].astype(np.int32)\n",
    "#all data Correct Predictions\n",
    "lookupTable['AllMSE'] = calculations[7]\n",
    "\n",
    "lookupTable"
   ]
  },
  {
   "cell_type": "code",
   "execution_count": 38,
   "metadata": {},
   "outputs": [],
   "source": [
    "#Lookup table save as pkl file\n",
    "lookupTable.to_pickle(\"../PredictData/LookupTable/UnratedSample.pkl\")\n",
    "del calculations\n",
    "del trainingDf\n",
    "del validationDf\n",
    "del testDf\n",
    "del allDataFrame\n",
    "del lookupTable"
   ]
  }
 ],
 "metadata": {
  "kernelspec": {
   "display_name": "Python 3",
   "language": "python",
   "name": "python3"
  },
  "language_info": {
   "codemirror_mode": {
    "name": "ipython",
    "version": 3
   },
   "file_extension": ".py",
   "mimetype": "text/x-python",
   "name": "python",
   "nbconvert_exporter": "python",
   "pygments_lexer": "ipython3",
   "version": "3.7.4"
  }
 },
 "nbformat": 4,
 "nbformat_minor": 2
}
