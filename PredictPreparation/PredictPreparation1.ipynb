{
 "cells": [
  {
   "cell_type": "markdown",
   "metadata": {},
   "source": [
    "# BinaryInteraction InteractedOnly Model Prediction Preparation\n",
    "\n",
    "BinaryInteraction InteractedOnly Model Table will be prepared for use in Prediction Notebook\n",
    "\n",
    "This table will be used for supply extra information about recommendation"
   ]
  },
  {
   "cell_type": "code",
   "execution_count": 1,
   "metadata": {},
   "outputs": [],
   "source": [
    "#Importing libraries\n",
    "import numpy as np\n",
    "import pandas as pd\n",
    "import tensorflow as tf\n",
    "import warnings"
   ]
  },
  {
   "cell_type": "code",
   "execution_count": 2,
   "metadata": {},
   "outputs": [
    {
     "name": "stdout",
     "output_type": "stream",
     "text": [
      "numpy Version: 1.16.5\n",
      "pandas Version: 0.25.1\n",
      "tensorflow Version: 2.0.0\n"
     ]
    }
   ],
   "source": [
    "#Printing library versions\n",
    "print('numpy Version: ' + np.__version__)\n",
    "print('pandas Version: ' + pd.__version__)\n",
    "print('tensorflow Version: ' + tf.__version__)"
   ]
  },
  {
   "cell_type": "code",
   "execution_count": 3,
   "metadata": {},
   "outputs": [
    {
     "name": "stdout",
     "output_type": "stream",
     "text": [
      "/device:GPU:0\n"
     ]
    }
   ],
   "source": [
    "#GPU will be used for Prediction and Evaluation\n",
    "myGPU = tf.test.gpu_device_name()\n",
    "if myGPU:\n",
    "    print(myGPU)\n",
    "else:\n",
    "    print(\"Error\")"
   ]
  },
  {
   "cell_type": "code",
   "execution_count": 4,
   "metadata": {
    "scrolled": false
   },
   "outputs": [
    {
     "data": {
      "text/html": [
       "<div>\n",
       "<style scoped>\n",
       "    .dataframe tbody tr th:only-of-type {\n",
       "        vertical-align: middle;\n",
       "    }\n",
       "\n",
       "    .dataframe tbody tr th {\n",
       "        vertical-align: top;\n",
       "    }\n",
       "\n",
       "    .dataframe thead th {\n",
       "        text-align: right;\n",
       "    }\n",
       "</style>\n",
       "<table border=\"1\" class=\"dataframe\">\n",
       "  <thead>\n",
       "    <tr style=\"text-align: right;\">\n",
       "      <th></th>\n",
       "      <th>UserId</th>\n",
       "      <th>MovieId</th>\n",
       "      <th>Interaction</th>\n",
       "    </tr>\n",
       "  </thead>\n",
       "  <tbody>\n",
       "    <tr>\n",
       "      <td>0</td>\n",
       "      <td>4356</td>\n",
       "      <td>1027</td>\n",
       "      <td>1</td>\n",
       "    </tr>\n",
       "    <tr>\n",
       "      <td>1</td>\n",
       "      <td>3946</td>\n",
       "      <td>236</td>\n",
       "      <td>1</td>\n",
       "    </tr>\n",
       "    <tr>\n",
       "      <td>2</td>\n",
       "      <td>1399</td>\n",
       "      <td>113</td>\n",
       "      <td>1</td>\n",
       "    </tr>\n",
       "    <tr>\n",
       "      <td>3</td>\n",
       "      <td>3078</td>\n",
       "      <td>1586</td>\n",
       "      <td>1</td>\n",
       "    </tr>\n",
       "    <tr>\n",
       "      <td>4</td>\n",
       "      <td>8244</td>\n",
       "      <td>806</td>\n",
       "      <td>1</td>\n",
       "    </tr>\n",
       "    <tr>\n",
       "      <td>...</td>\n",
       "      <td>...</td>\n",
       "      <td>...</td>\n",
       "      <td>...</td>\n",
       "    </tr>\n",
       "    <tr>\n",
       "      <td>753540</td>\n",
       "      <td>3299</td>\n",
       "      <td>795</td>\n",
       "      <td>1</td>\n",
       "    </tr>\n",
       "    <tr>\n",
       "      <td>753541</td>\n",
       "      <td>4805</td>\n",
       "      <td>3723</td>\n",
       "      <td>1</td>\n",
       "    </tr>\n",
       "    <tr>\n",
       "      <td>753542</td>\n",
       "      <td>8255</td>\n",
       "      <td>94</td>\n",
       "      <td>1</td>\n",
       "    </tr>\n",
       "    <tr>\n",
       "      <td>753543</td>\n",
       "      <td>5854</td>\n",
       "      <td>1077</td>\n",
       "      <td>1</td>\n",
       "    </tr>\n",
       "    <tr>\n",
       "      <td>753544</td>\n",
       "      <td>216</td>\n",
       "      <td>1683</td>\n",
       "      <td>1</td>\n",
       "    </tr>\n",
       "  </tbody>\n",
       "</table>\n",
       "<p>753545 rows × 3 columns</p>\n",
       "</div>"
      ],
      "text/plain": [
       "        UserId  MovieId  Interaction\n",
       "0         4356     1027            1\n",
       "1         3946      236            1\n",
       "2         1399      113            1\n",
       "3         3078     1586            1\n",
       "4         8244      806            1\n",
       "...        ...      ...          ...\n",
       "753540    3299      795            1\n",
       "753541    4805     3723            1\n",
       "753542    8255       94            1\n",
       "753543    5854     1077            1\n",
       "753544     216     1683            1\n",
       "\n",
       "[753545 rows x 3 columns]"
      ]
     },
     "execution_count": 4,
     "metadata": {},
     "output_type": "execute_result"
    }
   ],
   "source": [
    "#Reading Qualified BinaryInteraction InteractedOnly training data from pkl file\n",
    "trainingDf = pd.read_pickle(\"../Data/pkl/1M/Qualified/BinaryInteraction/InteractedOnly/Training.pkl\")\n",
    "trainingDf"
   ]
  },
  {
   "cell_type": "code",
   "execution_count": 5,
   "metadata": {},
   "outputs": [
    {
     "data": {
      "text/plain": [
       "array([4356, 3946, 1399, ..., 8255, 5854,  216])"
      ]
     },
     "execution_count": 5,
     "metadata": {},
     "output_type": "execute_result"
    }
   ],
   "source": [
    "#creating a user array for training input \n",
    "trainingUser = trainingDf[['UserId']].values.astype(np.int32)\n",
    "trainingUser = trainingUser.reshape((trainingUser.shape[0]))\n",
    "trainingUser"
   ]
  },
  {
   "cell_type": "code",
   "execution_count": 6,
   "metadata": {},
   "outputs": [
    {
     "data": {
      "text/plain": [
       "array([1027,  236,  113, ...,   94, 1077, 1683])"
      ]
     },
     "execution_count": 6,
     "metadata": {},
     "output_type": "execute_result"
    }
   ],
   "source": [
    "#creating a movie array for training input \n",
    "trainingMovie = trainingDf[['MovieId']].values.astype(np.int32)\n",
    "trainingMovie = trainingMovie.reshape((trainingMovie.shape[0]))\n",
    "trainingMovie"
   ]
  },
  {
   "cell_type": "code",
   "execution_count": 7,
   "metadata": {},
   "outputs": [
    {
     "data": {
      "text/plain": [
       "[array([4356, 3946, 1399, ..., 8255, 5854,  216]),\n",
       " array([1027,  236,  113, ...,   94, 1077, 1683])]"
      ]
     },
     "execution_count": 7,
     "metadata": {},
     "output_type": "execute_result"
    }
   ],
   "source": [
    "#creating an array for training input \n",
    "trainingX = [trainingUser, trainingMovie]\n",
    "trainingX"
   ]
  },
  {
   "cell_type": "code",
   "execution_count": 8,
   "metadata": {},
   "outputs": [
    {
     "data": {
      "text/plain": [
       "array([1, 1, 1, ..., 1, 1, 1], dtype=int8)"
      ]
     },
     "execution_count": 8,
     "metadata": {},
     "output_type": "execute_result"
    }
   ],
   "source": [
    "#creating an array for training output \n",
    "trainingY = trainingDf[['Interaction']].values.astype(np.int8)\n",
    "trainingY = trainingY.reshape((trainingY.shape[0]))\n",
    "trainingY"
   ]
  },
  {
   "cell_type": "code",
   "execution_count": 9,
   "metadata": {
    "scrolled": true
   },
   "outputs": [
    {
     "data": {
      "text/html": [
       "<div>\n",
       "<style scoped>\n",
       "    .dataframe tbody tr th:only-of-type {\n",
       "        vertical-align: middle;\n",
       "    }\n",
       "\n",
       "    .dataframe tbody tr th {\n",
       "        vertical-align: top;\n",
       "    }\n",
       "\n",
       "    .dataframe thead th {\n",
       "        text-align: right;\n",
       "    }\n",
       "</style>\n",
       "<table border=\"1\" class=\"dataframe\">\n",
       "  <thead>\n",
       "    <tr style=\"text-align: right;\">\n",
       "      <th></th>\n",
       "      <th>UserId</th>\n",
       "      <th>MovieId</th>\n",
       "      <th>Interaction</th>\n",
       "    </tr>\n",
       "  </thead>\n",
       "  <tbody>\n",
       "    <tr>\n",
       "      <td>0</td>\n",
       "      <td>7693</td>\n",
       "      <td>399</td>\n",
       "      <td>1</td>\n",
       "    </tr>\n",
       "    <tr>\n",
       "      <td>1</td>\n",
       "      <td>9590</td>\n",
       "      <td>1096</td>\n",
       "      <td>1</td>\n",
       "    </tr>\n",
       "    <tr>\n",
       "      <td>2</td>\n",
       "      <td>8546</td>\n",
       "      <td>285</td>\n",
       "      <td>1</td>\n",
       "    </tr>\n",
       "    <tr>\n",
       "      <td>3</td>\n",
       "      <td>9622</td>\n",
       "      <td>588</td>\n",
       "      <td>1</td>\n",
       "    </tr>\n",
       "    <tr>\n",
       "      <td>4</td>\n",
       "      <td>3870</td>\n",
       "      <td>1342</td>\n",
       "      <td>1</td>\n",
       "    </tr>\n",
       "    <tr>\n",
       "      <td>...</td>\n",
       "      <td>...</td>\n",
       "      <td>...</td>\n",
       "      <td>...</td>\n",
       "    </tr>\n",
       "    <tr>\n",
       "      <td>123669</td>\n",
       "      <td>8317</td>\n",
       "      <td>517</td>\n",
       "      <td>1</td>\n",
       "    </tr>\n",
       "    <tr>\n",
       "      <td>123670</td>\n",
       "      <td>2133</td>\n",
       "      <td>25</td>\n",
       "      <td>1</td>\n",
       "    </tr>\n",
       "    <tr>\n",
       "      <td>123671</td>\n",
       "      <td>8927</td>\n",
       "      <td>694</td>\n",
       "      <td>1</td>\n",
       "    </tr>\n",
       "    <tr>\n",
       "      <td>123672</td>\n",
       "      <td>9450</td>\n",
       "      <td>88</td>\n",
       "      <td>1</td>\n",
       "    </tr>\n",
       "    <tr>\n",
       "      <td>123673</td>\n",
       "      <td>2806</td>\n",
       "      <td>61</td>\n",
       "      <td>1</td>\n",
       "    </tr>\n",
       "  </tbody>\n",
       "</table>\n",
       "<p>123674 rows × 3 columns</p>\n",
       "</div>"
      ],
      "text/plain": [
       "        UserId  MovieId  Interaction\n",
       "0         7693      399            1\n",
       "1         9590     1096            1\n",
       "2         8546      285            1\n",
       "3         9622      588            1\n",
       "4         3870     1342            1\n",
       "...        ...      ...          ...\n",
       "123669    8317      517            1\n",
       "123670    2133       25            1\n",
       "123671    8927      694            1\n",
       "123672    9450       88            1\n",
       "123673    2806       61            1\n",
       "\n",
       "[123674 rows x 3 columns]"
      ]
     },
     "execution_count": 9,
     "metadata": {},
     "output_type": "execute_result"
    }
   ],
   "source": [
    "#Reading Qualified BinaryInteraction InteractedOnly validation data from pkl file\n",
    "validationDf = pd.read_pickle(\"../Data/pkl/1M/Qualified/BinaryInteraction/InteractedOnly/Validation.pkl\")\n",
    "validationDf"
   ]
  },
  {
   "cell_type": "code",
   "execution_count": 10,
   "metadata": {},
   "outputs": [
    {
     "data": {
      "text/plain": [
       "array([7693, 9590, 8546, ..., 8927, 9450, 2806])"
      ]
     },
     "execution_count": 10,
     "metadata": {},
     "output_type": "execute_result"
    }
   ],
   "source": [
    "#creating a user array for validation input \n",
    "validationUser = validationDf[['UserId']].values.astype(np.int32)\n",
    "validationUser = validationUser.reshape((validationUser.shape[0]))\n",
    "validationUser"
   ]
  },
  {
   "cell_type": "code",
   "execution_count": 11,
   "metadata": {},
   "outputs": [
    {
     "data": {
      "text/plain": [
       "array([ 399, 1096,  285, ...,  694,   88,   61])"
      ]
     },
     "execution_count": 11,
     "metadata": {},
     "output_type": "execute_result"
    }
   ],
   "source": [
    "#creating a movie array for validation input \n",
    "validationMovie = validationDf[['MovieId']].values.astype(np.int32)\n",
    "validationMovie = validationMovie.reshape((validationMovie.shape[0]))\n",
    "validationMovie"
   ]
  },
  {
   "cell_type": "code",
   "execution_count": 12,
   "metadata": {},
   "outputs": [
    {
     "data": {
      "text/plain": [
       "[array([7693, 9590, 8546, ..., 8927, 9450, 2806]),\n",
       " array([ 399, 1096,  285, ...,  694,   88,   61])]"
      ]
     },
     "execution_count": 12,
     "metadata": {},
     "output_type": "execute_result"
    }
   ],
   "source": [
    "#creating an array for validation input \n",
    "validationX = [validationUser, validationMovie]\n",
    "validationX"
   ]
  },
  {
   "cell_type": "code",
   "execution_count": 13,
   "metadata": {},
   "outputs": [
    {
     "data": {
      "text/plain": [
       "array([1, 1, 1, ..., 1, 1, 1], dtype=int8)"
      ]
     },
     "execution_count": 13,
     "metadata": {},
     "output_type": "execute_result"
    }
   ],
   "source": [
    "#creating an array for validation output \n",
    "validationY = validationDf[['Interaction']].values.astype(np.int8)\n",
    "validationY = validationY.reshape((validationY.shape[0]))\n",
    "validationY"
   ]
  },
  {
   "cell_type": "code",
   "execution_count": 14,
   "metadata": {},
   "outputs": [
    {
     "data": {
      "text/html": [
       "<div>\n",
       "<style scoped>\n",
       "    .dataframe tbody tr th:only-of-type {\n",
       "        vertical-align: middle;\n",
       "    }\n",
       "\n",
       "    .dataframe tbody tr th {\n",
       "        vertical-align: top;\n",
       "    }\n",
       "\n",
       "    .dataframe thead th {\n",
       "        text-align: right;\n",
       "    }\n",
       "</style>\n",
       "<table border=\"1\" class=\"dataframe\">\n",
       "  <thead>\n",
       "    <tr style=\"text-align: right;\">\n",
       "      <th></th>\n",
       "      <th>UserId</th>\n",
       "      <th>MovieId</th>\n",
       "      <th>Interaction</th>\n",
       "    </tr>\n",
       "  </thead>\n",
       "  <tbody>\n",
       "    <tr>\n",
       "      <td>0</td>\n",
       "      <td>6731</td>\n",
       "      <td>149</td>\n",
       "      <td>1</td>\n",
       "    </tr>\n",
       "    <tr>\n",
       "      <td>1</td>\n",
       "      <td>3630</td>\n",
       "      <td>626</td>\n",
       "      <td>1</td>\n",
       "    </tr>\n",
       "    <tr>\n",
       "      <td>2</td>\n",
       "      <td>205</td>\n",
       "      <td>387</td>\n",
       "      <td>1</td>\n",
       "    </tr>\n",
       "    <tr>\n",
       "      <td>3</td>\n",
       "      <td>6673</td>\n",
       "      <td>2122</td>\n",
       "      <td>1</td>\n",
       "    </tr>\n",
       "    <tr>\n",
       "      <td>4</td>\n",
       "      <td>9225</td>\n",
       "      <td>3848</td>\n",
       "      <td>1</td>\n",
       "    </tr>\n",
       "    <tr>\n",
       "      <td>...</td>\n",
       "      <td>...</td>\n",
       "      <td>...</td>\n",
       "      <td>...</td>\n",
       "    </tr>\n",
       "    <tr>\n",
       "      <td>123669</td>\n",
       "      <td>8043</td>\n",
       "      <td>446</td>\n",
       "      <td>1</td>\n",
       "    </tr>\n",
       "    <tr>\n",
       "      <td>123670</td>\n",
       "      <td>2928</td>\n",
       "      <td>3526</td>\n",
       "      <td>1</td>\n",
       "    </tr>\n",
       "    <tr>\n",
       "      <td>123671</td>\n",
       "      <td>7986</td>\n",
       "      <td>1796</td>\n",
       "      <td>1</td>\n",
       "    </tr>\n",
       "    <tr>\n",
       "      <td>123672</td>\n",
       "      <td>2024</td>\n",
       "      <td>2730</td>\n",
       "      <td>1</td>\n",
       "    </tr>\n",
       "    <tr>\n",
       "      <td>123673</td>\n",
       "      <td>3251</td>\n",
       "      <td>1782</td>\n",
       "      <td>1</td>\n",
       "    </tr>\n",
       "  </tbody>\n",
       "</table>\n",
       "<p>123674 rows × 3 columns</p>\n",
       "</div>"
      ],
      "text/plain": [
       "        UserId  MovieId  Interaction\n",
       "0         6731      149            1\n",
       "1         3630      626            1\n",
       "2          205      387            1\n",
       "3         6673     2122            1\n",
       "4         9225     3848            1\n",
       "...        ...      ...          ...\n",
       "123669    8043      446            1\n",
       "123670    2928     3526            1\n",
       "123671    7986     1796            1\n",
       "123672    2024     2730            1\n",
       "123673    3251     1782            1\n",
       "\n",
       "[123674 rows x 3 columns]"
      ]
     },
     "execution_count": 14,
     "metadata": {},
     "output_type": "execute_result"
    }
   ],
   "source": [
    "#Reading Qualified BinaryInteraction InteractedOnly test data from pkl file\n",
    "testDf = pd.read_pickle(\"../Data/pkl/1M/Qualified/BinaryInteraction/InteractedOnly/Test.pkl\")\n",
    "testDf"
   ]
  },
  {
   "cell_type": "code",
   "execution_count": 15,
   "metadata": {},
   "outputs": [
    {
     "data": {
      "text/plain": [
       "array([6731, 3630,  205, ..., 7986, 2024, 3251])"
      ]
     },
     "execution_count": 15,
     "metadata": {},
     "output_type": "execute_result"
    }
   ],
   "source": [
    "#creating a user array for test input \n",
    "testUser = testDf[['UserId']].values.astype(np.int32)\n",
    "testUser = testUser.reshape((testUser.shape[0]))\n",
    "testUser"
   ]
  },
  {
   "cell_type": "code",
   "execution_count": 16,
   "metadata": {},
   "outputs": [
    {
     "data": {
      "text/plain": [
       "array([ 149,  626,  387, ..., 1796, 2730, 1782])"
      ]
     },
     "execution_count": 16,
     "metadata": {},
     "output_type": "execute_result"
    }
   ],
   "source": [
    "#creating a movie array for test input \n",
    "testMovie = testDf[['MovieId']].values.astype(np.int32)\n",
    "testMovie = testMovie.reshape((testMovie.shape[0]))\n",
    "testMovie"
   ]
  },
  {
   "cell_type": "code",
   "execution_count": 17,
   "metadata": {},
   "outputs": [
    {
     "data": {
      "text/plain": [
       "[array([6731, 3630,  205, ..., 7986, 2024, 3251]),\n",
       " array([ 149,  626,  387, ..., 1796, 2730, 1782])]"
      ]
     },
     "execution_count": 17,
     "metadata": {},
     "output_type": "execute_result"
    }
   ],
   "source": [
    "#creating an array for test input \n",
    "testX = [testUser, testMovie]\n",
    "testX"
   ]
  },
  {
   "cell_type": "code",
   "execution_count": 18,
   "metadata": {},
   "outputs": [
    {
     "data": {
      "text/plain": [
       "array([1, 1, 1, ..., 1, 1, 1], dtype=int8)"
      ]
     },
     "execution_count": 18,
     "metadata": {},
     "output_type": "execute_result"
    }
   ],
   "source": [
    "#creating an array for test output \n",
    "testY = testDf[['Interaction']].values.astype(np.int8)\n",
    "testY = testY.reshape((testY.shape[0]))\n",
    "testY"
   ]
  },
  {
   "cell_type": "code",
   "execution_count": 19,
   "metadata": {},
   "outputs": [],
   "source": [
    "#ignore warnings due to Converting sparse IndexedSlices to a dense Tensor of unknown shape warning\n",
    "warnings.filterwarnings('ignore')\n",
    "\n",
    "#Best Model For BinaryInteraction InteractedOnly dataset loading from h5 file\n",
    "#See Training1 notebook for more information\n",
    "model = tf.keras.models.load_model(\"../Model/InteractedOnlyModel/Model3.h5\")"
   ]
  },
  {
   "cell_type": "code",
   "execution_count": 20,
   "metadata": {},
   "outputs": [],
   "source": [
    "#Best Model evaluating with training values\n",
    "with tf.device('/GPU:0'):\n",
    "    trainingResult = model.evaluate(x = trainingX, y = trainingY, batch_size = 64, verbose = 0)"
   ]
  },
  {
   "cell_type": "code",
   "execution_count": 21,
   "metadata": {},
   "outputs": [
    {
     "data": {
      "text/plain": [
       "[1.0802068698471309e-06, 753545.0, 0.0, 0.0, 0.0, 1.0]"
      ]
     },
     "execution_count": 21,
     "metadata": {},
     "output_type": "execute_result"
    }
   ],
   "source": [
    "#Print trainingResult\n",
    "trainingResult"
   ]
  },
  {
   "cell_type": "code",
   "execution_count": 22,
   "metadata": {},
   "outputs": [],
   "source": [
    "#Best Model evaluating with validation values\n",
    "with tf.device('/GPU:0'):\n",
    "    validationResult = model.evaluate(x = validationX, y = validationY, batch_size = 64, verbose = 0)"
   ]
  },
  {
   "cell_type": "code",
   "execution_count": 23,
   "metadata": {},
   "outputs": [
    {
     "data": {
      "text/plain": [
       "[1.0800193643569693e-06, 123674.0, 0.0, 0.0, 0.0, 1.0]"
      ]
     },
     "execution_count": 23,
     "metadata": {},
     "output_type": "execute_result"
    }
   ],
   "source": [
    "#Print validationResult\n",
    "validationResult"
   ]
  },
  {
   "cell_type": "code",
   "execution_count": 24,
   "metadata": {},
   "outputs": [],
   "source": [
    "#Best Model evaluating with test values\n",
    "with tf.device('/GPU:0'):\n",
    "    testResult = model.evaluate(x = testX, y = testY, batch_size = 64, verbose = 0)"
   ]
  },
  {
   "cell_type": "code",
   "execution_count": 25,
   "metadata": {},
   "outputs": [
    {
     "data": {
      "text/plain": [
       "[1.0791889657176365e-06, 123674.0, 0.0, 0.0, 0.0, 1.0]"
      ]
     },
     "execution_count": 25,
     "metadata": {},
     "output_type": "execute_result"
    }
   ],
   "source": [
    "#Print testResult\n",
    "testResult"
   ]
  },
  {
   "cell_type": "code",
   "execution_count": 26,
   "metadata": {},
   "outputs": [
    {
     "data": {
      "text/html": [
       "<div>\n",
       "<style scoped>\n",
       "    .dataframe tbody tr th:only-of-type {\n",
       "        vertical-align: middle;\n",
       "    }\n",
       "\n",
       "    .dataframe tbody tr th {\n",
       "        vertical-align: top;\n",
       "    }\n",
       "\n",
       "    .dataframe thead th {\n",
       "        text-align: right;\n",
       "    }\n",
       "</style>\n",
       "<table border=\"1\" class=\"dataframe\">\n",
       "  <thead>\n",
       "    <tr style=\"text-align: right;\">\n",
       "      <th></th>\n",
       "      <th>ModelData</th>\n",
       "      <th>Negative</th>\n",
       "      <th>Positive</th>\n",
       "      <th>Loss</th>\n",
       "      <th>TP</th>\n",
       "      <th>FP</th>\n",
       "      <th>TN</th>\n",
       "      <th>FN</th>\n",
       "      <th>Accuracy</th>\n",
       "    </tr>\n",
       "  </thead>\n",
       "  <tbody>\n",
       "    <tr>\n",
       "      <td>0</td>\n",
       "      <td>Training</td>\n",
       "      <td>0</td>\n",
       "      <td>753545</td>\n",
       "      <td>0.000001</td>\n",
       "      <td>753545</td>\n",
       "      <td>0</td>\n",
       "      <td>0</td>\n",
       "      <td>0</td>\n",
       "      <td>1.0</td>\n",
       "    </tr>\n",
       "    <tr>\n",
       "      <td>1</td>\n",
       "      <td>Validation</td>\n",
       "      <td>0</td>\n",
       "      <td>123674</td>\n",
       "      <td>0.000001</td>\n",
       "      <td>123674</td>\n",
       "      <td>0</td>\n",
       "      <td>0</td>\n",
       "      <td>0</td>\n",
       "      <td>1.0</td>\n",
       "    </tr>\n",
       "    <tr>\n",
       "      <td>2</td>\n",
       "      <td>Test</td>\n",
       "      <td>0</td>\n",
       "      <td>123674</td>\n",
       "      <td>0.000001</td>\n",
       "      <td>123674</td>\n",
       "      <td>0</td>\n",
       "      <td>0</td>\n",
       "      <td>0</td>\n",
       "      <td>1.0</td>\n",
       "    </tr>\n",
       "  </tbody>\n",
       "</table>\n",
       "</div>"
      ],
      "text/plain": [
       "    ModelData  Negative  Positive      Loss      TP  FP  TN  FN  Accuracy\n",
       "0    Training         0    753545  0.000001  753545   0   0   0       1.0\n",
       "1  Validation         0    123674  0.000001  123674   0   0   0       1.0\n",
       "2        Test         0    123674  0.000001  123674   0   0   0       1.0"
      ]
     },
     "execution_count": 26,
     "metadata": {},
     "output_type": "execute_result"
    }
   ],
   "source": [
    "#Creating DataFrame for data and model metrics\n",
    "modelDf = pd.DataFrame(data = {'ModelData': pd.Series(['Training', 'Validation', 'Test'], dtype='str'),\n",
    "                               'Negative' : pd.Series([trainingDf[trainingDf['Interaction'] == 0].shape[0], validationDf[validationDf['Interaction'] == 0].shape[0], testDf[testDf['Interaction'] == 0].shape[0]], dtype='int'),\n",
    "                               'Positive' : pd.Series([trainingDf[trainingDf['Interaction'] == 1].shape[0], validationDf[validationDf['Interaction'] == 1].shape[0], testDf[testDf['Interaction'] == 1].shape[0]], dtype='int'),\n",
    "                               'Loss': pd.Series([trainingResult[0], validationResult[0], testResult[0]], dtype='float'),\n",
    "                               'TP': pd.Series([trainingResult[1], validationResult[1], testResult[1]], dtype='int'),\n",
    "                               'FP': pd.Series([trainingResult[2], validationResult[2], testResult[2]], dtype='int'),\n",
    "                               'TN': pd.Series([trainingResult[3], validationResult[3], testResult[3]], dtype='int'),\n",
    "                               'FN': pd.Series([trainingResult[4], validationResult[4], testResult[4]], dtype='int'),\n",
    "                               'Accuracy': pd.Series([trainingResult[5], validationResult[5], testResult[5]], dtype='float')})\n",
    "modelDf"
   ]
  },
  {
   "cell_type": "code",
   "execution_count": 27,
   "metadata": {},
   "outputs": [],
   "source": [
    "#Saving modeldf and Clearing memory\n",
    "modelDf.to_pickle(\"../PredictData/ModelTable/InteractedOnly.pkl\")\n",
    "del modelDf"
   ]
  },
  {
   "cell_type": "code",
   "execution_count": 28,
   "metadata": {},
   "outputs": [
    {
     "data": {
      "text/plain": [
       "array([[1.],\n",
       "       [1.],\n",
       "       [1.],\n",
       "       ...,\n",
       "       [1.],\n",
       "       [1.],\n",
       "       [1.]], dtype=float32)"
      ]
     },
     "execution_count": 28,
     "metadata": {},
     "output_type": "execute_result"
    }
   ],
   "source": [
    "#Best Model predicting training Interactions\n",
    "with tf.device('/GPU:0'):\n",
    "    predictTraining = model.predict(x = trainingX)\n",
    "predictTraining"
   ]
  },
  {
   "cell_type": "code",
   "execution_count": 29,
   "metadata": {},
   "outputs": [
    {
     "data": {
      "text/html": [
       "<div>\n",
       "<style scoped>\n",
       "    .dataframe tbody tr th:only-of-type {\n",
       "        vertical-align: middle;\n",
       "    }\n",
       "\n",
       "    .dataframe tbody tr th {\n",
       "        vertical-align: top;\n",
       "    }\n",
       "\n",
       "    .dataframe thead th {\n",
       "        text-align: right;\n",
       "    }\n",
       "</style>\n",
       "<table border=\"1\" class=\"dataframe\">\n",
       "  <thead>\n",
       "    <tr style=\"text-align: right;\">\n",
       "      <th></th>\n",
       "      <th>UserId</th>\n",
       "      <th>MovieId</th>\n",
       "      <th>Interaction</th>\n",
       "      <th>InteractionPredict</th>\n",
       "    </tr>\n",
       "  </thead>\n",
       "  <tbody>\n",
       "    <tr>\n",
       "      <td>0</td>\n",
       "      <td>4356</td>\n",
       "      <td>1027</td>\n",
       "      <td>1</td>\n",
       "      <td>1.0</td>\n",
       "    </tr>\n",
       "    <tr>\n",
       "      <td>1</td>\n",
       "      <td>3946</td>\n",
       "      <td>236</td>\n",
       "      <td>1</td>\n",
       "      <td>1.0</td>\n",
       "    </tr>\n",
       "    <tr>\n",
       "      <td>2</td>\n",
       "      <td>1399</td>\n",
       "      <td>113</td>\n",
       "      <td>1</td>\n",
       "      <td>1.0</td>\n",
       "    </tr>\n",
       "    <tr>\n",
       "      <td>3</td>\n",
       "      <td>3078</td>\n",
       "      <td>1586</td>\n",
       "      <td>1</td>\n",
       "      <td>1.0</td>\n",
       "    </tr>\n",
       "    <tr>\n",
       "      <td>4</td>\n",
       "      <td>8244</td>\n",
       "      <td>806</td>\n",
       "      <td>1</td>\n",
       "      <td>1.0</td>\n",
       "    </tr>\n",
       "    <tr>\n",
       "      <td>...</td>\n",
       "      <td>...</td>\n",
       "      <td>...</td>\n",
       "      <td>...</td>\n",
       "      <td>...</td>\n",
       "    </tr>\n",
       "    <tr>\n",
       "      <td>753540</td>\n",
       "      <td>3299</td>\n",
       "      <td>795</td>\n",
       "      <td>1</td>\n",
       "      <td>1.0</td>\n",
       "    </tr>\n",
       "    <tr>\n",
       "      <td>753541</td>\n",
       "      <td>4805</td>\n",
       "      <td>3723</td>\n",
       "      <td>1</td>\n",
       "      <td>1.0</td>\n",
       "    </tr>\n",
       "    <tr>\n",
       "      <td>753542</td>\n",
       "      <td>8255</td>\n",
       "      <td>94</td>\n",
       "      <td>1</td>\n",
       "      <td>1.0</td>\n",
       "    </tr>\n",
       "    <tr>\n",
       "      <td>753543</td>\n",
       "      <td>5854</td>\n",
       "      <td>1077</td>\n",
       "      <td>1</td>\n",
       "      <td>1.0</td>\n",
       "    </tr>\n",
       "    <tr>\n",
       "      <td>753544</td>\n",
       "      <td>216</td>\n",
       "      <td>1683</td>\n",
       "      <td>1</td>\n",
       "      <td>1.0</td>\n",
       "    </tr>\n",
       "  </tbody>\n",
       "</table>\n",
       "<p>753545 rows × 4 columns</p>\n",
       "</div>"
      ],
      "text/plain": [
       "        UserId  MovieId  Interaction  InteractionPredict\n",
       "0         4356     1027            1                 1.0\n",
       "1         3946      236            1                 1.0\n",
       "2         1399      113            1                 1.0\n",
       "3         3078     1586            1                 1.0\n",
       "4         8244      806            1                 1.0\n",
       "...        ...      ...          ...                 ...\n",
       "753540    3299      795            1                 1.0\n",
       "753541    4805     3723            1                 1.0\n",
       "753542    8255       94            1                 1.0\n",
       "753543    5854     1077            1                 1.0\n",
       "753544     216     1683            1                 1.0\n",
       "\n",
       "[753545 rows x 4 columns]"
      ]
     },
     "execution_count": 29,
     "metadata": {},
     "output_type": "execute_result"
    }
   ],
   "source": [
    "#Predicted Interactions appending trainingDf\n",
    "trainingDf['InteractionPredict'] = predictTraining\n",
    "trainingDf"
   ]
  },
  {
   "cell_type": "code",
   "execution_count": 30,
   "metadata": {},
   "outputs": [
    {
     "data": {
      "text/plain": [
       "array([[1.],\n",
       "       [1.],\n",
       "       [1.],\n",
       "       ...,\n",
       "       [1.],\n",
       "       [1.],\n",
       "       [1.]], dtype=float32)"
      ]
     },
     "execution_count": 30,
     "metadata": {},
     "output_type": "execute_result"
    }
   ],
   "source": [
    "#Best Model predicting validation Interactions\n",
    "with tf.device('/GPU:0'):\n",
    "    predictValidation = model.predict(x = validationX)\n",
    "predictValidation"
   ]
  },
  {
   "cell_type": "code",
   "execution_count": 31,
   "metadata": {},
   "outputs": [
    {
     "data": {
      "text/html": [
       "<div>\n",
       "<style scoped>\n",
       "    .dataframe tbody tr th:only-of-type {\n",
       "        vertical-align: middle;\n",
       "    }\n",
       "\n",
       "    .dataframe tbody tr th {\n",
       "        vertical-align: top;\n",
       "    }\n",
       "\n",
       "    .dataframe thead th {\n",
       "        text-align: right;\n",
       "    }\n",
       "</style>\n",
       "<table border=\"1\" class=\"dataframe\">\n",
       "  <thead>\n",
       "    <tr style=\"text-align: right;\">\n",
       "      <th></th>\n",
       "      <th>UserId</th>\n",
       "      <th>MovieId</th>\n",
       "      <th>Interaction</th>\n",
       "      <th>InteractionPredict</th>\n",
       "    </tr>\n",
       "  </thead>\n",
       "  <tbody>\n",
       "    <tr>\n",
       "      <td>0</td>\n",
       "      <td>7693</td>\n",
       "      <td>399</td>\n",
       "      <td>1</td>\n",
       "      <td>1.0</td>\n",
       "    </tr>\n",
       "    <tr>\n",
       "      <td>1</td>\n",
       "      <td>9590</td>\n",
       "      <td>1096</td>\n",
       "      <td>1</td>\n",
       "      <td>1.0</td>\n",
       "    </tr>\n",
       "    <tr>\n",
       "      <td>2</td>\n",
       "      <td>8546</td>\n",
       "      <td>285</td>\n",
       "      <td>1</td>\n",
       "      <td>1.0</td>\n",
       "    </tr>\n",
       "    <tr>\n",
       "      <td>3</td>\n",
       "      <td>9622</td>\n",
       "      <td>588</td>\n",
       "      <td>1</td>\n",
       "      <td>1.0</td>\n",
       "    </tr>\n",
       "    <tr>\n",
       "      <td>4</td>\n",
       "      <td>3870</td>\n",
       "      <td>1342</td>\n",
       "      <td>1</td>\n",
       "      <td>1.0</td>\n",
       "    </tr>\n",
       "    <tr>\n",
       "      <td>...</td>\n",
       "      <td>...</td>\n",
       "      <td>...</td>\n",
       "      <td>...</td>\n",
       "      <td>...</td>\n",
       "    </tr>\n",
       "    <tr>\n",
       "      <td>123669</td>\n",
       "      <td>8317</td>\n",
       "      <td>517</td>\n",
       "      <td>1</td>\n",
       "      <td>1.0</td>\n",
       "    </tr>\n",
       "    <tr>\n",
       "      <td>123670</td>\n",
       "      <td>2133</td>\n",
       "      <td>25</td>\n",
       "      <td>1</td>\n",
       "      <td>1.0</td>\n",
       "    </tr>\n",
       "    <tr>\n",
       "      <td>123671</td>\n",
       "      <td>8927</td>\n",
       "      <td>694</td>\n",
       "      <td>1</td>\n",
       "      <td>1.0</td>\n",
       "    </tr>\n",
       "    <tr>\n",
       "      <td>123672</td>\n",
       "      <td>9450</td>\n",
       "      <td>88</td>\n",
       "      <td>1</td>\n",
       "      <td>1.0</td>\n",
       "    </tr>\n",
       "    <tr>\n",
       "      <td>123673</td>\n",
       "      <td>2806</td>\n",
       "      <td>61</td>\n",
       "      <td>1</td>\n",
       "      <td>1.0</td>\n",
       "    </tr>\n",
       "  </tbody>\n",
       "</table>\n",
       "<p>123674 rows × 4 columns</p>\n",
       "</div>"
      ],
      "text/plain": [
       "        UserId  MovieId  Interaction  InteractionPredict\n",
       "0         7693      399            1                 1.0\n",
       "1         9590     1096            1                 1.0\n",
       "2         8546      285            1                 1.0\n",
       "3         9622      588            1                 1.0\n",
       "4         3870     1342            1                 1.0\n",
       "...        ...      ...          ...                 ...\n",
       "123669    8317      517            1                 1.0\n",
       "123670    2133       25            1                 1.0\n",
       "123671    8927      694            1                 1.0\n",
       "123672    9450       88            1                 1.0\n",
       "123673    2806       61            1                 1.0\n",
       "\n",
       "[123674 rows x 4 columns]"
      ]
     },
     "execution_count": 31,
     "metadata": {},
     "output_type": "execute_result"
    }
   ],
   "source": [
    "#Predicted Interactions appending validaitonDf\n",
    "validationDf['InteractionPredict'] = predictValidation\n",
    "validationDf"
   ]
  },
  {
   "cell_type": "code",
   "execution_count": 32,
   "metadata": {},
   "outputs": [
    {
     "data": {
      "text/plain": [
       "array([[1.],\n",
       "       [1.],\n",
       "       [1.],\n",
       "       ...,\n",
       "       [1.],\n",
       "       [1.],\n",
       "       [1.]], dtype=float32)"
      ]
     },
     "execution_count": 32,
     "metadata": {},
     "output_type": "execute_result"
    }
   ],
   "source": [
    "#Best Model predicting test Interactions\n",
    "with tf.device('/GPU:0'):\n",
    "    predictTest = model.predict(x = testX)\n",
    "predictTest"
   ]
  },
  {
   "cell_type": "code",
   "execution_count": 33,
   "metadata": {},
   "outputs": [
    {
     "data": {
      "text/html": [
       "<div>\n",
       "<style scoped>\n",
       "    .dataframe tbody tr th:only-of-type {\n",
       "        vertical-align: middle;\n",
       "    }\n",
       "\n",
       "    .dataframe tbody tr th {\n",
       "        vertical-align: top;\n",
       "    }\n",
       "\n",
       "    .dataframe thead th {\n",
       "        text-align: right;\n",
       "    }\n",
       "</style>\n",
       "<table border=\"1\" class=\"dataframe\">\n",
       "  <thead>\n",
       "    <tr style=\"text-align: right;\">\n",
       "      <th></th>\n",
       "      <th>UserId</th>\n",
       "      <th>MovieId</th>\n",
       "      <th>Interaction</th>\n",
       "      <th>InteractionPredict</th>\n",
       "    </tr>\n",
       "  </thead>\n",
       "  <tbody>\n",
       "    <tr>\n",
       "      <td>0</td>\n",
       "      <td>6731</td>\n",
       "      <td>149</td>\n",
       "      <td>1</td>\n",
       "      <td>1.0</td>\n",
       "    </tr>\n",
       "    <tr>\n",
       "      <td>1</td>\n",
       "      <td>3630</td>\n",
       "      <td>626</td>\n",
       "      <td>1</td>\n",
       "      <td>1.0</td>\n",
       "    </tr>\n",
       "    <tr>\n",
       "      <td>2</td>\n",
       "      <td>205</td>\n",
       "      <td>387</td>\n",
       "      <td>1</td>\n",
       "      <td>1.0</td>\n",
       "    </tr>\n",
       "    <tr>\n",
       "      <td>3</td>\n",
       "      <td>6673</td>\n",
       "      <td>2122</td>\n",
       "      <td>1</td>\n",
       "      <td>1.0</td>\n",
       "    </tr>\n",
       "    <tr>\n",
       "      <td>4</td>\n",
       "      <td>9225</td>\n",
       "      <td>3848</td>\n",
       "      <td>1</td>\n",
       "      <td>1.0</td>\n",
       "    </tr>\n",
       "    <tr>\n",
       "      <td>...</td>\n",
       "      <td>...</td>\n",
       "      <td>...</td>\n",
       "      <td>...</td>\n",
       "      <td>...</td>\n",
       "    </tr>\n",
       "    <tr>\n",
       "      <td>123669</td>\n",
       "      <td>8043</td>\n",
       "      <td>446</td>\n",
       "      <td>1</td>\n",
       "      <td>1.0</td>\n",
       "    </tr>\n",
       "    <tr>\n",
       "      <td>123670</td>\n",
       "      <td>2928</td>\n",
       "      <td>3526</td>\n",
       "      <td>1</td>\n",
       "      <td>1.0</td>\n",
       "    </tr>\n",
       "    <tr>\n",
       "      <td>123671</td>\n",
       "      <td>7986</td>\n",
       "      <td>1796</td>\n",
       "      <td>1</td>\n",
       "      <td>1.0</td>\n",
       "    </tr>\n",
       "    <tr>\n",
       "      <td>123672</td>\n",
       "      <td>2024</td>\n",
       "      <td>2730</td>\n",
       "      <td>1</td>\n",
       "      <td>1.0</td>\n",
       "    </tr>\n",
       "    <tr>\n",
       "      <td>123673</td>\n",
       "      <td>3251</td>\n",
       "      <td>1782</td>\n",
       "      <td>1</td>\n",
       "      <td>1.0</td>\n",
       "    </tr>\n",
       "  </tbody>\n",
       "</table>\n",
       "<p>123674 rows × 4 columns</p>\n",
       "</div>"
      ],
      "text/plain": [
       "        UserId  MovieId  Interaction  InteractionPredict\n",
       "0         6731      149            1                 1.0\n",
       "1         3630      626            1                 1.0\n",
       "2          205      387            1                 1.0\n",
       "3         6673     2122            1                 1.0\n",
       "4         9225     3848            1                 1.0\n",
       "...        ...      ...          ...                 ...\n",
       "123669    8043      446            1                 1.0\n",
       "123670    2928     3526            1                 1.0\n",
       "123671    7986     1796            1                 1.0\n",
       "123672    2024     2730            1                 1.0\n",
       "123673    3251     1782            1                 1.0\n",
       "\n",
       "[123674 rows x 4 columns]"
      ]
     },
     "execution_count": 33,
     "metadata": {},
     "output_type": "execute_result"
    }
   ],
   "source": [
    "#Predicted Interactions appending testDf\n",
    "testDf['InteractionPredict'] = predictTest\n",
    "testDf"
   ]
  },
  {
   "cell_type": "code",
   "execution_count": 34,
   "metadata": {},
   "outputs": [
    {
     "data": {
      "text/html": [
       "<div>\n",
       "<style scoped>\n",
       "    .dataframe tbody tr th:only-of-type {\n",
       "        vertical-align: middle;\n",
       "    }\n",
       "\n",
       "    .dataframe tbody tr th {\n",
       "        vertical-align: top;\n",
       "    }\n",
       "\n",
       "    .dataframe thead th {\n",
       "        text-align: right;\n",
       "    }\n",
       "</style>\n",
       "<table border=\"1\" class=\"dataframe\">\n",
       "  <thead>\n",
       "    <tr style=\"text-align: right;\">\n",
       "      <th></th>\n",
       "      <th>UserId</th>\n",
       "      <th>MovieId</th>\n",
       "      <th>Interaction</th>\n",
       "      <th>InteractionPredict</th>\n",
       "    </tr>\n",
       "  </thead>\n",
       "  <tbody>\n",
       "    <tr>\n",
       "      <td>0</td>\n",
       "      <td>4356</td>\n",
       "      <td>1027</td>\n",
       "      <td>1</td>\n",
       "      <td>1.0</td>\n",
       "    </tr>\n",
       "    <tr>\n",
       "      <td>1</td>\n",
       "      <td>3946</td>\n",
       "      <td>236</td>\n",
       "      <td>1</td>\n",
       "      <td>1.0</td>\n",
       "    </tr>\n",
       "    <tr>\n",
       "      <td>2</td>\n",
       "      <td>1399</td>\n",
       "      <td>113</td>\n",
       "      <td>1</td>\n",
       "      <td>1.0</td>\n",
       "    </tr>\n",
       "    <tr>\n",
       "      <td>3</td>\n",
       "      <td>3078</td>\n",
       "      <td>1586</td>\n",
       "      <td>1</td>\n",
       "      <td>1.0</td>\n",
       "    </tr>\n",
       "    <tr>\n",
       "      <td>4</td>\n",
       "      <td>8244</td>\n",
       "      <td>806</td>\n",
       "      <td>1</td>\n",
       "      <td>1.0</td>\n",
       "    </tr>\n",
       "    <tr>\n",
       "      <td>...</td>\n",
       "      <td>...</td>\n",
       "      <td>...</td>\n",
       "      <td>...</td>\n",
       "      <td>...</td>\n",
       "    </tr>\n",
       "    <tr>\n",
       "      <td>1000888</td>\n",
       "      <td>8043</td>\n",
       "      <td>446</td>\n",
       "      <td>1</td>\n",
       "      <td>1.0</td>\n",
       "    </tr>\n",
       "    <tr>\n",
       "      <td>1000889</td>\n",
       "      <td>2928</td>\n",
       "      <td>3526</td>\n",
       "      <td>1</td>\n",
       "      <td>1.0</td>\n",
       "    </tr>\n",
       "    <tr>\n",
       "      <td>1000890</td>\n",
       "      <td>7986</td>\n",
       "      <td>1796</td>\n",
       "      <td>1</td>\n",
       "      <td>1.0</td>\n",
       "    </tr>\n",
       "    <tr>\n",
       "      <td>1000891</td>\n",
       "      <td>2024</td>\n",
       "      <td>2730</td>\n",
       "      <td>1</td>\n",
       "      <td>1.0</td>\n",
       "    </tr>\n",
       "    <tr>\n",
       "      <td>1000892</td>\n",
       "      <td>3251</td>\n",
       "      <td>1782</td>\n",
       "      <td>1</td>\n",
       "      <td>1.0</td>\n",
       "    </tr>\n",
       "  </tbody>\n",
       "</table>\n",
       "<p>1000893 rows × 4 columns</p>\n",
       "</div>"
      ],
      "text/plain": [
       "         UserId  MovieId  Interaction  InteractionPredict\n",
       "0          4356     1027            1                 1.0\n",
       "1          3946      236            1                 1.0\n",
       "2          1399      113            1                 1.0\n",
       "3          3078     1586            1                 1.0\n",
       "4          8244      806            1                 1.0\n",
       "...         ...      ...          ...                 ...\n",
       "1000888    8043      446            1                 1.0\n",
       "1000889    2928     3526            1                 1.0\n",
       "1000890    7986     1796            1                 1.0\n",
       "1000891    2024     2730            1                 1.0\n",
       "1000892    3251     1782            1                 1.0\n",
       "\n",
       "[1000893 rows x 4 columns]"
      ]
     },
     "execution_count": 34,
     "metadata": {},
     "output_type": "execute_result"
    }
   ],
   "source": [
    "#Dataframes merging\n",
    "allDataFrame = pd.concat([trainingDf, validationDf, testDf]).reset_index(drop=True)\n",
    "allDataFrame"
   ]
  },
  {
   "cell_type": "code",
   "execution_count": 35,
   "metadata": {},
   "outputs": [
    {
     "data": {
      "text/html": [
       "<div>\n",
       "<style scoped>\n",
       "    .dataframe tbody tr th:only-of-type {\n",
       "        vertical-align: middle;\n",
       "    }\n",
       "\n",
       "    .dataframe tbody tr th {\n",
       "        vertical-align: top;\n",
       "    }\n",
       "\n",
       "    .dataframe thead th {\n",
       "        text-align: right;\n",
       "    }\n",
       "</style>\n",
       "<table border=\"1\" class=\"dataframe\">\n",
       "  <thead>\n",
       "    <tr style=\"text-align: right;\">\n",
       "      <th></th>\n",
       "      <th>User</th>\n",
       "    </tr>\n",
       "  </thead>\n",
       "  <tbody>\n",
       "    <tr>\n",
       "      <td>0</td>\n",
       "      <td>0</td>\n",
       "    </tr>\n",
       "    <tr>\n",
       "      <td>1</td>\n",
       "      <td>1</td>\n",
       "    </tr>\n",
       "    <tr>\n",
       "      <td>2</td>\n",
       "      <td>2</td>\n",
       "    </tr>\n",
       "    <tr>\n",
       "      <td>3</td>\n",
       "      <td>3</td>\n",
       "    </tr>\n",
       "    <tr>\n",
       "      <td>4</td>\n",
       "      <td>4</td>\n",
       "    </tr>\n",
       "    <tr>\n",
       "      <td>...</td>\n",
       "      <td>...</td>\n",
       "    </tr>\n",
       "    <tr>\n",
       "      <td>10068</td>\n",
       "      <td>10068</td>\n",
       "    </tr>\n",
       "    <tr>\n",
       "      <td>10069</td>\n",
       "      <td>10069</td>\n",
       "    </tr>\n",
       "    <tr>\n",
       "      <td>10070</td>\n",
       "      <td>10070</td>\n",
       "    </tr>\n",
       "    <tr>\n",
       "      <td>10071</td>\n",
       "      <td>10071</td>\n",
       "    </tr>\n",
       "    <tr>\n",
       "      <td>10072</td>\n",
       "      <td>10072</td>\n",
       "    </tr>\n",
       "  </tbody>\n",
       "</table>\n",
       "<p>10073 rows × 1 columns</p>\n",
       "</div>"
      ],
      "text/plain": [
       "        User\n",
       "0          0\n",
       "1          1\n",
       "2          2\n",
       "3          3\n",
       "4          4\n",
       "...      ...\n",
       "10068  10068\n",
       "10069  10069\n",
       "10070  10070\n",
       "10071  10071\n",
       "10072  10072\n",
       "\n",
       "[10073 rows x 1 columns]"
      ]
     },
     "execution_count": 35,
     "metadata": {},
     "output_type": "execute_result"
    }
   ],
   "source": [
    "#Getting all unique UserId from allDataFrame and create new Data Frame from this values\n",
    "#This Data frame will used as lookup table for prediction script\n",
    "userRange = range(allDataFrame['UserId'].unique().shape[0])\n",
    "lookupTable = pd.DataFrame(data = {'User' : userRange})\n",
    "lookupTable"
   ]
  },
  {
   "cell_type": "code",
   "execution_count": 36,
   "metadata": {},
   "outputs": [],
   "source": [
    "#Defined function will be checked if prediction is true\n",
    "#rounding prediction returns closest label (0 or 1)\n",
    "def CorrectPrediction(interaction, prediction):\n",
    "    result = 0\n",
    "    for i in range(len(interaction)):\n",
    "        if interaction[i] == int(np.round(prediction[i])):\n",
    "            result += 1\n",
    "    return result"
   ]
  },
  {
   "cell_type": "code",
   "execution_count": 37,
   "metadata": {},
   "outputs": [
    {
     "data": {
      "text/plain": [
       "array([[  9.,  13.,   6., ...,  29.,  36., 714.],\n",
       "       [  9.,  13.,   6., ...,  29.,  36., 714.],\n",
       "       [  2.,   0.,   4., ...,   3.,   5., 113.],\n",
       "       ...,\n",
       "       [  5.,   2.,   1., ...,   2.,   1., 145.],\n",
       "       [ 16.,  15.,  11., ...,  34.,  42., 972.],\n",
       "       [ 16.,  15.,  11., ...,  34.,  42., 972.]])"
      ]
     },
     "execution_count": 37,
     "metadata": {},
     "output_type": "execute_result"
    }
   ],
   "source": [
    "#Calculations for each user\n",
    "calculations = np.empty(shape = (8, lookupTable.shape[0]))\n",
    "for i in userRange:\n",
    "    \n",
    "    #Training dataframe calculations\n",
    "    queryFrame = trainingDf[trainingDf['UserId'] == i]\n",
    "    calculations[0][i] = queryFrame.shape[0]\n",
    "    calculations[1][i] = CorrectPrediction(queryFrame['Interaction'].values, queryFrame['InteractionPredict'].values)\n",
    "\n",
    "        \n",
    "    #Validaiton dataframe calculations\n",
    "    queryFrame = validationDf[validationDf['UserId'] == i]\n",
    "    calculations[2][i] = queryFrame.shape[0]\n",
    "    calculations[3][i] = CorrectPrediction(queryFrame['Interaction'].values, queryFrame['InteractionPredict'].values)\n",
    "    \n",
    "    #Test dataframe calculations\n",
    "    queryFrame = testDf[testDf['UserId'] == i]\n",
    "    calculations[4][i] = queryFrame.shape[0]\n",
    "    calculations[5][i] = CorrectPrediction(queryFrame['Interaction'].values, queryFrame['InteractionPredict'].values)\n",
    "\n",
    "    \n",
    "    #All dataframe calculations\n",
    "    #Since All dataframe contains training, validation and test dataframes\n",
    "    #All dataframe results can be calculated by simply summing the training, validation and test results\n",
    "    calculations[6][i] = calculations[0][i] + calculations[2][i] + calculations[4][i]\n",
    "    calculations[7][i] = calculations[1][i] + calculations[3][i] + calculations[5][i]\n",
    "\n",
    "\n",
    "#print\n",
    "calculations"
   ]
  },
  {
   "cell_type": "code",
   "execution_count": 38,
   "metadata": {},
   "outputs": [
    {
     "data": {
      "text/html": [
       "<div>\n",
       "<style scoped>\n",
       "    .dataframe tbody tr th:only-of-type {\n",
       "        vertical-align: middle;\n",
       "    }\n",
       "\n",
       "    .dataframe tbody tr th {\n",
       "        vertical-align: top;\n",
       "    }\n",
       "\n",
       "    .dataframe thead th {\n",
       "        text-align: right;\n",
       "    }\n",
       "</style>\n",
       "<table border=\"1\" class=\"dataframe\">\n",
       "  <thead>\n",
       "    <tr style=\"text-align: right;\">\n",
       "      <th></th>\n",
       "      <th>User</th>\n",
       "      <th>TraingingRep</th>\n",
       "      <th>TrainingCorrect</th>\n",
       "      <th>ValidationRep</th>\n",
       "      <th>ValidationCorrect</th>\n",
       "      <th>TestRep</th>\n",
       "      <th>TestCorrect</th>\n",
       "      <th>AllRep</th>\n",
       "      <th>AllCorrect</th>\n",
       "    </tr>\n",
       "  </thead>\n",
       "  <tbody>\n",
       "    <tr>\n",
       "      <td>0</td>\n",
       "      <td>0</td>\n",
       "      <td>9</td>\n",
       "      <td>9</td>\n",
       "      <td>2</td>\n",
       "      <td>2</td>\n",
       "      <td>5</td>\n",
       "      <td>5</td>\n",
       "      <td>16</td>\n",
       "      <td>16</td>\n",
       "    </tr>\n",
       "    <tr>\n",
       "      <td>1</td>\n",
       "      <td>1</td>\n",
       "      <td>13</td>\n",
       "      <td>13</td>\n",
       "      <td>0</td>\n",
       "      <td>0</td>\n",
       "      <td>2</td>\n",
       "      <td>2</td>\n",
       "      <td>15</td>\n",
       "      <td>15</td>\n",
       "    </tr>\n",
       "    <tr>\n",
       "      <td>2</td>\n",
       "      <td>2</td>\n",
       "      <td>6</td>\n",
       "      <td>6</td>\n",
       "      <td>4</td>\n",
       "      <td>4</td>\n",
       "      <td>1</td>\n",
       "      <td>1</td>\n",
       "      <td>11</td>\n",
       "      <td>11</td>\n",
       "    </tr>\n",
       "    <tr>\n",
       "      <td>3</td>\n",
       "      <td>3</td>\n",
       "      <td>538</td>\n",
       "      <td>538</td>\n",
       "      <td>95</td>\n",
       "      <td>95</td>\n",
       "      <td>103</td>\n",
       "      <td>103</td>\n",
       "      <td>736</td>\n",
       "      <td>736</td>\n",
       "    </tr>\n",
       "    <tr>\n",
       "      <td>4</td>\n",
       "      <td>4</td>\n",
       "      <td>53</td>\n",
       "      <td>53</td>\n",
       "      <td>8</td>\n",
       "      <td>8</td>\n",
       "      <td>11</td>\n",
       "      <td>11</td>\n",
       "      <td>72</td>\n",
       "      <td>72</td>\n",
       "    </tr>\n",
       "    <tr>\n",
       "      <td>...</td>\n",
       "      <td>...</td>\n",
       "      <td>...</td>\n",
       "      <td>...</td>\n",
       "      <td>...</td>\n",
       "      <td>...</td>\n",
       "      <td>...</td>\n",
       "      <td>...</td>\n",
       "      <td>...</td>\n",
       "      <td>...</td>\n",
       "    </tr>\n",
       "    <tr>\n",
       "      <td>10068</td>\n",
       "      <td>10068</td>\n",
       "      <td>14</td>\n",
       "      <td>14</td>\n",
       "      <td>2</td>\n",
       "      <td>2</td>\n",
       "      <td>2</td>\n",
       "      <td>2</td>\n",
       "      <td>18</td>\n",
       "      <td>18</td>\n",
       "    </tr>\n",
       "    <tr>\n",
       "      <td>10069</td>\n",
       "      <td>10069</td>\n",
       "      <td>19</td>\n",
       "      <td>19</td>\n",
       "      <td>2</td>\n",
       "      <td>2</td>\n",
       "      <td>3</td>\n",
       "      <td>3</td>\n",
       "      <td>24</td>\n",
       "      <td>24</td>\n",
       "    </tr>\n",
       "    <tr>\n",
       "      <td>10070</td>\n",
       "      <td>10070</td>\n",
       "      <td>29</td>\n",
       "      <td>29</td>\n",
       "      <td>3</td>\n",
       "      <td>3</td>\n",
       "      <td>2</td>\n",
       "      <td>2</td>\n",
       "      <td>34</td>\n",
       "      <td>34</td>\n",
       "    </tr>\n",
       "    <tr>\n",
       "      <td>10071</td>\n",
       "      <td>10071</td>\n",
       "      <td>36</td>\n",
       "      <td>36</td>\n",
       "      <td>5</td>\n",
       "      <td>5</td>\n",
       "      <td>1</td>\n",
       "      <td>1</td>\n",
       "      <td>42</td>\n",
       "      <td>42</td>\n",
       "    </tr>\n",
       "    <tr>\n",
       "      <td>10072</td>\n",
       "      <td>10072</td>\n",
       "      <td>714</td>\n",
       "      <td>714</td>\n",
       "      <td>113</td>\n",
       "      <td>113</td>\n",
       "      <td>145</td>\n",
       "      <td>145</td>\n",
       "      <td>972</td>\n",
       "      <td>972</td>\n",
       "    </tr>\n",
       "  </tbody>\n",
       "</table>\n",
       "<p>10073 rows × 9 columns</p>\n",
       "</div>"
      ],
      "text/plain": [
       "        User  TraingingRep  TrainingCorrect  ValidationRep  ValidationCorrect  \\\n",
       "0          0             9                9              2                  2   \n",
       "1          1            13               13              0                  0   \n",
       "2          2             6                6              4                  4   \n",
       "3          3           538              538             95                 95   \n",
       "4          4            53               53              8                  8   \n",
       "...      ...           ...              ...            ...                ...   \n",
       "10068  10068            14               14              2                  2   \n",
       "10069  10069            19               19              2                  2   \n",
       "10070  10070            29               29              3                  3   \n",
       "10071  10071            36               36              5                  5   \n",
       "10072  10072           714              714            113                113   \n",
       "\n",
       "       TestRep  TestCorrect  AllRep  AllCorrect  \n",
       "0            5            5      16          16  \n",
       "1            2            2      15          15  \n",
       "2            1            1      11          11  \n",
       "3          103          103     736         736  \n",
       "4           11           11      72          72  \n",
       "...        ...          ...     ...         ...  \n",
       "10068        2            2      18          18  \n",
       "10069        3            3      24          24  \n",
       "10070        2            2      34          34  \n",
       "10071        1            1      42          42  \n",
       "10072      145          145     972         972  \n",
       "\n",
       "[10073 rows x 9 columns]"
      ]
     },
     "execution_count": 38,
     "metadata": {},
     "output_type": "execute_result"
    }
   ],
   "source": [
    "#Calculations adding lookup table\n",
    "\n",
    "#Training data representation count\n",
    "lookupTable['TraingingRep'] = calculations[0].astype(np.int32)\n",
    "#Training data Correct Predictions\n",
    "lookupTable['TrainingCorrect'] = calculations[1].astype(np.int32)\n",
    "\n",
    "#Validation data representation count\n",
    "lookupTable['ValidationRep'] = calculations[2].astype(np.int32)\n",
    "#validation data Correct Predictions\n",
    "lookupTable['ValidationCorrect'] = calculations[3].astype(np.int32)\n",
    "\n",
    "#Test data representation count\n",
    "lookupTable['TestRep'] = calculations[4].astype(np.int32)\n",
    "#test data Correct Predictions\n",
    "lookupTable['TestCorrect'] = calculations[5].astype(np.int32)\n",
    "\n",
    "#All data representation count\n",
    "lookupTable['AllRep'] = calculations[6].astype(np.int32)\n",
    "#all data Correct Predictions\n",
    "lookupTable['AllCorrect'] = calculations[7].astype(np.int32)\n",
    "\n",
    "lookupTable"
   ]
  },
  {
   "cell_type": "code",
   "execution_count": 39,
   "metadata": {},
   "outputs": [],
   "source": [
    "#Lookup table save as pkl file\n",
    "lookupTable.to_pickle(\"../PredictData/LookupTable/InteractedOnly.pkl\")\n",
    "del calculations\n",
    "del trainingDf\n",
    "del validationDf\n",
    "del testDf\n",
    "del allDataFrame\n",
    "del lookupTable"
   ]
  }
 ],
 "metadata": {
  "kernelspec": {
   "display_name": "Python 3",
   "language": "python",
   "name": "python3"
  },
  "language_info": {
   "codemirror_mode": {
    "name": "ipython",
    "version": 3
   },
   "file_extension": ".py",
   "mimetype": "text/x-python",
   "name": "python",
   "nbconvert_exporter": "python",
   "pygments_lexer": "ipython3",
   "version": "3.7.4"
  }
 },
 "nbformat": 4,
 "nbformat_minor": 2
}
