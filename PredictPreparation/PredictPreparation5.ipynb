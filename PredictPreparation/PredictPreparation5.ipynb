{
 "cells": [
  {
   "cell_type": "markdown",
   "metadata": {},
   "source": [
    "# CategoricalLike CategorizedOnly Model Prediction Preparation\n",
    "\n",
    "CategoricalLike CategorizedOnly Model Table will be prepared for use in Prediction Notebook\n",
    "\n",
    "This table will be used for supply extra information about recommendation"
   ]
  },
  {
   "cell_type": "code",
   "execution_count": 1,
   "metadata": {},
   "outputs": [],
   "source": [
    "#Importing libraries\n",
    "import numpy as np\n",
    "import pandas as pd\n",
    "import tensorflow as tf\n",
    "import warnings"
   ]
  },
  {
   "cell_type": "code",
   "execution_count": 2,
   "metadata": {},
   "outputs": [
    {
     "name": "stdout",
     "output_type": "stream",
     "text": [
      "numpy Version: 1.16.5\n",
      "pandas Version: 0.25.1\n",
      "tensorflow Version: 2.0.0\n"
     ]
    }
   ],
   "source": [
    "#Printing library versions\n",
    "print('numpy Version: ' + np.__version__)\n",
    "print('pandas Version: ' + pd.__version__)\n",
    "print('tensorflow Version: ' + tf.__version__)"
   ]
  },
  {
   "cell_type": "code",
   "execution_count": 3,
   "metadata": {},
   "outputs": [
    {
     "name": "stdout",
     "output_type": "stream",
     "text": [
      "/device:GPU:0\n"
     ]
    }
   ],
   "source": [
    "#GPU will be used for Prediction and Evaluation\n",
    "myGPU = tf.test.gpu_device_name()\n",
    "if myGPU:\n",
    "    print(myGPU)\n",
    "else:\n",
    "    print(\"Error\")"
   ]
  },
  {
   "cell_type": "code",
   "execution_count": 4,
   "metadata": {
    "scrolled": false
   },
   "outputs": [
    {
     "data": {
      "text/html": [
       "<div>\n",
       "<style scoped>\n",
       "    .dataframe tbody tr th:only-of-type {\n",
       "        vertical-align: middle;\n",
       "    }\n",
       "\n",
       "    .dataframe tbody tr th {\n",
       "        vertical-align: top;\n",
       "    }\n",
       "\n",
       "    .dataframe thead th {\n",
       "        text-align: right;\n",
       "    }\n",
       "</style>\n",
       "<table border=\"1\" class=\"dataframe\">\n",
       "  <thead>\n",
       "    <tr style=\"text-align: right;\">\n",
       "      <th></th>\n",
       "      <th>UserId</th>\n",
       "      <th>MovieId</th>\n",
       "      <th>Category</th>\n",
       "    </tr>\n",
       "  </thead>\n",
       "  <tbody>\n",
       "    <tr>\n",
       "      <td>0</td>\n",
       "      <td>9999</td>\n",
       "      <td>690</td>\n",
       "      <td>1</td>\n",
       "    </tr>\n",
       "    <tr>\n",
       "      <td>1</td>\n",
       "      <td>4532</td>\n",
       "      <td>1007</td>\n",
       "      <td>2</td>\n",
       "    </tr>\n",
       "    <tr>\n",
       "      <td>2</td>\n",
       "      <td>3969</td>\n",
       "      <td>726</td>\n",
       "      <td>2</td>\n",
       "    </tr>\n",
       "    <tr>\n",
       "      <td>3</td>\n",
       "      <td>1271</td>\n",
       "      <td>9157</td>\n",
       "      <td>1</td>\n",
       "    </tr>\n",
       "    <tr>\n",
       "      <td>4</td>\n",
       "      <td>7932</td>\n",
       "      <td>1201</td>\n",
       "      <td>1</td>\n",
       "    </tr>\n",
       "    <tr>\n",
       "      <td>...</td>\n",
       "      <td>...</td>\n",
       "      <td>...</td>\n",
       "      <td>...</td>\n",
       "    </tr>\n",
       "    <tr>\n",
       "      <td>753628</td>\n",
       "      <td>9556</td>\n",
       "      <td>1403</td>\n",
       "      <td>1</td>\n",
       "    </tr>\n",
       "    <tr>\n",
       "      <td>753629</td>\n",
       "      <td>4795</td>\n",
       "      <td>17453</td>\n",
       "      <td>1</td>\n",
       "    </tr>\n",
       "    <tr>\n",
       "      <td>753630</td>\n",
       "      <td>2116</td>\n",
       "      <td>434</td>\n",
       "      <td>1</td>\n",
       "    </tr>\n",
       "    <tr>\n",
       "      <td>753631</td>\n",
       "      <td>1910</td>\n",
       "      <td>4512</td>\n",
       "      <td>1</td>\n",
       "    </tr>\n",
       "    <tr>\n",
       "      <td>753632</td>\n",
       "      <td>6015</td>\n",
       "      <td>110</td>\n",
       "      <td>2</td>\n",
       "    </tr>\n",
       "  </tbody>\n",
       "</table>\n",
       "<p>753633 rows × 3 columns</p>\n",
       "</div>"
      ],
      "text/plain": [
       "        UserId  MovieId  Category\n",
       "0         9999      690         1\n",
       "1         4532     1007         2\n",
       "2         3969      726         2\n",
       "3         1271     9157         1\n",
       "4         7932     1201         1\n",
       "...        ...      ...       ...\n",
       "753628    9556     1403         1\n",
       "753629    4795    17453         1\n",
       "753630    2116      434         1\n",
       "753631    1910     4512         1\n",
       "753632    6015      110         2\n",
       "\n",
       "[753633 rows x 3 columns]"
      ]
     },
     "execution_count": 4,
     "metadata": {},
     "output_type": "execute_result"
    }
   ],
   "source": [
    "#Reading Qualified CategoricalLike CategorizedOnly training data from pkl file\n",
    "trainingDf = pd.read_pickle(\"../Data/pkl/1M/Qualified/CategoricalLike/CategorizedOnly/Training.pkl\")\n",
    "trainingDf"
   ]
  },
  {
   "cell_type": "code",
   "execution_count": 5,
   "metadata": {},
   "outputs": [
    {
     "data": {
      "text/plain": [
       "array([9999, 4532, 3969, ..., 2116, 1910, 6015])"
      ]
     },
     "execution_count": 5,
     "metadata": {},
     "output_type": "execute_result"
    }
   ],
   "source": [
    "#creating a user array for training input \n",
    "trainingUser = trainingDf[['UserId']].values.astype(np.int32)\n",
    "trainingUser = trainingUser.reshape((trainingUser.shape[0]))\n",
    "trainingUser"
   ]
  },
  {
   "cell_type": "code",
   "execution_count": 6,
   "metadata": {},
   "outputs": [
    {
     "data": {
      "text/plain": [
       "array([ 690, 1007,  726, ...,  434, 4512,  110])"
      ]
     },
     "execution_count": 6,
     "metadata": {},
     "output_type": "execute_result"
    }
   ],
   "source": [
    "#creating a movie array for training input \n",
    "trainingMovie = trainingDf[['MovieId']].values.astype(np.int32)\n",
    "trainingMovie = trainingMovie.reshape((trainingMovie.shape[0]))\n",
    "trainingMovie"
   ]
  },
  {
   "cell_type": "code",
   "execution_count": 7,
   "metadata": {},
   "outputs": [
    {
     "data": {
      "text/plain": [
       "[array([9999, 4532, 3969, ..., 2116, 1910, 6015]),\n",
       " array([ 690, 1007,  726, ...,  434, 4512,  110])]"
      ]
     },
     "execution_count": 7,
     "metadata": {},
     "output_type": "execute_result"
    }
   ],
   "source": [
    "#creating an array for training input \n",
    "trainingX = [trainingUser, trainingMovie]\n",
    "trainingX"
   ]
  },
  {
   "cell_type": "code",
   "execution_count": 8,
   "metadata": {},
   "outputs": [
    {
     "data": {
      "text/plain": [
       "array([[0, 1, 0],\n",
       "       [0, 0, 1],\n",
       "       [0, 0, 1],\n",
       "       ...,\n",
       "       [0, 1, 0],\n",
       "       [0, 1, 0],\n",
       "       [0, 0, 1]], dtype=int8)"
      ]
     },
     "execution_count": 8,
     "metadata": {},
     "output_type": "execute_result"
    }
   ],
   "source": [
    "#Output is converted to One-Hot Encoding and creating an array for training output \n",
    "trainingY = []\n",
    "for i in trainingDf[['Category']].values:\n",
    "    current = np.zeros(3)\n",
    "    current[i] = 1\n",
    "    trainingY.append(current)\n",
    "trainingY = np.array(trainingY).astype(np.int8)\n",
    "trainingY"
   ]
  },
  {
   "cell_type": "code",
   "execution_count": 9,
   "metadata": {
    "scrolled": true
   },
   "outputs": [
    {
     "data": {
      "text/html": [
       "<div>\n",
       "<style scoped>\n",
       "    .dataframe tbody tr th:only-of-type {\n",
       "        vertical-align: middle;\n",
       "    }\n",
       "\n",
       "    .dataframe tbody tr th {\n",
       "        vertical-align: top;\n",
       "    }\n",
       "\n",
       "    .dataframe thead th {\n",
       "        text-align: right;\n",
       "    }\n",
       "</style>\n",
       "<table border=\"1\" class=\"dataframe\">\n",
       "  <thead>\n",
       "    <tr style=\"text-align: right;\">\n",
       "      <th></th>\n",
       "      <th>UserId</th>\n",
       "      <th>MovieId</th>\n",
       "      <th>Category</th>\n",
       "    </tr>\n",
       "  </thead>\n",
       "  <tbody>\n",
       "    <tr>\n",
       "      <td>0</td>\n",
       "      <td>238</td>\n",
       "      <td>315</td>\n",
       "      <td>1</td>\n",
       "    </tr>\n",
       "    <tr>\n",
       "      <td>1</td>\n",
       "      <td>2311</td>\n",
       "      <td>933</td>\n",
       "      <td>1</td>\n",
       "    </tr>\n",
       "    <tr>\n",
       "      <td>2</td>\n",
       "      <td>9877</td>\n",
       "      <td>866</td>\n",
       "      <td>2</td>\n",
       "    </tr>\n",
       "    <tr>\n",
       "      <td>3</td>\n",
       "      <td>234</td>\n",
       "      <td>424</td>\n",
       "      <td>2</td>\n",
       "    </tr>\n",
       "    <tr>\n",
       "      <td>4</td>\n",
       "      <td>8066</td>\n",
       "      <td>1669</td>\n",
       "      <td>2</td>\n",
       "    </tr>\n",
       "    <tr>\n",
       "      <td>...</td>\n",
       "      <td>...</td>\n",
       "      <td>...</td>\n",
       "      <td>...</td>\n",
       "    </tr>\n",
       "    <tr>\n",
       "      <td>123625</td>\n",
       "      <td>2038</td>\n",
       "      <td>280</td>\n",
       "      <td>1</td>\n",
       "    </tr>\n",
       "    <tr>\n",
       "      <td>123626</td>\n",
       "      <td>8717</td>\n",
       "      <td>154</td>\n",
       "      <td>2</td>\n",
       "    </tr>\n",
       "    <tr>\n",
       "      <td>123627</td>\n",
       "      <td>7348</td>\n",
       "      <td>1068</td>\n",
       "      <td>1</td>\n",
       "    </tr>\n",
       "    <tr>\n",
       "      <td>123628</td>\n",
       "      <td>1932</td>\n",
       "      <td>12061</td>\n",
       "      <td>1</td>\n",
       "    </tr>\n",
       "    <tr>\n",
       "      <td>123629</td>\n",
       "      <td>7604</td>\n",
       "      <td>303</td>\n",
       "      <td>1</td>\n",
       "    </tr>\n",
       "  </tbody>\n",
       "</table>\n",
       "<p>123630 rows × 3 columns</p>\n",
       "</div>"
      ],
      "text/plain": [
       "        UserId  MovieId  Category\n",
       "0          238      315         1\n",
       "1         2311      933         1\n",
       "2         9877      866         2\n",
       "3          234      424         2\n",
       "4         8066     1669         2\n",
       "...        ...      ...       ...\n",
       "123625    2038      280         1\n",
       "123626    8717      154         2\n",
       "123627    7348     1068         1\n",
       "123628    1932    12061         1\n",
       "123629    7604      303         1\n",
       "\n",
       "[123630 rows x 3 columns]"
      ]
     },
     "execution_count": 9,
     "metadata": {},
     "output_type": "execute_result"
    }
   ],
   "source": [
    "#Reading Qualified CategoricalLike CategorizedOnly validation data from pkl file\n",
    "validationDf = pd.read_pickle(\"../Data/pkl/1M/Qualified/CategoricalLike/CategorizedOnly/Validation.pkl\")\n",
    "validationDf"
   ]
  },
  {
   "cell_type": "code",
   "execution_count": 10,
   "metadata": {},
   "outputs": [
    {
     "data": {
      "text/plain": [
       "array([ 238, 2311, 9877, ..., 7348, 1932, 7604])"
      ]
     },
     "execution_count": 10,
     "metadata": {},
     "output_type": "execute_result"
    }
   ],
   "source": [
    "#creating a user array for validation input \n",
    "validationUser = validationDf[['UserId']].values.astype(np.int32)\n",
    "validationUser = validationUser.reshape((validationUser.shape[0]))\n",
    "validationUser"
   ]
  },
  {
   "cell_type": "code",
   "execution_count": 11,
   "metadata": {},
   "outputs": [
    {
     "data": {
      "text/plain": [
       "array([  315,   933,   866, ...,  1068, 12061,   303])"
      ]
     },
     "execution_count": 11,
     "metadata": {},
     "output_type": "execute_result"
    }
   ],
   "source": [
    "#creating a movie array for validation input \n",
    "validationMovie = validationDf[['MovieId']].values.astype(np.int32)\n",
    "validationMovie = validationMovie.reshape((validationMovie.shape[0]))\n",
    "validationMovie"
   ]
  },
  {
   "cell_type": "code",
   "execution_count": 12,
   "metadata": {},
   "outputs": [
    {
     "data": {
      "text/plain": [
       "[array([ 238, 2311, 9877, ..., 7348, 1932, 7604]),\n",
       " array([  315,   933,   866, ...,  1068, 12061,   303])]"
      ]
     },
     "execution_count": 12,
     "metadata": {},
     "output_type": "execute_result"
    }
   ],
   "source": [
    "#creating an array for validation input \n",
    "validationX = [validationUser, validationMovie]\n",
    "validationX"
   ]
  },
  {
   "cell_type": "code",
   "execution_count": 13,
   "metadata": {},
   "outputs": [
    {
     "data": {
      "text/plain": [
       "array([[0, 1, 0],\n",
       "       [0, 1, 0],\n",
       "       [0, 0, 1],\n",
       "       ...,\n",
       "       [0, 1, 0],\n",
       "       [0, 1, 0],\n",
       "       [0, 1, 0]], dtype=int8)"
      ]
     },
     "execution_count": 13,
     "metadata": {},
     "output_type": "execute_result"
    }
   ],
   "source": [
    "#Output is converted to One-Hot Encoding and creating an array for validation output \n",
    "validationY = []\n",
    "for i in validationDf[['Category']].values:\n",
    "    current = np.zeros(3)\n",
    "    current[i] = 1\n",
    "    validationY.append(current)\n",
    "validationY = np.array(validationY).astype(np.int8)\n",
    "validationY"
   ]
  },
  {
   "cell_type": "code",
   "execution_count": 14,
   "metadata": {},
   "outputs": [
    {
     "data": {
      "text/html": [
       "<div>\n",
       "<style scoped>\n",
       "    .dataframe tbody tr th:only-of-type {\n",
       "        vertical-align: middle;\n",
       "    }\n",
       "\n",
       "    .dataframe tbody tr th {\n",
       "        vertical-align: top;\n",
       "    }\n",
       "\n",
       "    .dataframe thead th {\n",
       "        text-align: right;\n",
       "    }\n",
       "</style>\n",
       "<table border=\"1\" class=\"dataframe\">\n",
       "  <thead>\n",
       "    <tr style=\"text-align: right;\">\n",
       "      <th></th>\n",
       "      <th>UserId</th>\n",
       "      <th>MovieId</th>\n",
       "      <th>Category</th>\n",
       "    </tr>\n",
       "  </thead>\n",
       "  <tbody>\n",
       "    <tr>\n",
       "      <td>0</td>\n",
       "      <td>1470</td>\n",
       "      <td>861</td>\n",
       "      <td>2</td>\n",
       "    </tr>\n",
       "    <tr>\n",
       "      <td>1</td>\n",
       "      <td>2736</td>\n",
       "      <td>789</td>\n",
       "      <td>2</td>\n",
       "    </tr>\n",
       "    <tr>\n",
       "      <td>2</td>\n",
       "      <td>8041</td>\n",
       "      <td>1101</td>\n",
       "      <td>2</td>\n",
       "    </tr>\n",
       "    <tr>\n",
       "      <td>3</td>\n",
       "      <td>3317</td>\n",
       "      <td>336</td>\n",
       "      <td>1</td>\n",
       "    </tr>\n",
       "    <tr>\n",
       "      <td>4</td>\n",
       "      <td>5490</td>\n",
       "      <td>2359</td>\n",
       "      <td>1</td>\n",
       "    </tr>\n",
       "    <tr>\n",
       "      <td>...</td>\n",
       "      <td>...</td>\n",
       "      <td>...</td>\n",
       "      <td>...</td>\n",
       "    </tr>\n",
       "    <tr>\n",
       "      <td>123625</td>\n",
       "      <td>3246</td>\n",
       "      <td>983</td>\n",
       "      <td>1</td>\n",
       "    </tr>\n",
       "    <tr>\n",
       "      <td>123626</td>\n",
       "      <td>8886</td>\n",
       "      <td>2413</td>\n",
       "      <td>2</td>\n",
       "    </tr>\n",
       "    <tr>\n",
       "      <td>123627</td>\n",
       "      <td>1487</td>\n",
       "      <td>776</td>\n",
       "      <td>0</td>\n",
       "    </tr>\n",
       "    <tr>\n",
       "      <td>123628</td>\n",
       "      <td>7680</td>\n",
       "      <td>97</td>\n",
       "      <td>1</td>\n",
       "    </tr>\n",
       "    <tr>\n",
       "      <td>123629</td>\n",
       "      <td>9080</td>\n",
       "      <td>4385</td>\n",
       "      <td>2</td>\n",
       "    </tr>\n",
       "  </tbody>\n",
       "</table>\n",
       "<p>123630 rows × 3 columns</p>\n",
       "</div>"
      ],
      "text/plain": [
       "        UserId  MovieId  Category\n",
       "0         1470      861         2\n",
       "1         2736      789         2\n",
       "2         8041     1101         2\n",
       "3         3317      336         1\n",
       "4         5490     2359         1\n",
       "...        ...      ...       ...\n",
       "123625    3246      983         1\n",
       "123626    8886     2413         2\n",
       "123627    1487      776         0\n",
       "123628    7680       97         1\n",
       "123629    9080     4385         2\n",
       "\n",
       "[123630 rows x 3 columns]"
      ]
     },
     "execution_count": 14,
     "metadata": {},
     "output_type": "execute_result"
    }
   ],
   "source": [
    "#Reading Qualified CategoricalLike CategorizedOnly test data from pkl file\n",
    "testDf = pd.read_pickle(\"../Data/pkl/1M/Qualified/CategoricalLike/CategorizedOnly/Test.pkl\")\n",
    "testDf"
   ]
  },
  {
   "cell_type": "code",
   "execution_count": 15,
   "metadata": {},
   "outputs": [
    {
     "data": {
      "text/plain": [
       "array([1470, 2736, 8041, ..., 1487, 7680, 9080])"
      ]
     },
     "execution_count": 15,
     "metadata": {},
     "output_type": "execute_result"
    }
   ],
   "source": [
    "#creating a user array for test input \n",
    "testUser = testDf[['UserId']].values.astype(np.int32)\n",
    "testUser = testUser.reshape((testUser.shape[0]))\n",
    "testUser"
   ]
  },
  {
   "cell_type": "code",
   "execution_count": 16,
   "metadata": {},
   "outputs": [
    {
     "data": {
      "text/plain": [
       "array([ 861,  789, 1101, ...,  776,   97, 4385])"
      ]
     },
     "execution_count": 16,
     "metadata": {},
     "output_type": "execute_result"
    }
   ],
   "source": [
    "#creating a movie array for test input \n",
    "testMovie = testDf[['MovieId']].values.astype(np.int32)\n",
    "testMovie = testMovie.reshape((testMovie.shape[0]))\n",
    "testMovie"
   ]
  },
  {
   "cell_type": "code",
   "execution_count": 17,
   "metadata": {},
   "outputs": [
    {
     "data": {
      "text/plain": [
       "[array([1470, 2736, 8041, ..., 1487, 7680, 9080]),\n",
       " array([ 861,  789, 1101, ...,  776,   97, 4385])]"
      ]
     },
     "execution_count": 17,
     "metadata": {},
     "output_type": "execute_result"
    }
   ],
   "source": [
    "#creating an array for test input \n",
    "testX = [testUser, testMovie]\n",
    "testX"
   ]
  },
  {
   "cell_type": "code",
   "execution_count": 18,
   "metadata": {},
   "outputs": [
    {
     "data": {
      "text/plain": [
       "array([[0, 0, 1],\n",
       "       [0, 0, 1],\n",
       "       [0, 0, 1],\n",
       "       ...,\n",
       "       [1, 0, 0],\n",
       "       [0, 1, 0],\n",
       "       [0, 0, 1]], dtype=int8)"
      ]
     },
     "execution_count": 18,
     "metadata": {},
     "output_type": "execute_result"
    }
   ],
   "source": [
    "#Output is converted to One-Hot Encoding and creating an array for test output \n",
    "testY = []\n",
    "for i in testDf[['Category']].values:\n",
    "    current = np.zeros(3)\n",
    "    current[i] = 1\n",
    "    testY.append(current)\n",
    "testY = np.array(testY).astype(np.int8)\n",
    "testY"
   ]
  },
  {
   "cell_type": "code",
   "execution_count": 19,
   "metadata": {},
   "outputs": [],
   "source": [
    "#ignore warnings due to Converting sparse IndexedSlices to a dense Tensor of unknown shape warning\n",
    "warnings.filterwarnings('ignore')\n",
    "\n",
    "#Best Model For CategoricalLike CategorizedOnly dataset loading from h5 file\n",
    "#See Training5 notebook for more information\n",
    "model = tf.keras.models.load_model(\"../Model/CategorizedOnlyModel/Model18.h5\")"
   ]
  },
  {
   "cell_type": "code",
   "execution_count": 20,
   "metadata": {},
   "outputs": [],
   "source": [
    "#Best Model evaluating with training values\n",
    "with tf.device('/GPU:0'):\n",
    "    trainingResult = model.evaluate(x = trainingX, y = trainingY, batch_size = 64, verbose = 0)"
   ]
  },
  {
   "cell_type": "code",
   "execution_count": 21,
   "metadata": {},
   "outputs": [
    {
     "data": {
      "text/plain": [
       "[0.6391065250865303, 0.8177135]"
      ]
     },
     "execution_count": 21,
     "metadata": {},
     "output_type": "execute_result"
    }
   ],
   "source": [
    "#Print trainingResult\n",
    "trainingResult"
   ]
  },
  {
   "cell_type": "code",
   "execution_count": 22,
   "metadata": {},
   "outputs": [],
   "source": [
    "#Best Model evaluating with validation values\n",
    "with tf.device('/GPU:0'):\n",
    "    validationResult = model.evaluate(x = validationX, y = validationY, batch_size = 64, verbose = 0)"
   ]
  },
  {
   "cell_type": "code",
   "execution_count": 23,
   "metadata": {},
   "outputs": [
    {
     "data": {
      "text/plain": [
       "[0.7514301483351311, 0.78019893]"
      ]
     },
     "execution_count": 23,
     "metadata": {},
     "output_type": "execute_result"
    }
   ],
   "source": [
    "#Print validationResult\n",
    "validationResult"
   ]
  },
  {
   "cell_type": "code",
   "execution_count": 24,
   "metadata": {},
   "outputs": [],
   "source": [
    "#Best Model evaluating with test values\n",
    "with tf.device('/GPU:0'):\n",
    "    testResult = model.evaluate(x = testX, y = testY, batch_size = 64, verbose = 0)"
   ]
  },
  {
   "cell_type": "code",
   "execution_count": 25,
   "metadata": {},
   "outputs": [
    {
     "data": {
      "text/plain": [
       "[0.7505836447224613, 0.78219926]"
      ]
     },
     "execution_count": 25,
     "metadata": {},
     "output_type": "execute_result"
    }
   ],
   "source": [
    "#Print testResult\n",
    "testResult"
   ]
  },
  {
   "cell_type": "code",
   "execution_count": 26,
   "metadata": {},
   "outputs": [
    {
     "data": {
      "text/html": [
       "<div>\n",
       "<style scoped>\n",
       "    .dataframe tbody tr th:only-of-type {\n",
       "        vertical-align: middle;\n",
       "    }\n",
       "\n",
       "    .dataframe tbody tr th {\n",
       "        vertical-align: top;\n",
       "    }\n",
       "\n",
       "    .dataframe thead th {\n",
       "        text-align: right;\n",
       "    }\n",
       "</style>\n",
       "<table border=\"1\" class=\"dataframe\">\n",
       "  <thead>\n",
       "    <tr style=\"text-align: right;\">\n",
       "      <th></th>\n",
       "      <th>ModelData</th>\n",
       "      <th>Hated</th>\n",
       "      <th>Not Liked</th>\n",
       "      <th>Liked</th>\n",
       "      <th>Loss</th>\n",
       "      <th>Accuracy</th>\n",
       "    </tr>\n",
       "  </thead>\n",
       "  <tbody>\n",
       "    <tr>\n",
       "      <td>0</td>\n",
       "      <td>Training</td>\n",
       "      <td>50014</td>\n",
       "      <td>329878</td>\n",
       "      <td>373741</td>\n",
       "      <td>0.639107</td>\n",
       "      <td>0.817713</td>\n",
       "    </tr>\n",
       "    <tr>\n",
       "      <td>1</td>\n",
       "      <td>Validation</td>\n",
       "      <td>7834</td>\n",
       "      <td>54101</td>\n",
       "      <td>61695</td>\n",
       "      <td>0.751430</td>\n",
       "      <td>0.780199</td>\n",
       "    </tr>\n",
       "    <tr>\n",
       "      <td>2</td>\n",
       "      <td>Test</td>\n",
       "      <td>7860</td>\n",
       "      <td>53972</td>\n",
       "      <td>61798</td>\n",
       "      <td>0.750584</td>\n",
       "      <td>0.782199</td>\n",
       "    </tr>\n",
       "  </tbody>\n",
       "</table>\n",
       "</div>"
      ],
      "text/plain": [
       "    ModelData  Hated  Not Liked   Liked      Loss  Accuracy\n",
       "0    Training  50014     329878  373741  0.639107  0.817713\n",
       "1  Validation   7834      54101   61695  0.751430  0.780199\n",
       "2        Test   7860      53972   61798  0.750584  0.782199"
      ]
     },
     "execution_count": 26,
     "metadata": {},
     "output_type": "execute_result"
    }
   ],
   "source": [
    "#Creating DataFrame for data and model metrics\n",
    "modelDf = pd.DataFrame(data = {'ModelData': pd.Series(['Training', 'Validation', 'Test'], dtype='str'),\n",
    "                               'Hated' : pd.Series([trainingDf[trainingDf['Category'] == 0].shape[0], validationDf[validationDf['Category'] == 0].shape[0], testDf[testDf['Category'] == 0].shape[0]], dtype='int'),\n",
    "                               'Not Liked' : pd.Series([trainingDf[trainingDf['Category'] == 1].shape[0], validationDf[validationDf['Category'] == 1].shape[0], testDf[testDf['Category'] == 1].shape[0]], dtype='int'),\n",
    "                               'Liked' : pd.Series([trainingDf[trainingDf['Category'] == 2].shape[0], validationDf[validationDf['Category'] == 2].shape[0], testDf[testDf['Category'] == 2].shape[0]], dtype='int'),\n",
    "                               'Loss': pd.Series([trainingResult[0], validationResult[0], testResult[0]], dtype='float'),\n",
    "                               'Accuracy': pd.Series([trainingResult[1], validationResult[1], testResult[1]], dtype='float')})\n",
    "modelDf"
   ]
  },
  {
   "cell_type": "code",
   "execution_count": 27,
   "metadata": {},
   "outputs": [],
   "source": [
    "#Saving modeldf and Clearing memory\n",
    "modelDf.to_pickle(\"../PredictData/ModelTable/CategorizedOnly.pkl\")\n",
    "del modelDf"
   ]
  },
  {
   "cell_type": "code",
   "execution_count": 28,
   "metadata": {},
   "outputs": [
    {
     "data": {
      "text/plain": [
       "array([[3.7304617e-02, 8.7954044e-01, 8.3154961e-02],\n",
       "       [8.5988596e-08, 1.2510450e-03, 9.9874890e-01],\n",
       "       [1.0525373e-02, 4.4061917e-01, 5.4885548e-01],\n",
       "       ...,\n",
       "       [1.8831097e-02, 8.6559427e-01, 1.1557468e-01],\n",
       "       [3.0967642e-02, 4.1549009e-01, 5.5354220e-01],\n",
       "       [3.0620794e-03, 1.7200874e-01, 8.2492924e-01]], dtype=float32)"
      ]
     },
     "execution_count": 28,
     "metadata": {},
     "output_type": "execute_result"
    }
   ],
   "source": [
    "#Best Model predicting training Category\n",
    "with tf.device('/GPU:0'):\n",
    "    predictTraining = model.predict(x = trainingX)\n",
    "predictTraining"
   ]
  },
  {
   "cell_type": "code",
   "execution_count": 29,
   "metadata": {},
   "outputs": [
    {
     "data": {
      "text/html": [
       "<div>\n",
       "<style scoped>\n",
       "    .dataframe tbody tr th:only-of-type {\n",
       "        vertical-align: middle;\n",
       "    }\n",
       "\n",
       "    .dataframe tbody tr th {\n",
       "        vertical-align: top;\n",
       "    }\n",
       "\n",
       "    .dataframe thead th {\n",
       "        text-align: right;\n",
       "    }\n",
       "</style>\n",
       "<table border=\"1\" class=\"dataframe\">\n",
       "  <thead>\n",
       "    <tr style=\"text-align: right;\">\n",
       "      <th></th>\n",
       "      <th>UserId</th>\n",
       "      <th>MovieId</th>\n",
       "      <th>Category</th>\n",
       "      <th>CategoryPredict</th>\n",
       "    </tr>\n",
       "  </thead>\n",
       "  <tbody>\n",
       "    <tr>\n",
       "      <td>0</td>\n",
       "      <td>9999</td>\n",
       "      <td>690</td>\n",
       "      <td>1</td>\n",
       "      <td>1</td>\n",
       "    </tr>\n",
       "    <tr>\n",
       "      <td>1</td>\n",
       "      <td>4532</td>\n",
       "      <td>1007</td>\n",
       "      <td>2</td>\n",
       "      <td>2</td>\n",
       "    </tr>\n",
       "    <tr>\n",
       "      <td>2</td>\n",
       "      <td>3969</td>\n",
       "      <td>726</td>\n",
       "      <td>2</td>\n",
       "      <td>2</td>\n",
       "    </tr>\n",
       "    <tr>\n",
       "      <td>3</td>\n",
       "      <td>1271</td>\n",
       "      <td>9157</td>\n",
       "      <td>1</td>\n",
       "      <td>1</td>\n",
       "    </tr>\n",
       "    <tr>\n",
       "      <td>4</td>\n",
       "      <td>7932</td>\n",
       "      <td>1201</td>\n",
       "      <td>1</td>\n",
       "      <td>1</td>\n",
       "    </tr>\n",
       "    <tr>\n",
       "      <td>...</td>\n",
       "      <td>...</td>\n",
       "      <td>...</td>\n",
       "      <td>...</td>\n",
       "      <td>...</td>\n",
       "    </tr>\n",
       "    <tr>\n",
       "      <td>753628</td>\n",
       "      <td>9556</td>\n",
       "      <td>1403</td>\n",
       "      <td>1</td>\n",
       "      <td>2</td>\n",
       "    </tr>\n",
       "    <tr>\n",
       "      <td>753629</td>\n",
       "      <td>4795</td>\n",
       "      <td>17453</td>\n",
       "      <td>1</td>\n",
       "      <td>1</td>\n",
       "    </tr>\n",
       "    <tr>\n",
       "      <td>753630</td>\n",
       "      <td>2116</td>\n",
       "      <td>434</td>\n",
       "      <td>1</td>\n",
       "      <td>1</td>\n",
       "    </tr>\n",
       "    <tr>\n",
       "      <td>753631</td>\n",
       "      <td>1910</td>\n",
       "      <td>4512</td>\n",
       "      <td>1</td>\n",
       "      <td>2</td>\n",
       "    </tr>\n",
       "    <tr>\n",
       "      <td>753632</td>\n",
       "      <td>6015</td>\n",
       "      <td>110</td>\n",
       "      <td>2</td>\n",
       "      <td>2</td>\n",
       "    </tr>\n",
       "  </tbody>\n",
       "</table>\n",
       "<p>753633 rows × 4 columns</p>\n",
       "</div>"
      ],
      "text/plain": [
       "        UserId  MovieId  Category  CategoryPredict\n",
       "0         9999      690         1                1\n",
       "1         4532     1007         2                2\n",
       "2         3969      726         2                2\n",
       "3         1271     9157         1                1\n",
       "4         7932     1201         1                1\n",
       "...        ...      ...       ...              ...\n",
       "753628    9556     1403         1                2\n",
       "753629    4795    17453         1                1\n",
       "753630    2116      434         1                1\n",
       "753631    1910     4512         1                2\n",
       "753632    6015      110         2                2\n",
       "\n",
       "[753633 rows x 4 columns]"
      ]
     },
     "execution_count": 29,
     "metadata": {},
     "output_type": "execute_result"
    }
   ],
   "source": [
    "#Since model is categorical model prediction returns inclusion rate for each category (Fuzzy Logic)\n",
    "#see https://en.wikipedia.org/wiki/Fuzzy_logic\n",
    "#Index of maximum predicted rate is appending trainingDf as predicted category\n",
    "trainingDf['CategoryPredict'] = predictTraining.argmax(axis=1)\n",
    "trainingDf"
   ]
  },
  {
   "cell_type": "code",
   "execution_count": 30,
   "metadata": {},
   "outputs": [
    {
     "data": {
      "text/plain": [
       "array([[0.07097384, 0.9037039 , 0.02532224],\n",
       "       [0.00752375, 0.2642689 , 0.72820735],\n",
       "       [0.04796013, 0.5204251 , 0.43161476],\n",
       "       ...,\n",
       "       [0.05751302, 0.69621956, 0.2462674 ],\n",
       "       [0.0423302 , 0.7966883 , 0.16098148],\n",
       "       [0.08346274, 0.7001545 , 0.2163828 ]], dtype=float32)"
      ]
     },
     "execution_count": 30,
     "metadata": {},
     "output_type": "execute_result"
    }
   ],
   "source": [
    "#Best Model predicting validation Likes\n",
    "with tf.device('/GPU:0'):\n",
    "    predictValidation = model.predict(x = validationX)\n",
    "predictValidation"
   ]
  },
  {
   "cell_type": "code",
   "execution_count": 31,
   "metadata": {},
   "outputs": [
    {
     "data": {
      "text/html": [
       "<div>\n",
       "<style scoped>\n",
       "    .dataframe tbody tr th:only-of-type {\n",
       "        vertical-align: middle;\n",
       "    }\n",
       "\n",
       "    .dataframe tbody tr th {\n",
       "        vertical-align: top;\n",
       "    }\n",
       "\n",
       "    .dataframe thead th {\n",
       "        text-align: right;\n",
       "    }\n",
       "</style>\n",
       "<table border=\"1\" class=\"dataframe\">\n",
       "  <thead>\n",
       "    <tr style=\"text-align: right;\">\n",
       "      <th></th>\n",
       "      <th>UserId</th>\n",
       "      <th>MovieId</th>\n",
       "      <th>Category</th>\n",
       "      <th>CategoryPredict</th>\n",
       "    </tr>\n",
       "  </thead>\n",
       "  <tbody>\n",
       "    <tr>\n",
       "      <td>0</td>\n",
       "      <td>238</td>\n",
       "      <td>315</td>\n",
       "      <td>1</td>\n",
       "      <td>1</td>\n",
       "    </tr>\n",
       "    <tr>\n",
       "      <td>1</td>\n",
       "      <td>2311</td>\n",
       "      <td>933</td>\n",
       "      <td>1</td>\n",
       "      <td>2</td>\n",
       "    </tr>\n",
       "    <tr>\n",
       "      <td>2</td>\n",
       "      <td>9877</td>\n",
       "      <td>866</td>\n",
       "      <td>2</td>\n",
       "      <td>1</td>\n",
       "    </tr>\n",
       "    <tr>\n",
       "      <td>3</td>\n",
       "      <td>234</td>\n",
       "      <td>424</td>\n",
       "      <td>2</td>\n",
       "      <td>2</td>\n",
       "    </tr>\n",
       "    <tr>\n",
       "      <td>4</td>\n",
       "      <td>8066</td>\n",
       "      <td>1669</td>\n",
       "      <td>2</td>\n",
       "      <td>2</td>\n",
       "    </tr>\n",
       "    <tr>\n",
       "      <td>...</td>\n",
       "      <td>...</td>\n",
       "      <td>...</td>\n",
       "      <td>...</td>\n",
       "      <td>...</td>\n",
       "    </tr>\n",
       "    <tr>\n",
       "      <td>123625</td>\n",
       "      <td>2038</td>\n",
       "      <td>280</td>\n",
       "      <td>1</td>\n",
       "      <td>1</td>\n",
       "    </tr>\n",
       "    <tr>\n",
       "      <td>123626</td>\n",
       "      <td>8717</td>\n",
       "      <td>154</td>\n",
       "      <td>2</td>\n",
       "      <td>2</td>\n",
       "    </tr>\n",
       "    <tr>\n",
       "      <td>123627</td>\n",
       "      <td>7348</td>\n",
       "      <td>1068</td>\n",
       "      <td>1</td>\n",
       "      <td>1</td>\n",
       "    </tr>\n",
       "    <tr>\n",
       "      <td>123628</td>\n",
       "      <td>1932</td>\n",
       "      <td>12061</td>\n",
       "      <td>1</td>\n",
       "      <td>1</td>\n",
       "    </tr>\n",
       "    <tr>\n",
       "      <td>123629</td>\n",
       "      <td>7604</td>\n",
       "      <td>303</td>\n",
       "      <td>1</td>\n",
       "      <td>1</td>\n",
       "    </tr>\n",
       "  </tbody>\n",
       "</table>\n",
       "<p>123630 rows × 4 columns</p>\n",
       "</div>"
      ],
      "text/plain": [
       "        UserId  MovieId  Category  CategoryPredict\n",
       "0          238      315         1                1\n",
       "1         2311      933         1                2\n",
       "2         9877      866         2                1\n",
       "3          234      424         2                2\n",
       "4         8066     1669         2                2\n",
       "...        ...      ...       ...              ...\n",
       "123625    2038      280         1                1\n",
       "123626    8717      154         2                2\n",
       "123627    7348     1068         1                1\n",
       "123628    1932    12061         1                1\n",
       "123629    7604      303         1                1\n",
       "\n",
       "[123630 rows x 4 columns]"
      ]
     },
     "execution_count": 31,
     "metadata": {},
     "output_type": "execute_result"
    }
   ],
   "source": [
    "#Since model is categorical model prediction returns inclusion rate for each category (Fuzzy Logic)\n",
    "#see https://en.wikipedia.org/wiki/Fuzzy_logic\n",
    "#Index of maximum predicted rate is appending validationDf as predicted category\n",
    "validationDf['CategoryPredict'] = predictValidation.argmax(axis=1)\n",
    "validationDf"
   ]
  },
  {
   "cell_type": "code",
   "execution_count": 32,
   "metadata": {},
   "outputs": [
    {
     "data": {
      "text/plain": [
       "array([[0.03838974, 0.47397098, 0.48763934],\n",
       "       [0.01451858, 0.34787998, 0.63760144],\n",
       "       [0.00528734, 0.20712379, 0.7875889 ],\n",
       "       ...,\n",
       "       [0.10777438, 0.8459385 , 0.04628707],\n",
       "       [0.45332143, 0.5036544 , 0.04302417],\n",
       "       [0.00789097, 0.39689678, 0.5952123 ]], dtype=float32)"
      ]
     },
     "execution_count": 32,
     "metadata": {},
     "output_type": "execute_result"
    }
   ],
   "source": [
    "#Best Model predicting test Likes\n",
    "with tf.device('/GPU:0'):\n",
    "    predictTest = model.predict(x = testX)\n",
    "predictTest"
   ]
  },
  {
   "cell_type": "code",
   "execution_count": 33,
   "metadata": {},
   "outputs": [
    {
     "data": {
      "text/html": [
       "<div>\n",
       "<style scoped>\n",
       "    .dataframe tbody tr th:only-of-type {\n",
       "        vertical-align: middle;\n",
       "    }\n",
       "\n",
       "    .dataframe tbody tr th {\n",
       "        vertical-align: top;\n",
       "    }\n",
       "\n",
       "    .dataframe thead th {\n",
       "        text-align: right;\n",
       "    }\n",
       "</style>\n",
       "<table border=\"1\" class=\"dataframe\">\n",
       "  <thead>\n",
       "    <tr style=\"text-align: right;\">\n",
       "      <th></th>\n",
       "      <th>UserId</th>\n",
       "      <th>MovieId</th>\n",
       "      <th>Category</th>\n",
       "      <th>CategoryPredict</th>\n",
       "    </tr>\n",
       "  </thead>\n",
       "  <tbody>\n",
       "    <tr>\n",
       "      <td>0</td>\n",
       "      <td>1470</td>\n",
       "      <td>861</td>\n",
       "      <td>2</td>\n",
       "      <td>2</td>\n",
       "    </tr>\n",
       "    <tr>\n",
       "      <td>1</td>\n",
       "      <td>2736</td>\n",
       "      <td>789</td>\n",
       "      <td>2</td>\n",
       "      <td>2</td>\n",
       "    </tr>\n",
       "    <tr>\n",
       "      <td>2</td>\n",
       "      <td>8041</td>\n",
       "      <td>1101</td>\n",
       "      <td>2</td>\n",
       "      <td>2</td>\n",
       "    </tr>\n",
       "    <tr>\n",
       "      <td>3</td>\n",
       "      <td>3317</td>\n",
       "      <td>336</td>\n",
       "      <td>1</td>\n",
       "      <td>2</td>\n",
       "    </tr>\n",
       "    <tr>\n",
       "      <td>4</td>\n",
       "      <td>5490</td>\n",
       "      <td>2359</td>\n",
       "      <td>1</td>\n",
       "      <td>2</td>\n",
       "    </tr>\n",
       "    <tr>\n",
       "      <td>...</td>\n",
       "      <td>...</td>\n",
       "      <td>...</td>\n",
       "      <td>...</td>\n",
       "      <td>...</td>\n",
       "    </tr>\n",
       "    <tr>\n",
       "      <td>123625</td>\n",
       "      <td>3246</td>\n",
       "      <td>983</td>\n",
       "      <td>1</td>\n",
       "      <td>1</td>\n",
       "    </tr>\n",
       "    <tr>\n",
       "      <td>123626</td>\n",
       "      <td>8886</td>\n",
       "      <td>2413</td>\n",
       "      <td>2</td>\n",
       "      <td>2</td>\n",
       "    </tr>\n",
       "    <tr>\n",
       "      <td>123627</td>\n",
       "      <td>1487</td>\n",
       "      <td>776</td>\n",
       "      <td>0</td>\n",
       "      <td>1</td>\n",
       "    </tr>\n",
       "    <tr>\n",
       "      <td>123628</td>\n",
       "      <td>7680</td>\n",
       "      <td>97</td>\n",
       "      <td>1</td>\n",
       "      <td>1</td>\n",
       "    </tr>\n",
       "    <tr>\n",
       "      <td>123629</td>\n",
       "      <td>9080</td>\n",
       "      <td>4385</td>\n",
       "      <td>2</td>\n",
       "      <td>2</td>\n",
       "    </tr>\n",
       "  </tbody>\n",
       "</table>\n",
       "<p>123630 rows × 4 columns</p>\n",
       "</div>"
      ],
      "text/plain": [
       "        UserId  MovieId  Category  CategoryPredict\n",
       "0         1470      861         2                2\n",
       "1         2736      789         2                2\n",
       "2         8041     1101         2                2\n",
       "3         3317      336         1                2\n",
       "4         5490     2359         1                2\n",
       "...        ...      ...       ...              ...\n",
       "123625    3246      983         1                1\n",
       "123626    8886     2413         2                2\n",
       "123627    1487      776         0                1\n",
       "123628    7680       97         1                1\n",
       "123629    9080     4385         2                2\n",
       "\n",
       "[123630 rows x 4 columns]"
      ]
     },
     "execution_count": 33,
     "metadata": {},
     "output_type": "execute_result"
    }
   ],
   "source": [
    "#Since model is categorical model prediction returns inclusion rate for each category (Fuzzy Logic)\n",
    "#see https://en.wikipedia.org/wiki/Fuzzy_logic\n",
    "#Index of maximum predicted rate is appending testDf as predicted category\n",
    "testDf['CategoryPredict'] = predictTest.argmax(axis=1)\n",
    "testDf"
   ]
  },
  {
   "cell_type": "code",
   "execution_count": 34,
   "metadata": {},
   "outputs": [
    {
     "data": {
      "text/html": [
       "<div>\n",
       "<style scoped>\n",
       "    .dataframe tbody tr th:only-of-type {\n",
       "        vertical-align: middle;\n",
       "    }\n",
       "\n",
       "    .dataframe tbody tr th {\n",
       "        vertical-align: top;\n",
       "    }\n",
       "\n",
       "    .dataframe thead th {\n",
       "        text-align: right;\n",
       "    }\n",
       "</style>\n",
       "<table border=\"1\" class=\"dataframe\">\n",
       "  <thead>\n",
       "    <tr style=\"text-align: right;\">\n",
       "      <th></th>\n",
       "      <th>UserId</th>\n",
       "      <th>MovieId</th>\n",
       "      <th>Category</th>\n",
       "      <th>CategoryPredict</th>\n",
       "    </tr>\n",
       "  </thead>\n",
       "  <tbody>\n",
       "    <tr>\n",
       "      <td>0</td>\n",
       "      <td>9999</td>\n",
       "      <td>690</td>\n",
       "      <td>1</td>\n",
       "      <td>1</td>\n",
       "    </tr>\n",
       "    <tr>\n",
       "      <td>1</td>\n",
       "      <td>4532</td>\n",
       "      <td>1007</td>\n",
       "      <td>2</td>\n",
       "      <td>2</td>\n",
       "    </tr>\n",
       "    <tr>\n",
       "      <td>2</td>\n",
       "      <td>3969</td>\n",
       "      <td>726</td>\n",
       "      <td>2</td>\n",
       "      <td>2</td>\n",
       "    </tr>\n",
       "    <tr>\n",
       "      <td>3</td>\n",
       "      <td>1271</td>\n",
       "      <td>9157</td>\n",
       "      <td>1</td>\n",
       "      <td>1</td>\n",
       "    </tr>\n",
       "    <tr>\n",
       "      <td>4</td>\n",
       "      <td>7932</td>\n",
       "      <td>1201</td>\n",
       "      <td>1</td>\n",
       "      <td>1</td>\n",
       "    </tr>\n",
       "    <tr>\n",
       "      <td>...</td>\n",
       "      <td>...</td>\n",
       "      <td>...</td>\n",
       "      <td>...</td>\n",
       "      <td>...</td>\n",
       "    </tr>\n",
       "    <tr>\n",
       "      <td>1000888</td>\n",
       "      <td>3246</td>\n",
       "      <td>983</td>\n",
       "      <td>1</td>\n",
       "      <td>1</td>\n",
       "    </tr>\n",
       "    <tr>\n",
       "      <td>1000889</td>\n",
       "      <td>8886</td>\n",
       "      <td>2413</td>\n",
       "      <td>2</td>\n",
       "      <td>2</td>\n",
       "    </tr>\n",
       "    <tr>\n",
       "      <td>1000890</td>\n",
       "      <td>1487</td>\n",
       "      <td>776</td>\n",
       "      <td>0</td>\n",
       "      <td>1</td>\n",
       "    </tr>\n",
       "    <tr>\n",
       "      <td>1000891</td>\n",
       "      <td>7680</td>\n",
       "      <td>97</td>\n",
       "      <td>1</td>\n",
       "      <td>1</td>\n",
       "    </tr>\n",
       "    <tr>\n",
       "      <td>1000892</td>\n",
       "      <td>9080</td>\n",
       "      <td>4385</td>\n",
       "      <td>2</td>\n",
       "      <td>2</td>\n",
       "    </tr>\n",
       "  </tbody>\n",
       "</table>\n",
       "<p>1000893 rows × 4 columns</p>\n",
       "</div>"
      ],
      "text/plain": [
       "         UserId  MovieId  Category  CategoryPredict\n",
       "0          9999      690         1                1\n",
       "1          4532     1007         2                2\n",
       "2          3969      726         2                2\n",
       "3          1271     9157         1                1\n",
       "4          7932     1201         1                1\n",
       "...         ...      ...       ...              ...\n",
       "1000888    3246      983         1                1\n",
       "1000889    8886     2413         2                2\n",
       "1000890    1487      776         0                1\n",
       "1000891    7680       97         1                1\n",
       "1000892    9080     4385         2                2\n",
       "\n",
       "[1000893 rows x 4 columns]"
      ]
     },
     "execution_count": 34,
     "metadata": {},
     "output_type": "execute_result"
    }
   ],
   "source": [
    "#Dataframes merging\n",
    "allDataFrame = pd.concat([trainingDf, validationDf, testDf]).reset_index(drop=True)\n",
    "allDataFrame"
   ]
  },
  {
   "cell_type": "code",
   "execution_count": 35,
   "metadata": {},
   "outputs": [
    {
     "data": {
      "text/html": [
       "<div>\n",
       "<style scoped>\n",
       "    .dataframe tbody tr th:only-of-type {\n",
       "        vertical-align: middle;\n",
       "    }\n",
       "\n",
       "    .dataframe tbody tr th {\n",
       "        vertical-align: top;\n",
       "    }\n",
       "\n",
       "    .dataframe thead th {\n",
       "        text-align: right;\n",
       "    }\n",
       "</style>\n",
       "<table border=\"1\" class=\"dataframe\">\n",
       "  <thead>\n",
       "    <tr style=\"text-align: right;\">\n",
       "      <th></th>\n",
       "      <th>User</th>\n",
       "    </tr>\n",
       "  </thead>\n",
       "  <tbody>\n",
       "    <tr>\n",
       "      <td>0</td>\n",
       "      <td>0</td>\n",
       "    </tr>\n",
       "    <tr>\n",
       "      <td>1</td>\n",
       "      <td>1</td>\n",
       "    </tr>\n",
       "    <tr>\n",
       "      <td>2</td>\n",
       "      <td>2</td>\n",
       "    </tr>\n",
       "    <tr>\n",
       "      <td>3</td>\n",
       "      <td>3</td>\n",
       "    </tr>\n",
       "    <tr>\n",
       "      <td>4</td>\n",
       "      <td>4</td>\n",
       "    </tr>\n",
       "    <tr>\n",
       "      <td>...</td>\n",
       "      <td>...</td>\n",
       "    </tr>\n",
       "    <tr>\n",
       "      <td>10068</td>\n",
       "      <td>10068</td>\n",
       "    </tr>\n",
       "    <tr>\n",
       "      <td>10069</td>\n",
       "      <td>10069</td>\n",
       "    </tr>\n",
       "    <tr>\n",
       "      <td>10070</td>\n",
       "      <td>10070</td>\n",
       "    </tr>\n",
       "    <tr>\n",
       "      <td>10071</td>\n",
       "      <td>10071</td>\n",
       "    </tr>\n",
       "    <tr>\n",
       "      <td>10072</td>\n",
       "      <td>10072</td>\n",
       "    </tr>\n",
       "  </tbody>\n",
       "</table>\n",
       "<p>10073 rows × 1 columns</p>\n",
       "</div>"
      ],
      "text/plain": [
       "        User\n",
       "0          0\n",
       "1          1\n",
       "2          2\n",
       "3          3\n",
       "4          4\n",
       "...      ...\n",
       "10068  10068\n",
       "10069  10069\n",
       "10070  10070\n",
       "10071  10071\n",
       "10072  10072\n",
       "\n",
       "[10073 rows x 1 columns]"
      ]
     },
     "execution_count": 35,
     "metadata": {},
     "output_type": "execute_result"
    }
   ],
   "source": [
    "#Getting all unique UserId from allDataFrame and create new Data Frame from this values\n",
    "#This Data frame will used as lookup table for prediction script\n",
    "userRange = range(allDataFrame['UserId'].unique().shape[0])\n",
    "lookupTable = pd.DataFrame(data = {'User' : userRange})\n",
    "lookupTable"
   ]
  },
  {
   "cell_type": "code",
   "execution_count": 36,
   "metadata": {},
   "outputs": [],
   "source": [
    "#Defined function will be checked if prediction is true\n",
    "def CorrectPrediction(category, prediction):\n",
    "    result = 0\n",
    "    for i in range(len(category)):\n",
    "        if category[i] == prediction[i]:\n",
    "            result += 1\n",
    "    return result"
   ]
  },
  {
   "cell_type": "code",
   "execution_count": 37,
   "metadata": {},
   "outputs": [
    {
     "data": {
      "text/plain": [
       "array([[ 12.,   8.,   6., ...,  24.,  30., 731.],\n",
       "       [  7.,   5.,   6., ...,  21.,  21., 624.],\n",
       "       [  1.,   5.,   3., ...,   5.,   6., 120.],\n",
       "       ...,\n",
       "       [  0.,   1.,   2., ...,   4.,   5., 103.],\n",
       "       [ 16.,  15.,  11., ...,  34.,  42., 972.],\n",
       "       [  7.,   8.,   9., ...,  30.,  30., 829.]])"
      ]
     },
     "execution_count": 37,
     "metadata": {},
     "output_type": "execute_result"
    }
   ],
   "source": [
    "#Calculations for each user\n",
    "calculations = np.empty(shape = (8, lookupTable.shape[0]))\n",
    "for i in userRange:\n",
    "    \n",
    "    #Training dataframe calculations\n",
    "    queryFrame = trainingDf[trainingDf['UserId'] == i]\n",
    "    calculations[0][i] = queryFrame.shape[0]\n",
    "    calculations[1][i] = CorrectPrediction(queryFrame['Category'].values, queryFrame['CategoryPredict'].values)\n",
    "\n",
    "        \n",
    "    #Validaiton dataframe calculations\n",
    "    queryFrame = validationDf[validationDf['UserId'] == i]\n",
    "    calculations[2][i] = queryFrame.shape[0]\n",
    "    calculations[3][i] = CorrectPrediction(queryFrame['Category'].values, queryFrame['CategoryPredict'].values)\n",
    "    \n",
    "    #Test dataframe calculations\n",
    "    queryFrame = testDf[testDf['UserId'] == i]\n",
    "    calculations[4][i] = queryFrame.shape[0]\n",
    "    calculations[5][i] = CorrectPrediction(queryFrame['Category'].values, queryFrame['CategoryPredict'].values)\n",
    "\n",
    "    \n",
    "    #All dataframe calculations\n",
    "    #Since All dataframe contains training, validation and test dataframes\n",
    "    #All dataframe results can be calculated by simply summing the training, validation and test results\n",
    "    calculations[6][i] = calculations[0][i] + calculations[2][i] + calculations[4][i]\n",
    "    calculations[7][i] = calculations[1][i] + calculations[3][i] + calculations[5][i]\n",
    "\n",
    "\n",
    "#print\n",
    "calculations"
   ]
  },
  {
   "cell_type": "code",
   "execution_count": 38,
   "metadata": {},
   "outputs": [
    {
     "data": {
      "text/html": [
       "<div>\n",
       "<style scoped>\n",
       "    .dataframe tbody tr th:only-of-type {\n",
       "        vertical-align: middle;\n",
       "    }\n",
       "\n",
       "    .dataframe tbody tr th {\n",
       "        vertical-align: top;\n",
       "    }\n",
       "\n",
       "    .dataframe thead th {\n",
       "        text-align: right;\n",
       "    }\n",
       "</style>\n",
       "<table border=\"1\" class=\"dataframe\">\n",
       "  <thead>\n",
       "    <tr style=\"text-align: right;\">\n",
       "      <th></th>\n",
       "      <th>User</th>\n",
       "      <th>TraingingRep</th>\n",
       "      <th>TrainingCorrect</th>\n",
       "      <th>ValidationRep</th>\n",
       "      <th>ValidationCorrect</th>\n",
       "      <th>TestRep</th>\n",
       "      <th>TestCorrect</th>\n",
       "      <th>AllRep</th>\n",
       "      <th>AllCorrect</th>\n",
       "    </tr>\n",
       "  </thead>\n",
       "  <tbody>\n",
       "    <tr>\n",
       "      <td>0</td>\n",
       "      <td>0</td>\n",
       "      <td>12</td>\n",
       "      <td>7</td>\n",
       "      <td>1</td>\n",
       "      <td>0</td>\n",
       "      <td>3</td>\n",
       "      <td>0</td>\n",
       "      <td>16</td>\n",
       "      <td>7</td>\n",
       "    </tr>\n",
       "    <tr>\n",
       "      <td>1</td>\n",
       "      <td>1</td>\n",
       "      <td>8</td>\n",
       "      <td>5</td>\n",
       "      <td>5</td>\n",
       "      <td>2</td>\n",
       "      <td>2</td>\n",
       "      <td>1</td>\n",
       "      <td>15</td>\n",
       "      <td>8</td>\n",
       "    </tr>\n",
       "    <tr>\n",
       "      <td>2</td>\n",
       "      <td>2</td>\n",
       "      <td>6</td>\n",
       "      <td>6</td>\n",
       "      <td>3</td>\n",
       "      <td>1</td>\n",
       "      <td>2</td>\n",
       "      <td>2</td>\n",
       "      <td>11</td>\n",
       "      <td>9</td>\n",
       "    </tr>\n",
       "    <tr>\n",
       "      <td>3</td>\n",
       "      <td>3</td>\n",
       "      <td>554</td>\n",
       "      <td>393</td>\n",
       "      <td>103</td>\n",
       "      <td>62</td>\n",
       "      <td>79</td>\n",
       "      <td>56</td>\n",
       "      <td>736</td>\n",
       "      <td>511</td>\n",
       "    </tr>\n",
       "    <tr>\n",
       "      <td>4</td>\n",
       "      <td>4</td>\n",
       "      <td>56</td>\n",
       "      <td>51</td>\n",
       "      <td>8</td>\n",
       "      <td>8</td>\n",
       "      <td>8</td>\n",
       "      <td>7</td>\n",
       "      <td>72</td>\n",
       "      <td>66</td>\n",
       "    </tr>\n",
       "    <tr>\n",
       "      <td>...</td>\n",
       "      <td>...</td>\n",
       "      <td>...</td>\n",
       "      <td>...</td>\n",
       "      <td>...</td>\n",
       "      <td>...</td>\n",
       "      <td>...</td>\n",
       "      <td>...</td>\n",
       "      <td>...</td>\n",
       "      <td>...</td>\n",
       "    </tr>\n",
       "    <tr>\n",
       "      <td>10068</td>\n",
       "      <td>10068</td>\n",
       "      <td>12</td>\n",
       "      <td>9</td>\n",
       "      <td>4</td>\n",
       "      <td>1</td>\n",
       "      <td>2</td>\n",
       "      <td>1</td>\n",
       "      <td>18</td>\n",
       "      <td>11</td>\n",
       "    </tr>\n",
       "    <tr>\n",
       "      <td>10069</td>\n",
       "      <td>10069</td>\n",
       "      <td>21</td>\n",
       "      <td>16</td>\n",
       "      <td>1</td>\n",
       "      <td>0</td>\n",
       "      <td>2</td>\n",
       "      <td>2</td>\n",
       "      <td>24</td>\n",
       "      <td>18</td>\n",
       "    </tr>\n",
       "    <tr>\n",
       "      <td>10070</td>\n",
       "      <td>10070</td>\n",
       "      <td>24</td>\n",
       "      <td>21</td>\n",
       "      <td>5</td>\n",
       "      <td>5</td>\n",
       "      <td>5</td>\n",
       "      <td>4</td>\n",
       "      <td>34</td>\n",
       "      <td>30</td>\n",
       "    </tr>\n",
       "    <tr>\n",
       "      <td>10071</td>\n",
       "      <td>10071</td>\n",
       "      <td>30</td>\n",
       "      <td>21</td>\n",
       "      <td>6</td>\n",
       "      <td>4</td>\n",
       "      <td>6</td>\n",
       "      <td>5</td>\n",
       "      <td>42</td>\n",
       "      <td>30</td>\n",
       "    </tr>\n",
       "    <tr>\n",
       "      <td>10072</td>\n",
       "      <td>10072</td>\n",
       "      <td>731</td>\n",
       "      <td>624</td>\n",
       "      <td>120</td>\n",
       "      <td>102</td>\n",
       "      <td>121</td>\n",
       "      <td>103</td>\n",
       "      <td>972</td>\n",
       "      <td>829</td>\n",
       "    </tr>\n",
       "  </tbody>\n",
       "</table>\n",
       "<p>10073 rows × 9 columns</p>\n",
       "</div>"
      ],
      "text/plain": [
       "        User  TraingingRep  TrainingCorrect  ValidationRep  ValidationCorrect  \\\n",
       "0          0            12                7              1                  0   \n",
       "1          1             8                5              5                  2   \n",
       "2          2             6                6              3                  1   \n",
       "3          3           554              393            103                 62   \n",
       "4          4            56               51              8                  8   \n",
       "...      ...           ...              ...            ...                ...   \n",
       "10068  10068            12                9              4                  1   \n",
       "10069  10069            21               16              1                  0   \n",
       "10070  10070            24               21              5                  5   \n",
       "10071  10071            30               21              6                  4   \n",
       "10072  10072           731              624            120                102   \n",
       "\n",
       "       TestRep  TestCorrect  AllRep  AllCorrect  \n",
       "0            3            0      16           7  \n",
       "1            2            1      15           8  \n",
       "2            2            2      11           9  \n",
       "3           79           56     736         511  \n",
       "4            8            7      72          66  \n",
       "...        ...          ...     ...         ...  \n",
       "10068        2            1      18          11  \n",
       "10069        2            2      24          18  \n",
       "10070        5            4      34          30  \n",
       "10071        6            5      42          30  \n",
       "10072      121          103     972         829  \n",
       "\n",
       "[10073 rows x 9 columns]"
      ]
     },
     "execution_count": 38,
     "metadata": {},
     "output_type": "execute_result"
    }
   ],
   "source": [
    "#Calculations adding lookup table\n",
    "\n",
    "#Training data representation count\n",
    "lookupTable['TraingingRep'] = calculations[0].astype(np.int32)\n",
    "#Training data Correct Predictions\n",
    "lookupTable['TrainingCorrect'] = calculations[1].astype(np.int32)\n",
    "\n",
    "#Validation data representation count\n",
    "lookupTable['ValidationRep'] = calculations[2].astype(np.int32)\n",
    "#validation data Correct Predictions\n",
    "lookupTable['ValidationCorrect'] = calculations[3].astype(np.int32)\n",
    "\n",
    "#Test data representation count\n",
    "lookupTable['TestRep'] = calculations[4].astype(np.int32)\n",
    "#test data Correct Predictions\n",
    "lookupTable['TestCorrect'] = calculations[5].astype(np.int32)\n",
    "\n",
    "#All data representation count\n",
    "lookupTable['AllRep'] = calculations[6].astype(np.int32)\n",
    "#all data Correct Predictions\n",
    "lookupTable['AllCorrect'] = calculations[7].astype(np.int32)\n",
    "\n",
    "lookupTable"
   ]
  },
  {
   "cell_type": "code",
   "execution_count": 39,
   "metadata": {},
   "outputs": [],
   "source": [
    "#Lookup table save as pkl file\n",
    "lookupTable.to_pickle(\"../PredictData/LookupTable/CategorizedOnly.pkl\")\n",
    "del calculations\n",
    "del trainingDf\n",
    "del validationDf\n",
    "del testDf\n",
    "del allDataFrame\n",
    "del lookupTable"
   ]
  }
 ],
 "metadata": {
  "kernelspec": {
   "display_name": "Python 3",
   "language": "python",
   "name": "python3"
  },
  "language_info": {
   "codemirror_mode": {
    "name": "ipython",
    "version": 3
   },
   "file_extension": ".py",
   "mimetype": "text/x-python",
   "name": "python",
   "nbconvert_exporter": "python",
   "pygments_lexer": "ipython3",
   "version": "3.7.4"
  }
 },
 "nbformat": 4,
 "nbformat_minor": 2
}
