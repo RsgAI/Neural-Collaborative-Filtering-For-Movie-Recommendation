{
 "cells": [
  {
   "cell_type": "markdown",
   "metadata": {},
   "source": [
    "# RatingBased RatedOnly Model Prediction Preparation\n",
    "\n",
    "RatingBased RatedOnly Model Table will be prepared for use in Prediction Notebook\n",
    "\n",
    "This table will be used for supply extra information about recommendation"
   ]
  },
  {
   "cell_type": "code",
   "execution_count": 1,
   "metadata": {},
   "outputs": [],
   "source": [
    "#Importing libraries\n",
    "import numpy as np\n",
    "import pandas as pd\n",
    "import tensorflow as tf\n",
    "import warnings\n",
    "from sklearn.metrics import mean_squared_error as CalculateMSE"
   ]
  },
  {
   "cell_type": "code",
   "execution_count": 2,
   "metadata": {},
   "outputs": [
    {
     "name": "stdout",
     "output_type": "stream",
     "text": [
      "numpy Version: 1.16.5\n",
      "pandas Version: 0.25.1\n",
      "tensorflow Version: 2.0.0\n"
     ]
    }
   ],
   "source": [
    "#Printing library versions\n",
    "print('numpy Version: ' + np.__version__)\n",
    "print('pandas Version: ' + pd.__version__)\n",
    "print('tensorflow Version: ' + tf.__version__)"
   ]
  },
  {
   "cell_type": "code",
   "execution_count": 3,
   "metadata": {},
   "outputs": [
    {
     "name": "stdout",
     "output_type": "stream",
     "text": [
      "/device:GPU:0\n"
     ]
    }
   ],
   "source": [
    "#GPU will be used for Prediction and Evaluation\n",
    "myGPU = tf.test.gpu_device_name()\n",
    "if myGPU:\n",
    "    print(myGPU)\n",
    "else:\n",
    "    print(\"Error\")"
   ]
  },
  {
   "cell_type": "code",
   "execution_count": 4,
   "metadata": {
    "scrolled": false
   },
   "outputs": [
    {
     "data": {
      "text/html": [
       "<div>\n",
       "<style scoped>\n",
       "    .dataframe tbody tr th:only-of-type {\n",
       "        vertical-align: middle;\n",
       "    }\n",
       "\n",
       "    .dataframe tbody tr th {\n",
       "        vertical-align: top;\n",
       "    }\n",
       "\n",
       "    .dataframe thead th {\n",
       "        text-align: right;\n",
       "    }\n",
       "</style>\n",
       "<table border=\"1\" class=\"dataframe\">\n",
       "  <thead>\n",
       "    <tr style=\"text-align: right;\">\n",
       "      <th></th>\n",
       "      <th>UserId</th>\n",
       "      <th>MovieId</th>\n",
       "      <th>Rating</th>\n",
       "    </tr>\n",
       "  </thead>\n",
       "  <tbody>\n",
       "    <tr>\n",
       "      <td>0</td>\n",
       "      <td>3448</td>\n",
       "      <td>1096</td>\n",
       "      <td>0.666667</td>\n",
       "    </tr>\n",
       "    <tr>\n",
       "      <td>1</td>\n",
       "      <td>7042</td>\n",
       "      <td>465</td>\n",
       "      <td>0.777778</td>\n",
       "    </tr>\n",
       "    <tr>\n",
       "      <td>2</td>\n",
       "      <td>4214</td>\n",
       "      <td>3691</td>\n",
       "      <td>0.555556</td>\n",
       "    </tr>\n",
       "    <tr>\n",
       "      <td>3</td>\n",
       "      <td>9967</td>\n",
       "      <td>767</td>\n",
       "      <td>0.888889</td>\n",
       "    </tr>\n",
       "    <tr>\n",
       "      <td>4</td>\n",
       "      <td>324</td>\n",
       "      <td>1410</td>\n",
       "      <td>0.333333</td>\n",
       "    </tr>\n",
       "    <tr>\n",
       "      <td>...</td>\n",
       "      <td>...</td>\n",
       "      <td>...</td>\n",
       "      <td>...</td>\n",
       "    </tr>\n",
       "    <tr>\n",
       "      <td>753677</td>\n",
       "      <td>571</td>\n",
       "      <td>7554</td>\n",
       "      <td>0.333333</td>\n",
       "    </tr>\n",
       "    <tr>\n",
       "      <td>753678</td>\n",
       "      <td>4795</td>\n",
       "      <td>17048</td>\n",
       "      <td>0.333333</td>\n",
       "    </tr>\n",
       "    <tr>\n",
       "      <td>753679</td>\n",
       "      <td>3685</td>\n",
       "      <td>1941</td>\n",
       "      <td>0.555556</td>\n",
       "    </tr>\n",
       "    <tr>\n",
       "      <td>753680</td>\n",
       "      <td>1366</td>\n",
       "      <td>658</td>\n",
       "      <td>0.555556</td>\n",
       "    </tr>\n",
       "    <tr>\n",
       "      <td>753681</td>\n",
       "      <td>8048</td>\n",
       "      <td>865</td>\n",
       "      <td>0.777778</td>\n",
       "    </tr>\n",
       "  </tbody>\n",
       "</table>\n",
       "<p>753682 rows × 3 columns</p>\n",
       "</div>"
      ],
      "text/plain": [
       "        UserId  MovieId    Rating\n",
       "0         3448     1096  0.666667\n",
       "1         7042      465  0.777778\n",
       "2         4214     3691  0.555556\n",
       "3         9967      767  0.888889\n",
       "4          324     1410  0.333333\n",
       "...        ...      ...       ...\n",
       "753677     571     7554  0.333333\n",
       "753678    4795    17048  0.333333\n",
       "753679    3685     1941  0.555556\n",
       "753680    1366      658  0.555556\n",
       "753681    8048      865  0.777778\n",
       "\n",
       "[753682 rows x 3 columns]"
      ]
     },
     "execution_count": 4,
     "metadata": {},
     "output_type": "execute_result"
    }
   ],
   "source": [
    "#Reading Qualified RatingBased RatedOnly training data from pkl file\n",
    "trainingDf = pd.read_pickle(\"../Data/pkl/1M/Qualified/RatingBased/RatedOnly/Training.pkl\")\n",
    "trainingDf"
   ]
  },
  {
   "cell_type": "code",
   "execution_count": 5,
   "metadata": {},
   "outputs": [
    {
     "data": {
      "text/plain": [
       "array([3448, 7042, 4214, ..., 3685, 1366, 8048])"
      ]
     },
     "execution_count": 5,
     "metadata": {},
     "output_type": "execute_result"
    }
   ],
   "source": [
    "#creating a user array for training input \n",
    "trainingUser = trainingDf[['UserId']].values.astype(np.int32)\n",
    "trainingUser = trainingUser.reshape((trainingUser.shape[0]))\n",
    "trainingUser"
   ]
  },
  {
   "cell_type": "code",
   "execution_count": 6,
   "metadata": {},
   "outputs": [
    {
     "data": {
      "text/plain": [
       "array([1096,  465, 3691, ..., 1941,  658,  865])"
      ]
     },
     "execution_count": 6,
     "metadata": {},
     "output_type": "execute_result"
    }
   ],
   "source": [
    "#creating a movie array for training input \n",
    "trainingMovie = trainingDf[['MovieId']].values.astype(np.int32)\n",
    "trainingMovie = trainingMovie.reshape((trainingMovie.shape[0]))\n",
    "trainingMovie"
   ]
  },
  {
   "cell_type": "code",
   "execution_count": 7,
   "metadata": {},
   "outputs": [
    {
     "data": {
      "text/plain": [
       "[array([3448, 7042, 4214, ..., 3685, 1366, 8048]),\n",
       " array([1096,  465, 3691, ..., 1941,  658,  865])]"
      ]
     },
     "execution_count": 7,
     "metadata": {},
     "output_type": "execute_result"
    }
   ],
   "source": [
    "#creating an array for training input \n",
    "trainingX = [trainingUser, trainingMovie]\n",
    "trainingX"
   ]
  },
  {
   "cell_type": "code",
   "execution_count": 8,
   "metadata": {},
   "outputs": [
    {
     "data": {
      "text/plain": [
       "array([0.6666667, 0.7777778, 0.5555556, ..., 0.5555556, 0.5555556,\n",
       "       0.7777778], dtype=float32)"
      ]
     },
     "execution_count": 8,
     "metadata": {},
     "output_type": "execute_result"
    }
   ],
   "source": [
    "#creating an array for training output \n",
    "trainingY = trainingDf[['Rating']].values.astype(np.float32)\n",
    "trainingY = trainingY.reshape((trainingY.shape[0]))\n",
    "trainingY"
   ]
  },
  {
   "cell_type": "code",
   "execution_count": 9,
   "metadata": {
    "scrolled": true
   },
   "outputs": [
    {
     "data": {
      "text/html": [
       "<div>\n",
       "<style scoped>\n",
       "    .dataframe tbody tr th:only-of-type {\n",
       "        vertical-align: middle;\n",
       "    }\n",
       "\n",
       "    .dataframe tbody tr th {\n",
       "        vertical-align: top;\n",
       "    }\n",
       "\n",
       "    .dataframe thead th {\n",
       "        text-align: right;\n",
       "    }\n",
       "</style>\n",
       "<table border=\"1\" class=\"dataframe\">\n",
       "  <thead>\n",
       "    <tr style=\"text-align: right;\">\n",
       "      <th></th>\n",
       "      <th>UserId</th>\n",
       "      <th>MovieId</th>\n",
       "      <th>Rating</th>\n",
       "    </tr>\n",
       "  </thead>\n",
       "  <tbody>\n",
       "    <tr>\n",
       "      <td>0</td>\n",
       "      <td>7981</td>\n",
       "      <td>215</td>\n",
       "      <td>0.777778</td>\n",
       "    </tr>\n",
       "    <tr>\n",
       "      <td>1</td>\n",
       "      <td>8165</td>\n",
       "      <td>3195</td>\n",
       "      <td>0.777778</td>\n",
       "    </tr>\n",
       "    <tr>\n",
       "      <td>2</td>\n",
       "      <td>5490</td>\n",
       "      <td>174</td>\n",
       "      <td>0.777778</td>\n",
       "    </tr>\n",
       "    <tr>\n",
       "      <td>3</td>\n",
       "      <td>5080</td>\n",
       "      <td>802</td>\n",
       "      <td>0.888889</td>\n",
       "    </tr>\n",
       "    <tr>\n",
       "      <td>4</td>\n",
       "      <td>7693</td>\n",
       "      <td>344</td>\n",
       "      <td>0.555556</td>\n",
       "    </tr>\n",
       "    <tr>\n",
       "      <td>...</td>\n",
       "      <td>...</td>\n",
       "      <td>...</td>\n",
       "      <td>...</td>\n",
       "    </tr>\n",
       "    <tr>\n",
       "      <td>123600</td>\n",
       "      <td>3821</td>\n",
       "      <td>265</td>\n",
       "      <td>0.888889</td>\n",
       "    </tr>\n",
       "    <tr>\n",
       "      <td>123601</td>\n",
       "      <td>2074</td>\n",
       "      <td>807</td>\n",
       "      <td>1.000000</td>\n",
       "    </tr>\n",
       "    <tr>\n",
       "      <td>123602</td>\n",
       "      <td>3930</td>\n",
       "      <td>1942</td>\n",
       "      <td>0.777778</td>\n",
       "    </tr>\n",
       "    <tr>\n",
       "      <td>123603</td>\n",
       "      <td>8844</td>\n",
       "      <td>1395</td>\n",
       "      <td>0.777778</td>\n",
       "    </tr>\n",
       "    <tr>\n",
       "      <td>123604</td>\n",
       "      <td>9284</td>\n",
       "      <td>5107</td>\n",
       "      <td>0.777778</td>\n",
       "    </tr>\n",
       "  </tbody>\n",
       "</table>\n",
       "<p>123605 rows × 3 columns</p>\n",
       "</div>"
      ],
      "text/plain": [
       "        UserId  MovieId    Rating\n",
       "0         7981      215  0.777778\n",
       "1         8165     3195  0.777778\n",
       "2         5490      174  0.777778\n",
       "3         5080      802  0.888889\n",
       "4         7693      344  0.555556\n",
       "...        ...      ...       ...\n",
       "123600    3821      265  0.888889\n",
       "123601    2074      807  1.000000\n",
       "123602    3930     1942  0.777778\n",
       "123603    8844     1395  0.777778\n",
       "123604    9284     5107  0.777778\n",
       "\n",
       "[123605 rows x 3 columns]"
      ]
     },
     "execution_count": 9,
     "metadata": {},
     "output_type": "execute_result"
    }
   ],
   "source": [
    "#Reading Qualified RatingBased RatedOnly validation data from pkl file\n",
    "validationDf = pd.read_pickle(\"../Data/pkl/1M/Qualified/RatingBased/RatedOnly/Validation.pkl\")\n",
    "validationDf"
   ]
  },
  {
   "cell_type": "code",
   "execution_count": 10,
   "metadata": {},
   "outputs": [
    {
     "data": {
      "text/plain": [
       "array([7981, 8165, 5490, ..., 3930, 8844, 9284])"
      ]
     },
     "execution_count": 10,
     "metadata": {},
     "output_type": "execute_result"
    }
   ],
   "source": [
    "#creating a user array for validation input \n",
    "validationUser = validationDf[['UserId']].values.astype(np.int32)\n",
    "validationUser = validationUser.reshape((validationUser.shape[0]))\n",
    "validationUser"
   ]
  },
  {
   "cell_type": "code",
   "execution_count": 11,
   "metadata": {},
   "outputs": [
    {
     "data": {
      "text/plain": [
       "array([ 215, 3195,  174, ..., 1942, 1395, 5107])"
      ]
     },
     "execution_count": 11,
     "metadata": {},
     "output_type": "execute_result"
    }
   ],
   "source": [
    "#creating a movie array for validation input \n",
    "validationMovie = validationDf[['MovieId']].values.astype(np.int32)\n",
    "validationMovie = validationMovie.reshape((validationMovie.shape[0]))\n",
    "validationMovie"
   ]
  },
  {
   "cell_type": "code",
   "execution_count": 12,
   "metadata": {},
   "outputs": [
    {
     "data": {
      "text/plain": [
       "[array([7981, 8165, 5490, ..., 3930, 8844, 9284]),\n",
       " array([ 215, 3195,  174, ..., 1942, 1395, 5107])]"
      ]
     },
     "execution_count": 12,
     "metadata": {},
     "output_type": "execute_result"
    }
   ],
   "source": [
    "#creating an array for validation input \n",
    "validationX = [validationUser, validationMovie]\n",
    "validationX"
   ]
  },
  {
   "cell_type": "code",
   "execution_count": 13,
   "metadata": {},
   "outputs": [
    {
     "data": {
      "text/plain": [
       "array([0.7777778, 0.7777778, 0.7777778, ..., 0.7777778, 0.7777778,\n",
       "       0.7777778], dtype=float32)"
      ]
     },
     "execution_count": 13,
     "metadata": {},
     "output_type": "execute_result"
    }
   ],
   "source": [
    "#creating an array for validation output \n",
    "validationY = validationDf[['Rating']].values.astype(np.float32)\n",
    "validationY = validationY.reshape((validationY.shape[0]))\n",
    "validationY"
   ]
  },
  {
   "cell_type": "code",
   "execution_count": 14,
   "metadata": {},
   "outputs": [
    {
     "data": {
      "text/html": [
       "<div>\n",
       "<style scoped>\n",
       "    .dataframe tbody tr th:only-of-type {\n",
       "        vertical-align: middle;\n",
       "    }\n",
       "\n",
       "    .dataframe tbody tr th {\n",
       "        vertical-align: top;\n",
       "    }\n",
       "\n",
       "    .dataframe thead th {\n",
       "        text-align: right;\n",
       "    }\n",
       "</style>\n",
       "<table border=\"1\" class=\"dataframe\">\n",
       "  <thead>\n",
       "    <tr style=\"text-align: right;\">\n",
       "      <th></th>\n",
       "      <th>UserId</th>\n",
       "      <th>MovieId</th>\n",
       "      <th>Rating</th>\n",
       "    </tr>\n",
       "  </thead>\n",
       "  <tbody>\n",
       "    <tr>\n",
       "      <td>0</td>\n",
       "      <td>2092</td>\n",
       "      <td>1440</td>\n",
       "      <td>0.777778</td>\n",
       "    </tr>\n",
       "    <tr>\n",
       "      <td>1</td>\n",
       "      <td>464</td>\n",
       "      <td>4450</td>\n",
       "      <td>0.777778</td>\n",
       "    </tr>\n",
       "    <tr>\n",
       "      <td>2</td>\n",
       "      <td>787</td>\n",
       "      <td>617</td>\n",
       "      <td>0.777778</td>\n",
       "    </tr>\n",
       "    <tr>\n",
       "      <td>3</td>\n",
       "      <td>3980</td>\n",
       "      <td>376</td>\n",
       "      <td>1.000000</td>\n",
       "    </tr>\n",
       "    <tr>\n",
       "      <td>4</td>\n",
       "      <td>3111</td>\n",
       "      <td>165</td>\n",
       "      <td>0.777778</td>\n",
       "    </tr>\n",
       "    <tr>\n",
       "      <td>...</td>\n",
       "      <td>...</td>\n",
       "      <td>...</td>\n",
       "      <td>...</td>\n",
       "    </tr>\n",
       "    <tr>\n",
       "      <td>123601</td>\n",
       "      <td>338</td>\n",
       "      <td>4367</td>\n",
       "      <td>0.000000</td>\n",
       "    </tr>\n",
       "    <tr>\n",
       "      <td>123602</td>\n",
       "      <td>4526</td>\n",
       "      <td>1536</td>\n",
       "      <td>0.777778</td>\n",
       "    </tr>\n",
       "    <tr>\n",
       "      <td>123603</td>\n",
       "      <td>8778</td>\n",
       "      <td>950</td>\n",
       "      <td>0.888889</td>\n",
       "    </tr>\n",
       "    <tr>\n",
       "      <td>123604</td>\n",
       "      <td>9104</td>\n",
       "      <td>674</td>\n",
       "      <td>0.888889</td>\n",
       "    </tr>\n",
       "    <tr>\n",
       "      <td>123605</td>\n",
       "      <td>3898</td>\n",
       "      <td>1336</td>\n",
       "      <td>1.000000</td>\n",
       "    </tr>\n",
       "  </tbody>\n",
       "</table>\n",
       "<p>123606 rows × 3 columns</p>\n",
       "</div>"
      ],
      "text/plain": [
       "        UserId  MovieId    Rating\n",
       "0         2092     1440  0.777778\n",
       "1          464     4450  0.777778\n",
       "2          787      617  0.777778\n",
       "3         3980      376  1.000000\n",
       "4         3111      165  0.777778\n",
       "...        ...      ...       ...\n",
       "123601     338     4367  0.000000\n",
       "123602    4526     1536  0.777778\n",
       "123603    8778      950  0.888889\n",
       "123604    9104      674  0.888889\n",
       "123605    3898     1336  1.000000\n",
       "\n",
       "[123606 rows x 3 columns]"
      ]
     },
     "execution_count": 14,
     "metadata": {},
     "output_type": "execute_result"
    }
   ],
   "source": [
    "#Reading Qualified RatingBased RatedOnly test data from pkl file\n",
    "testDf = pd.read_pickle(\"../Data/pkl/1M/Qualified/RatingBased/RatedOnly/Test.pkl\")\n",
    "testDf"
   ]
  },
  {
   "cell_type": "code",
   "execution_count": 15,
   "metadata": {},
   "outputs": [
    {
     "data": {
      "text/plain": [
       "array([2092,  464,  787, ..., 8778, 9104, 3898])"
      ]
     },
     "execution_count": 15,
     "metadata": {},
     "output_type": "execute_result"
    }
   ],
   "source": [
    "#creating a user array for test input \n",
    "testUser = testDf[['UserId']].values.astype(np.int32)\n",
    "testUser = testUser.reshape((testUser.shape[0]))\n",
    "testUser"
   ]
  },
  {
   "cell_type": "code",
   "execution_count": 16,
   "metadata": {},
   "outputs": [
    {
     "data": {
      "text/plain": [
       "array([1440, 4450,  617, ...,  950,  674, 1336])"
      ]
     },
     "execution_count": 16,
     "metadata": {},
     "output_type": "execute_result"
    }
   ],
   "source": [
    "#creating a movie array for test input \n",
    "testMovie = testDf[['MovieId']].values.astype(np.int32)\n",
    "testMovie = testMovie.reshape((testMovie.shape[0]))\n",
    "testMovie"
   ]
  },
  {
   "cell_type": "code",
   "execution_count": 17,
   "metadata": {},
   "outputs": [
    {
     "data": {
      "text/plain": [
       "[array([2092,  464,  787, ..., 8778, 9104, 3898]),\n",
       " array([1440, 4450,  617, ...,  950,  674, 1336])]"
      ]
     },
     "execution_count": 17,
     "metadata": {},
     "output_type": "execute_result"
    }
   ],
   "source": [
    "#creating an array for test input \n",
    "testX = [testUser, testMovie]\n",
    "testX"
   ]
  },
  {
   "cell_type": "code",
   "execution_count": 18,
   "metadata": {},
   "outputs": [
    {
     "data": {
      "text/plain": [
       "array([0.7777778, 0.7777778, 0.7777778, ..., 0.8888889, 0.8888889,\n",
       "       1.       ], dtype=float32)"
      ]
     },
     "execution_count": 18,
     "metadata": {},
     "output_type": "execute_result"
    }
   ],
   "source": [
    "#creating an array for test output \n",
    "testY = testDf[['Rating']].values.astype(np.float32)\n",
    "testY = testY.reshape((testY.shape[0]))\n",
    "testY"
   ]
  },
  {
   "cell_type": "code",
   "execution_count": 19,
   "metadata": {},
   "outputs": [],
   "source": [
    "#ignore warnings due to Converting sparse IndexedSlices to a dense Tensor of unknown shape warning\n",
    "warnings.filterwarnings('ignore')\n",
    "\n",
    "#Best Model For RatingBased RatedOnly dataset loading from h5 file\n",
    "#See Training7 notebook for more information\n",
    "model = tf.keras.models.load_model(\"../Model/RatedOnlyModel/Model15.h5\")"
   ]
  },
  {
   "cell_type": "code",
   "execution_count": 20,
   "metadata": {},
   "outputs": [],
   "source": [
    "#Best Model evaluating with training values\n",
    "with tf.device('/GPU:0'):\n",
    "    trainingResult = model.evaluate(x = trainingX, y = trainingY, batch_size = 64, verbose = 0)"
   ]
  },
  {
   "cell_type": "code",
   "execution_count": 21,
   "metadata": {},
   "outputs": [
    {
     "data": {
      "text/plain": [
       "[0.028724913444547983,\n",
       " 0.028633649,\n",
       " 0.1692148,\n",
       " 0.012069014,\n",
       " 0.12644191,\n",
       " 5789873.5]"
      ]
     },
     "execution_count": 21,
     "metadata": {},
     "output_type": "execute_result"
    }
   ],
   "source": [
    "#Print trainingResult\n",
    "trainingResult"
   ]
  },
  {
   "cell_type": "code",
   "execution_count": 22,
   "metadata": {},
   "outputs": [],
   "source": [
    "#Best Model evaluating with validation values\n",
    "with tf.device('/GPU:0'):\n",
    "    validationResult = model.evaluate(x = validationX, y = validationY, batch_size = 64, verbose = 0)"
   ]
  },
  {
   "cell_type": "code",
   "execution_count": 23,
   "metadata": {},
   "outputs": [
    {
     "data": {
      "text/plain": [
       "[0.03695747918841484,\n",
       " 0.036866788,\n",
       " 0.19200726,\n",
       " 0.015572578,\n",
       " 0.14481673,\n",
       " 7129178.5]"
      ]
     },
     "execution_count": 23,
     "metadata": {},
     "output_type": "execute_result"
    }
   ],
   "source": [
    "#Print validationResult\n",
    "validationResult"
   ]
  },
  {
   "cell_type": "code",
   "execution_count": 24,
   "metadata": {},
   "outputs": [],
   "source": [
    "#Best Model evaluating with test values\n",
    "with tf.device('/GPU:0'):\n",
    "    testResult = model.evaluate(x = testX, y = testY, batch_size = 64, verbose = 0)"
   ]
  },
  {
   "cell_type": "code",
   "execution_count": 25,
   "metadata": {},
   "outputs": [
    {
     "data": {
      "text/plain": [
       "[0.03714138613978981,\n",
       " 0.037050717,\n",
       " 0.19248563,\n",
       " 0.015663018,\n",
       " 0.14532414,\n",
       " 7102044.0]"
      ]
     },
     "execution_count": 25,
     "metadata": {},
     "output_type": "execute_result"
    }
   ],
   "source": [
    "#Print testResult\n",
    "testResult"
   ]
  },
  {
   "cell_type": "code",
   "execution_count": 26,
   "metadata": {},
   "outputs": [
    {
     "data": {
      "text/html": [
       "<div>\n",
       "<style scoped>\n",
       "    .dataframe tbody tr th:only-of-type {\n",
       "        vertical-align: middle;\n",
       "    }\n",
       "\n",
       "    .dataframe tbody tr th {\n",
       "        vertical-align: top;\n",
       "    }\n",
       "\n",
       "    .dataframe thead th {\n",
       "        text-align: right;\n",
       "    }\n",
       "</style>\n",
       "<table border=\"1\" class=\"dataframe\">\n",
       "  <thead>\n",
       "    <tr style=\"text-align: right;\">\n",
       "      <th></th>\n",
       "      <th>ModelData</th>\n",
       "      <th>Loss</th>\n",
       "      <th>Mse</th>\n",
       "      <th>Rmse</th>\n",
       "      <th>Msle</th>\n",
       "      <th>Mae</th>\n",
       "      <th>Mape</th>\n",
       "    </tr>\n",
       "  </thead>\n",
       "  <tbody>\n",
       "    <tr>\n",
       "      <td>0</td>\n",
       "      <td>Training</td>\n",
       "      <td>0.028725</td>\n",
       "      <td>0.028634</td>\n",
       "      <td>0.169215</td>\n",
       "      <td>0.012069</td>\n",
       "      <td>0.126442</td>\n",
       "      <td>5789873.5</td>\n",
       "    </tr>\n",
       "    <tr>\n",
       "      <td>1</td>\n",
       "      <td>Validation</td>\n",
       "      <td>0.036957</td>\n",
       "      <td>0.036867</td>\n",
       "      <td>0.192007</td>\n",
       "      <td>0.015573</td>\n",
       "      <td>0.144817</td>\n",
       "      <td>7129178.5</td>\n",
       "    </tr>\n",
       "    <tr>\n",
       "      <td>2</td>\n",
       "      <td>Test</td>\n",
       "      <td>0.037141</td>\n",
       "      <td>0.037051</td>\n",
       "      <td>0.192486</td>\n",
       "      <td>0.015663</td>\n",
       "      <td>0.145324</td>\n",
       "      <td>7102044.0</td>\n",
       "    </tr>\n",
       "  </tbody>\n",
       "</table>\n",
       "</div>"
      ],
      "text/plain": [
       "    ModelData      Loss       Mse      Rmse      Msle       Mae       Mape\n",
       "0    Training  0.028725  0.028634  0.169215  0.012069  0.126442  5789873.5\n",
       "1  Validation  0.036957  0.036867  0.192007  0.015573  0.144817  7129178.5\n",
       "2        Test  0.037141  0.037051  0.192486  0.015663  0.145324  7102044.0"
      ]
     },
     "execution_count": 26,
     "metadata": {},
     "output_type": "execute_result"
    }
   ],
   "source": [
    "#Creating DataFrame for data and model metrics\n",
    "modelDf = pd.DataFrame(data = {'ModelData': pd.Series(['Training', 'Validation', 'Test'], dtype='str'),\n",
    "                               'Loss': pd.Series([trainingResult[0], validationResult[0], testResult[0]], dtype='float'),\n",
    "                               'Mse': pd.Series([trainingResult[1], validationResult[1], testResult[1]], dtype='float'),\n",
    "                               'Rmse': pd.Series([trainingResult[2], validationResult[2], testResult[2]], dtype='float'),\n",
    "                               'Msle': pd.Series([trainingResult[3], validationResult[3], testResult[3]], dtype='float'),\n",
    "                               'Mae': pd.Series([trainingResult[4], validationResult[4], testResult[4]], dtype='float'),\n",
    "                               'Mape': pd.Series([trainingResult[5], validationResult[5], testResult[5]], dtype='float')})\n",
    "modelDf"
   ]
  },
  {
   "cell_type": "code",
   "execution_count": 27,
   "metadata": {},
   "outputs": [],
   "source": [
    "#Saving modeldf and Clearing memory\n",
    "modelDf.to_pickle(\"../PredictData/ModelTable/RatedOnly.pkl\")\n",
    "del modelDf"
   ]
  },
  {
   "cell_type": "code",
   "execution_count": 28,
   "metadata": {},
   "outputs": [
    {
     "data": {
      "text/plain": [
       "array([[0.6843878 ],\n",
       "       [0.7851418 ],\n",
       "       [0.657144  ],\n",
       "       ...,\n",
       "       [0.6249933 ],\n",
       "       [0.6668646 ],\n",
       "       [0.78145236]], dtype=float32)"
      ]
     },
     "execution_count": 28,
     "metadata": {},
     "output_type": "execute_result"
    }
   ],
   "source": [
    "#Best Model predicting training Ratings\n",
    "with tf.device('/GPU:0'):\n",
    "    predictTraining = model.predict(x = trainingX)\n",
    "predictTraining"
   ]
  },
  {
   "cell_type": "code",
   "execution_count": 29,
   "metadata": {},
   "outputs": [
    {
     "data": {
      "text/html": [
       "<div>\n",
       "<style scoped>\n",
       "    .dataframe tbody tr th:only-of-type {\n",
       "        vertical-align: middle;\n",
       "    }\n",
       "\n",
       "    .dataframe tbody tr th {\n",
       "        vertical-align: top;\n",
       "    }\n",
       "\n",
       "    .dataframe thead th {\n",
       "        text-align: right;\n",
       "    }\n",
       "</style>\n",
       "<table border=\"1\" class=\"dataframe\">\n",
       "  <thead>\n",
       "    <tr style=\"text-align: right;\">\n",
       "      <th></th>\n",
       "      <th>UserId</th>\n",
       "      <th>MovieId</th>\n",
       "      <th>Rating</th>\n",
       "      <th>RatingPredict</th>\n",
       "    </tr>\n",
       "  </thead>\n",
       "  <tbody>\n",
       "    <tr>\n",
       "      <td>0</td>\n",
       "      <td>3448</td>\n",
       "      <td>1096</td>\n",
       "      <td>0.666667</td>\n",
       "      <td>0.684388</td>\n",
       "    </tr>\n",
       "    <tr>\n",
       "      <td>1</td>\n",
       "      <td>7042</td>\n",
       "      <td>465</td>\n",
       "      <td>0.777778</td>\n",
       "      <td>0.785142</td>\n",
       "    </tr>\n",
       "    <tr>\n",
       "      <td>2</td>\n",
       "      <td>4214</td>\n",
       "      <td>3691</td>\n",
       "      <td>0.555556</td>\n",
       "      <td>0.657144</td>\n",
       "    </tr>\n",
       "    <tr>\n",
       "      <td>3</td>\n",
       "      <td>9967</td>\n",
       "      <td>767</td>\n",
       "      <td>0.888889</td>\n",
       "      <td>0.829224</td>\n",
       "    </tr>\n",
       "    <tr>\n",
       "      <td>4</td>\n",
       "      <td>324</td>\n",
       "      <td>1410</td>\n",
       "      <td>0.333333</td>\n",
       "      <td>0.661041</td>\n",
       "    </tr>\n",
       "    <tr>\n",
       "      <td>...</td>\n",
       "      <td>...</td>\n",
       "      <td>...</td>\n",
       "      <td>...</td>\n",
       "      <td>...</td>\n",
       "    </tr>\n",
       "    <tr>\n",
       "      <td>753677</td>\n",
       "      <td>571</td>\n",
       "      <td>7554</td>\n",
       "      <td>0.333333</td>\n",
       "      <td>0.656229</td>\n",
       "    </tr>\n",
       "    <tr>\n",
       "      <td>753678</td>\n",
       "      <td>4795</td>\n",
       "      <td>17048</td>\n",
       "      <td>0.333333</td>\n",
       "      <td>0.347020</td>\n",
       "    </tr>\n",
       "    <tr>\n",
       "      <td>753679</td>\n",
       "      <td>3685</td>\n",
       "      <td>1941</td>\n",
       "      <td>0.555556</td>\n",
       "      <td>0.624993</td>\n",
       "    </tr>\n",
       "    <tr>\n",
       "      <td>753680</td>\n",
       "      <td>1366</td>\n",
       "      <td>658</td>\n",
       "      <td>0.555556</td>\n",
       "      <td>0.666865</td>\n",
       "    </tr>\n",
       "    <tr>\n",
       "      <td>753681</td>\n",
       "      <td>8048</td>\n",
       "      <td>865</td>\n",
       "      <td>0.777778</td>\n",
       "      <td>0.781452</td>\n",
       "    </tr>\n",
       "  </tbody>\n",
       "</table>\n",
       "<p>753682 rows × 4 columns</p>\n",
       "</div>"
      ],
      "text/plain": [
       "        UserId  MovieId    Rating  RatingPredict\n",
       "0         3448     1096  0.666667       0.684388\n",
       "1         7042      465  0.777778       0.785142\n",
       "2         4214     3691  0.555556       0.657144\n",
       "3         9967      767  0.888889       0.829224\n",
       "4          324     1410  0.333333       0.661041\n",
       "...        ...      ...       ...            ...\n",
       "753677     571     7554  0.333333       0.656229\n",
       "753678    4795    17048  0.333333       0.347020\n",
       "753679    3685     1941  0.555556       0.624993\n",
       "753680    1366      658  0.555556       0.666865\n",
       "753681    8048      865  0.777778       0.781452\n",
       "\n",
       "[753682 rows x 4 columns]"
      ]
     },
     "execution_count": 29,
     "metadata": {},
     "output_type": "execute_result"
    }
   ],
   "source": [
    "#Predicted Ratings appending trainingDf\n",
    "trainingDf['RatingPredict'] = predictTraining\n",
    "trainingDf"
   ]
  },
  {
   "cell_type": "code",
   "execution_count": 30,
   "metadata": {},
   "outputs": [
    {
     "data": {
      "text/plain": [
       "array([[0.78510857],\n",
       "       [0.7156863 ],\n",
       "       [0.7428454 ],\n",
       "       ...,\n",
       "       [0.79854643],\n",
       "       [0.65844965],\n",
       "       [0.85336703]], dtype=float32)"
      ]
     },
     "execution_count": 30,
     "metadata": {},
     "output_type": "execute_result"
    }
   ],
   "source": [
    "#Best Model predicting validation Ratings\n",
    "with tf.device('/GPU:0'):\n",
    "    predictValidation = model.predict(x = validationX)\n",
    "predictValidation"
   ]
  },
  {
   "cell_type": "code",
   "execution_count": 31,
   "metadata": {},
   "outputs": [
    {
     "data": {
      "text/html": [
       "<div>\n",
       "<style scoped>\n",
       "    .dataframe tbody tr th:only-of-type {\n",
       "        vertical-align: middle;\n",
       "    }\n",
       "\n",
       "    .dataframe tbody tr th {\n",
       "        vertical-align: top;\n",
       "    }\n",
       "\n",
       "    .dataframe thead th {\n",
       "        text-align: right;\n",
       "    }\n",
       "</style>\n",
       "<table border=\"1\" class=\"dataframe\">\n",
       "  <thead>\n",
       "    <tr style=\"text-align: right;\">\n",
       "      <th></th>\n",
       "      <th>UserId</th>\n",
       "      <th>MovieId</th>\n",
       "      <th>Rating</th>\n",
       "      <th>RatingPredict</th>\n",
       "    </tr>\n",
       "  </thead>\n",
       "  <tbody>\n",
       "    <tr>\n",
       "      <td>0</td>\n",
       "      <td>7981</td>\n",
       "      <td>215</td>\n",
       "      <td>0.777778</td>\n",
       "      <td>0.785109</td>\n",
       "    </tr>\n",
       "    <tr>\n",
       "      <td>1</td>\n",
       "      <td>8165</td>\n",
       "      <td>3195</td>\n",
       "      <td>0.777778</td>\n",
       "      <td>0.715686</td>\n",
       "    </tr>\n",
       "    <tr>\n",
       "      <td>2</td>\n",
       "      <td>5490</td>\n",
       "      <td>174</td>\n",
       "      <td>0.777778</td>\n",
       "      <td>0.742845</td>\n",
       "    </tr>\n",
       "    <tr>\n",
       "      <td>3</td>\n",
       "      <td>5080</td>\n",
       "      <td>802</td>\n",
       "      <td>0.888889</td>\n",
       "      <td>0.762635</td>\n",
       "    </tr>\n",
       "    <tr>\n",
       "      <td>4</td>\n",
       "      <td>7693</td>\n",
       "      <td>344</td>\n",
       "      <td>0.555556</td>\n",
       "      <td>0.757872</td>\n",
       "    </tr>\n",
       "    <tr>\n",
       "      <td>...</td>\n",
       "      <td>...</td>\n",
       "      <td>...</td>\n",
       "      <td>...</td>\n",
       "      <td>...</td>\n",
       "    </tr>\n",
       "    <tr>\n",
       "      <td>123600</td>\n",
       "      <td>3821</td>\n",
       "      <td>265</td>\n",
       "      <td>0.888889</td>\n",
       "      <td>0.652247</td>\n",
       "    </tr>\n",
       "    <tr>\n",
       "      <td>123601</td>\n",
       "      <td>2074</td>\n",
       "      <td>807</td>\n",
       "      <td>1.000000</td>\n",
       "      <td>0.856629</td>\n",
       "    </tr>\n",
       "    <tr>\n",
       "      <td>123602</td>\n",
       "      <td>3930</td>\n",
       "      <td>1942</td>\n",
       "      <td>0.777778</td>\n",
       "      <td>0.798546</td>\n",
       "    </tr>\n",
       "    <tr>\n",
       "      <td>123603</td>\n",
       "      <td>8844</td>\n",
       "      <td>1395</td>\n",
       "      <td>0.777778</td>\n",
       "      <td>0.658450</td>\n",
       "    </tr>\n",
       "    <tr>\n",
       "      <td>123604</td>\n",
       "      <td>9284</td>\n",
       "      <td>5107</td>\n",
       "      <td>0.777778</td>\n",
       "      <td>0.853367</td>\n",
       "    </tr>\n",
       "  </tbody>\n",
       "</table>\n",
       "<p>123605 rows × 4 columns</p>\n",
       "</div>"
      ],
      "text/plain": [
       "        UserId  MovieId    Rating  RatingPredict\n",
       "0         7981      215  0.777778       0.785109\n",
       "1         8165     3195  0.777778       0.715686\n",
       "2         5490      174  0.777778       0.742845\n",
       "3         5080      802  0.888889       0.762635\n",
       "4         7693      344  0.555556       0.757872\n",
       "...        ...      ...       ...            ...\n",
       "123600    3821      265  0.888889       0.652247\n",
       "123601    2074      807  1.000000       0.856629\n",
       "123602    3930     1942  0.777778       0.798546\n",
       "123603    8844     1395  0.777778       0.658450\n",
       "123604    9284     5107  0.777778       0.853367\n",
       "\n",
       "[123605 rows x 4 columns]"
      ]
     },
     "execution_count": 31,
     "metadata": {},
     "output_type": "execute_result"
    }
   ],
   "source": [
    "#Predicted Ratings appending validationDf\n",
    "validationDf['RatingPredict'] = predictValidation\n",
    "validationDf"
   ]
  },
  {
   "cell_type": "code",
   "execution_count": 32,
   "metadata": {},
   "outputs": [
    {
     "data": {
      "text/plain": [
       "array([[0.6949886 ],\n",
       "       [0.5770044 ],\n",
       "       [0.85657793],\n",
       "       ...,\n",
       "       [0.8964225 ],\n",
       "       [0.71449643],\n",
       "       [0.7256885 ]], dtype=float32)"
      ]
     },
     "execution_count": 32,
     "metadata": {},
     "output_type": "execute_result"
    }
   ],
   "source": [
    "#Best Model predicting test Ratings\n",
    "with tf.device('/GPU:0'):\n",
    "    predictTest = model.predict(x = testX)\n",
    "predictTest"
   ]
  },
  {
   "cell_type": "code",
   "execution_count": 33,
   "metadata": {},
   "outputs": [
    {
     "data": {
      "text/html": [
       "<div>\n",
       "<style scoped>\n",
       "    .dataframe tbody tr th:only-of-type {\n",
       "        vertical-align: middle;\n",
       "    }\n",
       "\n",
       "    .dataframe tbody tr th {\n",
       "        vertical-align: top;\n",
       "    }\n",
       "\n",
       "    .dataframe thead th {\n",
       "        text-align: right;\n",
       "    }\n",
       "</style>\n",
       "<table border=\"1\" class=\"dataframe\">\n",
       "  <thead>\n",
       "    <tr style=\"text-align: right;\">\n",
       "      <th></th>\n",
       "      <th>UserId</th>\n",
       "      <th>MovieId</th>\n",
       "      <th>Rating</th>\n",
       "      <th>RatingPredict</th>\n",
       "    </tr>\n",
       "  </thead>\n",
       "  <tbody>\n",
       "    <tr>\n",
       "      <td>0</td>\n",
       "      <td>2092</td>\n",
       "      <td>1440</td>\n",
       "      <td>0.777778</td>\n",
       "      <td>0.694989</td>\n",
       "    </tr>\n",
       "    <tr>\n",
       "      <td>1</td>\n",
       "      <td>464</td>\n",
       "      <td>4450</td>\n",
       "      <td>0.777778</td>\n",
       "      <td>0.577004</td>\n",
       "    </tr>\n",
       "    <tr>\n",
       "      <td>2</td>\n",
       "      <td>787</td>\n",
       "      <td>617</td>\n",
       "      <td>0.777778</td>\n",
       "      <td>0.856578</td>\n",
       "    </tr>\n",
       "    <tr>\n",
       "      <td>3</td>\n",
       "      <td>3980</td>\n",
       "      <td>376</td>\n",
       "      <td>1.000000</td>\n",
       "      <td>0.793805</td>\n",
       "    </tr>\n",
       "    <tr>\n",
       "      <td>4</td>\n",
       "      <td>3111</td>\n",
       "      <td>165</td>\n",
       "      <td>0.777778</td>\n",
       "      <td>0.842390</td>\n",
       "    </tr>\n",
       "    <tr>\n",
       "      <td>...</td>\n",
       "      <td>...</td>\n",
       "      <td>...</td>\n",
       "      <td>...</td>\n",
       "      <td>...</td>\n",
       "    </tr>\n",
       "    <tr>\n",
       "      <td>123601</td>\n",
       "      <td>338</td>\n",
       "      <td>4367</td>\n",
       "      <td>0.000000</td>\n",
       "      <td>0.486816</td>\n",
       "    </tr>\n",
       "    <tr>\n",
       "      <td>123602</td>\n",
       "      <td>4526</td>\n",
       "      <td>1536</td>\n",
       "      <td>0.777778</td>\n",
       "      <td>0.417737</td>\n",
       "    </tr>\n",
       "    <tr>\n",
       "      <td>123603</td>\n",
       "      <td>8778</td>\n",
       "      <td>950</td>\n",
       "      <td>0.888889</td>\n",
       "      <td>0.896423</td>\n",
       "    </tr>\n",
       "    <tr>\n",
       "      <td>123604</td>\n",
       "      <td>9104</td>\n",
       "      <td>674</td>\n",
       "      <td>0.888889</td>\n",
       "      <td>0.714496</td>\n",
       "    </tr>\n",
       "    <tr>\n",
       "      <td>123605</td>\n",
       "      <td>3898</td>\n",
       "      <td>1336</td>\n",
       "      <td>1.000000</td>\n",
       "      <td>0.725689</td>\n",
       "    </tr>\n",
       "  </tbody>\n",
       "</table>\n",
       "<p>123606 rows × 4 columns</p>\n",
       "</div>"
      ],
      "text/plain": [
       "        UserId  MovieId    Rating  RatingPredict\n",
       "0         2092     1440  0.777778       0.694989\n",
       "1          464     4450  0.777778       0.577004\n",
       "2          787      617  0.777778       0.856578\n",
       "3         3980      376  1.000000       0.793805\n",
       "4         3111      165  0.777778       0.842390\n",
       "...        ...      ...       ...            ...\n",
       "123601     338     4367  0.000000       0.486816\n",
       "123602    4526     1536  0.777778       0.417737\n",
       "123603    8778      950  0.888889       0.896423\n",
       "123604    9104      674  0.888889       0.714496\n",
       "123605    3898     1336  1.000000       0.725689\n",
       "\n",
       "[123606 rows x 4 columns]"
      ]
     },
     "execution_count": 33,
     "metadata": {},
     "output_type": "execute_result"
    }
   ],
   "source": [
    "#Predicted Ratings appending testDf\n",
    "testDf['RatingPredict'] = predictTest\n",
    "testDf"
   ]
  },
  {
   "cell_type": "code",
   "execution_count": 34,
   "metadata": {},
   "outputs": [
    {
     "data": {
      "text/html": [
       "<div>\n",
       "<style scoped>\n",
       "    .dataframe tbody tr th:only-of-type {\n",
       "        vertical-align: middle;\n",
       "    }\n",
       "\n",
       "    .dataframe tbody tr th {\n",
       "        vertical-align: top;\n",
       "    }\n",
       "\n",
       "    .dataframe thead th {\n",
       "        text-align: right;\n",
       "    }\n",
       "</style>\n",
       "<table border=\"1\" class=\"dataframe\">\n",
       "  <thead>\n",
       "    <tr style=\"text-align: right;\">\n",
       "      <th></th>\n",
       "      <th>UserId</th>\n",
       "      <th>MovieId</th>\n",
       "      <th>Rating</th>\n",
       "      <th>RatingPredict</th>\n",
       "    </tr>\n",
       "  </thead>\n",
       "  <tbody>\n",
       "    <tr>\n",
       "      <td>0</td>\n",
       "      <td>3448</td>\n",
       "      <td>1096</td>\n",
       "      <td>0.666667</td>\n",
       "      <td>0.684388</td>\n",
       "    </tr>\n",
       "    <tr>\n",
       "      <td>1</td>\n",
       "      <td>7042</td>\n",
       "      <td>465</td>\n",
       "      <td>0.777778</td>\n",
       "      <td>0.785142</td>\n",
       "    </tr>\n",
       "    <tr>\n",
       "      <td>2</td>\n",
       "      <td>4214</td>\n",
       "      <td>3691</td>\n",
       "      <td>0.555556</td>\n",
       "      <td>0.657144</td>\n",
       "    </tr>\n",
       "    <tr>\n",
       "      <td>3</td>\n",
       "      <td>9967</td>\n",
       "      <td>767</td>\n",
       "      <td>0.888889</td>\n",
       "      <td>0.829224</td>\n",
       "    </tr>\n",
       "    <tr>\n",
       "      <td>4</td>\n",
       "      <td>324</td>\n",
       "      <td>1410</td>\n",
       "      <td>0.333333</td>\n",
       "      <td>0.661041</td>\n",
       "    </tr>\n",
       "    <tr>\n",
       "      <td>...</td>\n",
       "      <td>...</td>\n",
       "      <td>...</td>\n",
       "      <td>...</td>\n",
       "      <td>...</td>\n",
       "    </tr>\n",
       "    <tr>\n",
       "      <td>1000888</td>\n",
       "      <td>338</td>\n",
       "      <td>4367</td>\n",
       "      <td>0.000000</td>\n",
       "      <td>0.486816</td>\n",
       "    </tr>\n",
       "    <tr>\n",
       "      <td>1000889</td>\n",
       "      <td>4526</td>\n",
       "      <td>1536</td>\n",
       "      <td>0.777778</td>\n",
       "      <td>0.417737</td>\n",
       "    </tr>\n",
       "    <tr>\n",
       "      <td>1000890</td>\n",
       "      <td>8778</td>\n",
       "      <td>950</td>\n",
       "      <td>0.888889</td>\n",
       "      <td>0.896423</td>\n",
       "    </tr>\n",
       "    <tr>\n",
       "      <td>1000891</td>\n",
       "      <td>9104</td>\n",
       "      <td>674</td>\n",
       "      <td>0.888889</td>\n",
       "      <td>0.714496</td>\n",
       "    </tr>\n",
       "    <tr>\n",
       "      <td>1000892</td>\n",
       "      <td>3898</td>\n",
       "      <td>1336</td>\n",
       "      <td>1.000000</td>\n",
       "      <td>0.725689</td>\n",
       "    </tr>\n",
       "  </tbody>\n",
       "</table>\n",
       "<p>1000893 rows × 4 columns</p>\n",
       "</div>"
      ],
      "text/plain": [
       "         UserId  MovieId    Rating  RatingPredict\n",
       "0          3448     1096  0.666667       0.684388\n",
       "1          7042      465  0.777778       0.785142\n",
       "2          4214     3691  0.555556       0.657144\n",
       "3          9967      767  0.888889       0.829224\n",
       "4           324     1410  0.333333       0.661041\n",
       "...         ...      ...       ...            ...\n",
       "1000888     338     4367  0.000000       0.486816\n",
       "1000889    4526     1536  0.777778       0.417737\n",
       "1000890    8778      950  0.888889       0.896423\n",
       "1000891    9104      674  0.888889       0.714496\n",
       "1000892    3898     1336  1.000000       0.725689\n",
       "\n",
       "[1000893 rows x 4 columns]"
      ]
     },
     "execution_count": 34,
     "metadata": {},
     "output_type": "execute_result"
    }
   ],
   "source": [
    "#Dataframes merging\n",
    "allDataFrame = pd.concat([trainingDf, validationDf, testDf]).reset_index(drop=True)\n",
    "allDataFrame"
   ]
  },
  {
   "cell_type": "code",
   "execution_count": 35,
   "metadata": {},
   "outputs": [
    {
     "data": {
      "text/html": [
       "<div>\n",
       "<style scoped>\n",
       "    .dataframe tbody tr th:only-of-type {\n",
       "        vertical-align: middle;\n",
       "    }\n",
       "\n",
       "    .dataframe tbody tr th {\n",
       "        vertical-align: top;\n",
       "    }\n",
       "\n",
       "    .dataframe thead th {\n",
       "        text-align: right;\n",
       "    }\n",
       "</style>\n",
       "<table border=\"1\" class=\"dataframe\">\n",
       "  <thead>\n",
       "    <tr style=\"text-align: right;\">\n",
       "      <th></th>\n",
       "      <th>User</th>\n",
       "    </tr>\n",
       "  </thead>\n",
       "  <tbody>\n",
       "    <tr>\n",
       "      <td>0</td>\n",
       "      <td>0</td>\n",
       "    </tr>\n",
       "    <tr>\n",
       "      <td>1</td>\n",
       "      <td>1</td>\n",
       "    </tr>\n",
       "    <tr>\n",
       "      <td>2</td>\n",
       "      <td>2</td>\n",
       "    </tr>\n",
       "    <tr>\n",
       "      <td>3</td>\n",
       "      <td>3</td>\n",
       "    </tr>\n",
       "    <tr>\n",
       "      <td>4</td>\n",
       "      <td>4</td>\n",
       "    </tr>\n",
       "    <tr>\n",
       "      <td>...</td>\n",
       "      <td>...</td>\n",
       "    </tr>\n",
       "    <tr>\n",
       "      <td>10068</td>\n",
       "      <td>10068</td>\n",
       "    </tr>\n",
       "    <tr>\n",
       "      <td>10069</td>\n",
       "      <td>10069</td>\n",
       "    </tr>\n",
       "    <tr>\n",
       "      <td>10070</td>\n",
       "      <td>10070</td>\n",
       "    </tr>\n",
       "    <tr>\n",
       "      <td>10071</td>\n",
       "      <td>10071</td>\n",
       "    </tr>\n",
       "    <tr>\n",
       "      <td>10072</td>\n",
       "      <td>10072</td>\n",
       "    </tr>\n",
       "  </tbody>\n",
       "</table>\n",
       "<p>10073 rows × 1 columns</p>\n",
       "</div>"
      ],
      "text/plain": [
       "        User\n",
       "0          0\n",
       "1          1\n",
       "2          2\n",
       "3          3\n",
       "4          4\n",
       "...      ...\n",
       "10068  10068\n",
       "10069  10069\n",
       "10070  10070\n",
       "10071  10071\n",
       "10072  10072\n",
       "\n",
       "[10073 rows x 1 columns]"
      ]
     },
     "execution_count": 35,
     "metadata": {},
     "output_type": "execute_result"
    }
   ],
   "source": [
    "#Getting all unique UserId from allDataFrame and create new Data Frame from this values\n",
    "#This Data frame will used as lookup table for prediction script\n",
    "userRange = range(allDataFrame['UserId'].unique().shape[0])\n",
    "lookupTable = pd.DataFrame(data = {'User' : userRange})\n",
    "lookupTable"
   ]
  },
  {
   "cell_type": "code",
   "execution_count": 36,
   "metadata": {},
   "outputs": [
    {
     "data": {
      "text/plain": [
       "array([[9.00000000e+00, 1.40000000e+01, 8.00000000e+00, ...,\n",
       "        2.30000000e+01, 3.70000000e+01, 7.49000000e+02],\n",
       "       [1.36842949e-02, 1.12702879e-02, 2.17711454e-03, ...,\n",
       "        1.62243139e-02, 2.38392741e-02, 1.24655679e-02],\n",
       "       [4.00000000e+00, 0.00000000e+00, 3.00000000e+00, ...,\n",
       "        6.00000000e+00, 3.00000000e+00, 1.02000000e+02],\n",
       "       ...,\n",
       "       [2.78854133e-03, 1.63730881e-03,            nan, ...,\n",
       "        1.43644549e-02, 2.65754191e-02, 1.51546907e-02],\n",
       "       [1.60000000e+01, 1.50000000e+01, 1.10000000e+01, ...,\n",
       "        3.40000000e+01, 4.20000000e+01, 9.72000000e+02],\n",
       "       [9.53303078e-03, 1.06280893e-02, 1.81870743e-02, ...,\n",
       "        1.37533503e-02, 2.42342339e-02, 1.26873923e-02]])"
      ]
     },
     "execution_count": 36,
     "metadata": {},
     "output_type": "execute_result"
    }
   ],
   "source": [
    "#Calculations for each user\n",
    "calculations = np.empty(shape = (8, lookupTable.shape[0]))\n",
    "for i in userRange:\n",
    "    \n",
    "    #Training dataframe calculations\n",
    "    queryFrame = trainingDf[trainingDf['UserId'] == i]\n",
    "    calculations[0][i] = queryFrame.shape[0]\n",
    "    if calculations[0][i] > 0:\n",
    "        calculations[1][i] = CalculateMSE(queryFrame['Rating'].values, queryFrame['RatingPredict'].values)\n",
    "    else:\n",
    "        calculations[1][i] = np.nan\n",
    "        \n",
    "    #Validaiton dataframe calculations\n",
    "    queryFrame = validationDf[validationDf['UserId'] == i]\n",
    "    calculations[2][i] = queryFrame.shape[0]\n",
    "    if calculations[2][i] > 0:\n",
    "        calculations[3][i] = CalculateMSE(queryFrame['Rating'].values, queryFrame['RatingPredict'].values)\n",
    "    else:\n",
    "        calculations[3][i] = np.nan\n",
    "    \n",
    "    #test dataframe calculations\n",
    "    queryFrame = testDf[testDf['UserId'] == i]\n",
    "    calculations[4][i] = queryFrame.shape[0]\n",
    "    if calculations[4][i] > 0:\n",
    "        calculations[5][i] = CalculateMSE(queryFrame['Rating'].values, queryFrame['RatingPredict'].values)\n",
    "    else:\n",
    "        calculations[5][i] = np.nan\n",
    "    \n",
    "    #all dataframe calculations\n",
    "    queryFrame = allDataFrame[allDataFrame['UserId'] == i]\n",
    "    calculations[6][i] = queryFrame.shape[0]\n",
    "    if calculations[6][i] > 0:\n",
    "        calculations[7][i] = CalculateMSE(queryFrame['Rating'].values, queryFrame['RatingPredict'].values)\n",
    "    else:\n",
    "        calculations[7][i] = np.nan\n",
    "\n",
    "#print\n",
    "calculations"
   ]
  },
  {
   "cell_type": "code",
   "execution_count": 37,
   "metadata": {},
   "outputs": [
    {
     "data": {
      "text/html": [
       "<div>\n",
       "<style scoped>\n",
       "    .dataframe tbody tr th:only-of-type {\n",
       "        vertical-align: middle;\n",
       "    }\n",
       "\n",
       "    .dataframe tbody tr th {\n",
       "        vertical-align: top;\n",
       "    }\n",
       "\n",
       "    .dataframe thead th {\n",
       "        text-align: right;\n",
       "    }\n",
       "</style>\n",
       "<table border=\"1\" class=\"dataframe\">\n",
       "  <thead>\n",
       "    <tr style=\"text-align: right;\">\n",
       "      <th></th>\n",
       "      <th>User</th>\n",
       "      <th>TraingingRep</th>\n",
       "      <th>TrainingMSE</th>\n",
       "      <th>ValidationRep</th>\n",
       "      <th>ValidationMSE</th>\n",
       "      <th>TestRep</th>\n",
       "      <th>TestMSE</th>\n",
       "      <th>AllRep</th>\n",
       "      <th>AllMSE</th>\n",
       "    </tr>\n",
       "  </thead>\n",
       "  <tbody>\n",
       "    <tr>\n",
       "      <td>0</td>\n",
       "      <td>0</td>\n",
       "      <td>9</td>\n",
       "      <td>0.013684</td>\n",
       "      <td>4</td>\n",
       "      <td>0.005251</td>\n",
       "      <td>3</td>\n",
       "      <td>0.002789</td>\n",
       "      <td>16</td>\n",
       "      <td>0.009533</td>\n",
       "    </tr>\n",
       "    <tr>\n",
       "      <td>1</td>\n",
       "      <td>1</td>\n",
       "      <td>14</td>\n",
       "      <td>0.011270</td>\n",
       "      <td>0</td>\n",
       "      <td>NaN</td>\n",
       "      <td>1</td>\n",
       "      <td>0.001637</td>\n",
       "      <td>15</td>\n",
       "      <td>0.010628</td>\n",
       "    </tr>\n",
       "    <tr>\n",
       "      <td>2</td>\n",
       "      <td>2</td>\n",
       "      <td>8</td>\n",
       "      <td>0.002177</td>\n",
       "      <td>3</td>\n",
       "      <td>0.060880</td>\n",
       "      <td>0</td>\n",
       "      <td>NaN</td>\n",
       "      <td>11</td>\n",
       "      <td>0.018187</td>\n",
       "    </tr>\n",
       "    <tr>\n",
       "      <td>3</td>\n",
       "      <td>3</td>\n",
       "      <td>559</td>\n",
       "      <td>0.037968</td>\n",
       "      <td>91</td>\n",
       "      <td>0.048360</td>\n",
       "      <td>86</td>\n",
       "      <td>0.048441</td>\n",
       "      <td>736</td>\n",
       "      <td>0.040477</td>\n",
       "    </tr>\n",
       "    <tr>\n",
       "      <td>4</td>\n",
       "      <td>4</td>\n",
       "      <td>59</td>\n",
       "      <td>0.012638</td>\n",
       "      <td>9</td>\n",
       "      <td>0.004960</td>\n",
       "      <td>4</td>\n",
       "      <td>0.005814</td>\n",
       "      <td>72</td>\n",
       "      <td>0.011299</td>\n",
       "    </tr>\n",
       "    <tr>\n",
       "      <td>...</td>\n",
       "      <td>...</td>\n",
       "      <td>...</td>\n",
       "      <td>...</td>\n",
       "      <td>...</td>\n",
       "      <td>...</td>\n",
       "      <td>...</td>\n",
       "      <td>...</td>\n",
       "      <td>...</td>\n",
       "      <td>...</td>\n",
       "    </tr>\n",
       "    <tr>\n",
       "      <td>10068</td>\n",
       "      <td>10068</td>\n",
       "      <td>17</td>\n",
       "      <td>0.017288</td>\n",
       "      <td>0</td>\n",
       "      <td>NaN</td>\n",
       "      <td>1</td>\n",
       "      <td>0.016439</td>\n",
       "      <td>18</td>\n",
       "      <td>0.017241</td>\n",
       "    </tr>\n",
       "    <tr>\n",
       "      <td>10069</td>\n",
       "      <td>10069</td>\n",
       "      <td>20</td>\n",
       "      <td>0.019069</td>\n",
       "      <td>2</td>\n",
       "      <td>0.010898</td>\n",
       "      <td>2</td>\n",
       "      <td>0.038896</td>\n",
       "      <td>24</td>\n",
       "      <td>0.020041</td>\n",
       "    </tr>\n",
       "    <tr>\n",
       "      <td>10070</td>\n",
       "      <td>10070</td>\n",
       "      <td>23</td>\n",
       "      <td>0.016224</td>\n",
       "      <td>6</td>\n",
       "      <td>0.003772</td>\n",
       "      <td>5</td>\n",
       "      <td>0.014364</td>\n",
       "      <td>34</td>\n",
       "      <td>0.013753</td>\n",
       "    </tr>\n",
       "    <tr>\n",
       "      <td>10071</td>\n",
       "      <td>10071</td>\n",
       "      <td>37</td>\n",
       "      <td>0.023839</td>\n",
       "      <td>3</td>\n",
       "      <td>0.027545</td>\n",
       "      <td>2</td>\n",
       "      <td>0.026575</td>\n",
       "      <td>42</td>\n",
       "      <td>0.024234</td>\n",
       "    </tr>\n",
       "    <tr>\n",
       "      <td>10072</td>\n",
       "      <td>10072</td>\n",
       "      <td>749</td>\n",
       "      <td>0.012466</td>\n",
       "      <td>102</td>\n",
       "      <td>0.011389</td>\n",
       "      <td>121</td>\n",
       "      <td>0.015155</td>\n",
       "      <td>972</td>\n",
       "      <td>0.012687</td>\n",
       "    </tr>\n",
       "  </tbody>\n",
       "</table>\n",
       "<p>10073 rows × 9 columns</p>\n",
       "</div>"
      ],
      "text/plain": [
       "        User  TraingingRep  TrainingMSE  ValidationRep  ValidationMSE  \\\n",
       "0          0             9     0.013684              4       0.005251   \n",
       "1          1            14     0.011270              0            NaN   \n",
       "2          2             8     0.002177              3       0.060880   \n",
       "3          3           559     0.037968             91       0.048360   \n",
       "4          4            59     0.012638              9       0.004960   \n",
       "...      ...           ...          ...            ...            ...   \n",
       "10068  10068            17     0.017288              0            NaN   \n",
       "10069  10069            20     0.019069              2       0.010898   \n",
       "10070  10070            23     0.016224              6       0.003772   \n",
       "10071  10071            37     0.023839              3       0.027545   \n",
       "10072  10072           749     0.012466            102       0.011389   \n",
       "\n",
       "       TestRep   TestMSE  AllRep    AllMSE  \n",
       "0            3  0.002789      16  0.009533  \n",
       "1            1  0.001637      15  0.010628  \n",
       "2            0       NaN      11  0.018187  \n",
       "3           86  0.048441     736  0.040477  \n",
       "4            4  0.005814      72  0.011299  \n",
       "...        ...       ...     ...       ...  \n",
       "10068        1  0.016439      18  0.017241  \n",
       "10069        2  0.038896      24  0.020041  \n",
       "10070        5  0.014364      34  0.013753  \n",
       "10071        2  0.026575      42  0.024234  \n",
       "10072      121  0.015155     972  0.012687  \n",
       "\n",
       "[10073 rows x 9 columns]"
      ]
     },
     "execution_count": 37,
     "metadata": {},
     "output_type": "execute_result"
    }
   ],
   "source": [
    "#Calculations adding lookup table\n",
    "\n",
    "#Training data representation count\n",
    "lookupTable['TraingingRep'] = calculations[0].astype(np.int32)\n",
    "#Training data Correct Predictions\n",
    "lookupTable['TrainingMSE'] = calculations[1]\n",
    "\n",
    "#Validation data representation count\n",
    "lookupTable['ValidationRep'] = calculations[2].astype(np.int32)\n",
    "#validation data Correct Predictions\n",
    "lookupTable['ValidationMSE'] = calculations[3]\n",
    "\n",
    "#Test data representation count\n",
    "lookupTable['TestRep'] = calculations[4].astype(np.int32)\n",
    "#test data Correct Predictions\n",
    "lookupTable['TestMSE'] = calculations[5]\n",
    "\n",
    "#All data representation count\n",
    "lookupTable['AllRep'] = calculations[6].astype(np.int32)\n",
    "#all data Correct Predictions\n",
    "lookupTable['AllMSE'] = calculations[7]\n",
    "\n",
    "lookupTable"
   ]
  },
  {
   "cell_type": "code",
   "execution_count": 38,
   "metadata": {},
   "outputs": [],
   "source": [
    "#Lookup table save as pkl file\n",
    "lookupTable.to_pickle(\"../PredictData/LookupTable/RatedOnly.pkl\")\n",
    "del calculations\n",
    "del trainingDf\n",
    "del validationDf\n",
    "del testDf\n",
    "del allDataFrame\n",
    "del lookupTable"
   ]
  }
 ],
 "metadata": {
  "kernelspec": {
   "display_name": "Python 3",
   "language": "python",
   "name": "python3"
  },
  "language_info": {
   "codemirror_mode": {
    "name": "ipython",
    "version": 3
   },
   "file_extension": ".py",
   "mimetype": "text/x-python",
   "name": "python",
   "nbconvert_exporter": "python",
   "pygments_lexer": "ipython3",
   "version": "3.7.4"
  }
 },
 "nbformat": 4,
 "nbformat_minor": 2
}
